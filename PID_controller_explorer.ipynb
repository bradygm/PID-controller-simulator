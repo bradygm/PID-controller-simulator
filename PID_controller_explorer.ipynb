{
  "nbformat": 4,
  "nbformat_minor": 0,
  "metadata": {
    "colab": {
      "name": "PID-controller-explorer.ipynb",
      "provenance": [],
      "collapsed_sections": [
        "Woh5Jc7QA5iE"
      ],
      "include_colab_link": true
    },
    "kernelspec": {
      "name": "python3",
      "display_name": "Python 3"
    },
    "language_info": {
      "name": "python"
    },
    "widgets": {
      "application/vnd.jupyter.widget-state+json": {
        "3253b5ff661e4ab7a937685ff14d5512": {
          "model_module": "@jupyter-widgets/controls",
          "model_name": "HBoxModel",
          "model_module_version": "1.5.0",
          "state": {
            "_dom_classes": [],
            "_model_module": "@jupyter-widgets/controls",
            "_model_module_version": "1.5.0",
            "_model_name": "HBoxModel",
            "_view_count": null,
            "_view_module": "@jupyter-widgets/controls",
            "_view_module_version": "1.5.0",
            "_view_name": "HBoxView",
            "box_style": "",
            "children": [
              "IPY_MODEL_1fa813407cf04cd5b12df7736470e5a6",
              "IPY_MODEL_4ac2bf7dcbd24bcd835048f0636d8139"
            ],
            "layout": "IPY_MODEL_4136194eed794c08a57ae40857ccf3c1"
          }
        },
        "1fa813407cf04cd5b12df7736470e5a6": {
          "model_module": "@jupyter-widgets/controls",
          "model_name": "VBoxModel",
          "model_module_version": "1.5.0",
          "state": {
            "_dom_classes": [],
            "_model_module": "@jupyter-widgets/controls",
            "_model_module_version": "1.5.0",
            "_model_name": "VBoxModel",
            "_view_count": null,
            "_view_module": "@jupyter-widgets/controls",
            "_view_module_version": "1.5.0",
            "_view_name": "VBoxView",
            "box_style": "",
            "children": [
              "IPY_MODEL_3494c9906df14dbaaabd058802e96553"
            ],
            "layout": "IPY_MODEL_c9527baf2baa4535a35831663897a88e"
          }
        },
        "4ac2bf7dcbd24bcd835048f0636d8139": {
          "model_module": "@jupyter-widgets/output",
          "model_name": "OutputModel",
          "model_module_version": "1.0.0",
          "state": {
            "_dom_classes": [],
            "_model_module": "@jupyter-widgets/output",
            "_model_module_version": "1.0.0",
            "_model_name": "OutputModel",
            "_view_count": null,
            "_view_module": "@jupyter-widgets/output",
            "_view_module_version": "1.0.0",
            "_view_name": "OutputView",
            "layout": "IPY_MODEL_9c8e8b52519d461cb96d83a09b7072c6",
            "msg_id": "",
            "outputs": [
              {
                "output_type": "display_data",
                "data": {
                  "text/plain": "<Figure size 432x288 with 1 Axes>",
                  "image/png": "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\n"
                },
                "metadata": {
                  "needs_background": "light"
                }
              }
            ]
          }
        },
        "4136194eed794c08a57ae40857ccf3c1": {
          "model_module": "@jupyter-widgets/base",
          "model_name": "LayoutModel",
          "model_module_version": "1.2.0",
          "state": {
            "_model_module": "@jupyter-widgets/base",
            "_model_module_version": "1.2.0",
            "_model_name": "LayoutModel",
            "_view_count": null,
            "_view_module": "@jupyter-widgets/base",
            "_view_module_version": "1.2.0",
            "_view_name": "LayoutView",
            "align_content": null,
            "align_items": null,
            "align_self": null,
            "border": null,
            "bottom": null,
            "display": null,
            "flex": null,
            "flex_flow": null,
            "grid_area": null,
            "grid_auto_columns": null,
            "grid_auto_flow": null,
            "grid_auto_rows": null,
            "grid_column": null,
            "grid_gap": null,
            "grid_row": null,
            "grid_template_areas": null,
            "grid_template_columns": null,
            "grid_template_rows": null,
            "height": null,
            "justify_content": null,
            "justify_items": null,
            "left": null,
            "margin": null,
            "max_height": null,
            "max_width": null,
            "min_height": null,
            "min_width": null,
            "object_fit": null,
            "object_position": null,
            "order": null,
            "overflow": null,
            "overflow_x": null,
            "overflow_y": null,
            "padding": null,
            "right": null,
            "top": null,
            "visibility": null,
            "width": null
          }
        },
        "3494c9906df14dbaaabd058802e96553": {
          "model_module": "@jupyter-widgets/controls",
          "model_name": "FloatSliderModel",
          "model_module_version": "1.5.0",
          "state": {
            "_dom_classes": [],
            "_model_module": "@jupyter-widgets/controls",
            "_model_module_version": "1.5.0",
            "_model_name": "FloatSliderModel",
            "_view_count": null,
            "_view_module": "@jupyter-widgets/controls",
            "_view_module_version": "1.5.0",
            "_view_name": "FloatSliderView",
            "continuous_update": true,
            "description": "Input",
            "description_tooltip": null,
            "disabled": false,
            "layout": "IPY_MODEL_bf9d241a570a402a85499f250739d09c",
            "max": 1,
            "min": -1,
            "orientation": "horizontal",
            "readout": true,
            "readout_format": ".2f",
            "step": 0.1,
            "style": "IPY_MODEL_57e470e901e54600b1039db2c07c2b32",
            "value": 0.1
          }
        },
        "c9527baf2baa4535a35831663897a88e": {
          "model_module": "@jupyter-widgets/base",
          "model_name": "LayoutModel",
          "model_module_version": "1.2.0",
          "state": {
            "_model_module": "@jupyter-widgets/base",
            "_model_module_version": "1.2.0",
            "_model_name": "LayoutModel",
            "_view_count": null,
            "_view_module": "@jupyter-widgets/base",
            "_view_module_version": "1.2.0",
            "_view_name": "LayoutView",
            "align_content": null,
            "align_items": null,
            "align_self": null,
            "border": null,
            "bottom": null,
            "display": null,
            "flex": null,
            "flex_flow": null,
            "grid_area": null,
            "grid_auto_columns": null,
            "grid_auto_flow": null,
            "grid_auto_rows": null,
            "grid_column": null,
            "grid_gap": null,
            "grid_row": null,
            "grid_template_areas": null,
            "grid_template_columns": null,
            "grid_template_rows": null,
            "height": null,
            "justify_content": null,
            "justify_items": null,
            "left": null,
            "margin": null,
            "max_height": null,
            "max_width": null,
            "min_height": null,
            "min_width": null,
            "object_fit": null,
            "object_position": null,
            "order": null,
            "overflow": null,
            "overflow_x": null,
            "overflow_y": null,
            "padding": null,
            "right": null,
            "top": null,
            "visibility": null,
            "width": null
          }
        },
        "bf9d241a570a402a85499f250739d09c": {
          "model_module": "@jupyter-widgets/base",
          "model_name": "LayoutModel",
          "model_module_version": "1.2.0",
          "state": {
            "_model_module": "@jupyter-widgets/base",
            "_model_module_version": "1.2.0",
            "_model_name": "LayoutModel",
            "_view_count": null,
            "_view_module": "@jupyter-widgets/base",
            "_view_module_version": "1.2.0",
            "_view_name": "LayoutView",
            "align_content": null,
            "align_items": null,
            "align_self": null,
            "border": null,
            "bottom": null,
            "display": null,
            "flex": null,
            "flex_flow": null,
            "grid_area": null,
            "grid_auto_columns": null,
            "grid_auto_flow": null,
            "grid_auto_rows": null,
            "grid_column": null,
            "grid_gap": null,
            "grid_row": null,
            "grid_template_areas": null,
            "grid_template_columns": null,
            "grid_template_rows": null,
            "height": null,
            "justify_content": null,
            "justify_items": null,
            "left": null,
            "margin": null,
            "max_height": null,
            "max_width": null,
            "min_height": null,
            "min_width": null,
            "object_fit": null,
            "object_position": null,
            "order": null,
            "overflow": null,
            "overflow_x": null,
            "overflow_y": null,
            "padding": null,
            "right": null,
            "top": null,
            "visibility": null,
            "width": null
          }
        },
        "57e470e901e54600b1039db2c07c2b32": {
          "model_module": "@jupyter-widgets/controls",
          "model_name": "SliderStyleModel",
          "model_module_version": "1.5.0",
          "state": {
            "_model_module": "@jupyter-widgets/controls",
            "_model_module_version": "1.5.0",
            "_model_name": "SliderStyleModel",
            "_view_count": null,
            "_view_module": "@jupyter-widgets/base",
            "_view_module_version": "1.2.0",
            "_view_name": "StyleView",
            "description_width": "",
            "handle_color": null
          }
        },
        "9c8e8b52519d461cb96d83a09b7072c6": {
          "model_module": "@jupyter-widgets/base",
          "model_name": "LayoutModel",
          "model_module_version": "1.2.0",
          "state": {
            "_model_module": "@jupyter-widgets/base",
            "_model_module_version": "1.2.0",
            "_model_name": "LayoutModel",
            "_view_count": null,
            "_view_module": "@jupyter-widgets/base",
            "_view_module_version": "1.2.0",
            "_view_name": "LayoutView",
            "align_content": null,
            "align_items": null,
            "align_self": null,
            "border": null,
            "bottom": null,
            "display": null,
            "flex": null,
            "flex_flow": null,
            "grid_area": null,
            "grid_auto_columns": null,
            "grid_auto_flow": null,
            "grid_auto_rows": null,
            "grid_column": null,
            "grid_gap": null,
            "grid_row": null,
            "grid_template_areas": null,
            "grid_template_columns": null,
            "grid_template_rows": null,
            "height": null,
            "justify_content": null,
            "justify_items": null,
            "left": null,
            "margin": null,
            "max_height": null,
            "max_width": null,
            "min_height": null,
            "min_width": null,
            "object_fit": null,
            "object_position": null,
            "order": null,
            "overflow": null,
            "overflow_x": null,
            "overflow_y": null,
            "padding": null,
            "right": null,
            "top": null,
            "visibility": null,
            "width": null
          }
        },
        "8340d1b4fcb446dfb7d69b7b3eec8f72": {
          "model_module": "@jupyter-widgets/controls",
          "model_name": "HBoxModel",
          "model_module_version": "1.5.0",
          "state": {
            "_dom_classes": [],
            "_model_module": "@jupyter-widgets/controls",
            "_model_module_version": "1.5.0",
            "_model_name": "HBoxModel",
            "_view_count": null,
            "_view_module": "@jupyter-widgets/controls",
            "_view_module_version": "1.5.0",
            "_view_name": "HBoxView",
            "box_style": "",
            "children": [
              "IPY_MODEL_a6aee2e8bb5740f7be4605a1cae61627",
              "IPY_MODEL_567d246bab0e4ae4b0128c43759acc36"
            ],
            "layout": "IPY_MODEL_96dea0ab06d64512ad8388242a613763"
          }
        },
        "a6aee2e8bb5740f7be4605a1cae61627": {
          "model_module": "@jupyter-widgets/controls",
          "model_name": "VBoxModel",
          "model_module_version": "1.5.0",
          "state": {
            "_dom_classes": [],
            "_model_module": "@jupyter-widgets/controls",
            "_model_module_version": "1.5.0",
            "_model_name": "VBoxModel",
            "_view_count": null,
            "_view_module": "@jupyter-widgets/controls",
            "_view_module_version": "1.5.0",
            "_view_name": "VBoxView",
            "box_style": "",
            "children": [
              "IPY_MODEL_05afdfb328e34c17b61cdb0999eb8f41"
            ],
            "layout": "IPY_MODEL_4c98ce99e9494bd3a050a39889977232"
          }
        },
        "567d246bab0e4ae4b0128c43759acc36": {
          "model_module": "@jupyter-widgets/output",
          "model_name": "OutputModel",
          "model_module_version": "1.0.0",
          "state": {
            "_dom_classes": [],
            "_model_module": "@jupyter-widgets/output",
            "_model_module_version": "1.0.0",
            "_model_name": "OutputModel",
            "_view_count": null,
            "_view_module": "@jupyter-widgets/output",
            "_view_module_version": "1.0.0",
            "_view_name": "OutputView",
            "layout": "IPY_MODEL_448a53da52d348ec88548cc929ecb30a",
            "msg_id": "",
            "outputs": [
              {
                "output_type": "display_data",
                "data": {
                  "text/plain": "<Figure size 432x288 with 1 Axes>",
                  "image/png": "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\n"
                },
                "metadata": {
                  "needs_background": "light"
                }
              }
            ]
          }
        },
        "96dea0ab06d64512ad8388242a613763": {
          "model_module": "@jupyter-widgets/base",
          "model_name": "LayoutModel",
          "model_module_version": "1.2.0",
          "state": {
            "_model_module": "@jupyter-widgets/base",
            "_model_module_version": "1.2.0",
            "_model_name": "LayoutModel",
            "_view_count": null,
            "_view_module": "@jupyter-widgets/base",
            "_view_module_version": "1.2.0",
            "_view_name": "LayoutView",
            "align_content": null,
            "align_items": null,
            "align_self": null,
            "border": null,
            "bottom": null,
            "display": null,
            "flex": null,
            "flex_flow": null,
            "grid_area": null,
            "grid_auto_columns": null,
            "grid_auto_flow": null,
            "grid_auto_rows": null,
            "grid_column": null,
            "grid_gap": null,
            "grid_row": null,
            "grid_template_areas": null,
            "grid_template_columns": null,
            "grid_template_rows": null,
            "height": null,
            "justify_content": null,
            "justify_items": null,
            "left": null,
            "margin": null,
            "max_height": null,
            "max_width": null,
            "min_height": null,
            "min_width": null,
            "object_fit": null,
            "object_position": null,
            "order": null,
            "overflow": null,
            "overflow_x": null,
            "overflow_y": null,
            "padding": null,
            "right": null,
            "top": null,
            "visibility": null,
            "width": null
          }
        },
        "05afdfb328e34c17b61cdb0999eb8f41": {
          "model_module": "@jupyter-widgets/controls",
          "model_name": "FloatSliderModel",
          "model_module_version": "1.5.0",
          "state": {
            "_dom_classes": [],
            "_model_module": "@jupyter-widgets/controls",
            "_model_module_version": "1.5.0",
            "_model_name": "FloatSliderModel",
            "_view_count": null,
            "_view_module": "@jupyter-widgets/controls",
            "_view_module_version": "1.5.0",
            "_view_name": "FloatSliderView",
            "continuous_update": true,
            "description": "Input",
            "description_tooltip": null,
            "disabled": false,
            "layout": "IPY_MODEL_d6110b41fde3479485782eaa9acd2a8f",
            "max": 3.14,
            "min": -3.14,
            "orientation": "horizontal",
            "readout": true,
            "readout_format": ".2f",
            "step": 0.1,
            "style": "IPY_MODEL_97a953aca8d0406aabdc591873f5d65d",
            "value": -2.34
          }
        },
        "4c98ce99e9494bd3a050a39889977232": {
          "model_module": "@jupyter-widgets/base",
          "model_name": "LayoutModel",
          "model_module_version": "1.2.0",
          "state": {
            "_model_module": "@jupyter-widgets/base",
            "_model_module_version": "1.2.0",
            "_model_name": "LayoutModel",
            "_view_count": null,
            "_view_module": "@jupyter-widgets/base",
            "_view_module_version": "1.2.0",
            "_view_name": "LayoutView",
            "align_content": null,
            "align_items": null,
            "align_self": null,
            "border": null,
            "bottom": null,
            "display": null,
            "flex": null,
            "flex_flow": null,
            "grid_area": null,
            "grid_auto_columns": null,
            "grid_auto_flow": null,
            "grid_auto_rows": null,
            "grid_column": null,
            "grid_gap": null,
            "grid_row": null,
            "grid_template_areas": null,
            "grid_template_columns": null,
            "grid_template_rows": null,
            "height": null,
            "justify_content": null,
            "justify_items": null,
            "left": null,
            "margin": null,
            "max_height": null,
            "max_width": null,
            "min_height": null,
            "min_width": null,
            "object_fit": null,
            "object_position": null,
            "order": null,
            "overflow": null,
            "overflow_x": null,
            "overflow_y": null,
            "padding": null,
            "right": null,
            "top": null,
            "visibility": null,
            "width": null
          }
        },
        "d6110b41fde3479485782eaa9acd2a8f": {
          "model_module": "@jupyter-widgets/base",
          "model_name": "LayoutModel",
          "model_module_version": "1.2.0",
          "state": {
            "_model_module": "@jupyter-widgets/base",
            "_model_module_version": "1.2.0",
            "_model_name": "LayoutModel",
            "_view_count": null,
            "_view_module": "@jupyter-widgets/base",
            "_view_module_version": "1.2.0",
            "_view_name": "LayoutView",
            "align_content": null,
            "align_items": null,
            "align_self": null,
            "border": null,
            "bottom": null,
            "display": null,
            "flex": null,
            "flex_flow": null,
            "grid_area": null,
            "grid_auto_columns": null,
            "grid_auto_flow": null,
            "grid_auto_rows": null,
            "grid_column": null,
            "grid_gap": null,
            "grid_row": null,
            "grid_template_areas": null,
            "grid_template_columns": null,
            "grid_template_rows": null,
            "height": null,
            "justify_content": null,
            "justify_items": null,
            "left": null,
            "margin": null,
            "max_height": null,
            "max_width": null,
            "min_height": null,
            "min_width": null,
            "object_fit": null,
            "object_position": null,
            "order": null,
            "overflow": null,
            "overflow_x": null,
            "overflow_y": null,
            "padding": null,
            "right": null,
            "top": null,
            "visibility": null,
            "width": null
          }
        },
        "97a953aca8d0406aabdc591873f5d65d": {
          "model_module": "@jupyter-widgets/controls",
          "model_name": "SliderStyleModel",
          "model_module_version": "1.5.0",
          "state": {
            "_model_module": "@jupyter-widgets/controls",
            "_model_module_version": "1.5.0",
            "_model_name": "SliderStyleModel",
            "_view_count": null,
            "_view_module": "@jupyter-widgets/base",
            "_view_module_version": "1.2.0",
            "_view_name": "StyleView",
            "description_width": "",
            "handle_color": null
          }
        },
        "448a53da52d348ec88548cc929ecb30a": {
          "model_module": "@jupyter-widgets/base",
          "model_name": "LayoutModel",
          "model_module_version": "1.2.0",
          "state": {
            "_model_module": "@jupyter-widgets/base",
            "_model_module_version": "1.2.0",
            "_model_name": "LayoutModel",
            "_view_count": null,
            "_view_module": "@jupyter-widgets/base",
            "_view_module_version": "1.2.0",
            "_view_name": "LayoutView",
            "align_content": null,
            "align_items": null,
            "align_self": null,
            "border": null,
            "bottom": null,
            "display": null,
            "flex": null,
            "flex_flow": null,
            "grid_area": null,
            "grid_auto_columns": null,
            "grid_auto_flow": null,
            "grid_auto_rows": null,
            "grid_column": null,
            "grid_gap": null,
            "grid_row": null,
            "grid_template_areas": null,
            "grid_template_columns": null,
            "grid_template_rows": null,
            "height": null,
            "justify_content": null,
            "justify_items": null,
            "left": null,
            "margin": null,
            "max_height": null,
            "max_width": null,
            "min_height": null,
            "min_width": null,
            "object_fit": null,
            "object_position": null,
            "order": null,
            "overflow": null,
            "overflow_x": null,
            "overflow_y": null,
            "padding": null,
            "right": null,
            "top": null,
            "visibility": null,
            "width": null
          }
        },
        "d14a11cf8a1d4d8881ca6e6447ee4853": {
          "model_module": "@jupyter-widgets/controls",
          "model_name": "HBoxModel",
          "model_module_version": "1.5.0",
          "state": {
            "_dom_classes": [],
            "_model_module": "@jupyter-widgets/controls",
            "_model_module_version": "1.5.0",
            "_model_name": "HBoxModel",
            "_view_count": null,
            "_view_module": "@jupyter-widgets/controls",
            "_view_module_version": "1.5.0",
            "_view_name": "HBoxView",
            "box_style": "",
            "children": [
              "IPY_MODEL_16a8b6ef02c84c03ab6c941d7b97f7d7",
              "IPY_MODEL_eb7d80a6aae44f06b909046da6fac56a"
            ],
            "layout": "IPY_MODEL_12b473dac4864b6980fe0b3f62684169"
          }
        },
        "16a8b6ef02c84c03ab6c941d7b97f7d7": {
          "model_module": "@jupyter-widgets/output",
          "model_name": "OutputModel",
          "model_module_version": "1.0.0",
          "state": {
            "_dom_classes": [],
            "_model_module": "@jupyter-widgets/output",
            "_model_module_version": "1.0.0",
            "_model_name": "OutputModel",
            "_view_count": null,
            "_view_module": "@jupyter-widgets/output",
            "_view_module_version": "1.0.0",
            "_view_name": "OutputView",
            "layout": "IPY_MODEL_d0c38dbedf144ebdb04f2c7c096a93ac",
            "msg_id": "",
            "outputs": []
          }
        },
        "eb7d80a6aae44f06b909046da6fac56a": {
          "model_module": "@jupyter-widgets/output",
          "model_name": "OutputModel",
          "model_module_version": "1.0.0",
          "state": {
            "_dom_classes": [],
            "_model_module": "@jupyter-widgets/output",
            "_model_module_version": "1.0.0",
            "_model_name": "OutputModel",
            "_view_count": null,
            "_view_module": "@jupyter-widgets/output",
            "_view_module_version": "1.0.0",
            "_view_name": "OutputView",
            "layout": "IPY_MODEL_7bb3d244948743bdbb9b363829503ca0",
            "msg_id": "",
            "outputs": [
              {
                "output_type": "display_data",
                "data": {
                  "text/plain": "<Figure size 432x288 with 1 Axes>",
                  "image/png": "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\n"
                },
                "metadata": {
                  "needs_background": "light"
                }
              }
            ]
          }
        },
        "12b473dac4864b6980fe0b3f62684169": {
          "model_module": "@jupyter-widgets/base",
          "model_name": "LayoutModel",
          "model_module_version": "1.2.0",
          "state": {
            "_model_module": "@jupyter-widgets/base",
            "_model_module_version": "1.2.0",
            "_model_name": "LayoutModel",
            "_view_count": null,
            "_view_module": "@jupyter-widgets/base",
            "_view_module_version": "1.2.0",
            "_view_name": "LayoutView",
            "align_content": null,
            "align_items": null,
            "align_self": null,
            "border": null,
            "bottom": null,
            "display": null,
            "flex": null,
            "flex_flow": null,
            "grid_area": null,
            "grid_auto_columns": null,
            "grid_auto_flow": null,
            "grid_auto_rows": null,
            "grid_column": null,
            "grid_gap": null,
            "grid_row": null,
            "grid_template_areas": null,
            "grid_template_columns": null,
            "grid_template_rows": null,
            "height": null,
            "justify_content": null,
            "justify_items": null,
            "left": null,
            "margin": null,
            "max_height": null,
            "max_width": null,
            "min_height": null,
            "min_width": null,
            "object_fit": null,
            "object_position": null,
            "order": null,
            "overflow": null,
            "overflow_x": null,
            "overflow_y": null,
            "padding": null,
            "right": null,
            "top": null,
            "visibility": null,
            "width": null
          }
        },
        "d0c38dbedf144ebdb04f2c7c096a93ac": {
          "model_module": "@jupyter-widgets/base",
          "model_name": "LayoutModel",
          "model_module_version": "1.2.0",
          "state": {
            "_model_module": "@jupyter-widgets/base",
            "_model_module_version": "1.2.0",
            "_model_name": "LayoutModel",
            "_view_count": null,
            "_view_module": "@jupyter-widgets/base",
            "_view_module_version": "1.2.0",
            "_view_name": "LayoutView",
            "align_content": null,
            "align_items": null,
            "align_self": null,
            "border": "1px solid black",
            "bottom": null,
            "display": null,
            "flex": null,
            "flex_flow": null,
            "grid_area": null,
            "grid_auto_columns": null,
            "grid_auto_flow": null,
            "grid_auto_rows": null,
            "grid_column": null,
            "grid_gap": null,
            "grid_row": null,
            "grid_template_areas": null,
            "grid_template_columns": null,
            "grid_template_rows": null,
            "height": null,
            "justify_content": null,
            "justify_items": null,
            "left": null,
            "margin": null,
            "max_height": null,
            "max_width": null,
            "min_height": null,
            "min_width": null,
            "object_fit": null,
            "object_position": null,
            "order": null,
            "overflow": null,
            "overflow_x": null,
            "overflow_y": null,
            "padding": null,
            "right": null,
            "top": null,
            "visibility": null,
            "width": null
          }
        },
        "7bb3d244948743bdbb9b363829503ca0": {
          "model_module": "@jupyter-widgets/base",
          "model_name": "LayoutModel",
          "model_module_version": "1.2.0",
          "state": {
            "_model_module": "@jupyter-widgets/base",
            "_model_module_version": "1.2.0",
            "_model_name": "LayoutModel",
            "_view_count": null,
            "_view_module": "@jupyter-widgets/base",
            "_view_module_version": "1.2.0",
            "_view_name": "LayoutView",
            "align_content": null,
            "align_items": null,
            "align_self": null,
            "border": "1px solid black",
            "bottom": null,
            "display": null,
            "flex": null,
            "flex_flow": null,
            "grid_area": null,
            "grid_auto_columns": null,
            "grid_auto_flow": null,
            "grid_auto_rows": null,
            "grid_column": null,
            "grid_gap": null,
            "grid_row": null,
            "grid_template_areas": null,
            "grid_template_columns": null,
            "grid_template_rows": null,
            "height": null,
            "justify_content": null,
            "justify_items": null,
            "left": null,
            "margin": null,
            "max_height": null,
            "max_width": null,
            "min_height": null,
            "min_width": null,
            "object_fit": null,
            "object_position": null,
            "order": null,
            "overflow": null,
            "overflow_x": null,
            "overflow_y": null,
            "padding": null,
            "right": null,
            "top": null,
            "visibility": null,
            "width": null
          }
        }
      }
    }
  },
  "cells": [
    {
      "cell_type": "markdown",
      "metadata": {
        "id": "view-in-github",
        "colab_type": "text"
      },
      "source": [
        "<a href=\"https://colab.research.google.com/github/bradygm/PID-controller-simulator/blob/main/PID_controller_explorer.ipynb\" target=\"_parent\"><img src=\"https://colab.research.google.com/assets/colab-badge.svg\" alt=\"Open In Colab\"/></a>"
      ]
    },
    {
      "cell_type": "markdown",
      "source": [
        "# RoboLaunch Workshop Series: **Intro to PID Control**\n",
        "\n",
        "In this notebook you will\n",
        "\n",
        "If you didn't see the presentation linked to this Colab, you can watch it here: [**How to Control a Robot: Intuition for Feedback Control and PID**]() "
      ],
      "metadata": {
        "id": "UDZS1MekRVAt"
      }
    },
    {
      "cell_type": "markdown",
      "source": [
        "### Quick Google Colab Intro\n",
        "\n",
        "A notebook is a list of cells. Cells contain either explanatory text or executable code and its output. Click a cell to select it.\n",
        "\n",
        "Below is a **code cell** that prints \"Hello World!\". Click in the cell to select it and execute the contents in one of the following ways:\n",
        "\n",
        "* Click the **Play icon** in the left gutter of the cell;\n",
        "* Type **Cmd/Ctrl+Enter** to run the cell in place;\n",
        "* Type **Shift+Enter** to run the cell and move focus to the next cell (adding one if none exists); "
      ],
      "metadata": {
        "id": "QFl6FISBehnF"
      }
    },
    {
      "cell_type": "code",
      "source": [
        "# This is a comment\n",
        "print('Hello World!')"
      ],
      "metadata": {
        "id": "THIEZraYXlv7",
        "colab": {
          "base_uri": "https://localhost:8080/"
        },
        "outputId": "c4ade275-46f1-4e1f-9d68-96ff21d87d25"
      },
      "execution_count": null,
      "outputs": [
        {
          "output_type": "stream",
          "name": "stdout",
          "text": [
            "Hello World!\n"
          ]
        }
      ]
    },
    {
      "cell_type": "markdown",
      "source": [
        "Did you see the code cell print \"Hello World!\"? Great!"
      ],
      "metadata": {
        "id": "8qyUq9qWMaGU"
      }
    },
    {
      "cell_type": "markdown",
      "source": [
        "# Example 1: Single link robot arm\n",
        "\n",
        "Our first example is going to be a single link robot arm. This is essentially a rod with one pivot at the end. At the pivot point there is a motor we can control in order to get the arm to rotate in either direction. This rotational force is called **torque**.\n",
        "\n",
        "The angle of the arm is defined as in the image below:\n",
        "\n",
        "<img src=\"https://raw.githubusercontent.com/bradygm/PID-controller-simulator/fc1fc67be86c934b0a07869eaddb00a79ff07488/media/armAngle.png\" alt=\"drawing\" width=\"200\"/>\n",
        "\n",
        "\n",
        "\n",
        "\n"
      ],
      "metadata": {
        "id": "_vn6vrSAh4YU"
      }
    },
    {
      "cell_type": "markdown",
      "source": [
        "## Imports, helper functions, and classes\n",
        "\n",
        "We will start by running some code that will set everything up for us. You can run all of these cells by just clicking on the **Play icon** below next to the text that reads \"*6 cells hidden*\". You can also feel free to open the cells later to look through the code and modify. You can collapse the celss again by clicking on the arrow next to the title of this text box. "
      ],
      "metadata": {
        "id": "1DDlkp5X8qeW"
      }
    },
    {
      "cell_type": "markdown",
      "source": [
        "##### Imports"
      ],
      "metadata": {
        "id": "Woh5Jc7QA5iE"
      }
    },
    {
      "cell_type": "code",
      "source": [
        "import numpy as np\n",
        "import matplotlib.pyplot as plt\n",
        "from matplotlib.animation import FuncAnimation\n",
        "import matplotlib.animation as animation\n",
        "import math\n",
        "from IPython.display import HTML, Javascript\n",
        "from scipy import interpolate\n",
        "from ipywidgets import interact, interactive, fixed, interact_manual, Video\n",
        "import ipywidgets as widgets\n",
        "import time\n",
        "from scipy import signal"
      ],
      "metadata": {
        "id": "3SI5I_eO8U25"
      },
      "execution_count": 66,
      "outputs": []
    },
    {
      "cell_type": "markdown",
      "source": [
        "##### CustomInput Class, interpolation function, and display function"
      ],
      "metadata": {
        "id": "9HJDEOTMA8Au"
      }
    },
    {
      "cell_type": "code",
      "source": [
        "class CustomInput:\n",
        "\n",
        "    def __init__(self, min_val, max_val):\n",
        "        self.a = widgets.FloatSlider(description='Input',min=min_val, max=max_val)\n",
        "        self.values = np.array([[]])\n",
        "\n",
        "        self.start_time = -1.0\n",
        "        self.first_time = True\n",
        "\n",
        "    def f(self, a):\n",
        "        if self.first_time:\n",
        "            self.first_time = False\n",
        "            plt.plot(self.values[:,0], self.values[:,1])\n",
        "            plt.xlabel(\"Seconds\")\n",
        "            plt.ylabel(\"Input\")\n",
        "            return\n",
        "\n",
        "        if self.start_time == -1.0:\n",
        "            self.start_time = time.time()\n",
        "\n",
        "        self.values = np.append(self.values, [[time.time()-self.start_time, a]], axis=0)\n",
        "        plt.plot(self.values[:,0], self.values[:,1], drawstyle=\"steps-pre\")\n",
        "        plt.xlabel(\"Seconds\")\n",
        "        plt.ylabel(\"Input\")\n",
        "\n",
        "    def record(self):\n",
        "        self.values = np.empty((0,2), float)\n",
        "        self.start_time = -1.0\n",
        "        self.first_time = True\n",
        "\n",
        "        out = widgets.interactive_output(self.f, {'a': self.a})\n",
        "\n",
        "        # vid_out = widgets.Output(layout={'border': '1px solid black'})\n",
        "        # with vid_out:\n",
        "        #     display(Video.from_file(\"animation.mp4\", play=True))\n",
        "        # widgets.HBox([widgets.VBox([a]), out, vid_out])\n",
        "        return widgets.HBox([widgets.VBox([self.a]), out])"
      ],
      "metadata": {
        "id": "BW69LUUuV8iC"
      },
      "execution_count": 42,
      "outputs": []
    },
    {
      "cell_type": "code",
      "source": [
        "def interp_values(values, end_time, dt):\n",
        "    # values_t = np.array(values)\n",
        "    f = interpolate.interp1d(values[:,0], values[:,1], kind='previous', fill_value=\"extrapolate\")\n",
        "    time_list = np.arange(0, end_time, dt)\n",
        "    return f(time_list)"
      ],
      "metadata": {
        "id": "knNhM0ESfZUK"
      },
      "execution_count": 43,
      "outputs": []
    },
    {
      "cell_type": "code",
      "source": [
        "#############################################\n",
        "# Display the results\n",
        "def display_results(goal_ang_interp):\n",
        "    # arm sim\n",
        "    fig = plt.figure(figsize=(5, 4))\n",
        "    ax = fig.add_subplot(autoscale_on=False, xlim=(-my_robot_arm.length*1.2, my_robot_arm.length*1.2), ylim=(-my_robot_arm.length*1.2, my_robot_arm.length*1.2))\n",
        "    ax.set_aspect('equal')\n",
        "\n",
        "    line, = ax.plot([], [], 'o-', lw=6)\n",
        "    time_template = 'time = %.1fs'\n",
        "    time_text = ax.text(0.05, 0.9, '', transform=ax.transAxes)\n",
        "\n",
        "\n",
        "    def animate_arm(i):\n",
        "        thisx = [0, my_robot_arm.length*np.sin(ang_hist[i])]\n",
        "        thisy = [0, my_robot_arm.length*np.cos(ang_hist[i])]\n",
        "\n",
        "        line.set_data(thisx, thisy)\n",
        "        time_text.set_text(time_template % (i*my_robot_arm.timestep))\n",
        "        return line, time_text\n",
        "\n",
        "    ani_arm_vid = animation.FuncAnimation(\n",
        "        fig, animate_arm, len(ang_hist), interval=my_robot_arm.timestep*1000, blit=True)\n",
        "    # gitwriter = animation.ImageMagickWriter()\n",
        "    # writergif = animation.PillowWriter(fps=50) \n",
        "    # ani_arm_vid.save('animation3.gif', writer=writergif)\n",
        "    plt.close()\n",
        "\n",
        "    # arm postion vs goal position\n",
        "    fig = plt.figure(figsize=(6, 4))\n",
        "    ax = fig.add_subplot(autoscale_on=False, xlim=(0, end_time), ylim=(-np.pi, np.pi))\n",
        "    plt.title(\"Arm Angle and Goal Angle\")\n",
        "    plt.xlabel(\"Seconds\")\n",
        "    plt.ylabel(\"Angle (Radians)\")\n",
        "    ax.grid()\n",
        "\n",
        "    goal_list_size = len(goal_ang_interp)\n",
        "\n",
        "    line2, = ax.plot([], [], '--', lw=2)\n",
        "    line2.set_label('Arm Angle')\n",
        "    line3, = ax.plot(time_list[0], ang_hist[0], 'o', lw=2)\n",
        "    if goal_list_size != 0:\n",
        "        line4, = ax.plot(time_list[0:goal_list_size-1], goal_ang_interp[0:goal_list_size-1], '--', lw=2)\n",
        "        line4.set_label('Arm Goal Angle')\n",
        "    time_template2 = 'time = %.1fs'\n",
        "    time_text2 = ax.text(0.05, 0.9, '', transform=ax.transAxes)\n",
        "    # ax.legend()\n",
        "\n",
        "\n",
        "    def animate_arm2(i):\n",
        "        line2.set_data(time_list[0:i], ang_hist[0:i])\n",
        "        line3.set_data(time_list[i], ang_hist[i])\n",
        "        time_text2.set_text(time_template2 % (i*my_robot_arm.timestep))\n",
        "\n",
        "        return line2, time_text2\n",
        "\n",
        "    ani_arm_vid2 = animation.FuncAnimation(\n",
        "        fig, animate_arm2, len(ang_hist), interval=my_robot_arm.timestep*1000, blit=True)\n",
        "    plt.close()\n",
        "\n",
        "    #################################\n",
        "    # display each animation next to each other\n",
        "    window1 = widgets.Output(layout={'border': '1px solid black'})\n",
        "    window2 = widgets.Output(layout={'border': '1px solid black'})\n",
        "    start = time.time()\n",
        "    with window1:\n",
        "        if animate_sim:\n",
        "            display(HTML(ani_arm_vid.to_html5_video()))\n",
        "    with window2:\n",
        "        if animate_plots:\n",
        "            display(HTML(ani_arm_vid2.to_html5_video()))\n",
        "        else:\n",
        "            fig = plt.figure(figsize=(6, 4))\n",
        "            ax = fig.add_subplot(autoscale_on=False, xlim=(0, end_time), ylim=(-np.pi, np.pi))\n",
        "            ax.grid()\n",
        "            plt.title(\"Arm Angle and Goal Angle\")\n",
        "            plt.xlabel(\"Seconds\")\n",
        "            plt.ylabel(\"Angle (Radians)\")\n",
        "            if goal_list_size != 0:\n",
        "                line2, = ax.plot(time_list[0:list_len-1], goal_ang_interp[0:list_len-1], '--', lw=2)\n",
        "                line2.set_label('Arm Goal Angle')\n",
        "            line3, = ax.plot(time_list[0:list_len-1], ang_hist[0:list_len-1], '--', lw=2)\n",
        "            line3.set_label('Arm Angle')\n",
        "            ax.legend()\n",
        "            plt.show()\n",
        "        \n",
        "    print(str(time.time()-start) + \" sec\")\n",
        "\n",
        "    # FFwriter = animation.FFMpegWriter()\n",
        "    # ani_arm_vid.save('animation.mp4', writer = FFwriter)\n",
        "    # gitwriter = animation.ImageMagickWriter()\n",
        "    # ani_arm_vid.save('animation.gif', writer=gitwriter)\n",
        "    # ani_arm_vid2.save('animation2.mp4', writer = FFwriter)\n",
        "    # widgets.HBox([widgets.VBox([a]), out, vid_out])\n",
        "    return widgets.HBox([window1, window2])\n",
        "    \n",
        "    "
      ],
      "metadata": {
        "id": "jMJtWA2e7jBN"
      },
      "execution_count": 118,
      "outputs": []
    },
    {
      "cell_type": "markdown",
      "source": [
        "## Define the Robot Arm\n",
        "\n",
        "Run the cell below to create your robot arm. You can adjust the parameters of the arm with the toggles on the right, but probably just leave them as they are at first.\n",
        "<!--\n",
        "Any cell you see with these adjustable parameters can show or hide its associated code. You can show the code by clicking \"Show code\" at the bottom of the cell or just by double clicking on the cell itself. In order to hide the code, just double click on parameter box or right click on the cell and select **Form → Show/hide code**.\n",
        "--> "
      ],
      "metadata": {
        "id": "p0SACRUnqyol"
      }
    },
    {
      "cell_type": "code",
      "source": [
        "# @markdown # Robot Arm Parameters { display-mode: \"form\" }\n",
        "# @markdown You can adjust parameters using the sliders and form below.\n",
        "# @markdown Remember you need to **rerun this\n",
        "# @markdown cell after you pick new parameters**.\n",
        "\n",
        "# @markdown ---\n",
        "class RobotArm:\n",
        "\n",
        "    def __init__(self, start_angle, timestep):\n",
        "        # @markdown Mass of the robot arm:\n",
        "        self.mass = 1 #@param{type:\"slider\", min:0.1, max:10, step:0.1}\n",
        "        # @markdown Length of the robot arm:\n",
        "        self.length =  1#@param{type:\"slider\", min:0.1, max:10, step:0.1}\n",
        "        # @markdown Damping from friction\n",
        "        self.damping = 0.1 #@param\n",
        "        # @markdown Toggle gravity on or off\n",
        "        self.gravity_on = False #@param{type:\"boolean\"}\n",
        "        \n",
        "        self.state = np.array([start_angle, 0.0])\n",
        "        self.gravity = 9.8\n",
        "        self.timestep = timestep\n",
        "\n",
        "    def state_derivative(self, state, torque):\n",
        "        ang_position = state[0]\n",
        "        ang_velocity = state[1]\n",
        "        if self.gravity_on:\n",
        "            accelaration = (3/self.mass/self.length**2)*(torque - self.damping*ang_velocity + self.mass*self.gravity*self.length/2*np.sin(ang_position))\n",
        "        else:\n",
        "            accelaration = 3*(torque-ang_velocity*self.damping)/(self.mass*self.length**2)\n",
        "\n",
        "        return np.array([ang_velocity, accelaration])\n",
        "        \n",
        "    def step_forward(self, torque): \n",
        "        # Using Runge-Kutta algorithm\n",
        "        k1 = self.state_derivative(self.state, torque)\n",
        "        k2 = self.state_derivative(self.state + self.timestep/2*k1, torque)\n",
        "        k3 = self.state_derivative(self.state + self.timestep/2*k2, torque)\n",
        "        k4 = self.state_derivative(self.state + self.timestep*k3, torque)\n",
        "        self.state = self.state + self.timestep/6 * (k1 + 2*k2 + 2*k3 + k4)\n",
        "\n",
        "    def angle_wrap(self, ang):\n",
        "        return (ang + np.pi) % (2 * np.pi) - np.pi\n",
        "\n",
        "    def get_ang_position(self):\n",
        "        return self.state[0]\n",
        "    \n",
        "    def get_ang_velocity(self):\n",
        "        return self.state[1]"
      ],
      "metadata": {
        "id": "MRqZwSiC4fmP"
      },
      "execution_count": 45,
      "outputs": []
    },
    {
      "cell_type": "markdown",
      "source": [
        "## Let's move the arm around!\n",
        "\n",
        "Now you get to move the arm! You will do this by varying the torque at the pivot of the arm, just like as if there was a motor there. \n",
        "\n",
        "\n",
        "First we will create a sequence of torques. Run the cell below and you should see a slider. Drag the slider around and it will save your input in realtime and display it to the graph on the right. Positive torque will add force in the clockwise direction and negative torque in the counter-clockwise direction.\n",
        "\n",
        "We will be using the **first 10 seconds** of input in the following steps. \n"
      ],
      "metadata": {
        "id": "_595CnaIV9hv"
      }
    },
    {
      "cell_type": "code",
      "source": [
        "# Creates the CustomInput object for our input torque sequence\n",
        "custom_torques = CustomInput(-1,1)\n",
        "# Starts recording a new torque sequence\n",
        "custom_torques.record()"
      ],
      "metadata": {
        "colab": {
          "base_uri": "https://localhost:8080/",
          "height": 279,
          "referenced_widgets": [
            "3253b5ff661e4ab7a937685ff14d5512",
            "1fa813407cf04cd5b12df7736470e5a6",
            "4ac2bf7dcbd24bcd835048f0636d8139",
            "4136194eed794c08a57ae40857ccf3c1",
            "3494c9906df14dbaaabd058802e96553",
            "c9527baf2baa4535a35831663897a88e",
            "bf9d241a570a402a85499f250739d09c",
            "57e470e901e54600b1039db2c07c2b32",
            "9c8e8b52519d461cb96d83a09b7072c6"
          ]
        },
        "id": "uqxBxRgk9E3R",
        "outputId": "941abfe4-e20c-43d7-c3a8-1e72ba18438a"
      },
      "execution_count": 56,
      "outputs": [
        {
          "output_type": "display_data",
          "data": {
            "text/plain": [
              "HBox(children=(VBox(children=(FloatSlider(value=0.0, description='Input', max=1.0, min=-1.0),)), Output()))"
            ],
            "application/vnd.jupyter.widget-view+json": {
              "version_major": 2,
              "version_minor": 0,
              "model_id": "3253b5ff661e4ab7a937685ff14d5512"
            }
          },
          "metadata": {}
        }
      ]
    },
    {
      "cell_type": "markdown",
      "source": [
        "### Simulate the result\n",
        "\n",
        "Now we will simulate the effects of the input you recorded.\n",
        "\n",
        "Keep the default parameters for now, but feel free to modify later. "
      ],
      "metadata": {
        "id": "TvVb2-xovZ2U"
      }
    },
    {
      "cell_type": "code",
      "source": [
        "#@markdown How long you want the simulation to run for\n",
        "end_time = 10.0 #@param{type:\"slider\", min:5.0, max:30, step:1} \n",
        "#@markdown The starting angle of the arm\n",
        "start_angle = 0.0 #@param{type:\"slider\", min:-3.14, max:3.14, step:0.1}\n",
        "dt = 0.05 # the length of the time step\n",
        "#@markdown Toggle animation of figures on or off. Turning all off will result in quick results.\n",
        "animate_plots = False #@param {type:\"boolean\"}\n",
        "animate_sim = True #@param{type:\"boolean\"}\n",
        "time_list = np.arange(0, end_time, dt)\n",
        "list_len = len(time_list)\n",
        "ang_hist = []\n",
        "goal_ang_interp = []\n",
        "\n",
        "# Initialize the RobotArm and save as my_robot_arm\n",
        "my_robot_arm = RobotArm(start_angle, dt)\n",
        "\n",
        "# Takes our custom torque input and interpolates it for all time steps\n",
        "torques_interp = interp_values(custom_torques.values, end_time, dt)\n",
        "\n",
        "# Loop over the time steps\n",
        "for i in range(list_len):\n",
        "    my_robot_arm.step_forward(torques_interp[i])\n",
        "    ang_hist.append(my_robot_arm.get_ang_position())\n",
        "\n",
        "display_results(goal_ang_interp)"
      ],
      "metadata": {
        "id": "-eKhPEgCXMXg"
      },
      "execution_count": null,
      "outputs": []
    },
    {
      "cell_type": "markdown",
      "source": [
        "You can go back and try different torque sequences. Run the torque input cell again to put in new sequence and then run the simulate again to see the results. \n",
        "\n",
        "### Follow a goal path\n",
        "\n",
        "Now we will see if we can get the arm to do something a bit challenging. See if you can get the arm to follow as closely as follows in the example below:\n",
        "\n",
        "<!-- <img src=\"https://raw.githubusercontent.com/bradygm/PID-controller-simulator/main/media/animation.gif\" alt=\"drawing\" width=\"200\"/>\n",
        "<img src=\"https://raw.githubusercontent.com/bradygm/PID-controller-simulator/main/media/squareWave2.png\" alt=\"drawing\" width=\"240\"/> -->\n",
        "\n",
        "Obviously the arm can't teleport from one side to the other, but do your best to get your arm to the goal positions as quickly as possible. Go to the right, then stop the arm. Go to the left, and stop the arm. \n",
        "\n",
        "This is pretty tricky, but give it a couple attempts.\n",
        "\n",
        "In order to more quickly see your results from the simulation, you can choose to **temporarily turn off the animations**. You can always turn it back on whenever to see your final results. Or leave it on all the time if you have great patience 😉."
      ],
      "metadata": {
        "id": "Vb0BdNRrvOM8"
      }
    },
    {
      "cell_type": "markdown",
      "source": [
        "### PID Controller Magic\n",
        "\n",
        "That was hard, right? Now that we have tried a couple times to get the arm to follow the goal path, we are now going to write a controller to have it do the hard work for us!"
      ],
      "metadata": {
        "id": "y3Mtz5YvvukU"
      }
    },
    {
      "cell_type": "code",
      "source": [
        "custom_goal_angle = CustomInput(-3.14,3.14)\n",
        "custom_goal_angle.record()"
      ],
      "metadata": {
        "colab": {
          "base_uri": "https://localhost:8080/",
          "height": 279,
          "referenced_widgets": [
            "8340d1b4fcb446dfb7d69b7b3eec8f72",
            "a6aee2e8bb5740f7be4605a1cae61627",
            "567d246bab0e4ae4b0128c43759acc36",
            "96dea0ab06d64512ad8388242a613763",
            "05afdfb328e34c17b61cdb0999eb8f41",
            "4c98ce99e9494bd3a050a39889977232",
            "d6110b41fde3479485782eaa9acd2a8f",
            "97a953aca8d0406aabdc591873f5d65d",
            "448a53da52d348ec88548cc929ecb30a"
          ]
        },
        "id": "qkCnKaY0B9SQ",
        "outputId": "a9afa945-cf3b-4fe6-d556-d9eb7613217a"
      },
      "execution_count": 30,
      "outputs": [
        {
          "output_type": "display_data",
          "data": {
            "text/plain": [
              "HBox(children=(VBox(children=(FloatSlider(value=0.0, description='Input', max=3.14, min=-3.14),)), Output()))"
            ],
            "application/vnd.jupyter.widget-view+json": {
              "version_major": 2,
              "version_minor": 0,
              "model_id": "8340d1b4fcb446dfb7d69b7b3eec8f72"
            }
          },
          "metadata": {}
        }
      ]
    },
    {
      "cell_type": "markdown",
      "source": [
        "#### Controller\n"
      ],
      "metadata": {
        "id": "AkJOel0h_S0H"
      }
    },
    {
      "cell_type": "markdown",
      "source": [
        "Probably split up the controller into different ones. Start with p, then pd. Then we do pid? Or later. Maybe..."
      ],
      "metadata": {
        "id": "3EXbxhyyZOnC"
      }
    },
    {
      "cell_type": "code",
      "source": [
        "class PID_Controller:\n",
        "\n",
        "    def __init__(self, k_p=1, k_i=0, k_d=0):\n",
        "        self.control_limit = 0 #not currently used\n",
        "        self.error_sum = 0\n",
        "\n",
        "        self.k_p = k_p\n",
        "        self.k_i = k_i\n",
        "        self.k_d = k_d\n",
        "\n",
        "    def p_control(self, desired_position, current_position):\n",
        "        error = desired_position-current_position\n",
        "        return self.k_p*error\n",
        "\n",
        "    def pd_control(self, desired_position, current_position, current_velocity):\n",
        "        error = desired_position-current_position\n",
        "        return self.k_p*error - self.k_d*current_velocity\n",
        "\n",
        "    def pid_control(self, desired_position, current_position, current_velocity):\n",
        "        error = desired_position-current_position\n",
        "        self.error_sum += error\n",
        "        return self.k_p*error + self.k_i*self.error_sum - self.k_d*current_velocity"
      ],
      "metadata": {
        "id": "rtCcEklj5McZ"
      },
      "execution_count": 29,
      "outputs": []
    },
    {
      "cell_type": "code",
      "source": [
        "end_time = 10.0 #@param{type:\"slider\", min:5.0, max:30, step:1}\n",
        "start_angle = 0.1 #@param{type:\"slider\", min:-3.14, max:3.14, step:0.1}\n",
        "k_p = 6.71 #@param{type:\"slider\", min:0.0, max:20.0, step:0.01}\n",
        "k_i = 0.0 #@param{type:\"slider\", min:0.0, max:5.0, step:0.01}\n",
        "k_d = 1.94 #@param{type:\"slider\", min:0.0, max:5.0, step:0.01}\n",
        "dt = 0.05 #@param\n",
        "animate_plots = False #@param{type:\"boolean\"}\n",
        "animate_sim = True #@param{type:\"boolean\"}\n",
        "time_list = np.arange(0, end_time, dt)\n",
        "list_len = len(time_list)\n",
        "\n",
        "# Initialize the RobotArm and save as my_robot_arm\n",
        "my_robot_arm = RobotArm(start_angle, dt)\n",
        "# Initialize our controller\n",
        "controller = PID_Controller(k_p, k_i, k_d)\n",
        "\n",
        "torques_interp = interp_values(custom_torques.values, end_time, dt)\n",
        "goal_ang_interp = interp_values(custom_goal_angle.values, end_time, dt)\n",
        "\n",
        "\n",
        "ang_hist = []\n",
        "\n",
        "for i in range(len(torques_interp)):\n",
        "    my_robot_arm.step_forward(torques_interp[i])\n",
        "    # my_robot_arm.step_forward(my_robot_arm.p_control(.5))\n",
        "    # my_robot_arm.step_forward(controller.pd_control(goal_ang_interp[i], my_robot_arm.get_ang_position(), my_robot_arm.get_ang_velocity()))\n",
        "    # cur_torque = controller.pid_control(0, my_robot_arm.get_ang_position(), my_robot_arm.get_ang_velocity())\n",
        "    # my_robot_arm.step_forward(cur_torque)\n",
        "    # my_robot_arm.step_forward(0)\n",
        "    ang_hist.append(my_robot_arm.get_ang_position())\n",
        "\n",
        "display_results(goal_ang_interp)"
      ],
      "metadata": {
        "colab": {
          "base_uri": "https://localhost:8080/",
          "height": 314,
          "referenced_widgets": [
            "d14a11cf8a1d4d8881ca6e6447ee4853",
            "16a8b6ef02c84c03ab6c941d7b97f7d7",
            "eb7d80a6aae44f06b909046da6fac56a",
            "12b473dac4864b6980fe0b3f62684169",
            "d0c38dbedf144ebdb04f2c7c096a93ac",
            "7bb3d244948743bdbb9b363829503ca0"
          ]
        },
        "id": "TG4jCy2XtsnM",
        "outputId": "b11468a5-e36d-44bc-831e-61fc2cb2d243"
      },
      "execution_count": 40,
      "outputs": [
        {
          "output_type": "stream",
          "name": "stdout",
          "text": [
            "0.21326613426208496 sec\n"
          ]
        },
        {
          "output_type": "display_data",
          "data": {
            "text/plain": [
              "HBox(children=(Output(layout=Layout(border='1px solid black')), Output(layout=Layout(border='1px solid black')…"
            ],
            "application/vnd.jupyter.widget-view+json": {
              "version_major": 2,
              "version_minor": 0,
              "model_id": "d14a11cf8a1d4d8881ca6e6447ee4853"
            }
          },
          "metadata": {}
        }
      ]
    },
    {
      "cell_type": "markdown",
      "source": [
        "Try turning gravity on or off. Start at angle and see what it does. "
      ],
      "metadata": {
        "id": "eTHC0zGJts4C"
      }
    },
    {
      "cell_type": "markdown",
      "source": [
        "Remember can turn off animation for quicker. Reminder. "
      ],
      "metadata": {
        "id": "X3hQekMjts7s"
      }
    },
    {
      "cell_type": "markdown",
      "source": [
        ""
      ],
      "metadata": {
        "id": "Zr3CnXtMttBG"
      }
    },
    {
      "cell_type": "markdown",
      "source": [
        "Double click on this cell to view a working answer if you can't get it to work.\n",
        "\n",
        "<!-- \n",
        "\n",
        "Write your comments here \n",
        "\n",
        "-->"
      ],
      "metadata": {
        "id": "XqebfM_ZttEA"
      }
    },
    {
      "cell_type": "markdown",
      "source": [
        "<hr>"
      ],
      "metadata": {
        "id": "UOP70tR5ttMw"
      }
    },
    {
      "cell_type": "markdown",
      "source": [
        "Then they mess around with the slider being the torque. We can then say how rather than a slider with us puting in the torque, we use a PID controller.\n",
        "\n",
        "Allow for changing the trajectory. Also a slider? How easily change? Swap out or comment out lines?"
      ],
      "metadata": {
        "id": "q3lor2EFFHYR"
      }
    },
    {
      "cell_type": "markdown",
      "source": [
        "Now at the end of example 1 things you could try. \n",
        "* Change arm parameters and see how it does with the pid parameters you chose. How does it change?\n",
        "* Change the start config.\n",
        "* Add gravity. Gravity things to think about and try. Why didn't work? Link to info on how to modify if want. \n",
        "* add limit"
      ],
      "metadata": {
        "id": "eV4_a41qW-bw"
      }
    },
    {
      "cell_type": "markdown",
      "source": [
        "# Example 2: Line following robot\n",
        "\n",
        "Could start with or maybe only have a simple straight line. Car going from left to right. They modify the starting position laterally (starting crosstrack error). Maybe move onto a more interesting track or we have a set of tracks. Would be really cool if they could draw their own paths. \n",
        "\n",
        "Ideas\n",
        "* Could have live plot showing cross track error (can be used for explaining the D or I of PID but also just fun to see)\n",
        "* Have a benchmark set for them to get a score and maybe have leaderboard optional\n",
        "* Fun parameters we could expose with sliders or text entry or could just be clearly marked in the code\n",
        "  * Vehicle speed\n",
        "  * Max turn rate/angle\n",
        "  * Look ahead distance when calculating cross track error?"
      ],
      "metadata": {
        "id": "oftknzd5jSTS"
      }
    },
    {
      "cell_type": "markdown",
      "source": [
        "# Notes and thoughts\n",
        "\n",
        "* How allow people new to coding to even participate?\n",
        "  * Option to reveal the answers or get them somehow and copy and paste\n",
        "* Make clear what prerequisits are needed\n",
        "  * Internet Browser\n",
        "* Could have a quick intro video they watch before the workshop that gives them an overview of google colab or other background info. They then come prepared. Could have a simple notebook they go through\n",
        "* How make the quality of our presentation really good? \n",
        "  * Zoom clear background thing?\n",
        "  * OBS?\n",
        "  * Look at other examples?\n",
        "* How are we going to run the interactive portion, especially with things being hybrid?\n",
        "  * Will it be open or do they sort of follow along?\n",
        "  * How check in?\n",
        "  * Open and then run through together at end?\n",
        "  * Breakout rooms?\n",
        "    * How would that work with the recorded video?"
      ],
      "metadata": {
        "id": "RZah9QTl6TB0"
      }
    },
    {
      "cell_type": "markdown",
      "source": [
        "# Indu\n",
        "\n",
        "3rd Graph: Control input torques_interp\n",
        "\n",
        "On animated plot: Add goal trajectory ghosted\n",
        "\n",
        "Feel free to clean display_results()\n",
        "\n",
        "Any speed ups? But probably okay. \n"
      ],
      "metadata": {
        "id": "UnQ5JJP8uyd1"
      }
    },
    {
      "cell_type": "code",
      "source": [
        "ang_hist = signal.square(.1*2 * np.pi * time_list)\n",
        "goal_ang_interp = []\n",
        "display_results(goal_ang_interp)"
      ],
      "metadata": {
        "id": "HRMtIs140nPX"
      },
      "execution_count": null,
      "outputs": []
    },
    {
      "cell_type": "code",
      "source": [
        ""
      ],
      "metadata": {
        "id": "Pa8DsZEh5tIh"
      },
      "execution_count": null,
      "outputs": []
    }
  ]
}