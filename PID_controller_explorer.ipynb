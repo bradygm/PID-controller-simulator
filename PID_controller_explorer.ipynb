{
  "nbformat": 4,
  "nbformat_minor": 0,
  "metadata": {
    "colab": {
      "name": "PID-controller-explorer.ipynb",
      "provenance": [],
      "collapsed_sections": [
        "1DDlkp5X8qeW",
        "Woh5Jc7QA5iE",
        "9HJDEOTMA8Au"
      ],
      "toc_visible": true,
      "include_colab_link": true
    },
    "kernelspec": {
      "name": "python3",
      "display_name": "Python 3"
    },
    "language_info": {
      "name": "python"
    },
    "widgets": {
      "application/vnd.jupyter.widget-state+json": {
        "eb556ced6df4489b9866f2565b67a27f": {
          "model_module": "@jupyter-widgets/controls",
          "model_name": "HBoxModel",
          "model_module_version": "1.5.0",
          "state": {
            "_dom_classes": [],
            "_model_module": "@jupyter-widgets/controls",
            "_model_module_version": "1.5.0",
            "_model_name": "HBoxModel",
            "_view_count": null,
            "_view_module": "@jupyter-widgets/controls",
            "_view_module_version": "1.5.0",
            "_view_name": "HBoxView",
            "box_style": "",
            "children": [
              "IPY_MODEL_5e19c62999b14d67a3dc0b4dad1f44dd",
              "IPY_MODEL_4e412dbe075b46c9b37bcbaabdb64e54"
            ],
            "layout": "IPY_MODEL_c0d6447bcae645e3817370665cb54c2b"
          }
        },
        "5e19c62999b14d67a3dc0b4dad1f44dd": {
          "model_module": "@jupyter-widgets/controls",
          "model_name": "VBoxModel",
          "model_module_version": "1.5.0",
          "state": {
            "_dom_classes": [],
            "_model_module": "@jupyter-widgets/controls",
            "_model_module_version": "1.5.0",
            "_model_name": "VBoxModel",
            "_view_count": null,
            "_view_module": "@jupyter-widgets/controls",
            "_view_module_version": "1.5.0",
            "_view_name": "VBoxView",
            "box_style": "",
            "children": [
              "IPY_MODEL_e1d739b845154e278b26c988b22c4210"
            ],
            "layout": "IPY_MODEL_c9c5e7cee6ce4283826d8e8f28d8d565"
          }
        },
        "4e412dbe075b46c9b37bcbaabdb64e54": {
          "model_module": "@jupyter-widgets/output",
          "model_name": "OutputModel",
          "model_module_version": "1.0.0",
          "state": {
            "_dom_classes": [],
            "_model_module": "@jupyter-widgets/output",
            "_model_module_version": "1.0.0",
            "_model_name": "OutputModel",
            "_view_count": null,
            "_view_module": "@jupyter-widgets/output",
            "_view_module_version": "1.0.0",
            "_view_name": "OutputView",
            "layout": "IPY_MODEL_574e788c736b4441abc8be8a7165731d",
            "msg_id": "",
            "outputs": [
              {
                "output_type": "display_data",
                "data": {
                  "text/plain": "<Figure size 432x288 with 1 Axes>",
                  "image/png": "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\n"
                },
                "metadata": {
                  "needs_background": "light"
                }
              }
            ]
          }
        },
        "c0d6447bcae645e3817370665cb54c2b": {
          "model_module": "@jupyter-widgets/base",
          "model_name": "LayoutModel",
          "model_module_version": "1.2.0",
          "state": {
            "_model_module": "@jupyter-widgets/base",
            "_model_module_version": "1.2.0",
            "_model_name": "LayoutModel",
            "_view_count": null,
            "_view_module": "@jupyter-widgets/base",
            "_view_module_version": "1.2.0",
            "_view_name": "LayoutView",
            "align_content": null,
            "align_items": null,
            "align_self": null,
            "border": null,
            "bottom": null,
            "display": null,
            "flex": null,
            "flex_flow": null,
            "grid_area": null,
            "grid_auto_columns": null,
            "grid_auto_flow": null,
            "grid_auto_rows": null,
            "grid_column": null,
            "grid_gap": null,
            "grid_row": null,
            "grid_template_areas": null,
            "grid_template_columns": null,
            "grid_template_rows": null,
            "height": null,
            "justify_content": null,
            "justify_items": null,
            "left": null,
            "margin": null,
            "max_height": null,
            "max_width": null,
            "min_height": null,
            "min_width": null,
            "object_fit": null,
            "object_position": null,
            "order": null,
            "overflow": null,
            "overflow_x": null,
            "overflow_y": null,
            "padding": null,
            "right": null,
            "top": null,
            "visibility": null,
            "width": null
          }
        },
        "e1d739b845154e278b26c988b22c4210": {
          "model_module": "@jupyter-widgets/controls",
          "model_name": "FloatSliderModel",
          "model_module_version": "1.5.0",
          "state": {
            "_dom_classes": [],
            "_model_module": "@jupyter-widgets/controls",
            "_model_module_version": "1.5.0",
            "_model_name": "FloatSliderModel",
            "_view_count": null,
            "_view_module": "@jupyter-widgets/controls",
            "_view_module_version": "1.5.0",
            "_view_name": "FloatSliderView",
            "continuous_update": true,
            "description": "Input",
            "description_tooltip": null,
            "disabled": false,
            "layout": "IPY_MODEL_4370930d91804379ac784b96f17d49ee",
            "max": 1,
            "min": -1,
            "orientation": "horizontal",
            "readout": true,
            "readout_format": ".2f",
            "step": 0.1,
            "style": "IPY_MODEL_198d9595a4464b0d8cf7b7574e5b64d6",
            "value": 0.1
          }
        },
        "c9c5e7cee6ce4283826d8e8f28d8d565": {
          "model_module": "@jupyter-widgets/base",
          "model_name": "LayoutModel",
          "model_module_version": "1.2.0",
          "state": {
            "_model_module": "@jupyter-widgets/base",
            "_model_module_version": "1.2.0",
            "_model_name": "LayoutModel",
            "_view_count": null,
            "_view_module": "@jupyter-widgets/base",
            "_view_module_version": "1.2.0",
            "_view_name": "LayoutView",
            "align_content": null,
            "align_items": null,
            "align_self": null,
            "border": null,
            "bottom": null,
            "display": null,
            "flex": null,
            "flex_flow": null,
            "grid_area": null,
            "grid_auto_columns": null,
            "grid_auto_flow": null,
            "grid_auto_rows": null,
            "grid_column": null,
            "grid_gap": null,
            "grid_row": null,
            "grid_template_areas": null,
            "grid_template_columns": null,
            "grid_template_rows": null,
            "height": null,
            "justify_content": null,
            "justify_items": null,
            "left": null,
            "margin": null,
            "max_height": null,
            "max_width": null,
            "min_height": null,
            "min_width": null,
            "object_fit": null,
            "object_position": null,
            "order": null,
            "overflow": null,
            "overflow_x": null,
            "overflow_y": null,
            "padding": null,
            "right": null,
            "top": null,
            "visibility": null,
            "width": null
          }
        },
        "4370930d91804379ac784b96f17d49ee": {
          "model_module": "@jupyter-widgets/base",
          "model_name": "LayoutModel",
          "model_module_version": "1.2.0",
          "state": {
            "_model_module": "@jupyter-widgets/base",
            "_model_module_version": "1.2.0",
            "_model_name": "LayoutModel",
            "_view_count": null,
            "_view_module": "@jupyter-widgets/base",
            "_view_module_version": "1.2.0",
            "_view_name": "LayoutView",
            "align_content": null,
            "align_items": null,
            "align_self": null,
            "border": null,
            "bottom": null,
            "display": null,
            "flex": null,
            "flex_flow": null,
            "grid_area": null,
            "grid_auto_columns": null,
            "grid_auto_flow": null,
            "grid_auto_rows": null,
            "grid_column": null,
            "grid_gap": null,
            "grid_row": null,
            "grid_template_areas": null,
            "grid_template_columns": null,
            "grid_template_rows": null,
            "height": null,
            "justify_content": null,
            "justify_items": null,
            "left": null,
            "margin": null,
            "max_height": null,
            "max_width": null,
            "min_height": null,
            "min_width": null,
            "object_fit": null,
            "object_position": null,
            "order": null,
            "overflow": null,
            "overflow_x": null,
            "overflow_y": null,
            "padding": null,
            "right": null,
            "top": null,
            "visibility": null,
            "width": null
          }
        },
        "198d9595a4464b0d8cf7b7574e5b64d6": {
          "model_module": "@jupyter-widgets/controls",
          "model_name": "SliderStyleModel",
          "model_module_version": "1.5.0",
          "state": {
            "_model_module": "@jupyter-widgets/controls",
            "_model_module_version": "1.5.0",
            "_model_name": "SliderStyleModel",
            "_view_count": null,
            "_view_module": "@jupyter-widgets/base",
            "_view_module_version": "1.2.0",
            "_view_name": "StyleView",
            "description_width": "",
            "handle_color": null
          }
        },
        "574e788c736b4441abc8be8a7165731d": {
          "model_module": "@jupyter-widgets/base",
          "model_name": "LayoutModel",
          "model_module_version": "1.2.0",
          "state": {
            "_model_module": "@jupyter-widgets/base",
            "_model_module_version": "1.2.0",
            "_model_name": "LayoutModel",
            "_view_count": null,
            "_view_module": "@jupyter-widgets/base",
            "_view_module_version": "1.2.0",
            "_view_name": "LayoutView",
            "align_content": null,
            "align_items": null,
            "align_self": null,
            "border": null,
            "bottom": null,
            "display": null,
            "flex": null,
            "flex_flow": null,
            "grid_area": null,
            "grid_auto_columns": null,
            "grid_auto_flow": null,
            "grid_auto_rows": null,
            "grid_column": null,
            "grid_gap": null,
            "grid_row": null,
            "grid_template_areas": null,
            "grid_template_columns": null,
            "grid_template_rows": null,
            "height": null,
            "justify_content": null,
            "justify_items": null,
            "left": null,
            "margin": null,
            "max_height": null,
            "max_width": null,
            "min_height": null,
            "min_width": null,
            "object_fit": null,
            "object_position": null,
            "order": null,
            "overflow": null,
            "overflow_x": null,
            "overflow_y": null,
            "padding": null,
            "right": null,
            "top": null,
            "visibility": null,
            "width": null
          }
        },
        "0cd687ffa5154b5c9e3fe290f700f2bf": {
          "model_module": "@jupyter-widgets/controls",
          "model_name": "HBoxModel",
          "model_module_version": "1.5.0",
          "state": {
            "_dom_classes": [],
            "_model_module": "@jupyter-widgets/controls",
            "_model_module_version": "1.5.0",
            "_model_name": "HBoxModel",
            "_view_count": null,
            "_view_module": "@jupyter-widgets/controls",
            "_view_module_version": "1.5.0",
            "_view_name": "HBoxView",
            "box_style": "",
            "children": [
              "IPY_MODEL_c418ed4603d342e2a13202be8161993b",
              "IPY_MODEL_4061aa476a3b4eb8ae9bcae88ab444dc"
            ],
            "layout": "IPY_MODEL_f2bebdb88b294bd8b1ea2c3f8e10494b"
          }
        },
        "c418ed4603d342e2a13202be8161993b": {
          "model_module": "@jupyter-widgets/controls",
          "model_name": "VBoxModel",
          "model_module_version": "1.5.0",
          "state": {
            "_dom_classes": [],
            "_model_module": "@jupyter-widgets/controls",
            "_model_module_version": "1.5.0",
            "_model_name": "VBoxModel",
            "_view_count": null,
            "_view_module": "@jupyter-widgets/controls",
            "_view_module_version": "1.5.0",
            "_view_name": "VBoxView",
            "box_style": "",
            "children": [
              "IPY_MODEL_8959e5a29c574d73872f2c7d73f771a6"
            ],
            "layout": "IPY_MODEL_de3f5b46a186484f8b181770d1f0892b"
          }
        },
        "4061aa476a3b4eb8ae9bcae88ab444dc": {
          "model_module": "@jupyter-widgets/output",
          "model_name": "OutputModel",
          "model_module_version": "1.0.0",
          "state": {
            "_dom_classes": [],
            "_model_module": "@jupyter-widgets/output",
            "_model_module_version": "1.0.0",
            "_model_name": "OutputModel",
            "_view_count": null,
            "_view_module": "@jupyter-widgets/output",
            "_view_module_version": "1.0.0",
            "_view_name": "OutputView",
            "layout": "IPY_MODEL_dd2c1bcf8e334bf4bede0390c434a1a5",
            "msg_id": "",
            "outputs": [
              {
                "output_type": "display_data",
                "data": {
                  "text/plain": "<Figure size 432x288 with 1 Axes>",
                  "image/png": "iVBORw0KGgoAAAANSUhEUgAAAYoAAAEGCAYAAAB7DNKzAAAABHNCSVQICAgIfAhkiAAAAAlwSFlzAAALEgAACxIB0t1+/AAAADh0RVh0U29mdHdhcmUAbWF0cGxvdGxpYiB2ZXJzaW9uMy4yLjIsIGh0dHA6Ly9tYXRwbG90bGliLm9yZy+WH4yJAAAVE0lEQVR4nO3df7DddX3n8edLBF1XLNsmKyEhBpVpN7gt4l0CtbNlK67AImmtlh+zKnaduF0ZdXZnu1h2oOtfOJ21Oy5OMaNMwSpgbZEosRQWlfqDHzc0BBJwTVktCWm5QBd0FbrB9/5xvtGzl3O/OTe553wPOc/HzJ18f3xyvm++4Xte9/vr80lVIUnSQl7QdQGSpMlmUEiSWhkUkqRWBoUkqZVBIUlq9cKuCxiFZcuW1Zo1a7ouQ5KeN7Zs2fJYVS0ftO6QDIo1a9YwOzvbdRmS9LyR5LsLrfPSkySplUEhSWplUEiSWhkUkqRWBoUkqZVBIUlqZVBIklodku9RHKjP3PnX3Lh1d9dlPMf6E1dywbrVXZchaUp1dkaR5NgkX06yI8n2JO8f0CZJPppkZ5JtSU4aZU03bt3Njj1PjXITi7Zjz1MTGV6SpkeXZxR7gf9QVfckORLYkuSWqtrR1+ZM4PjmZx3wB82fI7N2xcu4/j2njnITi3Lux7/ZdQmSplxnZxRVtaeq7mmmvwc8AKyc12w9cE313AEclWTFmEuVpKk2ETezk6wBXgvcOW/VSuDhvvldPDdM9n3GhiSzSWbn5uZGUaYkTaXOgyLJS4E/AT5QVQd8g6CqNlbVTFXNLF8+sANESdIB6DQokhxOLyQ+XVV/OqDJbuDYvvlVzTJJ0ph0+dRTgE8CD1TVRxZotgl4R/P00ynAk1W1Z2xFSpI6ferp9cDbgfuSbG2W/Q6wGqCqrgQ2A2cBO4EfAO/qoE5JmmqdBUVVfQ3IftoU8N7xVCRJGsQ3s58Hdux5yvcpNHXskWByGBQTbv2JA58Glg5p+3pIMCgmg0Ex4S5Yt9qDRVPHM+jJ0vl7FJKkyWZQSJJaGRSSpFYGhSSplUEhSWplUEiSWhkUkqRWBoUkqZVBIUlqZVBIkloZFJKkVgaFJKmVQSFJatX1mNlXJXk0yf0LrD8tyZNJtjY/l467Rkmadl13M/6HwBXANS1t/qKqzh5POZKk+To9o6iq24EnuqxBktTu+XCP4tQk9yb5UpITui5GkqZN15ee9uce4BVV9f0kZwGfB44f1DDJBmADwOrVjggnSUtlos8oquqpqvp+M70ZODzJsgXabqyqmaqaWb58+VjrlKRD2UQHRZKjk6SZPplevY93W5UkTZdOLz0luRY4DViWZBdwGXA4QFVdCbwV+K0ke4EfAudVVXVUriRNpU6DoqrO38/6K+g9PitJ6shEX3qSJHXPoJAktTIoJEmtDApJUiuDQpLUyqCQJLUyKCRJrQwKSVIrg0KS1MqgkCS1MigkSa0MCklSK4NCktTKoJAktTIoJEmtDApJUiuDQpLUqtOgSHJVkkeT3L/A+iT5aJKdSbYlOWncNUrStOv6jOIPgTNa1p8JHN/8bAD+YAw1SZL6dBoUVXU78ERLk/XANdVzB3BUkhXjqU6SBN2fUezPSuDhvvldzbLnSLIhyWyS2bm5ubEUJ0nTYNKDYmhVtbGqZqpqZvny5V2XI0mHjEkPit3AsX3zq5plkqQxmfSg2AS8o3n66RTgyara03VRkjRNXtjlxpNcC5wGLEuyC7gMOBygqq4ENgNnATuBHwDv6qZSSZpenQZFVZ2/n/UFvHdM5UiSBpj0S0+SpI4ZFJKkVgaFJKmVQSFJamVQSJJaGRSSpFYGhSSplUEhSWplUEiSWhkUkqRWBoUkqZVBIUlqZVBIkloZFJKkVgaFJKmVQSFJatVpUCQ5I8m3kuxMcvGA9RcmmUuytfl5dxd1StI062yEuySHAR8D3gjsAu5Osqmqdsxren1VXTT2AiVJQLdnFCcDO6vqoar6e+A6YH2H9UiSBugyKFYCD/fN72qWzffrSbYl+VySYxf6sCQbkswmmZ2bm1vqWiVpak36zewvAGuq6ueBW4CrF2pYVRuraqaqZpYvXz62AiXpUNdlUOwG+s8QVjXLfqyqHq+qZ5rZTwCvG1NtkqRGl0FxN3B8kuOSHAGcB2zqb5BkRd/sOcADY6xPkkSHTz1V1d4kFwE3A4cBV1XV9iQfAmarahPwviTnAHuBJ4ALu6pXkqZVZ0EBUFWbgc3zll3aN/1B4IPjrkuS9BOTfjNbktQxg0KS1MqgkCS1MigkSa2GCook7x9mmSTp0DPsGcU7Byy7cAnrkCRNqNbHY5OcD1wAHJek/2W4I+m91yBJOsTt7z2KbwB7gGXAf+1b/j1g26iKkiRNjtagqKrvAt8FTh1POZKkSTPUm9lJvgdUM3sEcDjwf6rqZaMqTJI0GYYKiqo6ct90ktAbYOiUURUlSZoci36Pono+D7xpBPVIkibMsJee3tI3+wJgBnh6JBVJkibKsL3Hvrlvei/wHRzfWpKmwrD3KN416kIkSZNp2C48XpnkC0nmkjya5MYkrxx1cZKk7g17M/szwGeBFcAxwB8D1x7sxpOckeRbSXYmuXjA+hclub5Zf2eSNQe7TUnS4gwbFC+pqk9V1d7m54+AFx/MhpMcBnwMOBNYC5yfZO28Zv8G+LuqejXw+8CHD2ab+7P2mJex9hhfDZGkfsPezP5S8xv/dfRevDsX2JzkpwGq6kD6fToZ2FlVDwEkuY7eDfIdfW3WA7/bTH8OuCJJqqoYgcvefMIoPlaSnteGDYrfaP58z7zl59ELjgO5X7ESeLhvfhewbqE2VbU3yZPAzwCPHcD2JEkHYNinno4bdSEHK8kGYAPA6tWrO65Gkg4dw55RkOQXgTX9f6eqrjmIbe8Gju2bX9UsG9RmV5IXAj8FPD7ow6pqI7ARYGZmZiSXpiRpGg37ZvangFcBW4Fnm8UFHExQ3A0cn+Q4eoFwHr2xL/ptojdo0jeBtwK3jer+hCRpsGHPKGaAtUv5Jd3cc7gIuBk4DLiqqrYn+RAwW1WbgE8Cn0qyk95ASect1fYlScMZNijuB46mN4jRkqmqzcDmecsu7Zt+GnjbUm5TkrQ4wwbFMmBHkruAZ/YtrKpzRlKVJGliDBsUvzvKIiRJk2vYx2O/OupCJEmTqTUo5g2B+v+tojeGkf1dSNIhrjUo+odAlSRNp0UPhSpJmi4GhSSplUEhSWplUEiSWhkUkqRWBoUkqZVBIUlqZVBIkloZFJKkVgaFJKmVQSFJajX0mNmSNE479jzFuR//ZtdlDLT+xJVcsG5112WMTSdBkeSngeuBNcB3gN+oqr8b0O5Z4L5m9q8dKEmaDutPXNl1CQvasecpAINiDC4G/kdVXZ7k4mb+Pw1o98OqOnG8pUnq2gXrVk/sF/GknuWMUlf3KNYDVzfTVwO/2lEdkqT96CooXl5Ve5rpvwFevkC7FyeZTXJHktYwSbKhaTs7Nze3pMVK0jQb2aWnJLcCRw9YdUn/TFVVkkGj6AG8oqp2J3klcFuS+6rqrwY1rKqNwEaAmZmZhT5PkrRIIwuKqjp9oXVJ/jbJiqrak2QF8OgCn7G7+fOhJF8BXgsMDApJ0mh0delpE/DOZvqdwI3zGyT5R0le1EwvA14P7BhbhZIkoLuguBx4Y5JvA6c38ySZSfKJps0/AWaT3At8Gbi8qgwKSRqzTh6PrarHgTcMWD4LvLuZ/gbwT8dcmiRpHrvwkCS1MigkSa0MCklSK4NCktTKoJAktTIoJEmtDApJUiuDQpLUyqCQJLUyKCRJrQwKSVIrg0KS1MqgkCS1MigkSa0MCklSK4NCktSqk6BI8rYk25P8KMlMS7szknwryc4kF4+zRklST1dnFPcDbwFuX6hBksOAjwFnAmuB85OsHU95kqR9uhoK9QGAJG3NTgZ2VtVDTdvrgPWA42ZL0hhN8j2KlcDDffO7mmUDJdmQZDbJ7Nzc3MiLk6RpMbIziiS3AkcPWHVJVd241Nurqo3ARoCZmZla6s+XpGk1sqCoqtMP8iN2A8f2za9qlkmSxmiSLz3dDRyf5LgkRwDnAZs6rkmSpk5Xj8f+WpJdwKnATUlubpYfk2QzQFXtBS4CbgYeAD5bVdu7qFeSpllXTz3dANwwYPkjwFl985uBzWMsTZI0zyRfepIkTQCDQpLUyqCQJLUyKCRJrQwKSVIrg0KS1MqgkCS1MigkSa0MCklSK4NCktTKoJAktTIoJEmtDApJUiuDQpLUyqCQJLUyKCRJrQwKSVKrroZCfVuS7Ul+lGSmpd13ktyXZGuS2XHWKEnq6WQoVOB+4C3Ax4do+y+q6rER1yNJWkBXY2Y/AJCki81LkhZh0u9RFPDnSbYk2dDWMMmGJLNJZufm5sZUniQd+kZ2RpHkVuDoAasuqaobh/yYX6qq3Un+MXBLkger6vZBDatqI7ARYGZmpg6oaEnSc4wsKKrq9CX4jN3Nn48muQE4GRgYFJKk0ZjYS09J/mGSI/dNA/+S3k1wSdIYdfV47K8l2QWcCtyU5OZm+TFJNjfNXg58Lcm9wF3ATVX1Z13UK0nTrKunnm4Abhiw/BHgrGb6IeAXxlyaJGmeib30JEmaDAaFJKmVQSFJamVQSJJaGRSSpFYGhSSplUEhSWplUEiSWhkUkqRWBoUkqVVXI9xJ0vPWjj1Pce7Hv9l1Gc+x9piXcdmbT1jyzzUoJGkR1p+4susSxs6gkKRFuGDdai5Yt7rrMsbKexSSpFYGhSSplUEhSWrV1Qh3v5fkwSTbktyQ5KgF2p2R5FtJdia5eNx1SpK6O6O4BXhNVf088D+BD85vkOQw4GPAmcBa4Pwka8dapSSpm6Coqj+vqr3N7B3AqgHNTgZ2VtVDVfX3wHXA+nHVKEnqmYR7FL8JfGnA8pXAw33zu5plAyXZkGQ2yezc3NwSlyhJ02tk71EkuRU4esCqS6rqxqbNJcBe4NMHu72q2ghsBJiZmamD/TxJUs/IgqKqTm9bn+RC4GzgDVU16It9N3Bs3/yqZtl+bdmy5bEk3x2y1PmWAY8d4N8dJetanEmsaxJrAutarEO1rlcstCKDv6NHK8kZwEeAX66qgdeJkryQ3o3uN9ALiLuBC6pq+4hrm62qmVFu40BY1+JMYl2TWBNY12JNY11d3aO4AjgSuCXJ1iRXAiQ5JslmgOZm90XAzcADwGdHHRKSpOfqpK+nqnr1AssfAc7qm98MbB5XXZKk55qEp54mzcauC1iAdS3OJNY1iTWBdS3W1NXVyT0KSdLzh2cUkqRWBoUkqdXUBsX+OhxM8qIk1zfr70yyZgJqujDJXPOk2NYk7x51Tc12r0ryaJL7F1ifJB9t6t6W5KQJqeu0JE/27a9Lx1DTsUm+nGRHku1J3j+gzdj315B1dbG/XpzkriT3NnX9lwFtujgWh6mrk+Ox2fZhSf4yyRcHrFv6/VVVU/cDHAb8FfBK4AjgXmDtvDb/DriymT4PuH4CaroQuKKD/fXPgZOA+xdYfxa9blgCnALcOSF1nQZ8ccz7agVwUjN9JL13geb/O459fw1ZVxf7K8BLm+nDgTuBU+a1GeuxuIi6Ojkem23/e+Azg/69RrG/pvWMYpgOB9cDVzfTnwPekCQd19SJqrodeKKlyXrgmuq5AzgqyYoJqGvsqmpPVd3TTH+P3jtA8/soG/v+GrKusWv2wfeb2cObn/lP2Iz7WBy2rk4kWQX8K+ATCzRZ8v01rUExTIeDP25TvZf/ngR+puOaAH69uVzxuSTHDljfhUV14DhmpzaXD76U5IRxbrg55X8tvd9G+3W6v1rqgg72V3MZZSvwKHBLVS24v8Z0LA5bF3RzPP434LeBHy2wfsn317QGxfPVF4A11RvH4xZ+8luDBrsHeEVV/QLw34HPj2vDSV4K/Anwgap6alzb3Z/91NXJ/qqqZ6vqRHr9uZ2c5DXj2O7+DFHX2I/HJGcDj1bVllFvq9+0BsUwHQ7+uE16/U79FPB4lzVV1eNV9Uwz+wngdSOsZzEOuAPHUaqqp/ZdPqjeW/6HJ1k26u0mOZzel/Gnq+pPBzTpZH/tr66u9lff9v838GXgjHmrxn0sDlVXR8fj64FzknyH3uXpX0nyR/PaLPn+mtaguBs4PslxSY6gd8Nn07w2m4B3NtNvBW6r5u5QVzXNu459Dr3rzJNgE/CO5mmeU4Anq2pP10UlOXrftdkkJ9P7/32kXzDN9j4JPFBVH1mg2dj31zB1dbS/lqcZCjnJPwDeCDw4r9m4j8Wh6urieKyqD1bVqqpaQ+874raq+tfzmi35/uqkr6euVdXeJPs6HDwMuKqqtif5EDBbVZvoHVSfSrKT3g3T8yagpvclOYfeGB5P0HvqYuSSXEvviZhlSXYBl9G7uUdVXUmvP66zgJ3AD4B3TUhdbwV+K8le4IfAeaP+gqH3G9/bgfua69sAvwOs7quri/01TF1d7K8VwNXpDX38Anqdf36xy2NxEXV1cjwOMur9ZRcekqRW03rpSZI0JINCktTKoJAktTIoJEmtDApJUiuDQtqPJJc0PYhua3oJXTfm7Z82qJdQaVym8j0KaVhJTgXOptfz6jPNm8pHdFyWNFaeUUjtVgCP7euqoaoeq6pHkrwuyVeTbEly8763dJO8OsmtTcd69yR5VfMG9u8luT/JfUnObdqeluQrTYdyDyb5dN+b0Wc0y+4B3rKvmCS/nJ+Mf/CXSY4c/y7RtPGFO6lF04ne14CXALcC1wPfAL4KrK+queaL/01V9ZtJ7gQur6obkryY3i9jZwL/ll5fQcvoddeyDvhZ4EbgBOAR4OvAfwRmgW8Dv0Lv7e3rgZdU1dlJvtB8/teb2p5uegiVRsYzCqlF00ne64ANwBy9L+33AK8Bbmm6w/jPwKrmt/uVVXVD83efrqofAL8EXNv0Rvq39ELmnzWbuKuqdlXVj4CtwBrg54D/VVXfbrrQ6O/07evAR5K8DzjKkNA4eI9C2o+qehb4CvCVJPcB7wW2V9Wp/e0O8DLQM33Tz7KfY7KqLk9yE72+or6e5E1VNb8TPWlJeUYhtUjys0mO71t0Ir1eQpc3N7pJcniSE5qR43Yl+dVm+YuSvAT4C+Dc9AbCWU5vCNe7Wjb7ILAmyaua+fP76nlVVd1XVR+mdwnr55boP1VakEEhtXspvV5EdyTZBqwFLqXX0+qHk9xL75LRLzbt306vV9Ft9O5lHA3cAGyjNw76bcBvV9XfLLTBqnqa3qWum5qb2Y/2rf5Ac1N8G/B/6Y29LY2UN7MlSa08o5AktTIoJEmtDApJUiuDQpLUyqCQJLUyKCRJrQwKSVKr/wdGJZnrYdXUgAAAAABJRU5ErkJggg==\n"
                },
                "metadata": {
                  "needs_background": "light"
                }
              }
            ]
          }
        },
        "f2bebdb88b294bd8b1ea2c3f8e10494b": {
          "model_module": "@jupyter-widgets/base",
          "model_name": "LayoutModel",
          "model_module_version": "1.2.0",
          "state": {
            "_model_module": "@jupyter-widgets/base",
            "_model_module_version": "1.2.0",
            "_model_name": "LayoutModel",
            "_view_count": null,
            "_view_module": "@jupyter-widgets/base",
            "_view_module_version": "1.2.0",
            "_view_name": "LayoutView",
            "align_content": null,
            "align_items": null,
            "align_self": null,
            "border": null,
            "bottom": null,
            "display": null,
            "flex": null,
            "flex_flow": null,
            "grid_area": null,
            "grid_auto_columns": null,
            "grid_auto_flow": null,
            "grid_auto_rows": null,
            "grid_column": null,
            "grid_gap": null,
            "grid_row": null,
            "grid_template_areas": null,
            "grid_template_columns": null,
            "grid_template_rows": null,
            "height": null,
            "justify_content": null,
            "justify_items": null,
            "left": null,
            "margin": null,
            "max_height": null,
            "max_width": null,
            "min_height": null,
            "min_width": null,
            "object_fit": null,
            "object_position": null,
            "order": null,
            "overflow": null,
            "overflow_x": null,
            "overflow_y": null,
            "padding": null,
            "right": null,
            "top": null,
            "visibility": null,
            "width": null
          }
        },
        "8959e5a29c574d73872f2c7d73f771a6": {
          "model_module": "@jupyter-widgets/controls",
          "model_name": "FloatSliderModel",
          "model_module_version": "1.5.0",
          "state": {
            "_dom_classes": [],
            "_model_module": "@jupyter-widgets/controls",
            "_model_module_version": "1.5.0",
            "_model_name": "FloatSliderModel",
            "_view_count": null,
            "_view_module": "@jupyter-widgets/controls",
            "_view_module_version": "1.5.0",
            "_view_name": "FloatSliderView",
            "continuous_update": true,
            "description": "Input",
            "description_tooltip": null,
            "disabled": false,
            "layout": "IPY_MODEL_d485bfb704fe42c0901840119e34b869",
            "max": 3.14,
            "min": -3.14,
            "orientation": "horizontal",
            "readout": true,
            "readout_format": ".2f",
            "step": 0.1,
            "style": "IPY_MODEL_dd2957a76f1342f1afe5bdc8653b6c3a",
            "value": -1.84
          }
        },
        "de3f5b46a186484f8b181770d1f0892b": {
          "model_module": "@jupyter-widgets/base",
          "model_name": "LayoutModel",
          "model_module_version": "1.2.0",
          "state": {
            "_model_module": "@jupyter-widgets/base",
            "_model_module_version": "1.2.0",
            "_model_name": "LayoutModel",
            "_view_count": null,
            "_view_module": "@jupyter-widgets/base",
            "_view_module_version": "1.2.0",
            "_view_name": "LayoutView",
            "align_content": null,
            "align_items": null,
            "align_self": null,
            "border": null,
            "bottom": null,
            "display": null,
            "flex": null,
            "flex_flow": null,
            "grid_area": null,
            "grid_auto_columns": null,
            "grid_auto_flow": null,
            "grid_auto_rows": null,
            "grid_column": null,
            "grid_gap": null,
            "grid_row": null,
            "grid_template_areas": null,
            "grid_template_columns": null,
            "grid_template_rows": null,
            "height": null,
            "justify_content": null,
            "justify_items": null,
            "left": null,
            "margin": null,
            "max_height": null,
            "max_width": null,
            "min_height": null,
            "min_width": null,
            "object_fit": null,
            "object_position": null,
            "order": null,
            "overflow": null,
            "overflow_x": null,
            "overflow_y": null,
            "padding": null,
            "right": null,
            "top": null,
            "visibility": null,
            "width": null
          }
        },
        "d485bfb704fe42c0901840119e34b869": {
          "model_module": "@jupyter-widgets/base",
          "model_name": "LayoutModel",
          "model_module_version": "1.2.0",
          "state": {
            "_model_module": "@jupyter-widgets/base",
            "_model_module_version": "1.2.0",
            "_model_name": "LayoutModel",
            "_view_count": null,
            "_view_module": "@jupyter-widgets/base",
            "_view_module_version": "1.2.0",
            "_view_name": "LayoutView",
            "align_content": null,
            "align_items": null,
            "align_self": null,
            "border": null,
            "bottom": null,
            "display": null,
            "flex": null,
            "flex_flow": null,
            "grid_area": null,
            "grid_auto_columns": null,
            "grid_auto_flow": null,
            "grid_auto_rows": null,
            "grid_column": null,
            "grid_gap": null,
            "grid_row": null,
            "grid_template_areas": null,
            "grid_template_columns": null,
            "grid_template_rows": null,
            "height": null,
            "justify_content": null,
            "justify_items": null,
            "left": null,
            "margin": null,
            "max_height": null,
            "max_width": null,
            "min_height": null,
            "min_width": null,
            "object_fit": null,
            "object_position": null,
            "order": null,
            "overflow": null,
            "overflow_x": null,
            "overflow_y": null,
            "padding": null,
            "right": null,
            "top": null,
            "visibility": null,
            "width": null
          }
        },
        "dd2957a76f1342f1afe5bdc8653b6c3a": {
          "model_module": "@jupyter-widgets/controls",
          "model_name": "SliderStyleModel",
          "model_module_version": "1.5.0",
          "state": {
            "_model_module": "@jupyter-widgets/controls",
            "_model_module_version": "1.5.0",
            "_model_name": "SliderStyleModel",
            "_view_count": null,
            "_view_module": "@jupyter-widgets/base",
            "_view_module_version": "1.2.0",
            "_view_name": "StyleView",
            "description_width": "",
            "handle_color": null
          }
        },
        "dd2c1bcf8e334bf4bede0390c434a1a5": {
          "model_module": "@jupyter-widgets/base",
          "model_name": "LayoutModel",
          "model_module_version": "1.2.0",
          "state": {
            "_model_module": "@jupyter-widgets/base",
            "_model_module_version": "1.2.0",
            "_model_name": "LayoutModel",
            "_view_count": null,
            "_view_module": "@jupyter-widgets/base",
            "_view_module_version": "1.2.0",
            "_view_name": "LayoutView",
            "align_content": null,
            "align_items": null,
            "align_self": null,
            "border": null,
            "bottom": null,
            "display": null,
            "flex": null,
            "flex_flow": null,
            "grid_area": null,
            "grid_auto_columns": null,
            "grid_auto_flow": null,
            "grid_auto_rows": null,
            "grid_column": null,
            "grid_gap": null,
            "grid_row": null,
            "grid_template_areas": null,
            "grid_template_columns": null,
            "grid_template_rows": null,
            "height": null,
            "justify_content": null,
            "justify_items": null,
            "left": null,
            "margin": null,
            "max_height": null,
            "max_width": null,
            "min_height": null,
            "min_width": null,
            "object_fit": null,
            "object_position": null,
            "order": null,
            "overflow": null,
            "overflow_x": null,
            "overflow_y": null,
            "padding": null,
            "right": null,
            "top": null,
            "visibility": null,
            "width": null
          }
        },
        "5e4e0b50092849168036b6402d1b0938": {
          "model_module": "@jupyter-widgets/controls",
          "model_name": "HBoxModel",
          "model_module_version": "1.5.0",
          "state": {
            "_dom_classes": [],
            "_model_module": "@jupyter-widgets/controls",
            "_model_module_version": "1.5.0",
            "_model_name": "HBoxModel",
            "_view_count": null,
            "_view_module": "@jupyter-widgets/controls",
            "_view_module_version": "1.5.0",
            "_view_name": "HBoxView",
            "box_style": "",
            "children": [
              "IPY_MODEL_c8bf77d58b0d4e76bdeb7ac03a205f51",
              "IPY_MODEL_18ab1ccbbb434bb792bd4306860e75e3"
            ],
            "layout": "IPY_MODEL_ef90c402387a4d59a8efd3a09556a047"
          }
        },
        "c8bf77d58b0d4e76bdeb7ac03a205f51": {
          "model_module": "@jupyter-widgets/output",
          "model_name": "OutputModel",
          "model_module_version": "1.0.0",
          "state": {
            "_dom_classes": [],
            "_model_module": "@jupyter-widgets/output",
            "_model_module_version": "1.0.0",
            "_model_name": "OutputModel",
            "_view_count": null,
            "_view_module": "@jupyter-widgets/output",
            "_view_module_version": "1.0.0",
            "_view_name": "OutputView",
            "layout": "IPY_MODEL_d1a6273aaf244fa0a961c2f25487e90f",
            "msg_id": "",
            "outputs": [
              {
                "output_type": "display_data",
                "data": {
                  "text/plain": "<IPython.core.display.HTML object>",
                  "text/html": "<video width=\"360\" height=\"288\" controls autoplay loop>\n  <source type=\"video/mp4\" src=\"data:video/mp4;base64,AAAAHGZ0eXBNNFYgAAACAGlzb21pc28yYXZjMQAAAAhmcmVlAABo7G1kYXQAAAKuBgX//6rcRem9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\nMA==\n\">\n  Your browser does not support the video tag.\n</video>"
                },
                "metadata": {}
              }
            ]
          }
        },
        "18ab1ccbbb434bb792bd4306860e75e3": {
          "model_module": "@jupyter-widgets/output",
          "model_name": "OutputModel",
          "model_module_version": "1.0.0",
          "state": {
            "_dom_classes": [],
            "_model_module": "@jupyter-widgets/output",
            "_model_module_version": "1.0.0",
            "_model_name": "OutputModel",
            "_view_count": null,
            "_view_module": "@jupyter-widgets/output",
            "_view_module_version": "1.0.0",
            "_view_name": "OutputView",
            "layout": "IPY_MODEL_8849752f920b4b57a46734526260f7c7",
            "msg_id": "",
            "outputs": [
              {
                "output_type": "display_data",
                "data": {
                  "text/plain": "<IPython.core.display.HTML object>",
                  "text/html": "<video width=\"432\" height=\"288\" controls autoplay loop>\n  <source type=\"video/mp4\" src=\"data:video/mp4;base64,AAAAHGZ0eXBNNFYgAAACAGlzb21pc28yYXZjMQAAAAhmcmVlAABw2G1kYXQAAAKuBgX//6rcRem9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\n\">\n  Your browser does not support the video tag.\n</video>"
                },
                "metadata": {}
              }
            ]
          }
        },
        "ef90c402387a4d59a8efd3a09556a047": {
          "model_module": "@jupyter-widgets/base",
          "model_name": "LayoutModel",
          "model_module_version": "1.2.0",
          "state": {
            "_model_module": "@jupyter-widgets/base",
            "_model_module_version": "1.2.0",
            "_model_name": "LayoutModel",
            "_view_count": null,
            "_view_module": "@jupyter-widgets/base",
            "_view_module_version": "1.2.0",
            "_view_name": "LayoutView",
            "align_content": null,
            "align_items": null,
            "align_self": null,
            "border": null,
            "bottom": null,
            "display": null,
            "flex": null,
            "flex_flow": null,
            "grid_area": null,
            "grid_auto_columns": null,
            "grid_auto_flow": null,
            "grid_auto_rows": null,
            "grid_column": null,
            "grid_gap": null,
            "grid_row": null,
            "grid_template_areas": null,
            "grid_template_columns": null,
            "grid_template_rows": null,
            "height": null,
            "justify_content": null,
            "justify_items": null,
            "left": null,
            "margin": null,
            "max_height": null,
            "max_width": null,
            "min_height": null,
            "min_width": null,
            "object_fit": null,
            "object_position": null,
            "order": null,
            "overflow": null,
            "overflow_x": null,
            "overflow_y": null,
            "padding": null,
            "right": null,
            "top": null,
            "visibility": null,
            "width": null
          }
        },
        "d1a6273aaf244fa0a961c2f25487e90f": {
          "model_module": "@jupyter-widgets/base",
          "model_name": "LayoutModel",
          "model_module_version": "1.2.0",
          "state": {
            "_model_module": "@jupyter-widgets/base",
            "_model_module_version": "1.2.0",
            "_model_name": "LayoutModel",
            "_view_count": null,
            "_view_module": "@jupyter-widgets/base",
            "_view_module_version": "1.2.0",
            "_view_name": "LayoutView",
            "align_content": null,
            "align_items": null,
            "align_self": null,
            "border": "1px solid black",
            "bottom": null,
            "display": null,
            "flex": null,
            "flex_flow": null,
            "grid_area": null,
            "grid_auto_columns": null,
            "grid_auto_flow": null,
            "grid_auto_rows": null,
            "grid_column": null,
            "grid_gap": null,
            "grid_row": null,
            "grid_template_areas": null,
            "grid_template_columns": null,
            "grid_template_rows": null,
            "height": null,
            "justify_content": null,
            "justify_items": null,
            "left": null,
            "margin": null,
            "max_height": null,
            "max_width": null,
            "min_height": null,
            "min_width": null,
            "object_fit": null,
            "object_position": null,
            "order": null,
            "overflow": null,
            "overflow_x": null,
            "overflow_y": null,
            "padding": null,
            "right": null,
            "top": null,
            "visibility": null,
            "width": null
          }
        },
        "8849752f920b4b57a46734526260f7c7": {
          "model_module": "@jupyter-widgets/base",
          "model_name": "LayoutModel",
          "model_module_version": "1.2.0",
          "state": {
            "_model_module": "@jupyter-widgets/base",
            "_model_module_version": "1.2.0",
            "_model_name": "LayoutModel",
            "_view_count": null,
            "_view_module": "@jupyter-widgets/base",
            "_view_module_version": "1.2.0",
            "_view_name": "LayoutView",
            "align_content": null,
            "align_items": null,
            "align_self": null,
            "border": "1px solid black",
            "bottom": null,
            "display": null,
            "flex": null,
            "flex_flow": null,
            "grid_area": null,
            "grid_auto_columns": null,
            "grid_auto_flow": null,
            "grid_auto_rows": null,
            "grid_column": null,
            "grid_gap": null,
            "grid_row": null,
            "grid_template_areas": null,
            "grid_template_columns": null,
            "grid_template_rows": null,
            "height": null,
            "justify_content": null,
            "justify_items": null,
            "left": null,
            "margin": null,
            "max_height": null,
            "max_width": null,
            "min_height": null,
            "min_width": null,
            "object_fit": null,
            "object_position": null,
            "order": null,
            "overflow": null,
            "overflow_x": null,
            "overflow_y": null,
            "padding": null,
            "right": null,
            "top": null,
            "visibility": null,
            "width": null
          }
        }
      }
    }
  },
  "cells": [
    {
      "cell_type": "markdown",
      "metadata": {
        "id": "view-in-github",
        "colab_type": "text"
      },
      "source": [
        "<a href=\"https://colab.research.google.com/github/bradygm/PID-controller-simulator/blob/main/PID_controller_explorer.ipynb\" target=\"_parent\"><img src=\"https://colab.research.google.com/assets/colab-badge.svg\" alt=\"Open In Colab\"/></a>"
      ]
    },
    {
      "cell_type": "markdown",
      "source": [
        "# RoboLaunch Workshop Series: Intuitive PID Control\n",
        "\n",
        "Link to recording: will be updated after live workshop session \n",
        "<!-- ![](https://drive.google.com/uc?export=view&id=1jj4E63su7JoKRsCWAJ73ZGNPCLApBT6a) -->"
      ],
      "metadata": {
        "id": "UDZS1MekRVAt"
      }
    },
    {
      "cell_type": "markdown",
      "source": [
        "### Quick Google Colab Intro\n",
        "\n",
        "A notebook is a list of cells. Cells contain either explanatory text or executable code and its output. Click a cell to select it.\n",
        "\n",
        "Below is a **code cell** that prints \"Hello World!\". Click in the cell to select it and execute the contents in one of the following ways:\n",
        "\n",
        "* Click the **Play icon** in the left gutter of the cell;\n",
        "* Type **Cmd/Ctrl+Enter** to run the cell in place;\n",
        "* Type **Shift+Enter** to run the cell and move focus to the next cell (adding one if none exists); "
      ],
      "metadata": {
        "id": "QFl6FISBehnF"
      }
    },
    {
      "cell_type": "code",
      "source": [
        "# This is a comment\n",
        "print('Hello World!')"
      ],
      "metadata": {
        "id": "THIEZraYXlv7",
        "colab": {
          "base_uri": "https://localhost:8080/"
        },
        "outputId": "c4ade275-46f1-4e1f-9d68-96ff21d87d25"
      },
      "execution_count": null,
      "outputs": [
        {
          "output_type": "stream",
          "name": "stdout",
          "text": [
            "Hello World!\n"
          ]
        }
      ]
    },
    {
      "cell_type": "markdown",
      "source": [
        "Did you see the code cell print \"Hello World!\"? Great!"
      ],
      "metadata": {
        "id": "8qyUq9qWMaGU"
      }
    },
    {
      "cell_type": "markdown",
      "source": [
        "# Example 1: Single link robot arm\n",
        "\n",
        "Just a stick with one actuated joint. They could have a slider that affects the commanded joint angle and then they see how the robot arm rotates to that angle. \n",
        "\n",
        "Physics would be very simple, as we could ignore gravity if arm is in x,y plane. They could even modify the mass of the arm to see how it affects the controller, but might be beyond the scope of this workshop. But we could have a section at the end that gives people ideas of things they could do if they want to explore it more and try other things. \n",
        "\n",
        "We could also hide away some of the code maybe, or maybe even remove classes?\n"
      ],
      "metadata": {
        "id": "_vn6vrSAh4YU"
      }
    },
    {
      "cell_type": "markdown",
      "source": [
        "#### Import and helpers statements (explain)"
      ],
      "metadata": {
        "id": "1DDlkp5X8qeW"
      }
    },
    {
      "cell_type": "markdown",
      "source": [
        "##### Imports"
      ],
      "metadata": {
        "id": "Woh5Jc7QA5iE"
      }
    },
    {
      "cell_type": "code",
      "source": [
        "import numpy as np\n",
        "import matplotlib.pyplot as plt\n",
        "from matplotlib.animation import FuncAnimation\n",
        "import matplotlib.animation as animation\n",
        "import math\n",
        "from IPython.display import HTML, Javascript\n",
        "from scipy import interpolate\n",
        "from ipywidgets import interact, interactive, fixed, interact_manual, Video\n",
        "import ipywidgets as widgets\n",
        "import time"
      ],
      "metadata": {
        "id": "3SI5I_eO8U25"
      },
      "execution_count": 3,
      "outputs": []
    },
    {
      "cell_type": "markdown",
      "source": [
        "##### CustomInput Class"
      ],
      "metadata": {
        "id": "9HJDEOTMA8Au"
      }
    },
    {
      "cell_type": "code",
      "source": [
        "class CustomInput:\n",
        "\n",
        "    def __init__(self, min_val, max_val):\n",
        "        self.a = widgets.FloatSlider(description='Input',min=min_val, max=max_val)\n",
        "        self.values = []\n",
        "        self.xhist = []\n",
        "        self.yhist = []\n",
        "\n",
        "        self.start_time = -1.0\n",
        "        self.first_time = True\n",
        "\n",
        "    def f(self, a):\n",
        "        if self.first_time:\n",
        "            self.first_time = False\n",
        "            plt.plot(self.xhist, self.yhist)\n",
        "            plt.xlabel(\"Seconds\")\n",
        "            plt.ylabel(\"Input\")\n",
        "            return\n",
        "\n",
        "        if self.start_time == -1.0:\n",
        "            self.start_time = time.time()\n",
        "\n",
        "        self.xhist.append(time.time()-self.start_time)\n",
        "        self.yhist.append(a)\n",
        "        self.values.append([a, time.time()-self.start_time])\n",
        "        plt.plot(self.xhist, self.yhist, drawstyle=\"steps-pre\")\n",
        "        plt.xlabel(\"Seconds\")\n",
        "        plt.ylabel(\"Input\")\n",
        "\n",
        "    \n",
        "    def record(self):\n",
        "        self.values = []\n",
        "        self.xhist = []\n",
        "        self.yhist = []\n",
        "\n",
        "        self.start_time = -1.0\n",
        "        self.first_time = True\n",
        "\n",
        "        out = widgets.interactive_output(self.f, {'a': self.a})\n",
        "\n",
        "        # vid_out = widgets.Output(layout={'border': '1px solid black'})\n",
        "        # with vid_out:\n",
        "        #     display(Video.from_file(\"animation.mp4\", play=True))\n",
        "\n",
        "\n",
        "\n",
        "        # widgets.HBox([widgets.VBox([a]), out, vid_out])\n",
        "        return widgets.HBox([widgets.VBox([self.a]), out])\n",
        "\n",
        "\n"
      ],
      "metadata": {
        "id": "BW69LUUuV8iC"
      },
      "execution_count": 24,
      "outputs": []
    },
    {
      "cell_type": "code",
      "source": [
        "#############################################\n",
        "# Display the results\n",
        "def display_results():\n",
        "    fig = plt.figure(figsize=(5, 4))\n",
        "    ax = fig.add_subplot(autoscale_on=False, xlim=(-1.2, 1.2), ylim=(-1.2, 1.2))\n",
        "    ax.set_aspect('equal')\n",
        "\n",
        "    line, = ax.plot([], [], 'o-', lw=6)\n",
        "    time_template = 'time = %.1fs'\n",
        "    time_text = ax.text(0.05, 0.9, '', transform=ax.transAxes)\n",
        "\n",
        "\n",
        "    def animate_arm(i):\n",
        "        thisx = [0, np.sin(ang_hist[i])]\n",
        "        thisy = [0, np.cos(ang_hist[i])]\n",
        "\n",
        "        line.set_data(thisx, thisy)\n",
        "        time_text.set_text(time_template % (i*myRobotArm.timestep))\n",
        "        return line, time_text\n",
        "\n",
        "    ani_arm_vid = animation.FuncAnimation(\n",
        "        fig, animate_arm, len(ang_hist), interval=myRobotArm.timestep*1000, blit=True)\n",
        "    plt.close()\n",
        "\n",
        "\n",
        "    fig = plt.figure(figsize=(6, 4))\n",
        "    ax = fig.add_subplot(autoscale_on=False, xlim=(0, end_time), ylim=(-np.pi, np.pi))\n",
        "    plt.title(\"Arm Angle and Goal Angle\")\n",
        "    plt.xlabel(\"Seconds\")\n",
        "    plt.ylabel(\"Angle (Radians)\")\n",
        "    ax.grid()\n",
        "\n",
        "    line2, = ax.plot([], [], '--', lw=2)\n",
        "    line2.set_label('Arm Angle')\n",
        "    line3, = ax.plot(time_list[0], ang_hist[0], 'o', lw=2)\n",
        "    line4, = ax.plot(time_list[0:list_len-1], goal_ang_interp[0:list_len-1], '--', lw=2)\n",
        "    line4.set_label('Arm Goal Angle')\n",
        "    time_template2 = 'time = %.1fs'\n",
        "    time_text2 = ax.text(0.05, 0.9, '', transform=ax.transAxes)\n",
        "    # ax.legend()\n",
        "\n",
        "\n",
        "    def animate_arm2(i):\n",
        "        line2.set_data(time_list[0:i], ang_hist[0:i])\n",
        "        line3.set_data(time_list[i], ang_hist[i])\n",
        "        time_text2.set_text(time_template2 % (i*myRobotArm.timestep))\n",
        "\n",
        "        return line2, time_text2\n",
        "\n",
        "    ani_arm_vid2 = animation.FuncAnimation(\n",
        "        fig, animate_arm2, len(ang_hist), interval=myRobotArm.timestep*1000, blit=True)\n",
        "    plt.close()\n",
        "\n",
        "    #################################\n",
        "    # display each animation next to each other\n",
        "    window1 = widgets.Output(layout={'border': '1px solid black'})\n",
        "    window2 = widgets.Output(layout={'border': '1px solid black'})\n",
        "    start = time.time()\n",
        "    with window1:\n",
        "        if animate_sim:\n",
        "            display(HTML(ani_arm_vid.to_html5_video()))\n",
        "    with window2:\n",
        "        if animate_plots:\n",
        "            display(HTML(ani_arm_vid2.to_html5_video()))\n",
        "        else:\n",
        "            fig = plt.figure(figsize=(6, 4))\n",
        "            ax = fig.add_subplot(autoscale_on=False, xlim=(0, end_time), ylim=(-np.pi, np.pi))\n",
        "            ax.grid()\n",
        "            plt.title(\"Arm Angle and Goal Angle\")\n",
        "            plt.xlabel(\"Seconds\")\n",
        "            plt.ylabel(\"Angle (Radians)\")\n",
        "            line2, = ax.plot(time_list[0:list_len-1], goal_ang_interp[0:list_len-1], '--', lw=2)\n",
        "            line2.set_label('Arm Goal Angle')\n",
        "            line3, = ax.plot(time_list[0:list_len-1], ang_hist[0:list_len-1], '--', lw=2)\n",
        "            line3.set_label('Arm Angle')\n",
        "            ax.legend()\n",
        "            plt.show()\n",
        "        \n",
        "    print(time.time()-start)\n",
        "\n",
        "\n",
        "\n",
        "    # widgets.HBox([widgets.VBox([a]), out, vid_out])\n",
        "    return widgets.HBox([window1, window2])\n",
        "    # FFwriter = animation.FFMpegWriter()\n",
        "    # ani.save('animation.mp4', writer = FFwriter)\n",
        "\n",
        "def interp_values(values, end_time, dt):\n",
        "    values_t = np.array(values)\n",
        "    f = interpolate.interp1d(values_t[:,1], values_t[:,0], kind='previous', fill_value=\"extrapolate\")\n",
        "    time_list = np.arange(0, end_time, dt)\n",
        "    return f(time_list)"
      ],
      "metadata": {
        "id": "jMJtWA2e7jBN"
      },
      "execution_count": 69,
      "outputs": []
    },
    {
      "cell_type": "markdown",
      "source": [
        "#### Create your own input for the arm"
      ],
      "metadata": {
        "id": "_595CnaIV9hv"
      }
    },
    {
      "cell_type": "code",
      "source": [
        "custom_torques = CustomInput(-1,1)\n",
        "custom_torques.record()"
      ],
      "metadata": {
        "colab": {
          "base_uri": "https://localhost:8080/",
          "height": 279,
          "referenced_widgets": [
            "eb556ced6df4489b9866f2565b67a27f",
            "5e19c62999b14d67a3dc0b4dad1f44dd",
            "4e412dbe075b46c9b37bcbaabdb64e54",
            "c0d6447bcae645e3817370665cb54c2b",
            "e1d739b845154e278b26c988b22c4210",
            "c9c5e7cee6ce4283826d8e8f28d8d565",
            "4370930d91804379ac784b96f17d49ee",
            "198d9595a4464b0d8cf7b7574e5b64d6",
            "574e788c736b4441abc8be8a7165731d"
          ]
        },
        "id": "uqxBxRgk9E3R",
        "outputId": "d47f09f8-6124-4a39-a94d-8da04503d80d"
      },
      "execution_count": 25,
      "outputs": [
        {
          "output_type": "display_data",
          "data": {
            "text/plain": [
              "HBox(children=(VBox(children=(FloatSlider(value=0.0, description='Input', max=1.0, min=-1.0),)), Output()))"
            ],
            "application/vnd.jupyter.widget-view+json": {
              "version_major": 2,
              "version_minor": 0,
              "model_id": "eb556ced6df4489b9866f2565b67a27f"
            }
          },
          "metadata": {}
        }
      ]
    },
    {
      "cell_type": "code",
      "source": [
        "custom_goal_angle = CustomInput(-3.14,3.14)\n",
        "custom_goal_angle.record()"
      ],
      "metadata": {
        "colab": {
          "base_uri": "https://localhost:8080/",
          "height": 279,
          "referenced_widgets": [
            "0cd687ffa5154b5c9e3fe290f700f2bf",
            "c418ed4603d342e2a13202be8161993b",
            "4061aa476a3b4eb8ae9bcae88ab444dc",
            "f2bebdb88b294bd8b1ea2c3f8e10494b",
            "8959e5a29c574d73872f2c7d73f771a6",
            "de3f5b46a186484f8b181770d1f0892b",
            "d485bfb704fe42c0901840119e34b869",
            "dd2957a76f1342f1afe5bdc8653b6c3a",
            "dd2c1bcf8e334bf4bede0390c434a1a5"
          ]
        },
        "id": "qkCnKaY0B9SQ",
        "outputId": "904176ef-04c2-4260-e546-0313a8b05e3c"
      },
      "execution_count": 60,
      "outputs": [
        {
          "output_type": "display_data",
          "data": {
            "text/plain": [
              "HBox(children=(VBox(children=(FloatSlider(value=0.0, description='Input', max=3.14, min=-3.14),)), Output()))"
            ],
            "application/vnd.jupyter.widget-view+json": {
              "version_major": 2,
              "version_minor": 0,
              "model_id": "0cd687ffa5154b5c9e3fe290f700f2bf"
            }
          },
          "metadata": {}
        }
      ]
    },
    {
      "cell_type": "markdown",
      "source": [
        "#### Controller\n"
      ],
      "metadata": {
        "id": "AkJOel0h_S0H"
      }
    },
    {
      "cell_type": "code",
      "source": [
        "class PID_Controller:\n",
        "\n",
        "    def __init__(self, k_p=1, k_i=0, k_d=0):\n",
        "        self.control_limit = 0 #not currently used\n",
        "        self.error_sum = 0\n",
        "\n",
        "        self.k_p = k_p\n",
        "        self.k_i = k_i\n",
        "        self.k_d = k_d\n",
        "\n",
        "    def p_control(self, desired_position, current_position):\n",
        "        error = desired_position-current_position\n",
        "        return self.k_p*error\n",
        "\n",
        "    def pd_control(self, desired_position, current_position, current_velocity):\n",
        "        error = desired_position-current_position\n",
        "        return self.k_p*error - self.k_d*current_velocity\n",
        "\n",
        "    def pid_control(self, desired_position, current_position, current_velocity):\n",
        "        error = desired_position-current_position\n",
        "        self.error_sum += error\n",
        "        return self.k_p*error + self.k_i*self.error_sum - self.k_d*current_velocity"
      ],
      "metadata": {
        "id": "rtCcEklj5McZ"
      },
      "execution_count": 14,
      "outputs": []
    },
    {
      "cell_type": "code",
      "source": [
        "# @markdown # Robot Arm Parameters { display-mode: \"form\" }\n",
        "# @markdown You can adjust parameters using the slides and form below.\n",
        "# @markdown This is pretty fun to interact with. Remember to run this \n",
        "# @markdown cell after you pick new parameters.\n",
        "\n",
        "# @markdown ---\n",
        "# @markdown ### Physical Parameters:\n",
        "\n",
        "import numpy as np\n",
        "\n",
        "class RobotArm:\n",
        "\n",
        "    def __init__(self, start_angle, timestep):\n",
        "        self.mass = 1.1 #@param{type:\"slider\", min:0.1, max:3, step:0.1}\n",
        "        self.length = 1 #@param\n",
        "        \n",
        "        self.state = np.array([start_angle, 0.0])\n",
        "        # self.ang_position = start_angle\n",
        "        # self.ang_velocity = 0\n",
        "\n",
        "        self.damping = 0.1 #@param\n",
        "        self.gravity_on = False #@param{type:\"boolean\"}\n",
        "        self.gravity = 9.8\n",
        "\n",
        "        # @markdown ---\n",
        "        # @markdown ### Simulation Parameters:\n",
        "        self.timestep = timestep\n",
        "\n",
        "    def state_derivative(self, state, torque):\n",
        "        ang_position = state[0]\n",
        "        ang_velocity = state[1]\n",
        "        if self.gravity_on:\n",
        "            accelaration = (3/self.mass/self.length**2)*(torque - self.damping*ang_velocity + self.mass*self.gravity*self.length/2*np.sin(ang_position))\n",
        "        else:\n",
        "            accelaration = 3*(torque-ang_velocity*self.damping)/(self.mass*self.length**2)\n",
        "\n",
        "        return np.array([ang_velocity, accelaration])\n",
        "        \n",
        "        \n",
        "    def step_forward(self, torque): \n",
        "        # Using Runge-Kutta algorithm\n",
        "        k1 = self.state_derivative(self.state, torque)\n",
        "        k2 = self.state_derivative(self.state + self.timestep/2*k1, torque)\n",
        "        k3 = self.state_derivative(self.state + self.timestep/2*k2, torque)\n",
        "        k4 = self.state_derivative(self.state + self.timestep*k3, torque)\n",
        "        self.state = self.state + self.timestep/6 * (k1 + 2*k2 + 2*k3 + k4)\n",
        "\n",
        "        # Euler method not stable\n",
        "        # self.ang_position = self.ang_position + self.timestep*self.ang_velocity\n",
        "        # self.ang_velocity = self.ang_velocity + self.timestep*accelaration\n",
        "\n",
        "    def angle_wrap(self, ang):\n",
        "        return (ang + np.pi) % (2 * np.pi) - np.pi\n",
        "\n",
        "    def get_ang_position(self):\n",
        "        return self.state[0]\n",
        "    \n",
        "    def get_ang_velocity(self):\n",
        "        return self.state[1]\n",
        "\n",
        "    \n"
      ],
      "metadata": {
        "id": "MRqZwSiC4fmP",
        "cellView": "form"
      },
      "execution_count": 27,
      "outputs": []
    },
    {
      "cell_type": "code",
      "source": [
        "\n",
        "\n",
        "\n",
        "end_time = 10.0 #@param{type:\"slider\", min:5.0, max:30, step:1}\n",
        "start_angle = 0.1 #@param{type:\"slider\", min:-3.14, max:3.14, step:0.1}\n",
        "k_p = 6.71 #@param{type:\"slider\", min:0.0, max:20.0, step:0.01}\n",
        "k_i = 0.0 #@param{type:\"slider\", min:0.0, max:5.0, step:0.01}\n",
        "k_d = 1.94 #@param{type:\"slider\", min:0.0, max:5.0, step:0.01}\n",
        "dt = 0.05 #@param\n",
        "animate_plots = True #@param{type:\"boolean\"}\n",
        "animate_sim = True #@param{type:\"boolean\"}\n",
        "\n",
        "\n",
        "myRobotArm = RobotArm(start_angle, dt)\n",
        "controller = PID_Controller(k_p, k_i, k_d)\n",
        "\n",
        "# time_list = np.arange(0, end_time, dt)\n",
        "# list_len = len(time_list)\n",
        "torques_interp = interp_values(custom_torques.values, end_time, dt)\n",
        "\n",
        "goal_ang_interp = interp_values(custom_goal_angle.values, end_time, dt)\n",
        "\n",
        "\n",
        "ang_hist = []\n",
        "\n",
        "for i in range(len(torques_interp)):\n",
        "    # myRobotArm.step_forward(torques_interp[i])\n",
        "    # myRobotArm.step_forward(myRobotArm.p_control(.5))\n",
        "    myRobotArm.step_forward(controller.pd_control(goal_ang_interp[i], myRobotArm.get_ang_position(), myRobotArm.get_ang_velocity()))\n",
        "    # cur_torque = controller.pid_control(0, myRobotArm.get_ang_position(), myRobotArm.get_ang_velocity())\n",
        "    # myRobotArm.step_forward(cur_torque)\n",
        "    # myRobotArm.step_forward(0)\n",
        "    ang_hist.append(myRobotArm.get_ang_position())\n",
        "\n",
        "display_results()"
      ],
      "metadata": {
        "colab": {
          "base_uri": "https://localhost:8080/",
          "height": 328,
          "referenced_widgets": [
            "5e4e0b50092849168036b6402d1b0938",
            "c8bf77d58b0d4e76bdeb7ac03a205f51",
            "18ab1ccbbb434bb792bd4306860e75e3",
            "ef90c402387a4d59a8efd3a09556a047",
            "d1a6273aaf244fa0a961c2f25487e90f",
            "8849752f920b4b57a46734526260f7c7"
          ]
        },
        "id": "TG4jCy2XtsnM",
        "outputId": "d870e3ec-c252-4ee1-b436-aca8dd37a720",
        "cellView": "form"
      },
      "execution_count": 70,
      "outputs": [
        {
          "output_type": "stream",
          "name": "stdout",
          "text": [
            "18.52904224395752\n"
          ]
        },
        {
          "output_type": "display_data",
          "data": {
            "text/plain": [
              "HBox(children=(Output(layout=Layout(border='1px solid black')), Output(layout=Layout(border='1px solid black')…"
            ],
            "application/vnd.jupyter.widget-view+json": {
              "version_major": 2,
              "version_minor": 0,
              "model_id": "5e4e0b50092849168036b6402d1b0938"
            }
          },
          "metadata": {}
        }
      ]
    },
    {
      "cell_type": "markdown",
      "source": [
        "Try turning gravity on or off. Start at angle and see what it does. "
      ],
      "metadata": {
        "id": "eTHC0zGJts4C"
      }
    },
    {
      "cell_type": "markdown",
      "source": [
        ""
      ],
      "metadata": {
        "id": "X3hQekMjts7s"
      }
    },
    {
      "cell_type": "markdown",
      "source": [
        ""
      ],
      "metadata": {
        "id": "Zr3CnXtMttBG"
      }
    },
    {
      "cell_type": "markdown",
      "source": [
        ""
      ],
      "metadata": {
        "id": "XqebfM_ZttEA"
      }
    },
    {
      "cell_type": "markdown",
      "source": [
        "<hr>"
      ],
      "metadata": {
        "id": "UOP70tR5ttMw"
      }
    },
    {
      "cell_type": "markdown",
      "source": [
        "Then they mess around with the slider being the torque. We can then say how rather than a slider with us puting in the torque, we use a PID controller.\n",
        "\n",
        "Allow for changing the trajectory. Also a slider? How easily change? Swap out or comment out lines?"
      ],
      "metadata": {
        "id": "q3lor2EFFHYR"
      }
    },
    {
      "cell_type": "markdown",
      "source": [
        ""
      ],
      "metadata": {
        "id": "eV4_a41qW-bw"
      }
    },
    {
      "cell_type": "markdown",
      "source": [
        "# Example 2: Line following robot\n",
        "\n",
        "Could start with or maybe only have a simple straight line. Car going from left to right. They modify the starting position laterally (starting crosstrack error). Maybe move onto a more interesting track or we have a set of tracks. Would be really cool if they could draw their own paths. \n",
        "\n",
        "Ideas\n",
        "* Could have live plot showing cross track error (can be used for explaining the D or I of PID but also just fun to see)\n",
        "* Have a benchmark set for them to get a score and maybe have leaderboard optional\n",
        "* Fun parameters we could expose with sliders or text entry or could just be clearly marked in the code\n",
        "  * Vehicle speed\n",
        "  * Max turn rate/angle\n",
        "  * Look ahead distance when calculating cross track error?"
      ],
      "metadata": {
        "id": "oftknzd5jSTS"
      }
    },
    {
      "cell_type": "markdown",
      "source": [
        "# Example 3? \n",
        "Probably two is fine, and maybe even just stick to one. But having the very simple arm example in the beginning might be really nice."
      ],
      "metadata": {
        "id": "Y0ZNRs-Yj5ZO"
      }
    },
    {
      "cell_type": "markdown",
      "source": [
        "# Notes and thoughts\n",
        "\n",
        "* How allow people new to coding to even participate?\n",
        "  * Option to reveal the answers or get them somehow and copy and paste\n",
        "* Make clear what prerequisits are needed\n",
        "  * Internet Browser\n",
        "* Could have a quick intro video they watch before the workshop that gives them an overview of google colab or other background info. They then come prepared. Could have a simple notebook they go through\n",
        "* How make the quality of our presentation really good? \n",
        "  * Zoom clear background thing?\n",
        "  * OBS?\n",
        "  * Look at other examples?\n",
        "* How are we going to run the interactive portion, especially with things being hybrid?\n",
        "  * Will it be open or do they sort of follow along?\n",
        "  * How check in?\n",
        "  * Open and then run through together at end?\n",
        "  * Breakout rooms?\n",
        "    * How would that work with the recorded video?"
      ],
      "metadata": {
        "id": "RZah9QTl6TB0"
      }
    }
  ]
}