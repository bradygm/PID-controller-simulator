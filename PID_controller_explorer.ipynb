{
  "nbformat": 4,
  "nbformat_minor": 0,
  "metadata": {
    "colab": {
      "name": "PID-controller-explorer.ipynb",
      "provenance": [],
      "collapsed_sections": [
        "1DDlkp5X8qeW",
        "Woh5Jc7QA5iE",
        "9HJDEOTMA8Au"
      ],
      "toc_visible": true,
      "include_colab_link": true
    },
    "kernelspec": {
      "name": "python3",
      "display_name": "Python 3"
    },
    "language_info": {
      "name": "python"
    },
    "widgets": {
      "application/vnd.jupyter.widget-state+json": {
        "7f5cc3779d3d474fa9abb9ada3ed0293": {
          "model_module": "@jupyter-widgets/controls",
          "model_name": "HBoxModel",
          "model_module_version": "1.5.0",
          "state": {
            "_dom_classes": [],
            "_model_module": "@jupyter-widgets/controls",
            "_model_module_version": "1.5.0",
            "_model_name": "HBoxModel",
            "_view_count": null,
            "_view_module": "@jupyter-widgets/controls",
            "_view_module_version": "1.5.0",
            "_view_name": "HBoxView",
            "box_style": "",
            "children": [
              "IPY_MODEL_e96130b79dbe45b988323aafe52f94f3",
              "IPY_MODEL_a36e85d2e28e42f69ad826d06af2aeda",
              "IPY_MODEL_6e10b0904bc84415b87e0d08c367ce0f"
            ],
            "layout": "IPY_MODEL_fb067e2a9ef1487689d530c986b48d28"
          }
        },
        "e96130b79dbe45b988323aafe52f94f3": {
          "model_module": "@jupyter-widgets/output",
          "model_name": "OutputModel",
          "model_module_version": "1.0.0",
          "state": {
            "_dom_classes": [],
            "_model_module": "@jupyter-widgets/output",
            "_model_module_version": "1.0.0",
            "_model_name": "OutputModel",
            "_view_count": null,
            "_view_module": "@jupyter-widgets/output",
            "_view_module_version": "1.0.0",
            "_view_name": "OutputView",
            "layout": "IPY_MODEL_e265a71d4899454598a4c27def31a747",
            "msg_id": "",
            "outputs": []
          }
        },
        "a36e85d2e28e42f69ad826d06af2aeda": {
          "model_module": "@jupyter-widgets/output",
          "model_name": "OutputModel",
          "model_module_version": "1.0.0",
          "state": {
            "_dom_classes": [],
            "_model_module": "@jupyter-widgets/output",
            "_model_module_version": "1.0.0",
            "_model_name": "OutputModel",
            "_view_count": null,
            "_view_module": "@jupyter-widgets/output",
            "_view_module_version": "1.0.0",
            "_view_name": "OutputView",
            "layout": "IPY_MODEL_62f11b16e568413286a25e6d5bd59af0",
            "msg_id": "",
            "outputs": [
              {
                "output_type": "display_data",
                "data": {
                  "text/plain": "<Figure size 432x288 with 1 Axes>",
                  "image/png": "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\n"
                },
                "metadata": {
                  "needs_background": "light"
                }
              }
            ]
          }
        },
        "6e10b0904bc84415b87e0d08c367ce0f": {
          "model_module": "@jupyter-widgets/output",
          "model_name": "OutputModel",
          "model_module_version": "1.0.0",
          "state": {
            "_dom_classes": [],
            "_model_module": "@jupyter-widgets/output",
            "_model_module_version": "1.0.0",
            "_model_name": "OutputModel",
            "_view_count": null,
            "_view_module": "@jupyter-widgets/output",
            "_view_module_version": "1.0.0",
            "_view_name": "OutputView",
            "layout": "IPY_MODEL_271d3eca340d493b8e888bce0ce504cc",
            "msg_id": "",
            "outputs": [
              {
                "output_type": "display_data",
                "data": {
                  "text/plain": "<Figure size 432x288 with 1 Axes>",
                  "image/png": "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\n"
                },
                "metadata": {
                  "needs_background": "light"
                }
              }
            ]
          }
        },
        "fb067e2a9ef1487689d530c986b48d28": {
          "model_module": "@jupyter-widgets/base",
          "model_name": "LayoutModel",
          "model_module_version": "1.2.0",
          "state": {
            "_model_module": "@jupyter-widgets/base",
            "_model_module_version": "1.2.0",
            "_model_name": "LayoutModel",
            "_view_count": null,
            "_view_module": "@jupyter-widgets/base",
            "_view_module_version": "1.2.0",
            "_view_name": "LayoutView",
            "align_content": null,
            "align_items": null,
            "align_self": null,
            "border": null,
            "bottom": null,
            "display": null,
            "flex": null,
            "flex_flow": null,
            "grid_area": null,
            "grid_auto_columns": null,
            "grid_auto_flow": null,
            "grid_auto_rows": null,
            "grid_column": null,
            "grid_gap": null,
            "grid_row": null,
            "grid_template_areas": null,
            "grid_template_columns": null,
            "grid_template_rows": null,
            "height": null,
            "justify_content": null,
            "justify_items": null,
            "left": null,
            "margin": null,
            "max_height": null,
            "max_width": null,
            "min_height": null,
            "min_width": null,
            "object_fit": null,
            "object_position": null,
            "order": null,
            "overflow": null,
            "overflow_x": null,
            "overflow_y": null,
            "padding": null,
            "right": null,
            "top": null,
            "visibility": null,
            "width": null
          }
        },
        "e265a71d4899454598a4c27def31a747": {
          "model_module": "@jupyter-widgets/base",
          "model_name": "LayoutModel",
          "model_module_version": "1.2.0",
          "state": {
            "_model_module": "@jupyter-widgets/base",
            "_model_module_version": "1.2.0",
            "_model_name": "LayoutModel",
            "_view_count": null,
            "_view_module": "@jupyter-widgets/base",
            "_view_module_version": "1.2.0",
            "_view_name": "LayoutView",
            "align_content": null,
            "align_items": null,
            "align_self": null,
            "border": "1px solid black",
            "bottom": null,
            "display": null,
            "flex": null,
            "flex_flow": null,
            "grid_area": null,
            "grid_auto_columns": null,
            "grid_auto_flow": null,
            "grid_auto_rows": null,
            "grid_column": null,
            "grid_gap": null,
            "grid_row": null,
            "grid_template_areas": null,
            "grid_template_columns": null,
            "grid_template_rows": null,
            "height": null,
            "justify_content": null,
            "justify_items": null,
            "left": null,
            "margin": null,
            "max_height": null,
            "max_width": null,
            "min_height": null,
            "min_width": null,
            "object_fit": null,
            "object_position": null,
            "order": null,
            "overflow": null,
            "overflow_x": null,
            "overflow_y": null,
            "padding": null,
            "right": null,
            "top": null,
            "visibility": null,
            "width": null
          }
        },
        "62f11b16e568413286a25e6d5bd59af0": {
          "model_module": "@jupyter-widgets/base",
          "model_name": "LayoutModel",
          "model_module_version": "1.2.0",
          "state": {
            "_model_module": "@jupyter-widgets/base",
            "_model_module_version": "1.2.0",
            "_model_name": "LayoutModel",
            "_view_count": null,
            "_view_module": "@jupyter-widgets/base",
            "_view_module_version": "1.2.0",
            "_view_name": "LayoutView",
            "align_content": null,
            "align_items": null,
            "align_self": null,
            "border": "1px solid black",
            "bottom": null,
            "display": null,
            "flex": null,
            "flex_flow": null,
            "grid_area": null,
            "grid_auto_columns": null,
            "grid_auto_flow": null,
            "grid_auto_rows": null,
            "grid_column": null,
            "grid_gap": null,
            "grid_row": null,
            "grid_template_areas": null,
            "grid_template_columns": null,
            "grid_template_rows": null,
            "height": null,
            "justify_content": null,
            "justify_items": null,
            "left": null,
            "margin": null,
            "max_height": null,
            "max_width": null,
            "min_height": null,
            "min_width": null,
            "object_fit": null,
            "object_position": null,
            "order": null,
            "overflow": null,
            "overflow_x": null,
            "overflow_y": null,
            "padding": null,
            "right": null,
            "top": null,
            "visibility": null,
            "width": null
          }
        },
        "271d3eca340d493b8e888bce0ce504cc": {
          "model_module": "@jupyter-widgets/base",
          "model_name": "LayoutModel",
          "model_module_version": "1.2.0",
          "state": {
            "_model_module": "@jupyter-widgets/base",
            "_model_module_version": "1.2.0",
            "_model_name": "LayoutModel",
            "_view_count": null,
            "_view_module": "@jupyter-widgets/base",
            "_view_module_version": "1.2.0",
            "_view_name": "LayoutView",
            "align_content": null,
            "align_items": null,
            "align_self": null,
            "border": "1px solid black",
            "bottom": null,
            "display": null,
            "flex": null,
            "flex_flow": null,
            "grid_area": null,
            "grid_auto_columns": null,
            "grid_auto_flow": null,
            "grid_auto_rows": null,
            "grid_column": null,
            "grid_gap": null,
            "grid_row": null,
            "grid_template_areas": null,
            "grid_template_columns": null,
            "grid_template_rows": null,
            "height": null,
            "justify_content": null,
            "justify_items": null,
            "left": null,
            "margin": null,
            "max_height": null,
            "max_width": null,
            "min_height": null,
            "min_width": null,
            "object_fit": null,
            "object_position": null,
            "order": null,
            "overflow": null,
            "overflow_x": null,
            "overflow_y": null,
            "padding": null,
            "right": null,
            "top": null,
            "visibility": null,
            "width": null
          }
        },
        "2c7e875234f94d3badcb11e0f82a03c3": {
          "model_module": "@jupyter-widgets/controls",
          "model_name": "HBoxModel",
          "model_module_version": "1.5.0",
          "state": {
            "_dom_classes": [],
            "_model_module": "@jupyter-widgets/controls",
            "_model_module_version": "1.5.0",
            "_model_name": "HBoxModel",
            "_view_count": null,
            "_view_module": "@jupyter-widgets/controls",
            "_view_module_version": "1.5.0",
            "_view_name": "HBoxView",
            "box_style": "",
            "children": [
              "IPY_MODEL_8d6622c4332a45a2a76ded6beb1d4b07",
              "IPY_MODEL_e416588d91c4480f99dfdaa6d3cc4c08"
            ],
            "layout": "IPY_MODEL_995ffd0addaf4a6a8ba83d3729b04a35"
          }
        },
        "8d6622c4332a45a2a76ded6beb1d4b07": {
          "model_module": "@jupyter-widgets/controls",
          "model_name": "VBoxModel",
          "model_module_version": "1.5.0",
          "state": {
            "_dom_classes": [],
            "_model_module": "@jupyter-widgets/controls",
            "_model_module_version": "1.5.0",
            "_model_name": "VBoxModel",
            "_view_count": null,
            "_view_module": "@jupyter-widgets/controls",
            "_view_module_version": "1.5.0",
            "_view_name": "VBoxView",
            "box_style": "",
            "children": [
              "IPY_MODEL_80ffde7f938e42a1a3051126f8f161e7"
            ],
            "layout": "IPY_MODEL_3d15d7bd3fe44e1ab3fa5baaf283da09"
          }
        },
        "e416588d91c4480f99dfdaa6d3cc4c08": {
          "model_module": "@jupyter-widgets/output",
          "model_name": "OutputModel",
          "model_module_version": "1.0.0",
          "state": {
            "_dom_classes": [],
            "_model_module": "@jupyter-widgets/output",
            "_model_module_version": "1.0.0",
            "_model_name": "OutputModel",
            "_view_count": null,
            "_view_module": "@jupyter-widgets/output",
            "_view_module_version": "1.0.0",
            "_view_name": "OutputView",
            "layout": "IPY_MODEL_3e04750a6da24ac1a74a4ea435466ec3",
            "msg_id": "",
            "outputs": [
              {
                "output_type": "display_data",
                "data": {
                  "text/plain": "<Figure size 432x288 with 1 Axes>",
                  "image/png": "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\n"
                },
                "metadata": {
                  "needs_background": "light"
                }
              }
            ]
          }
        },
        "995ffd0addaf4a6a8ba83d3729b04a35": {
          "model_module": "@jupyter-widgets/base",
          "model_name": "LayoutModel",
          "model_module_version": "1.2.0",
          "state": {
            "_model_module": "@jupyter-widgets/base",
            "_model_module_version": "1.2.0",
            "_model_name": "LayoutModel",
            "_view_count": null,
            "_view_module": "@jupyter-widgets/base",
            "_view_module_version": "1.2.0",
            "_view_name": "LayoutView",
            "align_content": null,
            "align_items": null,
            "align_self": null,
            "border": null,
            "bottom": null,
            "display": null,
            "flex": null,
            "flex_flow": null,
            "grid_area": null,
            "grid_auto_columns": null,
            "grid_auto_flow": null,
            "grid_auto_rows": null,
            "grid_column": null,
            "grid_gap": null,
            "grid_row": null,
            "grid_template_areas": null,
            "grid_template_columns": null,
            "grid_template_rows": null,
            "height": null,
            "justify_content": null,
            "justify_items": null,
            "left": null,
            "margin": null,
            "max_height": null,
            "max_width": null,
            "min_height": null,
            "min_width": null,
            "object_fit": null,
            "object_position": null,
            "order": null,
            "overflow": null,
            "overflow_x": null,
            "overflow_y": null,
            "padding": null,
            "right": null,
            "top": null,
            "visibility": null,
            "width": null
          }
        },
        "80ffde7f938e42a1a3051126f8f161e7": {
          "model_module": "@jupyter-widgets/controls",
          "model_name": "FloatSliderModel",
          "model_module_version": "1.5.0",
          "state": {
            "_dom_classes": [],
            "_model_module": "@jupyter-widgets/controls",
            "_model_module_version": "1.5.0",
            "_model_name": "FloatSliderModel",
            "_view_count": null,
            "_view_module": "@jupyter-widgets/controls",
            "_view_module_version": "1.5.0",
            "_view_name": "FloatSliderView",
            "continuous_update": true,
            "description": "Input",
            "description_tooltip": null,
            "disabled": false,
            "layout": "IPY_MODEL_04e469de613d4babb6cf90c04faed1bc",
            "max": 3.14,
            "min": -3.14,
            "orientation": "horizontal",
            "readout": true,
            "readout_format": ".2f",
            "step": 0.1,
            "style": "IPY_MODEL_853c7933c6024e56939fe00da38ed48d",
            "value": -0.24
          }
        },
        "3d15d7bd3fe44e1ab3fa5baaf283da09": {
          "model_module": "@jupyter-widgets/base",
          "model_name": "LayoutModel",
          "model_module_version": "1.2.0",
          "state": {
            "_model_module": "@jupyter-widgets/base",
            "_model_module_version": "1.2.0",
            "_model_name": "LayoutModel",
            "_view_count": null,
            "_view_module": "@jupyter-widgets/base",
            "_view_module_version": "1.2.0",
            "_view_name": "LayoutView",
            "align_content": null,
            "align_items": null,
            "align_self": null,
            "border": null,
            "bottom": null,
            "display": null,
            "flex": null,
            "flex_flow": null,
            "grid_area": null,
            "grid_auto_columns": null,
            "grid_auto_flow": null,
            "grid_auto_rows": null,
            "grid_column": null,
            "grid_gap": null,
            "grid_row": null,
            "grid_template_areas": null,
            "grid_template_columns": null,
            "grid_template_rows": null,
            "height": null,
            "justify_content": null,
            "justify_items": null,
            "left": null,
            "margin": null,
            "max_height": null,
            "max_width": null,
            "min_height": null,
            "min_width": null,
            "object_fit": null,
            "object_position": null,
            "order": null,
            "overflow": null,
            "overflow_x": null,
            "overflow_y": null,
            "padding": null,
            "right": null,
            "top": null,
            "visibility": null,
            "width": null
          }
        },
        "04e469de613d4babb6cf90c04faed1bc": {
          "model_module": "@jupyter-widgets/base",
          "model_name": "LayoutModel",
          "model_module_version": "1.2.0",
          "state": {
            "_model_module": "@jupyter-widgets/base",
            "_model_module_version": "1.2.0",
            "_model_name": "LayoutModel",
            "_view_count": null,
            "_view_module": "@jupyter-widgets/base",
            "_view_module_version": "1.2.0",
            "_view_name": "LayoutView",
            "align_content": null,
            "align_items": null,
            "align_self": null,
            "border": null,
            "bottom": null,
            "display": null,
            "flex": null,
            "flex_flow": null,
            "grid_area": null,
            "grid_auto_columns": null,
            "grid_auto_flow": null,
            "grid_auto_rows": null,
            "grid_column": null,
            "grid_gap": null,
            "grid_row": null,
            "grid_template_areas": null,
            "grid_template_columns": null,
            "grid_template_rows": null,
            "height": null,
            "justify_content": null,
            "justify_items": null,
            "left": null,
            "margin": null,
            "max_height": null,
            "max_width": null,
            "min_height": null,
            "min_width": null,
            "object_fit": null,
            "object_position": null,
            "order": null,
            "overflow": null,
            "overflow_x": null,
            "overflow_y": null,
            "padding": null,
            "right": null,
            "top": null,
            "visibility": null,
            "width": null
          }
        },
        "853c7933c6024e56939fe00da38ed48d": {
          "model_module": "@jupyter-widgets/controls",
          "model_name": "SliderStyleModel",
          "model_module_version": "1.5.0",
          "state": {
            "_model_module": "@jupyter-widgets/controls",
            "_model_module_version": "1.5.0",
            "_model_name": "SliderStyleModel",
            "_view_count": null,
            "_view_module": "@jupyter-widgets/base",
            "_view_module_version": "1.2.0",
            "_view_name": "StyleView",
            "description_width": "",
            "handle_color": null
          }
        },
        "3e04750a6da24ac1a74a4ea435466ec3": {
          "model_module": "@jupyter-widgets/base",
          "model_name": "LayoutModel",
          "model_module_version": "1.2.0",
          "state": {
            "_model_module": "@jupyter-widgets/base",
            "_model_module_version": "1.2.0",
            "_model_name": "LayoutModel",
            "_view_count": null,
            "_view_module": "@jupyter-widgets/base",
            "_view_module_version": "1.2.0",
            "_view_name": "LayoutView",
            "align_content": null,
            "align_items": null,
            "align_self": null,
            "border": null,
            "bottom": null,
            "display": null,
            "flex": null,
            "flex_flow": null,
            "grid_area": null,
            "grid_auto_columns": null,
            "grid_auto_flow": null,
            "grid_auto_rows": null,
            "grid_column": null,
            "grid_gap": null,
            "grid_row": null,
            "grid_template_areas": null,
            "grid_template_columns": null,
            "grid_template_rows": null,
            "height": null,
            "justify_content": null,
            "justify_items": null,
            "left": null,
            "margin": null,
            "max_height": null,
            "max_width": null,
            "min_height": null,
            "min_width": null,
            "object_fit": null,
            "object_position": null,
            "order": null,
            "overflow": null,
            "overflow_x": null,
            "overflow_y": null,
            "padding": null,
            "right": null,
            "top": null,
            "visibility": null,
            "width": null
          }
        },
        "9ce5381d6b91494ab3d0a006bfaacf5e": {
          "model_module": "@jupyter-widgets/controls",
          "model_name": "HBoxModel",
          "model_module_version": "1.5.0",
          "state": {
            "_dom_classes": [],
            "_model_module": "@jupyter-widgets/controls",
            "_model_module_version": "1.5.0",
            "_model_name": "HBoxModel",
            "_view_count": null,
            "_view_module": "@jupyter-widgets/controls",
            "_view_module_version": "1.5.0",
            "_view_name": "HBoxView",
            "box_style": "",
            "children": [
              "IPY_MODEL_1d351701e1344abb8046451e9254033c",
              "IPY_MODEL_e2736d4bdbf94edf8ff9a84704ac8324",
              "IPY_MODEL_889c11c42cc94d998cb2d2cc345b7337"
            ],
            "layout": "IPY_MODEL_664fc97ee5d346d69f90505969ab7434"
          }
        },
        "1d351701e1344abb8046451e9254033c": {
          "model_module": "@jupyter-widgets/output",
          "model_name": "OutputModel",
          "model_module_version": "1.0.0",
          "state": {
            "_dom_classes": [],
            "_model_module": "@jupyter-widgets/output",
            "_model_module_version": "1.0.0",
            "_model_name": "OutputModel",
            "_view_count": null,
            "_view_module": "@jupyter-widgets/output",
            "_view_module_version": "1.0.0",
            "_view_name": "OutputView",
            "layout": "IPY_MODEL_1432f92a7b054ad0806705fc9c478b70",
            "msg_id": "",
            "outputs": [
              {
                "output_type": "display_data",
                "data": {
                  "text/plain": "<IPython.core.display.HTML object>",
                  "text/html": "<video width=\"360\" height=\"288\" controls autoplay loop>\n  <source type=\"video/mp4\" src=\"data:video/mp4;base64,AAAAHGZ0eXBNNFYgAAACAGlzb21pc28yYXZjMQAAAAhmcmVlAAB/NG1kYXQAAAKuBgX//6rcRem9\n5tlIt5Ys2CDZI+7veDI2NCAtIGNvcmUgMTUyIHIyODU0IGU5YTU5MDMgLSBILjI2NC9NUEVHLTQg\nQVZDIGNvZGVjIC0gQ29weWxlZnQgMjAwMy0yMDE3IC0gaHR0cDovL3d3dy52aWRlb2xhbi5vcmcv\neDI2NC5odG1sIC0gb3B0aW9uczogY2FiYWM9MSByZWY9MyBkZWJsb2NrPTE6MDowIGFuYWx5c2U9\nMHgzOjB4MTEzIG1lPWhleCBzdWJtZT03IHBzeT0xIHBzeV9yZD0xLjAwOjAuMDAgbWl4ZWRfcmVm\nPTEgbWVfcmFuZ2U9MTYgY2hyb21hX21lPTEgdHJlbGxpcz0xIDh4OGRjdD0xIGNxbT0wIGRlYWR6\nb25lPTIxLDExIGZhc3RfcHNraXA9MSBjaHJvbWFfcXBfb2Zmc2V0PS0yIHRocmVhZHM9MyBsb29r\nYWhlYWRfdGhyZWFkcz0xIHNsaWNlZF90aHJlYWRzPTAgbnI9MCBkZWNpbWF0ZT0xIGludGVybGFj\nZWQ9MCBibHVyYXlfY29tcGF0PTAgY29uc3RyYWluZWRfaW50cmE9MCBiZnJhbWVzPTMgYl9weXJh\nbWlkPTIgYl9hZGFwdD0xIGJfYmlhcz0wIGRpcmVjdD0xIHdlaWdodGI9MSBvcGVuX2dvcD0wIHdl\naWdodHA9MiBrZXlpbnQ9MjUwIGtleWludF9taW49MjAgc2NlbmVjdXQ9NDAgaW50cmFfcmVmcmVz\naD0wIHJjX2xvb2thaGVhZD00MCByYz1jcmYgbWJ0cmVlPTEgY3JmPTIzLjAgcWNvbXA9MC42MCBx\ncG1pbj0wIHFwbWF4PTY5IHFwc3RlcD00IGlwX3JhdGlvPTEuNDAgYXE9MToxLjAwAIAAAAhLZYiE\nADf//vbw/gU2O5jQlxHN6J0zH78VuLo0N73OAAADASjGxr3dTW5hOsABHsVO3IOy/mAmujOuPaL3\n0K4MHK7Kq3Ic0yeRziP91G9cvQfX1meWyoDSfrT4980aCjiWCqlFhhiWJG92tLGaTqiL1TL909j2\n0QOL2LXKZ9TWmLxJjudGkBKSaRh7DwcRGsGB357W1rYzxICY3u8eIE/tDFKsT1yD9F5BTxXvX3PP\nukXhrhlyz5UFUrPCZ2SNSjTObUHvKPAZZrWF+T7IB7MwIRymnpvZ/ksZCm/LFr9052MU9oNzxS3A\nAnniywmoiKLTWuYqMoGAvvMnGpjN1t+1D5aJy7lXSeTOAePoP0TjzBoT30U586DaKgLk+EcZXBi+\nGQNv2EDyK0fwbqiy8HDWBV2HcVj5zEUT0EeTwAJdtp7BAcil81FcyOTgczGVZktpwVfdmaW61HaD\nNF/2nDyIYsuzE5gqmGmHd7xn6RnOBNj154GtdOsn60HwFPi/GC0TrPPC9lFBsM4kpj4zUvrqmOeZ\nO8jnFF/mMzh8gW7GVg0+lD1xMXEQcSJ+UBd3K7zPq6UoPFX/NmW6bl3FCNNEoKedHoICO6/k//OR\nLTVk3n+RJhBeNXGIoZKRTjmX+I0wRVHiP5QxPVof/A/VIaH2zagkHpH7N13ssIFg8nCxtSdYl+Nw\nGVDxq/PNlg9KEKzjvZXf3I/CWIGTpa4KQOWZedt84UGbjpwwlso18+npP8VSlURUe3iJAaqKXaEn\nbyXb722xl7fnypNnO9t3/ltHrko+NMt7mohw/IvBVa0uDiOHKRe4vHVFgeeW6YAGYtrG9RhcyExc\nvM8TwGG5j/ZkCjYsMGBp9aUdVqUYgxY9f7+jLR7iScm4PuDLCMXpWxNFdny5/HnPcHjAH7RMy21i\n/00bHJYpvXcfqW6qf4xAlehcEsvBM4EQ4R13kNJJIQWABT5ODv9dVdzKwqIFYVeZEEOe5dcddwi0\njCRF1KNRFuJcPgxWN/J1wc0kXxfILqIvKPX1GCvFChBiBJEwIJaH3XouSEbBln6QxHc0GO1Rhpsv\nsGQqReChKaXrUjbVnm3Ih7WyWLQ5v+x55TcWaxS4J9Dgz8Hac0lY1WxE2dSC0XVa3s0nsHv7Byau\n+eXzJcMgX/4V15ofmGYFzshSsoE6u6jnKhyjPn7M6SmDYDTUm3e0VGWvL461eMxCfAG5/aKZyZKV\nAqsY3HR7YfSuf4TsDYGgDWQ9wNgLXPXHtknkvkB2IWT7ylrEsvARK6hJzcHvxlQnFIhSYzn3HEjM\npJPNkPnQ54QuT0QHQYIDow/rWJq+BVPDbQYd8Th4Ohvza2gzcwG/ZX7kqK4O35bQk4SgoRJvg0NE\ns1Pn5ZMHuWma3Vrmt8tHUoBxw8XIRHreHCO4a3BzIqzBMHUQfFbVFt231SJ72p0xRiEuK4NcLlZA\nGXATPm+DoYxcJMpESftp3SVfwUo67YVb6a6esrVIki7vtKeTfDk+q5fYDz1q0NmTyOIsVmkKu/4J\nbpGrNlKpi8sPyH4CKIgW2UxCZLleYUb6qhZwBGAF91IZ3XmCKSfvPZ1SJDpuN6qSsTi7+D2YQX7t\nFAnWl2vL7iGwcQJpIJe7iA4lXJGaHT/n1+kKA6esfVBmdQw1SlXM+XGq8oXxIo3wObFVSjRoT2cn\nPgu2+9rcciFVz/xF+bXlLbhiD/4a+if/NtXS6+y6nVitVkXEopi16LptZ/Jh2YJERrEoJwSzAcic\nQE65bFlasACgtISxT6u1Npz/4RoK1+C45mMwUkemWSeSL69Gtp/UUoREW5Nn9vmxoV/oxDuYc8YQ\nQ9gY//AIUBGkI56wsE7AyxvrFy73QXe38/QEbt3S7EBUmKRH9henbq56E2UdpDNXZIq7hCimZBW8\nZTC2i2NcTYmMqRBL0WXcCZfpDlaJslBW5n9k0Zq8AK2z2+lTC4HOdiwS2JlfTABMsBvG7usHI64t\nHeoE6uNT4Ru62xBEa6XZk1MhBLvjYmQZWW41HEDR1REDd1b6RKwzgosGIcbpk3kk85ONOsIfuLGx\nYvtkfXSni84iUqFNMfe7FZocNmSeA6Om8Ni6kHGhzdFgPV4NcnqqA/q2G4JQfYfpnpnw0/Zf1W6u\ndQy8YxEwNgjnPQGp897gDJsZaz9QJojNz8C3SVrq2agNRgRHx20Da1Jcj2cbK9GahkkHt8U5FVMO\nNJkwSMrJovX9HZPm+fLcmSOViAjvPC6V6/JK+Aio+YnLO0tRFqNOvPXTxeGzxHQPoxxeDeHb7Wrs\nJl9e7yPTkIMXYhM3vp5QvBj+5Fk3rFXDTqIYcMqmu+u7z4KMqgv76zODD3/7M450YM5w0p2yG0v3\n5ZrmI+UtziHz1V4zj/TuvO3nMnXB4AfYOSAyBtkCtyJbyIENQ7G/XZzySkEGOW8KtZtNZZnDWG8m\nAMSkiOjkrdtpQcXvjrUYtp1y3AMVOd5JzDh2jD6Jp2pwH+MgBtwpi3kAEYyshfgDGZyg7m+BCgb3\nIh9bmmT0aU+hDtMVRhTvicDKdX5Y/cDoVWFtDLO44rr6zj8082+W0VtvE9KBlv+fe2pyNl6U9hiX\nc5gMBh6Q+YwLNFjm0GBAaqH65rtu8s/5GFFafuq/3ckqQ99lkfChLq68B2OgFQyWjNeYWf8TrvM8\n2OsCE1PHh2qH93BP648vSop/6UfjI7qCPQvrQUrZOarnNsEUgvWRg7d9/P+6pBLttErjbcvpu5+F\n3/j1xcylE0S0bER1as7dmuNjpfMG81AcIDNVFWCFJKIUOsT0jORXDeafZLATwKk+ntpHNoxdkK2l\njdihyZAAADG4tZsAAAHqQZohbEO//qmWAY6QuALXP4/+/bDygT0/RDC1cfQQI6JplMqx4R8zIf/F\n84tGaQ/xg0Lefj9L6nL9u5bv0xo59whrQDJa2v5iYLuV31t0e5KLcchKdr0Qa7EQGElRFLtI2qbb\nv4vE7uRmFxRsKKrIAV6QiJhksbzRZ/HFrJ2auPnuXeI/osHTalQkA3YWjAeJ09jtwnmmq1T/RTJ8\n9XVFWy/g7bQXKI9e+fRs2q/3qqT+Vt6gLOeh884QNlU+C5jsiDA9210OAjqqftBRXIyemEuAQKlJ\ntefEv8Eb0uDqLeWTbWgCoaf2wF1CLoRyaUoi13EZb/el9E1rm4Y723qI3v4Zf8lgoafKaeNoXVFE\nR8FeT65rJJlC6LZZf83j6SjZyK3+FSnGgHyQL4E5kv/6aLJrz81gxMFC2jICFr8cdGfNQVT02BiR\nJcbYOz9IYTQdNr+asz36xkG3u56Q2CtajUSmnPkRS2UR5782/D8ZlQ+IOXmx5LzvMuW/hepWlyMV\nV4ZpAWMnWZFDaxz+qZHwJ2cJJHhzEP5CRd8359esuS/qkZjxE/He/uWxcv7T7uxNE0IG5SnkL8m7\n5ZQ9orNM5qDlCZGH5xMxRvgM1gOmsg1F/9eKpOXGqCmgGqDMncq/RtXQwssSnvVaCAAAALtBmkI8\nIZMphDv//qmWAHoIRBUQAhUAic3lzZIAEuw6W6SmrBXWpFZD4ybc0GR21kbOw976QwIz091pTlHQ\ndXXVRZJw+w1qLjAvot/kdp/FxqwVOkXqrAzJ8AmcfpD0Dbe3WJ48nJsH/0VfrK2wTdvZTKb72s77\nCYrpnBAfv8fUhqzx5tzvjiabBPmZoRJsdwamoiG/mjkAaQFeQVc/AdHl8BwI4blyFS5BJVOjN3Kb\ngdY/u6y0Q12Y4arBAAAA/0GaZknhDyZTAh3//qmWAIQfadAAvXuyv6HFSzB9RXYbxn6UQUyhesdY\nfNCTK9OwoCG66ryEqJwdZH6g5kcaJViN/mvcrcDtzpVRjHl6Fb3tos8FYhKWizkcOyADdnrQ07JL\naCD17CESzFGzcz6Z4dhzCiPC1OYfnNIDC1Y3X/PA2dZCluq8axaPNvnJRBuElAGNTHYICGAucgti\nFf3ojpi10Ak3Fp9zaX8oNU/gMZKFzkm/sBe0kHnlWOznbwmbuloMAC3uVI94NkJVUdhD4XYtT/UA\newK9XIeFvcy9XEpNisx10mbxGVkGGgROHuAApwvHycL28K9NpFFvmfGOYAAAAJhBnoRFETwz/wB0\nejYAEm8huoykYv3Xw9km8YKIrrmSjPUY7WW72zlhdVK61ya7QTQAFbLkVA98hb7sBzVCH/PiMjGv\nrC2zI21kNk8isog1+MffsRwf6f8LB1Z1SI+9VGKb7kMaBfAtY3ok0+AHD4Y6H+oR21QsNsRdaVud\nyrTeglaAzKaiiRLKCLToDoev7N92Easoj3NULQAAAEIBnqN0Qr8A13/BjkNOMCRcUoy55kHppmHW\nPd5CVzQ4SU7zWjyr2At6fEImVkvmag6KURzt60knu/7tyGbWcGL3hxsAAABJAZ6lakK/ANe6GLvH\nJSIQsyFwZYDBK4yhukiuYNLeZQJm8uiDQGkvfx2268d0Yx5OJS8UzZgISMBuLf+PnBvh4axjoVfX\n2ZW6YQAAAQhBmqhJqEFomUwU8O/+qZYAhDCMOgAXhoJDcSkn9wnhkcU9xCy5hurqWKqemrEXtpO7\nTyAVPcpHvCHfYKVHutrmOGsxILMm1SGJpheWJk4FCelf+y6nr4E84J4hZxmIFvOhaWQEGVpB5fdQ\nlnRcuw8Wup8jR6JyN9g/9xpZiuKZmXG3Y9HqpO/Xf3oNsQQHLs2Xf5Z5C39SgmrI0Uz5xh35z+c8\nBUPpjR9PzUCB0rnES1DLFKNPKzCbgnXEdYhgM76yqNrCWSiV5cAw7mNqhAnUTU9AECZZUyW2LmVH\nQGk/RkRBblNjVGVvnwJR174pxJzqGFzdYZb/mHjKA2n/WARHUM0eJ5mklxEAAABVAZ7HakK/ANeR\na72XGAFs2nOqLVzzjgS+RtJI3Q1eDZfX+R7tkfSplxjyfd4Q7kFVnwkfzM65wq+eSUDGI/baTOWM\nqZsxyvI+B3FoyqgRNyfa4Kw4CgAAAa9BmstJ4QpSZTAh3/6plgCEXHYOgAbJHmnDZlf0bukvU2bI\nmudreqkKhTCQJD/b2xEQYau4nUKUB1rVGG5hn+y/nmSMAyO2RZ5rF4+GUc4cfhKapqunTsFAr+1K\nHO29PIoCPl2J1EMN0zej/MZpCMordL9Q/2usDcrt5/3V7ZJS9nyPKoiO5ZIojXvJd2a5MU6M5fFt\nm6Jdj0H0fV6JH4M6eIFJsbpDnmygGH+TOV1g97qsf5P1VmT8kBlZOWWnvo2grlgqi9EVZQuFjaYC\nzFFm10hpq6FCukhk95OKIeA40bOGyp5g6ttJCUhGtoVRYDASjbllL4rBK9etz2pr+9D3U03SjFq9\noznQzkNUJ/0CHfzgspmvjbSP2CFdp4aRP6VYeFMSJeZLVjBXzlcNItABuVij06zX8PPLtoNVQkW1\nElykEW6kUKeCh9z6sugffM5dtQ8iHMbfcqzHkGytqKFRUDFIKggt3NgSSDDE1VdbUxxMxHBDjK/1\nW7t4aLS9jO+PrXhXnMNzgVBQTCGiTQghkgx3MnpGhHeum3JixgIet8a85qmn+ckvEaXmzx/8gAAA\nAQhBnulFNEwv/wCe023lsAJUpRqIl8q3S0sMfzvOUbVrLq5KQTPS0drsEHcyQSzabNXtRjB27bkD\nhiwl3Yzm4R+QJ4/pzh5nRmCiSvzwhTEFvC1ccs/qPu3IIwxAFtsif+pN3hFtCEwpan3uj/unnfJn\nsLB4gvLimNf4vw/YPmYkYdQjUOgsLlEgnAQg3BsKOkbRApMjT/EbcbZsgxXHCioP/QxpvQgOplgX\nps7WiGjxxr9LYyLwdIqEGu+ebAsf4EIQUwGA0t5f7OaeHo2O/1VkQ/xS3l9Ytm2afAOYdgtfgVq0\nEV1CA8VKOSJpzfz02FdsDas9ftXXCKMT9bQ5kOw4Ko+zDjcSP20AAAEQAZ8KakK/ANe8b6AD90Ub\nrkfdq6HyFv8v/K0bmEkHwV0gDLAXpPsciRdZg/3q4n3azkWGSEnCcErueoF/QHXM9DpthdOXK2+A\nh5+j8mB++Ki2OvIfVGaQxLLOEkcMFvolIcjiD3qT9CQrIpugo79X8Zw579oCL6CXPBS22OyXA3aX\n/S2keQ6JHWlC3uQiTQNgSYGtzMc+ix7NRlLiVi9ORdTuBsERAeTHwWqqwU9lRiTVosI+R0cqd8vE\nSX/L40eI9VbhwpHc3zbv3i2T+fhUovoZ7pCv5FeEoy9kXiv+3TwkAsziSfDyttZhNLpBiE4ozPGQ\nG2o+gkBuCUcxonPC2xzr8jtIPe/bRyBXfBD8nRAAAAFbQZsOSahBaJlMCG///qeEAQRTryQAcuCz\njpeo8adwH8aQYAdpcdXtEE2/v1y9CSK/Vozv+UZHMasxO8PZ2X02PdpOsXL4OMGOjmkKV0yKqLrk\nNf44evgqaacwciMiyMAtPP+Xctvg5dKE7gJsbbslwFSgKVuHpHXE+rrM0+dfkfvFW3HPw34Q1Sf2\nLOHG37Z314jTABb1qp6mtyT/Qix5GNCPWqxhnPbg4sx8tTktv+6pd22MTo81agNpTs0Yoi8lpZLp\npG3uBK7znbVfUCuFCqkHbgDr29iH9o8SQ1fzixfaTtLeipQaSLHxJx1KQCNSd7VanDlQdDJGn0QM\n8l15VKpeRRnouZdrfuwVDupCoTINI7k+oWch8hrfzfJD4sH/s5gJg3S4XULu7/bX+6/LD/PevUMy\n6LXvM3j3zAhbxdFPsdVmWu1oADHZmJGffdtunm3st2ua+Zpzm8AAAAE+QZ8sRREsL/8An08+Hjoo\nLrR9I//wglGjwAmmTzf5ua8RdkCXrzP0DBzDWT7bzqs39hQaIKKT2LlXpjKOhoVy4IiV4o/t3Euu\n5sXiwAsZE7mIrdbC3yPzVBtyFB9OsXxd3Qt7CYme/HS/9o/mIo5WnpRiTUIywUvR/tYSonq92vqI\n8Oa9UuoJbKVfj6aApt1gymT40fEmh+u1zaFwHM+axNMFaH2FQ0vxRwhkx5xuRGMxuJfbCf1W5FHC\ngBgy8mBEfjY8jMOc4cV4brN+zmYsSAIEcVJGaEJTFKyaaGEJ7MAJEy/h3vzvZLXDVCsgoNyaxE5C\nPNu4TI9qUoPe3CnAtxTcfPn6rQ7c7IfoudmtRjAerfr0evIGeSJp++U0QXUG1mYHTaz3s+jmEmaY\nuhjx59qrIKDgOOG+nd1hPy6ZAAABIgGfTWpCvwDXkNuo8PiMX41GP67fz+F2/pWmI0u7QBFWSYh2\n3tMXzX91xGwjxzEH1RwNQq5hteoVQll4QSJ3nKqhySQeY+mKgOJm4dbips5qBPR1wSsuMtf8ZZLn\nV+DvMXDxo08adyAU+CFuMTfuVVNwud/dh04gaJbnoSfdy7fnsG8SFXwKZoi4nfc77XgDDpfqyE0G\nCxwF4nN9ARwJu5i6GB/24JitwNo6pb1pVksTrdcZ/T6GllXtIHw27ImmYbjsvnI9sCfuKUGRt37I\nP8fGbjt2L9JT9L7JGoPufHZzuE/GnUvKmFnoVyhIijStQuqyDM9ojgf+qWNc339ed/olmsVQBgrk\nZgV9+IokKsutUOLBiRPOAtpzJYG1IiOyzPZBAAAB9UGbUEmoQWyZTBRMN//+p4QBBOrWqkAH5rAq\nsHRRxBzBiGXvxX9P8eWYkPMJ8ziw0fl/v2GP9WVzP9kzN4YZd4zqpML7v1vFP77O0T4skbIdztvd\n9zMMj2g0LrlAg7s5K32OsZBtc4NfkDi0b1mCZEYKa6nWIJQA74TmB9BXHRT78D9DojLeti3ELPY9\nnu5S3laoxS9SzYi8vuwUpsTR03Ap6ho/bIBYxRQj2Gi7i3a75ZMWhPrGuqwrAs2g6JbWrS9+vP1L\n3RP6YDCw82AG3e+WL2eUtlEJpreOdAYqnnj+PAPkQzK6XeptsR16NzujVD5P5Ht3aRu7VAk4xADG\nHeOSTMyYIKZsge49PtVsd8Ak1EdgvdwbE5SKVUhQqGV6vYwEKxQ72M4dyVy2kSS0YXwOQYL3bMhq\n7OdJ7uJeJGts3ms+f/nwTjW+UKbgUFCwhh0TG3R+Z3whC9bpSvNMqabGIU/Zoee20zJSerrfEwMY\nu/6qz3LeVR9gKPK9hpHduCgpRnwGSPpJmQxf8jn0sEL+zDGR7AW4QeVKyrSyExQa6U9s7wkeEgnC\nx5CNVIA/0UZHRJ/vR1JQjtdbKRq220PMPUY9+KUwKvLgS5bkYKSXfdhaDQdlkDJg7R7aosBkthBd\ng9kO37BwqtTQALWYojX21MBcwQAAAOUBn29qQr8A14/4t+AkE6sbE/PvTS94Blgbm49VjfKAG68q\ndK81ijGZUAHVFFbCTTjVv+dThDlu8d6HmBmBogIuHdovdBkkBobcomGciXvPAyNoHv2qSVHMgzS7\nfctXOVGU7CnCXIqFu7Smf/9cyOYH3B16Xm1TJQuelJiX4AG7hReLnjgJg3Jx/xCL2Cq9zfShEsx4\nRPuUzDQWxCtp3/pRJ70fIcp8C3Nl6mxnx8+4CQkz5ny+7OQH1wFwF/+olyFcOZ2Q3qaCHWl5f6/A\nu//Qx+rrVHiffuhWxPTIZqiOC9FmHU/AAAABnEGbcUnhClJlMCHf/qmWAIQfadAA2AqAL0oFuGXz\nP9fvPef7xXG4Nkko1rh72OaK8sl/dBHcgpED8TsTRwV0JTC4R9spo8mt/8suH6eLAfEP7Cjmzsls\n9A6aPsF7eTRnizaHmc/TlbGojqR1HERGRWnVa8V5/Dn8kWsmpUCt47wSWVAE8hDP5YkZuS6lqmMw\nx2CxTKA19W+9Xj5zafIU1oTwL9uyPITrsndW+RDDamFbbNrek+2PxcDm+f247ty+o3bn9v6/YJ9I\ngqFf1JjcfxxRinrxFNGPHohvC/AnXfe/0zQjhLLAOqK2c27S5RfXla8lHkga96t7Y3wqmear9hLq\n64Mvkdubz1wr5YtDzKHzXA5TkaAkmg89DXHygacWuMtqZuh2oo0A/68QZQQCHzQEDN0vhYymdSQ/\nsZ9XGWQlM7+5+KYt3547fZ+h6uS0AxyxxEyqVkQca/MqS9A6b5fQcX9waGsQoVdK12R2RVexg4Id\nxzx7jNBDpucoTZ8W5FU/kVRkkvP1PCeXsRCAK4ifyl2wvTPo4JILnMAAAADTQZuTSeEOiZTBTRMN\n//6nhAEMNB0gGlkYBRKvI7nH2gicmFC43xIx+43qwnfeS2wlOrbLvFAlk2ipUj4JIRP0odwQ5v36\nVO6w1mYLoEAtitpqre8ZT0b0i+pPuAJgwRDpoHuRMmGvkWHzYeZSPTa03oPPOjuIQ1Df1/a6VlvR\nGx//4JfGm/wmfW2fRHF21Q/i+YTmaKuylnl9TlJ+hRL9c4xFVfdq5rGUBAp3ashuG/W8WImWBM5V\nXQo9TbPl0RvdpIte+8ugRTIU2ge5jmILEnBZwQAAAJEBn7JqQr8A3LoZhe/ojtRHPCtD1ZDMDULm\nIAF7fWub/Tm8AJxoMDCiJ1Lo9+rNzKU1vFmFCmGiY+0lkSVZxGEaVCPOBNpBEp5uWuMNWRJd3Npx\nWHGOlbm+ElS2c74ZQfXMRBzEWdKBORX3aApvgiGnJBAuBKbkFCtgQ0P+fdk1beZ0aExQBw4FsJWZ\n9ptIuH36AAABUUGbtUnhDyZTBTw3//6nhAEEOHqQAtOLeVuJH03L3R0lHafYHrL9AH1iSaMq0YuS\nhTDky6kFO8R08cpPvl5bNLCLa2y5/wLCkHDii2mnV/iWVKvayYj+RW8HYf4bntI8DDbV4V6L22et\n5hVLBGVyVmmxuDw+AqUBSuBQG+E/b6TCjytqKh93gOis3qHg05QiwVScmK7BRyXaxJU25hIRub+z\n6M645WN+3B6a8fYiEpwi5+QdZMOcy54DcmVwafGvpwzaMjNxobjmnQV8IEW9nLbZlhrPVUk2aSYw\nM74ZXoM0sjoDfIGfzcn6eYIN0/+s4RFKtdREP4A2IJG4d0orOw8a6676Ru/3JEQLV/IXfL8KUQin\nfh+i6oDVw1sNKNf2lKRT4UoJtWh6wSvdXl+M7010ar9u1zp7jo/45pr1Z8DGkfoblSTRhmfYSmcL\noKQUkEwAAAFAAZ/UakK/ANe6GYXyqI7czmw/2UcrjhEVAFhfu+vyhuPuYBt7Ztn9rxB0tshlmj3h\ngLi3vlZezpc+NquHG+FmVP0gegIZm96r9407ePQtCQFedcR2h0AAxjyb0x9Qt/RnFm9R5Rp6/dYi\nIozPLb8ab5ETMo8Coz11I/DdzX7EF3HBxT1hW61Uj4cEBFrGr3p33y6ce319OotNBsvF0MKCODPF\nkxUxmfUkxDRVFA4varZOl1PP2s4TZY8loSmxHH/X+Wf5wFMcX0BjPlnpVf0SpZRB2iJUA/PmYa3z\nKNCBbmyKeDLtq3kvj3P6ZEJB/g23+ph9MsigGrPuGeJzK6QvbyZvEvUGU7aQGTD6Kfjt3kzJ76d9\nu0Sb9iu6Yn/Oy4CxpHBCcNSwOABGIG67cFOnzKAnr67INadpVtHajRVEBYEAAAF/QZvWSeEPJlMC\nG//+p4QAL/wlq8cAGDNad88ZJ02PcEfHqAOIIPLI5rwDUG7OE8HpI+hXuoGa8FbEBlHql37kMgaL\nedPauC69NHMfbEgiA6S8JHpjZOhNK4vr0q2Zag78kOKR3fLb+B9Fu5ljyAf+JqegoR/RUysYMdtv\nOWSbyx7oeayfyjLVtcgH7KKiMSft/iV090e6XK2nMocUyYty355XYa4goAjbAucNjgWtyUH4GSiX\nHjX+ttPbWLpFi7qX4rNCr0IhQKJbgaNJNCRkWcZu7itXjVCFYhqwtpPFi02XXWluXyQSwyWolvlW\nvLhnJ7y9LAacGqbyTGJWhXRfdVxXWDOwZ332Ib2ngMFKqV/CqXUdVbWpjRqzyDqDDR4ZLZsuGTIk\nNEU6Ez0GSk7gkg1f2aDbByqlwEuQsNIG/YxpZkMwTykag+jWke1rk5lo9hKJPiD1rouFE+QbBNcg\nDzuJNmEOs+yORpR/h3s5QDHZhAu0tgxGTE+P94KsQDwAAAHcQZv3SeEPJlMCG//+p4QBBDh6kAJT\n6qzHrTXz/IwzRBX8kk+Vnk4vqm+L5WckSuzXAOcB14o2jS22V4C8JVDrM46T8YQo8Jfh0/Yh/Z2d\nYm4qelIUV/nDEU/L6sMBQa+4ygmj2Fmo0kLP9lJd5CvaAmg10YulGsueE0OnSe9KMGdZmRgm6ggX\nRN3dSv4vRnriYAGcy8nQfcxeRAbscOCy6EKpOnEzweEyHAqm9cC9McthCidPTNF1oUh3O/L8fp6R\n6JwTad6KXtBuMLSblp4tbXsPAF4bqTh8TiKCYW/gQFGRouy8cNLg+AjcdQfJrGVBYAWJpfTkVD3h\n1pOZ9oQl+KTN3Ha6cfHnKcQQSAYGJX1XcXdyI82nnC7kNJKF5gdDaEQ3hk0+GmxenAj/MnH0OA26\nI7O765RFVVf/87xw0FAq83J7E3jayXZFV/+vfM4oP84ONxdMKU3SumW8lpt6ImJsX5oBKcwl4ZBH\nfY8MH7OIWbyB+GY53RZtu7cq+Bitdcag3m5U1bIZIv/Em943D4UKzyJX6h0jmMbYULzXZxxU2a4G\n2fYrX4scWyQpJaXc59TP56NejRg4Vcm2px/YqUCBjzcCnvAYCSalaXoRQ1sD0X8RKFGak/bbPYEA\nAAF6QZoYSeEPJlMCHf/+qZYAgBuhwASrIIoo6KqK/2Olup9F2hRqvjkkId2J//hsCPoB3awfK12o\n5jZ2rP096UkX8ZOWv1zW5Q4c/b9RlRrTlNgrNThjd+0qM4Z+XcKmDg1JkPrvxttUibroRE78Z19x\n+9kQ7WhqplDbcsiEwxdKuON2GqVGj6u/SaP4qqUFxA5Kv5wIXuCihiFXo4eSVUNEhfaAt2BxGK84\nH49g0fm/pYYnueMFUAytlcfPV4hSumAiHJUUerLdLrqclCqB5frScUypU8XOvPXOGbtbSdzmv9UL\nIWZ2Mvz45j9pUZv3BQCULTGfQRvVzWRCKD8daKjMu0vhCQcihgixlcA5fRFJ0UFlOfBZV7CKqVsU\nXE2d0Jj3c8LfunG+J0PFBOnmPG9AZ4MdWM7K50/Oxj/bE++5f/b006sdzmB/woPh3ucPnYzwxONa\nnQY7MpJWBoNrvyY4aEXTC2TA/J1eysi8Ue3p3UPcowIsNbEVbo0RAAABDUGaOUnhDyZTAh3//qmW\nAIAsM7MAybbhZ4w2xiC3cKeOtKnXAiQ8b5CxV+qJyd3GN9FoRVmr1FSPjukZDzrbQ/TtKQ7sLyfe\n41Lnol/P+x4tjVAmhEf0VfEIRnKv9FAlHtR5WVZG95u11O06iudelBnq0pB/ABBMuOUgzmeo9xsX\n7blbp3krLxXRmZINKgMrXejN+v26RHlcndp8J2zaNAFxTM6WQlkV0DMvxburqdOHP1kKcCuhP2JS\nCIqk/OOsBQ7NvT4coOw9UwDOCr6nqtKHbKkblf+g6uc3czLBsdm/OFTK13ih6hJxQgzK3zHJsT7H\nrAAvlU6vHXuka6fu1Fb4PIk/i4ylqpYghiZYAAACA0GaW0nhDyZTBRE8P//+qZYAhCN0OACC2y0i\nqRH579tWqArJeJIKD1Vb+b5VY7QTKkMmfPbMqOOWOJ87i4obqvrC9uMOQVRzbt/0HB77rCsByyMf\nnj8ZZtCTvis3CYYYrwpfmsctN++hwGd2SJ/kbIPKNJhwTJ1/4hDOCzk6LbsFE100CIBjUQGAtprs\n8NcFiF5xGIGnswitfBJh3NddzgTTrX0XJKSK8ygy0Bkt91y5ooWaV83ytHIPL1KTu9T5KydTzyVw\nUnqGFcTYQDeptGJrq8dlToFdYymO7498mw/da3W2p/fUC9SJmjHNLG7VSAuCN3mNYjbp1yGilGYH\n7aCrOw8rEDLeWbZyQ7LBiTH4BslLC2oshoj0GnbwiaHlKNghGGLZsPm4JCnNguzoi/JBOxdXAC83\nGQrc2cc433cMGLaAXBl4znDxQE22omaVTb3jBpbjlecL3Mt1/jCcwXz4mnDuKmHoJv1J5WR7KA9c\nFEQb1xmCZdVm23KubucDhiHOh3O/1Y/p7jORlQ57ywghFfBpbG0h9zq1qsggUxp0csreOrMsVjbU\nyFBI3RnRwckm/xZuPdvcWanj6ifBsZ4LeQJLPoqMjhoQuN+rgBLAHS7b4sn2huafsjHAiRu+louU\n+tlomr1Xa5iu6zqKgYoGAzX53LlSqA22sxpmk/s+UcChAAABRwGeempCvwDXv/qwATYxJ0uipzc6\nJuYOmRIomiJLFyQ/jrkPtkTNPBWx2s0IIlC2GIpwRxkaL9U3oJ7v483bHxt3x6W+HqFz8EpkOkl1\njqLYAXCy0XliBK6VOlpDFdoN0BkY1897YIjYeAn9mbWdwhh2SzO0Q9y/8Gm7G16bGsiGpQQaSy8L\na9vHUwd7dZCxwpnNOi+1fl9R2FHzfy+TetQW1RZ6UyXKHKcJDVnL2mUHa5DJ7q9s3xm2OA/qLyDp\nGQk42iT7Oref9CC3YJk0Rg3Gtf4e7+PT14SlVC0nBdcI373/8S1JxaB2ISW3q+Yj8XTYuzTkDrH9\nFqbdCbvUA7ubrHpH4JyUtVA5jAmVG4Orw+tqPH06UTyzlZ1G7QN6WsB/AAWDhgjdUdwJSNrLyWkT\n6ZAxkYEWqzgGSPOKmhPSZ1BGYnu2IAAAAhpBmn9J4Q8mUwId//6plgCEH2nQASpfC45OQOxqwFPU\n2qwbxHEtBKznEbqHtOt6MOr1b4djPMyu/315KLIWPATu9fQVSoD1byzV3kJwz3WMxWfWY5tPBBs+\nSYw9Y0hc27zyXx045AC+mlcruKmo0ZAQvfS/573PgbT0wiYwp/xeJT6y+H6M38lzGhAOu9hQ9iLQ\n7bRfH9LMb79gh7qXlyQbbEqMDsVToqNHztQCKK1Pe//8rLs3DXluEKC1D9EeoCeg9Xmq+iS6gbbE\nxs11AcNR7qYExm91hp3fShz73alyvMh4B1QoLMH/1fGblQEktdPHzByL5XpR3/xlmOwmHvUwBBt5\nXmaEBLJpzistOxG5KUlovinrGXVKQYGYJuGUI3/dJtTwbV3UrGUKVxAMwmRobcbdHfwM5uPex20S\nYGJOCRJZqs+CUqIfw4879PGbHoYsqxIw+BDviFKTo4tH30SL9v4wx7quIRYpygx2Nm9gURCBQazS\nT6rWwbsva7ZPYKBlT100IMLLdv6ledHW8i400nxvJZV5gNUUs9vW/9RTm5sgslNbznKCiXkWEf6L\nL2IJK8pD1v3zEgig872R6pDl25DL3og+yzpIyfv5rXPHQo6VNvTocoJ4JOP8v5dFFNpTNeXc120M\nVFzl7SvkHITM/33NAmvBxa4DB6l6MDvZJQCuCSFVXgznUQB3BDqJfQtYbYaDH9XWkWJTAAAAd0Ge\nnUURPDP/AHM3B0FgATiZtyjwc5BVe9DD5LIHDAKvjNVGDb/kH1hTxy+nl8nsA8kLMSLHPibRreFW\nXz/csfhoA2U6N/xN9LW5VGBMkZTdnqsx3sQvrkc8nTu36Q+QkVsEJAPATynX5FmAP9YQYDfv9Mfo\nmP7RAAAA8AGevHRCvwDXxwClyl6sWm9wA+fKmVz6dnPZ9kpsA2jt+ECHf3RldHALWkBEtGSz2BiW\nY4afiMIAZSV41ep8FR457FcFxQvkI6e1MWcKQgHdc1HNMZBL70YQV4wdGQgWIdN2DL0EhkDjTwbt\nGmvUpfn79DAZKTusHJopLI5humPyYGZgXnx5F1oSvJEotmh3PV/YMcH3/YEUCydTvgxwJAOoEDbR\nTd3FKejEGzCf6LxGBse4h5TXsSuFiWCCOLBNBq6RgAIwcK9sAIxMJKkNH98rVrepHRN8jr5j8imZ\nQSkAzuE7jwgSGdNF3pwbqVtSOgAAAHEBnr5qQr8A17poVRVK8MCQmyfMAm1S1EyPwzwfdxJncvcv\nrazk6f3Xc/J3JaFws1sABU0z0Mfe99mqnklSbEpXQSpguhHlGMFvtB6sx5PnxCP4gVY6f0A3SehC\nbkJ5JgWKE6SlUf7fHfeBeJRjgmjXWAAAAbFBmqNJqEFomUwId//+qZYAhB9p0AD85X22GfMQE+5k\nNzp2pxcfcYw8pnH9NMjaz4S3V4yhlSWnqPH+0l+/AUerFldZM6w+1RbJpw3OalRcD7Fw9dw8Tn74\nHoTD5GubAs6MozlOamrIsMX37wPBFEDbfr7T/TkT4XAHFiBgrCLPjO3mkaOt5rqUabepdOsF0MQG\n+JMTXLNsG4hTyOQDgEkhnQTqqYUxJTxkapZjqnxEp7cC1ulgGynVQqr3wtTkfYD3fxozTVOikSUH\nxpTdW7BDFBwhQamwM+CSVSaPIZNLoxKKyRbP43dyjtUsCGxdf7A/WfFf4ifRU7n539T9wvN3cro9\nNAHDmG5/KtNd3Qx+2ZjZ0WNfR55dnzf3ysB6MCGxeg/t+9ITTdFwSAZvyfjmlUotL/OdjcY/Y4Zh\n4CbWxRkdxF0XeoWrO0L8+jZHOl6GS7M3i+PM60rmPZF/Xxjqu8niKOEfrLKgBMGkjNW4zg5Smf5M\nlCKdKFnnl+wDos63o3xFIfvqMzeg5Oks4gNXkj7Y7QObv2wPr2x9HbsO30RxOaCnvflYt58jWS0s\nEmeBAAABtUGewUURLDP/AHP/C+gBMvOB1kiE4hvTfnNBkpfJ9uhPo8mro2APPAM/cEnoIj4hW59U\n5YrWfqmIRMHaNXTp5rj7Xa13BFD1MMTv66L9J+F7WjJuULnXRSbNHI5G4FdVunAdIIqxnIyWAVOU\nhFyt38NpY4ZjF6i9HiS9lwhj0nqBcd/R2K+iLySYDW80Q1h8Z/OuczhkEg4JOBsSjGlumFGZNxBe\nCyN5dFR2U57FcN3X5G7M5imgwcI5idnq9DxYPApmrVIRvLGlWQUcj6xw3TJSMvG4xfMwOxmefBgO\nGXMSKn2kHoMGpv27gVZP9PxxnQvCgqks97rfFjct68IgTGFQLHUGnhcbOzs5B7ty6vr2vntbtvZD\nOQsEgCp4UAEIEyqOgN9Vdz9CQE+T+G3flHLSw9GbVjxWfQ7SpgPGeUCOsuRCBGiTIqs7mAiOuVV3\ne7HcB8dWpuW7wamVQhSwDonweIk6WM1GXUH1rbMI31tGD/XMIzarASBKmDULryZFA+ol9qF/y2QB\n4ZA9fNZA9eDrlpxWhkhVrgJrjduGivUkWlkA2DXaAnAL7bXuBvIdfEGowKyIAAAApQGe4HRCvwDX\nx5E72Tzx6f7WApJ3JWYsaE0lnm/fn/cf+O1Bi+fYEIA17hizKqmZnebTcHfl4bYnvTa7rJaylaGH\nJQ4sup0BgpkYvHgJd1TVYJgntADaxgIrLnjYa5hRKpCGmJmU5TUt7ByeHY2qgUED5zjNl6bieKQ/\nVLPHEywBrJwUB9aCMpv6YxZg16DgOONbqYXrICBveQqNazsrAYW+wt7fawAAAOEBnuJqQr8A17on\nVLcUV4JEGQAOkdyVmMGyUWm2HUVzof/uGBPQp7hRTJcaSALOLGEnuZ47QZjTxafRGHD/7MjtE7OX\nDgcpcIruMx3wkUzpQ8L11DqHJ2QNsdlpTCBKcvuTGS8QD5FX7iC2hitcv50MJC/UJDyDN/xwsZEi\ny9QPyN2MtXIQUyIHeUBu0PxAqg8wVwiYzdBraAVEsVYga1cq82P+pIsyPWyV+4ENfW7Owd1DqbMC\nAExw5PnI6vpMxqBRxMgB7HcQUwBMLTOoll7CaKrDqwnnCDk9pryu+BDCEtwAAAEAQZrlSahBbJlM\nFEw7//6plgCEH2nQANjfcggPewmVl/adFkdAKUrxnNJMiZYtYLfZSBmjnNWILClsUOZpUe2bNpVN\nemIlYXA5AZtdpdK+sbfMITgm+v35z2q9DK9gERi1wfj7NtHlSIKzM0DjR3OqkCaebrv6CmuuZFgL\n0rgTgH1dZodw4sKTI4sPpwt64+7lVoeG1GGtqdG2bQJpdOiT+st2NZGsl8cjTq2QvBvkf/yjjdg8\nn15jRvTfnxDqOIm+lIn4dwCprNeaGxG+MxcnPTq3UiCdqKC6Vg6qdmAc6Kbvw0unQ0+tKuz4t+c2\nXkIr10rOpFPbI6hfFNkkHmuJeQAAAMABnwRqQr8A17oZsrRmf8y/l74YAP4QCJOfLsz4zdHuTRib\nYY8H/gnJF1tw3C1R2TuWUzjCsBEaDFN00U0DpKnqSJ7qFZqQb+0UKOcnmunhYe1VXkh6cWxpQFTI\nRh+Iv8wajer6PVAwbfM5C/DBD2P6k7YFrFSNIJJE8nefkuB8C6y6Y+BWe3s+YBHrt7K55vcwtso2\nCpi1Ik2UwapzqNrx9MGz6PON8rtMpXk+WEsx/SuAIEFFw7m49eyobdNq4usAAAE0QZsISeEKUmUw\nId/+qZYA++QAAOCSdboMKIQbphQm1KF6n6QCaYUv10YEEHUOwoBi7zpELMuSm04fKk0EJwRiHrnu\ntmBuIno9kmcgs3rsCQextCqgFzIuHaGjRUgzts7WNJi6Xefcus8iHfh1BnU+86bw9o9MWeeM4DVZ\npQw5eD9TV2PX5U9Bhu88NrVfjAByVwp8KLtjsErCyhM0s57BXQ93/fOqbI7EKV92s9RkzdgXWHR7\n3jDlc3zkaJu8EsFolVG2pCIz2OWBhkl+x+YDnPNu9y+GtF3av4mRbhnyGBCSQs0zj+wHeCSvxyA8\ngLUdc31LyjigcCdw4G16PTCyzJsVXGny+SOT0qGEKRJhWNuiRCd5sPFF4YTV6I0XxUOHVPdPeX0Z\nsenvU/35Ube7uOaXtIEAAACwQZ8mRTRML/8Ao88BMrYglP7jWAAbcY8vpR9dIAvK2mORlElOuEvo\nuKEgZb2zwE9356CsrYK4CXrdaT0fXbREpGg0NeyZ0pH2qfJaBrP5zWbc65TzMyk3cHO0QTLl7LEV\nEfyi2rPt8POEcc0eoxoSuovmi5oBoogBLndSJ3pTyu4bGyu1YtMwv2h85SkNZkBh1Ic1AxmBqOxu\n9VS52NnHM9XgAZ2E7xikAZ57ZPcX0YEAAABiAZ9HakK/ANyP91cDcYjxDG1cQAlnJcTyqS9YTqwo\nkzQgqIoa25CwD7psfdmPsscl14XXUQnwGR4FO4/2SCJwckx0OSAzJdUbY9F8PFKWoBlRHWq4l99A\n4sSLNSTuZQEmIkAAAAIrQZtLSahBaJlMCG///qeEAQQ4epAB+cW8rSoNncVckeQiImHih61k5cLc\nFi61EI5fUlcdUJ/z7mK+moaVkcuZsgrFFnsF+ruIWwlslKb2QuMY2PstglhsoRrdadcz3d9mH0TN\nxheBYEZXrM866TsjSLHlJRSwXrzlHlQFKyIENqrFIiHtFhcJLGSMUfgWuYpovBzTSxYRlV3cXCkE\npeXrSxM7CFFcofhjcbGdrlw55zAiqYa0QnDlbtWn0QRINY9MEJRihvgZ6MnIoHLhPMYAg623taIe\nbprv/bzOM/e3I7ieGku4VDrIGnXQvujfIESDzmlze4L12j5tpk0jV2ciw0vTXYPtjuNa5HfKJJV+\nYVUkLEk9mtgMiGvTRL71Vg4tcxuyPcrVy7l23gJvrhQBvZOlaAcHx1NbzENrvBDwWjAYD/YxESsx\n3qolWRGuxpHfq4ir3qFzx0jOiuF2hRlj5b6v7l35Eh8APOeLtDQCH3VHCyDunXWBYfRS3+nF6gUl\nX4MZJnn/Q5dEIZIzcnwznSlwaJAto/o/38zm8Pa1/0HNdtz8wkYnyDT1ZhiSGQ5C499JX/yfiboa\npWvBYqjWyh/CK9N7eDtgOEXvV5OL3tVHWmhYj8+4LCcmDMC7CLDlUzZDKKZQYuBVEZrnA3YiQRau\nMpFcqgcvUSFqmDVAux5PRSFxW81IBb6havVc+sPmeataIHn9JebzO3XxZKYfNoN7TE6gHA7gvpMg\nAAABFEGfaUURLC//AJ8wamOP2tAwaS5t0AG1GrgxXAcYy8KAnB8oI/J3FrKfjNyM62RWtaaO2rCc\nbL78api7n6+6JzJHlObjbHeUNX9g0OyQIS4Hzv3BRHmJGWLLG62PFqRcjRcy0KOPZy/iNtDCSZ36\ncPYK+prAhCoibkgbSlMVhMITdHp8aUz+JtnyFrRZrhkUszZ+3YSBZuduKnm5seTjl6J4HZfNy7g2\nol4Ux+mOogkoO8Lhp67++aZ2+0ZkFJNgEFri60eiJblrdQ2tTgqv4L+yv3LLxNcyNA9hIJh+c+8Q\nj4SCQzpO+jGUYhd9Q75G6ii0YXNSkJd8R8L1xC2LClhDpZvObfkm5G+oroY4+j5Qcv2FBQAAAR8B\nn4pqQr8AvOGz5alF+2Wh4iEVx7twAfzuFYtg+700pPud8jZ5yd0ERQGPL6Xl4ySgvTEydWPEj4ob\nsq2a3q1nzA37dIIG6esneQ6U4LZJn0/Yb7Kf/1qLm/kJHAytZnjB0cNNYO1L7zklZYpz2yaTN4X6\nkJw98EwukebPbFiaOG8RDDmqu04eEiE5X7Jts54668SCAkZ3SqjkYKUDjMiIECg9wsgjVdBcz1yS\n2TCw910LwkoKGn07hpVFa5WRBLNa/XPdeVu+tHh693hMoAhdByk0tqIyKsoVlm6FgaoHOFk0KxYY\nAQz6L+dW2kRwBm4o8/H1UKcMozuwu/x58+WVAIZCZHF8MIQbLaKrWl0T/+5TTxQ+MqzwGl7q6ISV\nNAAAAbpBm41JqEFsmUwUTDf//qeEAQQ4epABrZyVzpz16vOhYkc8SbZ+IJMpDYopMDJ4+OPcRC59\nOK6x77pvPmQNn7HXnzQv3DbXB0coRJ3sIIDs6xMS5BdFy+AdaGirnY15zPbXxMw5uDGSUDX+QhGC\nUF3jPWKhyXbRfCulenEXIl+NNN3JJnTBVVhpkFZhQI2wqMpC0U/XV6tmP/sYm0K1bj3B2gDT1jbA\nfLD/oLPVojpjBxrhtf/jHee6Mik8OyEw5uCSil/NoDZ39WUOc+D6/EZGDixZGWpGRFw7JwikG1oU\nWeYfl/p+LaHhq7l7GOu7UY4ZDItOtatUOw1jVtsCrvo4Pwzrw/80lu8hBXtptSbmtlR6ilbVAghf\nuxy1REBYbFQoAyXITahtvUjpth5UC1ceDxwRx596fUVGhAUMZjcI4cg2Rl63XtuvzhwgF7U8QiJQ\n+eQJM8Qua8gpxAGZvMPjNtKYJj4hNSJjf8JXKH/GA8aeP0s/29libwdqxvEVnGu4Z83Y8KIcCFwt\nticDwL+vNKdM7pCY8S7u+Fi/wOGJKX0WsiKKn8f4IPfloHpFVi7isGkUqwOYHieAAAABLwGfrGpC\nvwDXkMxtBtKGs9qoaZz98ECRNAAuo5+J1gg2c7vnE+ITTux/jHdfdn8xMZJVucfhXpTd+9+IATXA\nYzCncJ9eEG35WEUpcGy25heLCvy7RLYfLmZh56HZw9WCFOpAiIjoRw52Vn/Sf7WJf2x5qcRYKtHM\nDGeQcPmSlObRTzwBdZK9QmVi5qiotdjWq2EA9vJJQUm6slMtu4HOzj64/lMTXmvkhNN+2m79wzJI\nP7VqRHes6tKPHgyCl0P2ItZti1wyjUK5BqiXq8d1gIrVbRc1206SdKxSEZVkV85eUkWc0S0993qL\nkFOMOdQq1Q4Gl8TIyJN/tjDDWZYz605XUGB07i3Lka3hPpdntu8ikLkC2J+/ipnVPDndoRV9KzCH\nmqPIpoi6xF4QW3DCawAAATBBm65J4QpSZTAh3/6plgCEH2nQANdcSW304vDqkH868xFOBqsd0Ev3\nKKijLQ6xmJylgjeR+hdmvhcKtfGoE94cjMu7j6CAcNOoe/PJVn1m7YefrRL2OIez0n9cjPl1wWzn\n2ml1Gf69TCbOFcA6sa0w0wOqOcdbwr1h/sgVCBJvL2YVAXjxkoAyvNfRqxYaCiEjHX17HsE6lCy9\neCnSJr2Hnf1NOo0hjVHwOtdrdF4GC/BMzlgBZpQ36Ug8E/5jk93S/VmukRKDJEN5zWPyHmT0FLGn\nUVax9VbhSzHZbQjNR5wZG+uap0ZVzZcChi8A51plOKztf0mSXvkVL8xVP4XtxfbIdch+4QsfBCYS\n85G/mTSf1s+N79L6YyFToX2H9NOW1KXtulIeKADcnbi6pBVBAAABSEGb0UnhDomUwIb//qeEAQQ4\nepAB+cjNDhqfblW3aEipeW9LCKg0NCTgKYfptJSOIhWHv61mQJPRMNHNaNjq7zs6CZP5dqRispQe\nWEaLpM0to4qi6k1OdNY0AzGXhiRvsf2UFCItYoFiA/NSLs7x3I2U1cTunaf3aIz3hcBk83DNkA+a\ntqIJdOn/PrzQt/08v1gS/RXBh2wU4HWXs5a0TFv7fwkgVbqD9nwIxzfRth/5GTheE5wWAYe2kdJO\n8lrZYW+A6OK9OA87NZhCxTVMMK7hlKnqdQTmeGAtxj5B21+VBIPc+UMYFUFmPPumQl6JBJBteR5J\nk7ucnYFgNh8yzPACOulu6LhWyUkTg73vIj9t7zWf9vmQnD/V/U684h16h0RnSb0qO9ZpAEa+nPeG\n6ZXH616VDSN09zgaWahmJqkGXlPNysbyw5UAAACrQZ/vRRE8L/8AnYpIslsAJUo2ppaTgwm3wm7u\nNmMMc+AyT76mTFDumkouti8wPhEgBP0VPCggwYn7O9GdUpATRqgH+dGk7850f3CZoUDVnBjNpLtX\n2afHG68umGi2eO1mBwOK9ERGeO6HtCCJ5HdDkkeG3fhmdhqhPqy1fD4VKKsKB1TBIuck3S61Hfzd\n2d1Sm32wsv18JSClQpHEX8eRgQwTrAdU/9K7fI1oAAAAnAGeEGpCvwDXLByZ7fXOEtxZQAt3kDxY\nhzim47IA7AXffaMkw6tOPfmpBvqOERQ3/HUylBqoGt4PSukVlWxWUNRhOjQzBAiaT3eF9nrQhGqn\nfzt6vWN8qqkOhyboHIeT2dBIkWSmqUxnaBUqcayXQIWIE0peUaaqGwgpRKXaaP4kMfHkHgYlLfd8\nqBTci2drYb0wQ0UrClOeUeRWoAAAANtBmhJJqEFomUwIb//+p4QADN4IHIAQpn6FYpohLPeEqC31\nzkbZtrtGw+15bu0Jp11IQKZmU9Ig2ZsYPTk5rbyblLzCq1S5BdbU/uFIS29kOadcsqL402IFCklK\nlY+0F5u9CUrIdS7fbaWYmXB66xIlizDefcd0ek7A3SLMm1z7YE9s9mZS6Nq+vwmQ+ame+UFsXKPH\nD1rReWsn05rYdU5YFtt/IcRjrDrM7t9i9jo0Sg85KNon0NVMhdfGxrJd3u9JYf41+ttOAhGRC+w4\nFG0lnLBAM3pjSqzzEMEAAAHjQZozSeEKUmUwIb/+p4QBBDh6kAH5yM5XSoo9KnljtiZ36l1wMEOT\nnQmc9SCGHU6j+mgXPGX4OOduRfCAoEl+RUvEkdomVIyUTMfZjA9ZqrUms5yPPcjZMp4TL6wDSg3v\n+Ma07z508jbcndQlS29QhZ1JBq4W3r59F4FIbqwG6Qhea+HkBv62EpKKRqcSzvhcesNfa30H6YqK\nmVsS1/L2ERMYZKq/I2RRZNqHBx17bL99c+OiOvXtnwPIbcBNok2fSUbSyf/aQVzKUlelGUr/mcJy\nzglAISKEPUKkfhpUZCGiEPWJSrOP28rLaxKsL9lXa1tU6ACWuOEJvGZH4ayMaeRwEDTMdTk97Reh\nILzd8+R/VqmegINxRqkJrZgHZ0MWYpdkJatRnECKtmSKx490sCLXf97oYxgkZBc7MooV9mZwA/30\nz52wZIqgALy3VKGo9fsOYYtnokMGQsn+YL8AFtFoIphdeg46liNKZNISxOVpgt3L7tpSmP/xXbmF\nBtcR9ed2ye52YpxVKZC5AAp7+B8vR49cCxn3p02g05q8qB5oeHadcZZnbLVXJmQ/scQvIpGG/uyW\nILO7HyDo3sPh3lZ/dEzEauCnHyBYpOiHhrFHDW8t8LQnXj1X/oyhXQ7g5UVMAAABwUGaVEnhDomU\nwIb//qeEAHy178DQvgA43u9ssWwbG7Ff3wqjI+D/6I+Z6NvBarLVRcxAxE3SqoLXte38HYqnteTe\nn/gqArSypAr7y7NH3+h2bBXoGiLPK3NTOTyt5DcFTFxVtVQAznajPZTNBCsoN6Da948bKucKZdUL\n7pM8P1VT9636PB4In+DG3S+lEMnLezi5mcrH47WHALVu68Np4i6db8i7zbzoKILa+U2hz5V6peQO\nCLW7Lw29F77p9RxT3PS0l83b4ZljiWQxGtsuqKrFx9xB1pmYjxlDpelBCYSK2uh+An0VGXj7k5UC\nxoJBEzF2yGBoSmsiTtbxCJsurZr8LHZTbES9aH+XZdeL/4eeVCeBbr8g08wkabGHzN8It7ZpSWps\n+S9m2Af+nI3ckRf3/izklgUBZDexlL9cS3sjDjGjDWKvtQjQ0dngXZT9gcMxZMruE2BVKVG8NJWc\nFngOnpD6vOOfDcyxP3eMiSKl1X4RFuBzdHctwHX0zqcdEQ7TK3ypZXkwZ7j0nlCEtWtLbHqp73nJ\n1rJTtDYHgnLOIuwh8Reg0t4WfZFBxPcFLwvvPjFzX7ZrCwVyXWNMo3D4AAABb0GadknhDyZTBRE8\nN//+p4QBBQyV6kAF7ImWCvI+OODDEb2cSSGBivue8e5s94qeihd8jiKvlKd5k3Tu03GdOadftdVk\no/pXByDLs7p4MQl2LmnFvfCpGmm42M0+RS0aoYCywwAkp8QzOg39OYxuLzeqQmKRMUOk/9tjzGXv\njsdkLzSXTf1nLmkCgh6886ITJDgQwx23etT7I6mf3BH2gvNXJ4QsoOacGX/Pk2GoK9Pc94Q45pFU\neMpJ0DogKlDSyG9M6deg7aA+VEmQCDiAvnRk0G8MnkkAmcMBc/x9kC2J4vONmc54HElGrC93E3+t\nuSIuQPYmu2R+5PxYhYMDm+d/QMZFYUawK8J+lkMMOueucXvEueO/83L7s2OJjB5ugMzACzZuej1t\nrMx92eq5iOREL8CDWpKbe4eOFk8o7iCeq8PkG2xnF3eQa2/nap6YUceR0bqzMhMhFSR06+uvolht\n7/mHSAkx40pSU92Z4WkAAAFuAZ6VakK/ANeRYqBU7WnACPd1PETp391BNmDFNtP+wbx2bfWqI1xi\nDze2c4AZOsWlNPobY3wv3r4JkrKmdROll77xlPisinRLtG7sXeSS3vUZuiasjrPRRs5ZwG84CpUg\nIH9DAd3Hyd+Z0O/yuOgUlNVIjEXXajvwOxcovYaTbak0hI9NWu5++itd/MP/NNk3hX6OamDjWilM\nqXHhPC6KWE4bpeDIalK3/ewY5TqhEAcXTWJVe3ZxQmmx0ktfQPcN8Avf5pVhWi13yIv36yJRR3d3\ncD2bLsu2CLE3+48yBRXaj6Qel8nnO5QcIf7AlVogjxQpzjw0P1ydnk3Mfh83YXe3T2dPCqM+0KcJ\n0vYgMJFzuZrfi3gL96RyaAZt52oPQp95Y/IoeeVoNNy8yI2q511SyvOZThrtl0C7Z4MpuLudH+kg\n9NpygT4XBd8vW4zYTlbjtkDSVqdQDFPMLc+hWlZJMIjeTvPnoTI7CJuAAAABkEGal0nhDyZTAhv/\n/qeEAQRTgNAA67RV2xkBEwTpmmvGMQhj3AwaffftGRPPkrXhPqsegWyREqgWQ+IF79mHz0gRCEs+\nXKvo3tIOZmyFMFR0wdo1qgKB/mLlwgS03m7HgE1FdPbuJk+CsfRbFPPx0Pb0Xgdd7xfwqkzKJ1yp\nVTOiTn8521TEbJ/O60gkQKrbvTkgwJphKJbNBncNdhiA+mhzyjxZ8+xW1HW6W8XD3WFc0/hrBxCK\nxKI/uJ1t3/heGJpZq4pWGRHl2kRDny3yYwIsRW4tWRa52MBPqg/i71YYMdnlvWvHNvKGETL67e+l\n6E0rYzEMmXaM9FLkVCpbw0QOtbdBle+bWkmU2R80Y4N9WxNoK4qKOEM+yoM1iVJM3+fDVPRpp3Ye\n/A8Kn1zODGkYu/pYF+LUoUb3/PztlLUWUIdQipjEWhvDDYuI9MlYH1+zt7MnUiODBLyVeKTIyh1M\nYdy1XOEOzAgzLOO6NeScrGGDbJqWCKEC8FPQp1kvbc4pVN8AO8A+xTlDQRpFqIcAAAGGQZq4SeEP\nJlMCHf/+qZYAhLvnI3qqxIdsT4cNAUAIg+EeXxZ5QacoMPi/AGojmQu1SBzuNnesur4XRvzpnjbT\n+9KB5dcYoB/youmQHWfvmHhIr+MwfL9NXOLgyR1gSwdmoiAJMpV97NZbDa7eTbYTyhagYQvYuIVN\nWQZfCPbXRKpgt1y51Thspwjha0xxLEjdNN1Iu6DfcnsXxHDRd8Kabh0BK7UJJW7FBH1amfvFDASu\nJE53VfUR2/oeILPZ1u6YIoGZzGdR9xzSNZLm2BJGUyVyJqvcLMvp6l24TjXoKdPyf8v1wseW8qgS\nTuXulmw/u4WFcQxUu7HhgZrGDFNxLc2yn+VQusdAAhKQJnoWqMjCdHWD65MPS4/8gqaWwe/ViS9Q\n63or6Y6Ivoc0M/gsvEzOoSgp97EDeDVdyz3YfEqQqcpBNgWuXSQcoJ0WNd7DgDexTaVdOW1VsNHp\n+XmBTMtZLGUu5fY67gCqW65fLygTcpxgSxhP6NVo2RRhRFJf0NgiqdBjAAABfEGa2knhDyZTBRE8\nO//+qZYAhB9p0ADY33KxRVdi7Ly7Gezs7+MjibMrcWvPIptTskwebzBLkXxBZBNYJhtd3HycQ6CQ\nY0I4U+S2ZwmQtvUnOfN5HCXyxLd2G4qt0kgtOC2plP/YdiKIVlQAAFU+oeZiHgutgm8Gt0HRoqC/\nNV7YfK8zUvYEZwbxxhMSp4FNmB4rBt4tjNEMq2fQsDGSI+quiNTVjEQJm0+/2gbkwQTsUaC4rYOk\ntIk47yQ/LtPTW9xGQMJvxrifJotWZm7DGYOyYVi9NBJ2z6bgifLoHQFdvw2TtAFVamXg5vfYlO+P\nXYmBuc29PRWO+5wmXMIu2eIGe6BCMHuc8XY3Bz508/0StjTXXqvkeoSckNndN8zf8uHne2nPV5OU\noi3FUYWuL2Op/3mPszxjgeQONdTtteJFoFdeN56EyrJZa/vfj6Ml6K5M8bm0yxcFylxd83S4FDAk\ns4FalK5eNvCAUGWo2Xl9yJzNqUaIeDnQqHfAAAABSQGe+WpCvwDXj/iht1LzJeuKkG3MAOMVSKYc\nctt03bFTWDqNsaVmf12I2aspGfG8gU/KiYYaaQqWGqDWbS2lUXTWK45IXYplIb3565XPraNX3VCU\ndfWiALdTHV4JYkBqgne0DT2PQM5soD8MY31tXvVEsAGsiXnpubg4XcuX+OdjMnAO09KmEwB+SLJr\nlFqjEL5gIFMpUGh1oPslMRKYcFxkS7AouKzFp6i/Po6IvRVRF9Abl4eP8U9mQcJUJ9r6KQnWxW/+\nshfNHJ+TLq1uPz4icw/oPiVgsKQgzGyd0qXsy3RM7Xs1IBfTx0jWcFlQKOFEtWIxgsMDQQv8/MGW\n1rxsxjG6yU//JRt3aZpdFKtQWHDBHe7Fj44oBCGgLT0qpmJdVR4LF/xuTr7EciNEMndnnPQPlRlm\nvhuzvu5UXRZcIq8cOhrwW7S5AAABwEGa+0nhDyZTAh3//qmWAIgdR6AIIlem348QJ1LGbt4lNM1Z\n9fKWkXcsMlBgAfkSfoytMVOcT8qsxzITRMgT9mNBrXWpe+oqyjD5GTC/oURS6b/J0rjVoBihntK3\nUphMwSQM1X9caEX8rBbtdtkE/zUDGxsPcveJQQpFtFHpppQMAEwHXwYO1+PIUP96a25nNdALGPkd\n+F77gULfP1kZPfx30fk9vfxOLcgmrClcRAdJNCMi0N3wN9f5I2nBbATDLErGkzmQcfTz/16XTFAg\nKtDk3xpiXrbNSJYHyLQORurGdCAn3o39fSUAUXuDUZ68TUgzIgox2504Voz09hK7s4i9FHmzczlG\nWv3fsPAKP/DYAVV1q6O0U6NyHMcVpdbCKhQ9KLrZWHIJKjI4se2MqriBbOfr8XZ/ESyeACMFmlZQ\ns4tNN68VZFLNl0TkUkKkM2ciO8yG7zht3C2BNCjFTQhhmVVULg+p1IrIde8sK4cSuBUys3YGNuB1\nhbLvImBfTwb7ekrGrNnWeZk7xPxY5l/NeYbxsfL1wEXPZpG0pLR3Cjp/83MMQmDDoLk0mEANOlpi\ngsb1RviwPUVFc6m+U+wAAADgQZsfSeEPJlMCG//+p4QBBDh6kAJVFZ2Z1fz/2uPyzk4DEDqpEDoA\nEiJTPaJKoppaRCUPb/q/wbP5vORcsEjndGdZW+PpKpg1tjCPBRiX3As5RGKYSXUQg1QgjmyXzLg1\nj6Wltvym7vbE9z4/JnC1DTYss1fFs+2L70+C7o5C5ApbVoDzRfD1ig6uQpyCEghYUcPYl5xTFAeI\nk0vdQsO9cVUnCzrnm0cBOZUqup6yA4zv13p8xcPIJv1tu+ovmDGB/xmgAEck9ErbJ8PyoOxDZnJS\nwmG+RE1GaooKwJtsW4MAAAClQZ89RRE8M/8AdHo2AA/F2UO/4vSrOEIx5+E2iR5TO/lMwg//GScv\nKC1he/nVxul2s8vOhtHF9xC7DePn8xSlPgl7ZW2zNbbP5bWTsG8LeQ+m5/aa2Tx1Mr/ImFQODXr0\nidvnCWUWXXc1s0T7MBu+E/QJ2iH/euoISaFzDkYHE7T0xkkPL+JKCuyK3ANpTwbJvhfJDGAl6CYK\nTHGZnARRcMxbq8XnAAAATgGfXHRCvwDXxwA7zccEj+nMCAcUlgAuo52i1PKlmKNBCVb+Ves1tilR\noJde10yG0SDBSMWLXwC9Vp0nQx1yHQ4FCyTLKdvTybvD4JXUyAAAAEMBn15qQr8A17pfJ6HFsYfv\nVYByB1jXPG8Nx4YOaMdkf7gAE4GwfRcmVn4cyTei9WQPOQne4Kecay0rTfwqli3WwKHCAAAA4UGb\nQEmoQWiZTAh3//6plgAHe4jgvSdaxolPsv+x6RgAdmbCZb19qNXM3ANSAzeCz0tU3MregcLwiZoj\nTe5RXnLezU39CEEF4uJISn55caonAmq3odUqHx97eRw3WHQgLE0pQZwQD/iskLFjV5Hm65b4n+rL\nVzfIrM0q04jFMbjrYzELZpWDC21xknD0fZaWxVkYpeCcrOv6jAAw7o8cyWyyQHY/QTpOKHfLGT8M\nEN4OUy+6BkVhA/labzp953kR5jVIiasdPoCs73mOqDq7donIUS+A4ldmiXHjKT5R5Ms/3wAAAMxB\nm2FJ4QpSZTAh3/6plgANmPfHVKxAA2qGrBYtU2Y+eeOO6uptubdagX3ru3KTS6mk6n/JThwgtGg1\nJS1HVNzyw+YKxQjqv+odE09FCBF0OEExcOQAHAUJkv83GfgWNKaYsZnlDKhpL3hmfhlSA5dpObDj\nEtISR4npj2Qi14RDno0CGpAQ5tbIws3EXB81AiXK3bc5zsWb2/UBjgvAk5xJ4M5a2lKM9Khg0P91\nU7x0zoE6Lu/ycC9uhssz52ecH9C5C7JGjTAqw8wuoDgAAAH2QZuFSeEOiZTAh3/+qZYAhB9p0AD8\n5iOCTIEe3EUM1tVHBzwj4wvKSF6n7w+Ngk/J9iRRsWOujsMYHquG5a18P/elhdv/BdoZJOkPneUe\niel084ITSquPrOnZqekenWxJ8g4CakVjN46jL8WvkRZzcc/q35j7EL8r0vNxUn93PIlD3EgcV8mp\n0lrU7aqxD1YXpUem7TtSw2Gi0Rh0mmeXukJ7RxHQ/d+Besal0MJ0pdXeUDmfHv83NSJesAHmNvxb\nUpI2e4iaPmHEuzxS5SMyy5QCmKn7HzaY03isRyLHXaekk6dYvwswEB8qIqCBc6NvVjymzBu+ICEq\n3qCjaM5LZ2MGlB4uzJ4iHxLRdoFZ7LtgocXGROsaYwaonWqiDuBhFtcHGKnoGpE2hzIYwcnR5cBd\n0C9av02AJVnnuz8q38oAvd8Fjd4uaCGrFKILOvDtOg37AYVu6FCdhw2ni+aVSDEzBjsfaAM+Gd4S\nkLGrEFmsblZY44ot9zJLjqOG78YcPNrln1Cf/u1t3nG7cw+p9Y4I0KwBz3J70KZErDURt9sJjmNr\ncWXaYae6FMUMZO0KzQ08MOYLb24KJQnCMlgVnR0/ReeGl7lJ2myROa0umm0Lxubf4j6AIKqFcoU4\nvxm91Y3ggxmknsHB+nzHbg2nfz1+tn/hwQAAAR5Bn6NFETwz/wB0EoQsACbC/2dHgliIVduQp78i\nLmGLsqFPce5sHTkqmmhopovIEWxezZvp5sSmagS/FUtazZDlda8WyMtlNV9lIZolQfYMj8+au9RT\nMYoDZ5Mn5Asoy5GL5mxrSxbBnBhmpjRX4x9Kmym6lAaWhdMRdNcaeUi7LK3GKt4OJaRIUJ4LWTvi\nlyP8Wsgnsc96WL6/Xcaa154NNseqfchOR3yjhHfQBH2A23jUYRYRNjBVySk8Bf31eC79epC9lB8D\n5ZFeVBGs58PfLRYNYDUa6gfgFWOlbDG79Gh4p9SZ3mhCMDtF16wBbA/RDgn6fsHAj+XeVMKhitcJ\nDqSO8dVOO+3afkgZFLBMtmelf5WdGJmoG42aVeD/AAAAkAGfwnRCvwDXptZQAJx1MRheBQ6IqtuH\neZnPKkYwJ0bi+0ufDzbej5ScHmazix4Yx9xitX/u0FHz58WIKkcyh+KsOsZIllHqwVspq4qtNg/c\nbEzUyI9FrVZGKDEaIkoOCCl5hBGcgkGBIYZZ+MDP0JONNchfpUMpEZ/RziWkpUloZ7VR1/prstFe\nRwSRctlEgwAAAGoBn8RqQr8A17oZhuuHKOHopkA5poXby7l/5A9FgiFCFRD6QXU1Ayckb7wS+k5f\nn+15kTBrrPtqzLtJYJdHt8hYhWMcsZpSzsvxPTfQOKQ/bOKTG6M8Q1feUs+zcH8H8sCFGIur+Rih\neetBAAAB7kGbyEmoQWiZTAh3//6plgCEH2nQANlC9U4bOzPGN4mIKCnFTgN1GHavs6tgXtAB9Trz\nkEr6/PPb/yP44yUplX89GiaJlCB0/KVhZrPlSXUkL7RZkgI+XYnRLvjKPKG8MyhDQy7rUq1DO8L+\nqHraqEMmT+mYmiBj9sVQpypr3ku7HZkUsJi0djs2e3qVQlyoPYeursHZwxcR5I48UbgHSxdvSmCr\nqrYx817xHHAIgnug9l1u+NrrsmVgrGC3eoqVAwvVzqBJ59JOYYF4GKNvN1Nx1cArdPwnx+JeBzP0\nJNBNVg3Tv4ZsV3kF+ZBjy8MtKGQkMrofcbt98kRgqWPLXXDy0aWnoi0hFt5eRaPDkD+OykRvTFxR\nIt3t9XGrEYbKBa6bBGEwXOX/pGUAxQXvcqAmxqIKq7sMbqZcwmgQGHxhCtvFUQFJiw3nYKvaUnlk\nSb5eEuhTZ3kn+fltpLZGDavNtlp0sHTM60tB+O/lEjfSn61FBK4g/MSUkTl6Q8ITvOxn2FnqMS9p\nOjwpPVau/9OPMq6lKUOKvA0hu5HbVhXZhVW/wX8cYPI/x5xCjCng1Vio8b3L/Mr6ockXwR3qhlRl\nWh/rFYsQBXF4Iu5cdoD0OEe32f+GMgLQ/j4wW7z/yNh/avW7U9qiONa2rGP7AAAAjkGf5kURLC//\nAJ9PO3fWVNYr6kFKgAnFNHPhVW5AlOxjQv95DuGQOOhimqwEbINl9EckxALnZzdsN4kuR3zKPWJE\ncmumDCO4quslIU/QCD4rzx7cBjKB6/GupK/OWqdEdox7rcxZRw6ni7a7ezGC3MD0/3nsGHaaZLpr\nVs38Su5nUCU0l63d82wBxO45uI8AAACFAZ4HakK/ANeQ0su517wBzDoVoREt1k77eJGP5oALWQ3y\n5sCxlZo9UdPblf2iSSEWkVZxyQi5/AkOPnQCNHHQtKHSFE7rdouMvKWOxJOue0G1KHJ0Z/nFSnYf\nZuL2YrUcpw1I/QpYhYhjHFOM8WTwTXJQxUMnHqEH2KicoeBjS1qjEjZdmgAAAc1BmgxJqEFsmUwI\nb//+p4QBBHcyEAIMvBVYOioJgkT0P657h483JnOy0cG7eN0KxgdV2mMtoJ7aUrGYcVvFegAZ+tBO\n/Q/tAV/Go9VXvBzNKnT6qiWPFmK8LsI3Y8zxrXgAYUnY+1JLofgdv0fDsgieaSrY6ngJID1ELxrh\naom25L0VF+1TPm+6SvQoOA0/QwSPrYVix79VlV7aLxaLyshu4n2J1AUnvKYF5hBs4WBW0QwQFXMj\nn8AK4oqY9rOcYPodwf10pdkro0nF/q7kCJrozLe1yvuFSEvREZlWLiLXOAhUruydDKRHbGWowA3a\nW2Kzq+9wwJ+iGUH0B0q7q13k/OcN5qhnEaySAUsqMav8G6AM/TVv4XhtkGJRq7xF1HrsJgElOrrq\nEbjrRQGsGYxhl1nv3L9wOrg3S2G0lfjLYsAKwp0WK/OZohrATXC31xaZ63FVjyJRQptg/pt7GTyn\nC9Qzm4A7cowKo8dXbgrYNw5nc8RlnJ7FJubIgW6HfkzULvhGnh0Q1kVbcG85S5B7Ytho7qmPLQBU\n8pa7q0KGvEKVY3cRdgKvG4muSBOmfjCXiF8dFIK8snJodaibtF2Hs2N3AbeBKEzIL3Wd4AAAAN9B\nnipFFSwz/wB0GRIsACcecF4DENSK2N5KUKCgF24HctqGUtQnlPKCJkL7VhWEVwBgaWc0E3+wvQyV\ndQMMBNvlBpLUXfOmUSTydlq+8oBWQB2sWZmRM4xttG/+vRQbYtIQP2Rv1JxM9dcmcXxU8yf8K1I9\nf8jtUBsA6/z2gir5ig9a5wM88nJoGXz1SpJsrjTBY8ueVXHRofadoBP4XnFjlB2Sue2MhJg1s5w5\nq+JA7HPpr7hfzl26LkN5BK1CtAn3+nbKuq6NKeXzHz6I8mZ4H/tYCyyzRqcV15XhSilhAAAAYgGe\nSXRCvwDXf2toyUU5JtBq7+eJgrWJDj8ZX7V0lTJ22uxOHfP6TWjPv7gNfbRNIQAlOx7u2w0bDCdt\noRsinnPR/x32NxSUoJmbnXcURUlUU3FkS7/4Bzf/aacAHSfry4J+AAAAbQGeS2pCvwDU3ii327aE\nAJq84StogBgi9QtVtec9Gvfp8PPxIT4GWTkX2O+coR2nSaYEbjXAk57/gbwueriOuFtLtDIRDXOj\nGLkqiyL+uQbseaglrEOeFHViQm+kAZ30+7kQo2nxBeGamGcbnpAAAAD7QZpNSahBbJlMCG///qeE\nAQVacmaAgAFye1oUCi+k3xYCswkpBR3toZ5Pfg+iTeyKgwPlqGNStFu8QIunobXIj7kjo6f8ers6\n18gG8dXPMN+YuXbb4gNgrQclSHLtDMHTPI6pFxVyxOuvOA733SxHDVO7Z1YR+E0k4SOwR39U3Zlr\nTMDKzIjbGt6C15c/AzV5oIovBnTOIxI0+qMgNcSC4EMa6z8Bmo7LpY+s5U18uX/dDV715+DdmGdS\nLJrgvMSmC+YvpSQrEanQxonyXO7KTwMxHqD+XUREpElwjdm7QYHJECdgemToCw/iJ8ZKLwqnXl9I\nqb/cqIKSErUAAADyQZpuSeEKUmUwId/+qZYBJ9klBAOkk+gwoYO+XY2pQ9MrGJ341XVx5cun8MQO\nDy5RCYRjeDoMw2c4DUjxx4Bq33RQsfzvm2qJbkRxHdFT4Z25PbRVc1oZeitYCX17ddhhbQa1ETaP\nNSrJ2RiDoD8ZnLgfbOawmHjctwgtPyYMPiVKwxDWVsatxVwlLQRIriNwS90nfmtOJzjNIKzcGuNX\nBxUbSVA4d0K49pDcLzTWMaUqZ0A4Kd3Fg8ZDtuN+fbJkVO1c9uA27Zz3V7+SdeZbfM+SwctcIT5o\nF0430i/zWfZIhtHORz4/1T+qtcBODHyXFn0AAAE4QZqPSeEOiZTAh//+qZYAiE4TOt0ANTr1KXtA\nQf9+RvOD7rrKUxHjvf8SAQlHaUQ6B80zy2MdnL8ba2tNURr1UnfDFFZFQHpr0hgiW3EvgGXbRe9d\nyCxQ8seqmj2c6GyIcVxEMS/IFZnUTD2UGeYCaAlF0WlpZywXMeFJeyr2uF0/dJWOqu15Y6M4f63F\nUQgdh7i48p8Km76HdVX09rr5BQjhOminxAsEaTQv0cZDsePnwfcqPTJAk/Du/wKg23plGlKjeaVJ\nTXZklaEZJ+e4jj/3ppWDWVlTkLq7E+ksj7icLqEjuEb4DeDZPLXlkVledjZT3s43Gkp6Xg+WD9fF\n2WeRLxCit+BfKYQapJTedEEe7ngAgjj1GUECnLOsHDOsxfzyRbgsE24cnrMkgDokkEahqOP+DA43\nAAABhUGasknhDyZTAh///qmWAIQjdDgAmZQld1ZE169y97fSwzRlYidQfgQowYic7U/ZBpDg3ZJf\n94QmoqUsVjxHuT6SqhDWHGeg3opqJBg+Sh/OVZZwsZOM3YsO4lRBwbnUFCBiqIAaQ+0KaE0xd8PB\n/xDxaGkY0SJuEBmCO8ncq3pW4mpiD04Z/5uYzGW9oZ6ulV7uiJcdaNpf3QCYfLRKd0fFTqbkzpqU\niby1naxKYzk/mIB43v0DJAKV0Q+9V+RUiM7s71lqi3zfvdGWWjbU/BVEnRe0bWWmIDk+HKgBZvO/\nRqbClkx9PpQhPtD5gR7pbtE2lpw6vC75MzIxjrpLi7Q65fTVg/2Ic0R5y20koo4QKsvLxg0YnG9G\nB0d59vzFkFyI2qj4GPbupuJLILw2MZrtcZDvR/gd5vC9JYnRGLSEVBukiAIG9UHWuSREh+LoRN+Z\nTTRE7JdbTDdpDocBAgsGbFzlKjG21Z2Rms9ebVz9PPKygeiInwGiRpJxo2tJEt9c+lZUAAAAUkGe\n0EURPC//AJ9OPuWH9DB89fNACXVa3DeuEdKRd7pIwLxsYfSMCRLxc5J5GeXBGl/G3PiHxrvwaXI5\nlUg+Pb8UgDn/bKMhcdYOwvxopk70xIoAAAA4AZ7xakK/ANe5IPGLTcgbbx7LnshMZjwFj2zT1w7j\nXr8ZmtpZPsIh6n7k8QDPVqiqqx9LdTgubXEAAAEsQZr2SahBaJlMCH///qmWAIQjdDgAhBLKkYsX\nCRNbna9UZ3bjb3ndJZUH57ImyQfQVjUSm9sP5XVyW/UfWxxJMfvU9pFofbWTiEIZvKvAyNWmCmWt\new3ZP8Vq38Ad0y2pQy8I1Pbvxv0yIUTIOBaqeX0wc/R7VcpvrK9XdqbReKg2J2f+S4RA4wPVrgnt\n1IpPRuqggUqGHjfH1G7Ik8r8PumwvOrCAeLtNidb2FpmPXEZRZA+mMTTCu0x8BAKFeLCEo6JYJsE\nM29hEbEtSVPLenY4KyMHmXN77MDW5IdxnwjLuiV/Xon4nNy+4YsLrwTtZ71ZmulAuv5uN1HJjZiE\nzasUYFj6WHaxgceqBzfZoME2kuDUH7U98EMDujQkWU4mO0qlUaUwjXLuHBqQAAAAZkGfFEURLDP/\nAHR6NgASbx+y7wrEcFAZilTOusbpYVX6cKqJwM4VWnMKr3JAb+YRBGLiMuZ0mLSR4KbrIVBAHvpy\nwhoN6LAzEnf3MW8mGHfVP3RZUj6rwFjV+kvqmLExgkh2m1Jf2wAAAC8BnzN0Qr8A1334rCOk5qX3\nS1HG+mtwHEPjHl9CTHm6yDKcErbXGyPh41EyyVvTmQAAADEBnzVqQr8A17kOsyU9RYbRnWuwf5Hg\nQV7y1XkPkeqyfnE744d4q7GJZBedB0xO22gUAAAAt0GbOkmoQWyZTAh///6plgCEI3Q4AHLkqZnP\notmT+FYJrG/JZbhJhN+/QVlxj69RwiI+rhN3UWwaNXO6qxtaVTZw9VeBGA95+QaSiLRXZpie8FhR\nlFQm4hCBifAH43ImG/IyZKUY2KaD4g5duMtLET88YA6Y88i9ZQG91MtesZzhqIa6XgCZcka0BQOn\nE44VbPp7qJV0RU6PFOCmgUGxLBBfNA14YCL7Qri8M8cGNkeFfZ/wirK1fQAAAFtBn1hFFSwz/wB0\nEoQsACbLlCEIm8JXztn6orZSky2P2ThR7TTZAhN+Wy+pkMPvNvdFQM8OckBQayZ8gWqlZCEvvQtI\niN88eM/0MV8dsFu/bT03Z569uAyGZSK5AAAAJgGfd3RCvwDXfe8UBOMbxk7NjrZL9YrhpXkiSzYb\nj8tcizmrKa2AAAAAGgGfeWpCvwDXj6SLDYabmbQkO8uGRTkFYg8fAAAAi0GbfkmoQWyZTAh///6p\nlgCEMnAvgAvYvEFnv1w5NnD4M/mb7vLfjXbSokInOslW0jZJOCWzl91d0UszhqToMHt4RHfZDjss\nR6mBAmOJP7jCmvQTprMLbJb5+YoP5MQFLXPvHALFQecUXODU6dqA07OVz7nk6ri/i5fOQhYuimon\niXCUaqOja+4IupgAAAA/QZ+cRRUsM/8AdA2lsABevOC0ffOqQFDs7QYAYCyNv3a9nPHuPUHiiYkY\nafAr7zq0lBMBczWjaeWkxxYXrHxtAAAAGAGfu3RCvwDXxrnZh0SwY2XVMcORMbXSQQAAABgBn71q\nQr8A14/3Xx0WkPrLtlr+VMpuuqAAAABSQZuiSahBbJlMCH///qmWAIQycC+ADZRZg2uW0ZvgSdxK\naHfAhzf7Fp0tvmGALBg9osCGiqSIGvIpmLhUNr7TutpoxnoXEI3ckPZGlTHLXAPxoQAAAD5Bn8BF\nFSwz/wBzYgvRYAE2Q2vrRxWrCsPLjAve0Nik/kePVJNa6sJrt97RyDgZzdvPAvsco4U5Fs5oxMLk\nrQAAABkBn/90Qr8A137rv8Y3t7jilXJmKTSsVLzcAAAAFgGf4WpCvwDXj/ihQbnXyiLhaTjjq6kA\nAACaQZvmSahBbJlMCH///qmWAIhThHW6AHNFnRTwjE/6nVCGZlZn0pqU7wOhZPQxMm06bEwqcLMG\nSRLn1ipBIrbbJlnxpXsw4qm/3jAQbvBin8BuqjmiOm9BDS7tZyBZWq8LknGtgVx1piIa4iP8+OEw\nUINlnZRmtn5wfhnWuMMkbGRayjwWC8UqjYnkbo9WdRNnYZKikRwTUfJswAAAAEpBngRFFSwz/wB2\nuI5GwlCYACZjC3KgeOxH/KkZlTTk3RCVHuWaRWMrLHjXUqnO7/nE7fhhhX7XY2I5W1ufyONWWJDD\n+d9enzxqKQAAABYBniN0Qr8A3H7rv7ZGNHhU/gn29M05AAAAFAGeJWpCvwDXj/ihQbM+8qKlLSTH\nAAAAZEGaKkmoQWyZTAh///6plgCEI3Q4AHHzQDT/ZBY3T1+Uhzv5BLUqYqohk1ur1ZQk+rz6mAqg\nfcHq+WIq+1EZBg4V9riVo+eyXkoHq2b1qWqvbXtbgNuAfoL/cMQ59is6Kb8GVTEAAABAQZ5IRRUs\nM/8AdA2lsACUhk8cS606/dfD2X53IxPk2ZnwpBiGHJdtwiH1W2G+wR2dk4s8i47rdgBKh0Du90YZ\n4AAAABQBnmd0Qr8A139jnr47gUx980LZoAAAABUBnmlqQr8A17oZhtCJg8B/6Usho2EAAABWQZpu\nSahBbJlMCH///qmWAIQjdDgAcuSmVxhmMlztEHMs7zt6OnPfx3WRNJ89fnT2phCa2TZMJ3736Tl/\ntmKwyfsGYObqumY1PYU9G700ceLGffT2+YAAAABIQZ6MRRUsM/8AdHo2AA/E/1Qr7Tmw1y79N22H\nqsVQ23qczgZl1gxydS9KElFIYRvTndvZ+OsyqSCffK5N+7MS6d0d/SL2/IuAAAAAFwGeq3RCvwDX\nf2OexjTw7n/NMBL8Wkr5AAAAFAGerWpCvwDXj/ihQbM+9CvzDoTHAAAASkGaskmoQWyZTAh///6p\nlgCEgbkvoAGebEyI/TVAs/vI62d3z/31nz3ySv27qZBUyRriz9HgpthvIfFssgip2TfQEKbApdTF\ntOphAAAAP0Ge0EUVLDP/AHNTH4WABOPBpka5v8C3IkPAWIb/Bsv8aIChmqfPi6n8+Z907571hokf\nziX9TDESGJuIOCa1tAAAABUBnu90Qr8A139qDeeNrtGc1JTakpsAAAAVAZ7xakK/ANeQz+hkFUuA\nz7SUyMsvAAAAUkGa9kmoQWyZTAh///6plgCEMnAvgA2UlTHkHfWwC3+AZ7Sr2XUJ4mCeC8uc7T+U\nBPv8/j0fUo3vWsKDNRpSp7gm71lzMtD7lRm6qpxGjoGxwi4AAABBQZ8URRUsM/8Ac2IL0WABNlxc\nAprrEWM+jZ8JqoMe8fX0g7EYtxnwqykbl2bzOzopAznwMeBfZeLaPLb2SF8iFUwAAAAVAZ8zdEK/\nANd/ag3nja7RnNSU2pKbAAAAFQGfNWpCvwDXj/iK7o6TDsTV0e5ljwAAAGdBmzpJqEFsmUwIf//+\nqZYAiAN9Ak+AL0Cnd+LFV8DZh8ZvWjG9BUFyjAFZOVXhYaWqlBH2opTmD6XpKTTDaqW8vy6vQOeH\nOZH5Aq/JvLxWw8AksUV70p5yi2ikHucfMWWQTvZWvIVtAAAAQ0GfWEUVLDP/AHa4x+PqsgAnG5Q4\n/8aGBoJdS7A+yZUxnSOeAe+gukbcuqFSiQI6oiq504SHOfzoHjhxIUO7gRBMwZkAAAAWAZ93dEK/\nANx+68Fy3nq8eHgY86kfNQAAABUBn3lqQr8A14/4iu6Okw7E1dHuZY8AAABOQZt+SahBbJlMCH//\n/qmWAIQjdDgAcs0tgmufTBDe27ZEUFMgwf9zq54MtFjd/SWQvT12Owc4TEy2akLknCcp40L4ESpg\nIEJw0J1pKwpIAAAAQEGfnEUVLDP/AHR6NgASl0LBC3zUhLdZj6Ju8k+DZdsoEY/5FZcijtYODWqD\nUSQf+ckgn4GNJT0WCw92sqB7jM0AAAAVAZ+7dEK/ANd/ag3nja7RnNSU2pKbAAAAFgGfvWpCvwDX\nuhmBfj8lQ6s9dHuOiaAAAAAyQZuiSahBbJlMCH///qmWAIQjdDgAcuSl7gZyKFwpsZraL+zpb2Eh\n3p9NKSvwOckgd0AAAABEQZ/ARRUsM/8AdBkSLAAnDiq142Z7hjMXIDHcC/+xQwadtdP6Qplh9nak\npzYAMQ1ZqBV/pSBIo/y0gpBkGpL9rKglwc0AAAAVAZ//dEK/ANd/ag3nja7RnNSU2pKbAAAAFQGf\n4WpCvwDXj/iK7o6TDsTV0e5ljwAAADlBm+ZJqEFsmUwIf//+qZYAhIG5L6ABnkYofXnbczq/zrn8\nKePvrP4X8qrX9qEhlOtF193wU9SwHzAAAAA+QZ4ERRUsM/8AcozCSLAAnDZfs4c2sATP+axkkkp4\nvNxe9PSRR3/jkr3Ocr3N9zzGR8dc5eKo2VT7UzBau+cAAAAVAZ4jdEK/ANd/ag3nja7RnNSU2pKb\nAAAAFQGeJWpCvwDXkM/oZBVLgM+0lMjLLwAAAD5BmipJqEFsmUwIf//+qZYAhDJwL4AL2Rmu82YR\nS4ISVppwdf+/IXlfKPNl6uvbH0PzOqR/r0RXvVDD+pYD5wAAADtBnkhFFSwz/wBzYgvRYAE2XKic\nVoJozKLqJZaVZ9+A5q1psRk5zu75gmjOcIKl+WkEL7LxbR4850rJaQAAABUBnmd0Qr8A139qDeeN\nrtGc1JTakpsAAAAVAZ5pakK/ANeP+IrujpMOxNXR7mWPAAAAb0GabkmoQWyZTAh///6plgCIISXQ\nA5d0rvxIurhZO8kX79+m8GWTnNLERJsNV7L1SEqQdEwd4ketCjGMA3RIhSb7cc29TSltO1pOhWqm\nifURsmQIvgwOoulFvaio+EQav+7Gxu7nnu12FewDsmIHTAAAAEFBnoxFFSwz/wB2uD/rxYAE484L\nR9+ZrmOJDMpy/okOv9SDGV22aiPFxXjjRX50U1ez7sRZ8SxiQtmk+HcCH+5akAAAABcBnqt0Qr8A\n3H65P3k+vY/1BSaPOqd/mQAAABUBnq1qQr8A14/4iu6Okw7E1dHuZY8AAABLQZqySahBbJlMCH//\n/qmWAIQjdDgAgm9sqLlEVryh33MIpP8RQgZc2mjg2XtdhrktiqNVRMt3Y5aURfrNC9LvbzkzOlj5\nnsoC5l0xAAAAPkGe0EUVLDP/AHR6NgASb0++7qPGWE+ZzhOhRWpnDta9U8V1iYfM+KvcZxuPaJKw\ncP8tHZqOueBjtZT/8NqAAAAAFQGe73RCvwDXf2oN542u0ZzUlNqSmwAAABYBnvFqQr8A17onSJf/\nyP52bDPe2mx5AAAAMEGa9kmoQWyZTAh///6plgCEI3Q4AHLkqTiEHBCaK61Nb6yecZ9nWOm+6rlz\nkkDugAAAAEVBnxRFFSwz/wBzmLwgWABNlpSvKr7s/r+KTx6e9OCXQWNP6bYcYuQqX65rlBc2ErOb\n7/cClLRL/gY8qrN8ol9rKgTruoAAAAAVAZ8zdEK/ANd/ag3nja7RnNSU2pKbAAAAFQGfNWpCvwDX\nj/iK7o6TDsTV0e5ljwAAADlBmzpJqEFsmUwIf//+qZYAhDJwL4AKaupD68ytqeZm/KR7Ovfdzbmm\nHAfF5jgov5aeIXFaYF56AUEAAAA+QZ9YRRUsM/8AdA2lsAB+Ls2x/hcfmoSkLZrIJJnMFyeW6jDM\nc+gxc5cObuR4rw8wv/HXMvFUbKZ9qZgHxv0AAAAVAZ93dEK/ANd/ag3nja7RnNSU2pKbAAAAFQGf\neWpCvwDXkM/oZBVLgM+0lMjLLwAAAD5Bm35JqEFsmUwIf//+qZYAhDJwL4AL2Rmusz8Rqn4HbUFv\n6owOUaV8qm73My21tMWzVSQbQaaVOuS9PPQCggAAADpBn5xFFSwz/wBzYA6ofQAmCEQvI4indLE5\ng50vOCG+z+LGUWJV1tNrfj1kZz4GPDDMsFtHjznP7H1BAAAAFQGfu3RCvwDXf2oN542u0ZzUlNqS\nmwAAABUBn71qQr8A14/4iu6Okw7E1dHuZY8AAABzQZuiSahBbJlMCH///qmWAIghJdADmkqXc43g\nQLA2uNTiTuoD3dbSsd3oTmToOYPZPWCG9NugMzmF1rOhP1bWWmtr2JLaAVrZd12Qpe9i1MFpc+in\nE/qRHiJPSS18yXkUr5y3Ruw7JmZATMKkBdKYP5SC4gAAAFFBn8BFFSwz/wB2uBbCxjSyACTtw2L4\nIeWCIQewTPeClP9K9uSivad1D/NNZYQIdZJys6q+2EhSw7D0TpCeRPqawkEhmX9Y3fl04CTUkkoC\nEykAAAAXAZ//dEK/ANx+60JTguTHJv3VJTQcY4AAAAAVAZ/hakK/ANeP+IrujpMOxNXR7mWPAAAA\nPkGb5kmoQWyZTAh///6plgCEXY2WgA12b2xMMRkIEa6adfBi8tKtv37vzeh1tCYSwIt8/eHGfLZ/\nyzP+SQO6AAAAQEGeBEUVLDP/AHR6NgASbyAYu6RdZgyBA+Jwk+jXObR98mazqM1SKGoPzSknxONh\n4GpGV+BjQ1HXPAx2sp/+G1EAAAAVAZ4jdEK/ANd/ag3nja7RnNSU2pKbAAAAFgGeJWpCvwDXuhmB\nfj8lQ6s9dHuOiaEAAAAzQZoqSahBbJlMCH///qmWAIQjdDgAcuSpmc+i2ZObjlneLnirOdAmkhZk\ncxlXqgc5JA7pAAAAQ0GeSEUVLDP/AHQNpbAAXhcq9mie9lgdyKJFMpZCKG7GG8zySNJfbn6vD16e\nCJd3tBYrnMwFH+WkGdh23Fv2sqCXBzAAAAAVAZ5ndEK/ANfHk+R8jmzFiGkptC02AAAAFQGeaWpC\nvwDXj/iK7o6TDsTV0e5ljwAAADpBmm5JqEFsmUwIf//+qZYAhDJwL4AKaykl+LMZkm6I9p3ry8JL\nQSSK+Iv0zpv8Z/DHapCDaALOQNmAAAAAPkGejEUVLDP/AHNSKqfQAmTbJ2cHpzwK+6MLAaAFm/sY\nQvDIwLcF/ceLxnVNiwmpEj+f+cwVETKj9qZgsqtoAAAAFQGeq3RCvwDXf2oN542u0ZzUlNqSmwAA\nABUBnq1qQr8A15DP6GQVS4DPtJTIyy8AAABDQZqySahBbJlMCH///qmWAISBuS+gAhxGa6zniRm+\nBCv2oNG6180ArKi0tsoTnTh9WDI+BHpCNkk3BEIHxs2uzkDZgQAAAERBntBFFSwz/wBzYA2AsAC3\nh5b/VIv5XI+Hdtp1yd5HYrtdLVRX/RddiJeSUru2DlxlWbLfBTz/RQOLhq3WCu1NQKlnMAAAABUB\nnu90Qr8A137rt2V9S0ZpnH1eIaAAAAAVAZ7xakK/ANe6GYF+PyVD/9Hey8x5AAAAfUGa9kmoQWyZ\nTAh///6plgCIISXQArqa4eF63wYerTCYj8czzoCRmYk/yjCShqxOAuaLcUkhPPnVOyEIMGfdH/dE\niIrw2TtpyACWNkwvsrd9T6vQVnuFcR3lNYzz0iBPVaKZIYXcC0/Yvp2zORCR1fjM0ar6JAVIBb2/\ngPmAAAAAR0GfFEUVLDP/AHa4jqZU1kAEqVyftENY2x4kUQTqMm/RH6MYExdlgd7FdXQRo4DqCj1C\nDzhpAqcsxDsH4ljDxbMKzXHz3nCQAAAAFwGfM3RCvwDcpEQ4XLeeqR4eBjzqR81BAAAAFQGfNWpC\nvwDXj/iK7o6TDsTV0e5ljwAAAEVBmzpJqEFsmUwId//+qZYAhLRiTfQATgLevD7ZxsnfhpZpFB1X\nlHSGLRmUyW/8pGZGgPTRNxTScHmUvBCfXf8JTMMgCpkAAABBQZ9YRRUsM/8AdA2lsACU0J0DkwqB\n15E27Mu/Rdx7agFkGwK/wCvex3BjH4SqozKAG5gKP8tIM7DtuLftZUEuDmEAAAAVAZ93dEK/ANd/\nag3nja7RnNSU2pKbAAAAFgGfeWpCvwDXLBvqm35ySlZTDPe8Uc0AAAAzQZt+SahBbJlMCHf//qmW\nAIQfadAA2UL1UYI7iApQK8+9rQ5c1bnd5vINFq+7XkYZAFTAAAAAQUGfnEUVLDP/AHR6NgAL1ysx\nG6MKMimsvjWSPIzxaALsC9b4MKiS8+jk/hO1/iltZINBBlfgY0NR1zwMdrKf/htRAAAAFQGfu3RC\nvwDXx5PkfI5sxYhpKbQtNwAAABUBn71qQr8A14/4iu6Okw7E1dHuZY8AAAA6QZuiSahBbJlMCHf/\n/qmWAIQwjDoAF4Rb7A2XGCB3Etc36waNtyBWE9P1JfG1AADc/YBBQz/1Hd0CHgAAAD5Bn8BFFSwz\n/wBzVIBWAsACceDTI0HQWEdPLFDOuFLFDx4a5PPAMPrY7mlO9o13cGF/5/5y4VRYqP2pmCwLTwAA\nABUBn/90Qr8A139qDeeNrtGc1JTakpsAAAAVAZ/hakK/ANeQz+hkFUuAz7SUyMsvAAAAOkGb5kmo\nQWyZTAhn//6eEAPysWtgANeBndQAxPrzRknwZeyU6NkfuzqwgwMYlCO3av0XlEvDf0qkARcAAAA/\nQZ4ERRUsM/8Ac+nJ4sACbLi37TIiJNj7C5annT5I1rirQ1K3UIm2ODGkRV+Hq4bobP8tIPNmV6kt\n2sqC7d0hAAAAFgGeI3RCvwDXfuu3ZX1LRcEN0fWSx4EAAAAVAZ4lakK/ANeP+IrujpMOxNXR7mWP\nAAAAakGaJ0moQWyZTAhX//44QA/DLR2zwAH1q0gumsGzh+Hu5EkoUK8YxWg7SO1XQBhy8F2xMFsC\nzD+HanoSFAxX+mweF873A2ChMFWrwV0B6mNAsO1S01ncmZLbI0arONbj9tQoQENfk7aHg48AAAv/\nbW9vdgAAAGxtdmhkAAAAAAAAAAAAAAAAAAAD6AAAJxAAAQAAAQAAAAAAAAAAAAAAAAEAAAAAAAAA\nAAAAAAAAAAABAAAAAAAAAAAAAAAAAABAAAAAAAAAAAAAAAAAAAAAAAAAAAAAAAAAAAAAAAAAAgAA\nCyl0cmFrAAAAXHRraGQAAAADAAAAAAAAAAAAAAABAAAAAAAAJxAAAAAAAAAAAAAAAAAAAAAAAAEA\nAAAAAAAAAAAAAAAAAAABAAAAAAAAAAAAAAAAAABAAAAAAWgAAAEgAAAAAAAkZWR0cwAAABxlbHN0\nAAAAAAAAAAEAACcQAAAEAAABAAAAAAqhbWRpYQAAACBtZGhkAAAAAAAAAAAAAAAAAAAoAAABkABV\nxAAAAAAALWhkbHIAAAAAAAAAAHZpZGUAAAAAAAAAAAAAAABWaWRlb0hhbmRsZXIAAAAKTG1pbmYA\nAAAUdm1oZAAAAAEAAAAAAAAAAAAAACRkaW5mAAAAHGRyZWYAAAAAAAAAAQAAAAx1cmwgAAAAAQAA\nCgxzdGJsAAAAtHN0c2QAAAAAAAAAAQAAAKRhdmMxAAAAAAAAAAEAAAAAAAAAAAAAAAAAAAAAAWgB\nIABIAAAASAAAAAAAAAABAAAAAAAAAAAAAAAAAAAAAAAAAAAAAAAAAAAAAAAAAAAAGP//AAAAMmF2\nY0MBZAAV/+EAGWdkABWs2UFwl5eEAAADAAQAAAMAoDxYtlgBAAZo6+PLIsAAAAAcdXVpZGtoQPJf\nJE/FujmlG88DI/MAAAAAAAAAGHN0dHMAAAAAAAAAAQAAAMgAAAIAAAAAFHN0c3MAAAAAAAAAAQAA\nAAEAAAXAY3R0cwAAAAAAAAC2AAAAAwAABAAAAAABAAAKAAAAAAEAAAQAAAAAAQAAAAAAAAABAAAC\nAAAAAAEAAAYAAAAAAQAAAgAAAAABAAAIAAAAAAIAAAIAAAAAAQAACAAAAAACAAACAAAAAAEAAAYA\nAAAAAQAAAgAAAAABAAAEAAAAAAEAAAYAAAAAAQAAAgAAAAABAAAGAAAAAAEAAAIAAAAABAAABAAA\nAAABAAAGAAAAAAEAAAIAAAAAAQAACgAAAAABAAAEAAAAAAEAAAAAAAAAAQAAAgAAAAABAAAKAAAA\nAAEAAAQAAAAAAQAAAAAAAAABAAACAAAAAAEAAAYAAAAAAQAAAgAAAAABAAAIAAAAAAIAAAIAAAAA\nAQAACAAAAAACAAACAAAAAAEAAAYAAAAAAQAAAgAAAAABAAAEAAAAAAEAAAgAAAAAAgAAAgAAAAAD\nAAAEAAAAAAEAAAYAAAAAAQAAAgAAAAACAAAEAAAAAAEAAAYAAAAAAQAAAgAAAAABAAAEAAAAAAEA\nAAoAAAAAAQAABAAAAAABAAAAAAAAAAEAAAIAAAAAAgAABAAAAAABAAAKAAAAAAEAAAQAAAAAAQAA\nAAAAAAABAAACAAAAAAEAAAgAAAAAAgAAAgAAAAABAAAKAAAAAAEAAAQAAAAAAQAAAAAAAAABAAAC\nAAAAAAMAAAQAAAAAAQAACAAAAAACAAACAAAAAAEAAAoAAAAAAQAABAAAAAABAAAAAAAAAAEAAAIA\nAAAAAQAACgAAAAABAAAEAAAAAAEAAAAAAAAAAQAAAgAAAAABAAAKAAAAAAEAAAQAAAAAAQAAAAAA\nAAABAAACAAAAAAEAAAoAAAAAAQAABAAAAAABAAAAAAAAAAEAAAIAAAAAAQAACgAAAAABAAAEAAAA\nAAEAAAAAAAAAAQAAAgAAAAABAAAKAAAAAAEAAAQAAAAAAQAAAAAAAAABAAACAAAAAAEAAAoAAAAA\nAQAABAAAAAABAAAAAAAAAAEAAAIAAAAAAQAACgAAAAABAAAEAAAAAAEAAAAAAAAAAQAAAgAAAAAB\nAAAKAAAAAAEAAAQAAAAAAQAAAAAAAAABAAACAAAAAAEAAAoAAAAAAQAABAAAAAABAAAAAAAAAAEA\nAAIAAAAAAQAACgAAAAABAAAEAAAAAAEAAAAAAAAAAQAAAgAAAAABAAAKAAAAAAEAAAQAAAAAAQAA\nAAAAAAABAAACAAAAAAEAAAoAAAAAAQAABAAAAAABAAAAAAAAAAEAAAIAAAAAAQAACgAAAAABAAAE\nAAAAAAEAAAAAAAAAAQAAAgAAAAABAAAKAAAAAAEAAAQAAAAAAQAAAAAAAAABAAACAAAAAAEAAAoA\nAAAAAQAABAAAAAABAAAAAAAAAAEAAAIAAAAAAQAACgAAAAABAAAEAAAAAAEAAAAAAAAAAQAAAgAA\nAAABAAAKAAAAAAEAAAQAAAAAAQAAAAAAAAABAAACAAAAAAEAAAoAAAAAAQAABAAAAAABAAAAAAAA\nAAEAAAIAAAAAAQAACgAAAAABAAAEAAAAAAEAAAAAAAAAAQAAAgAAAAABAAAKAAAAAAEAAAQAAAAA\nAQAAAAAAAAABAAACAAAAAAEAAAoAAAAAAQAABAAAAAABAAAAAAAAAAEAAAIAAAAAAQAACgAAAAAB\nAAAEAAAAAAEAAAAAAAAAAQAAAgAAAAABAAAKAAAAAAEAAAQAAAAAAQAAAAAAAAABAAACAAAAAAEA\nAAoAAAAAAQAABAAAAAABAAAAAAAAAAEAAAIAAAAAAQAACgAAAAABAAAEAAAAAAEAAAAAAAAAAQAA\nAgAAAAABAAAKAAAAAAEAAAQAAAAAAQAAAAAAAAABAAACAAAAAAEAAAoAAAAAAQAABAAAAAABAAAA\nAAAAAAEAAAIAAAAAAQAACgAAAAABAAAEAAAAAAEAAAAAAAAAAQAAAgAAAAABAAAEAAAAABxzdHNj\nAAAAAAAAAAEAAAABAAAAyAAAAAEAAAM0c3RzegAAAAAAAAAAAAAAyAAACwEAAAHuAAAAvwAAAQMA\nAACcAAAARgAAAE0AAAEMAAAAWQAAAbMAAAEMAAABFAAAAV8AAAFCAAABJgAAAfkAAADpAAABoAAA\nANcAAACVAAABVQAAAUQAAAGDAAAB4AAAAX4AAAERAAACBwAAAUsAAAIeAAAAewAAAPQAAAB1AAAB\ntQAAAbkAAACpAAAA5QAAAQQAAADEAAABOAAAALQAAABmAAACLwAAARgAAAEjAAABvgAAATMAAAE0\nAAABTAAAAK8AAACgAAAA3wAAAecAAAHFAAABcwAAAXIAAAGUAAABigAAAYAAAAFNAAABxAAAAOQA\nAACpAAAAUgAAAEcAAADlAAAA0AAAAfoAAAEiAAAAlAAAAG4AAAHyAAAAkgAAAIkAAAHRAAAA4wAA\nAGYAAABxAAAA/wAAAPYAAAE8AAABiQAAAFYAAAA8AAABMAAAAGoAAAAzAAAANQAAALsAAABfAAAA\nKgAAAB4AAACPAAAAQwAAABwAAAAcAAAAVgAAAEIAAAAdAAAAGgAAAJ4AAABOAAAAGgAAABgAAABo\nAAAARAAAABgAAAAZAAAAWgAAAEwAAAAbAAAAGAAAAE4AAABDAAAAGQAAABkAAABWAAAARQAAABkA\nAAAZAAAAawAAAEcAAAAaAAAAGQAAAFIAAABEAAAAGQAAABoAAAA2AAAASAAAABkAAAAZAAAAPQAA\nAEIAAAAZAAAAGQAAAEIAAAA/AAAAGQAAABkAAABzAAAARQAAABsAAAAZAAAATwAAAEIAAAAZAAAA\nGgAAADQAAABJAAAAGQAAABkAAAA9AAAAQgAAABkAAAAZAAAAQgAAAD4AAAAZAAAAGQAAAHcAAABV\nAAAAGwAAABkAAABCAAAARAAAABkAAAAaAAAANwAAAEcAAAAZAAAAGQAAAD4AAABCAAAAGQAAABkA\nAABHAAAASAAAABkAAAAZAAAAgQAAAEsAAAAbAAAAGQAAAEkAAABFAAAAGQAAABoAAAA3AAAARQAA\nABkAAAAZAAAAPgAAAEIAAAAZAAAAGQAAAD4AAABDAAAAGgAAABkAAABuAAAAFHN0Y28AAAAAAAAA\nAQAAACwAAABidWR0YQAAAFptZXRhAAAAAAAAACFoZGxyAAAAAAAAAABtZGlyYXBwbAAAAAAAAAAA\nAAAAAC1pbHN0AAAAJal0b28AAAAdZGF0YQAAAAEAAAAATGF2ZjU3LjgzLjEwMA==\n\">\n  Your browser does not support the video tag.\n</video>"
                },
                "metadata": {}
              }
            ]
          }
        },
        "e2736d4bdbf94edf8ff9a84704ac8324": {
          "model_module": "@jupyter-widgets/output",
          "model_name": "OutputModel",
          "model_module_version": "1.0.0",
          "state": {
            "_dom_classes": [],
            "_model_module": "@jupyter-widgets/output",
            "_model_module_version": "1.0.0",
            "_model_name": "OutputModel",
            "_view_count": null,
            "_view_module": "@jupyter-widgets/output",
            "_view_module_version": "1.0.0",
            "_view_name": "OutputView",
            "layout": "IPY_MODEL_4f483d48e75b42619664bb43a01874c3",
            "msg_id": "",
            "outputs": [
              {
                "output_type": "display_data",
                "data": {
                  "text/plain": "<IPython.core.display.HTML object>",
                  "text/html": "<video width=\"432\" height=\"288\" controls autoplay loop>\n  <source type=\"video/mp4\" src=\"data:video/mp4;base64,AAAAHGZ0eXBNNFYgAAACAGlzb21pc28yYXZjMQAAAAhmcmVlAACD1W1kYXQAAAKuBgX//6rcRem9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\nNy44My4xMDA=\n\">\n  Your browser does not support the video tag.\n</video>"
                },
                "metadata": {}
              }
            ]
          }
        },
        "889c11c42cc94d998cb2d2cc345b7337": {
          "model_module": "@jupyter-widgets/output",
          "model_name": "OutputModel",
          "model_module_version": "1.0.0",
          "state": {
            "_dom_classes": [],
            "_model_module": "@jupyter-widgets/output",
            "_model_module_version": "1.0.0",
            "_model_name": "OutputModel",
            "_view_count": null,
            "_view_module": "@jupyter-widgets/output",
            "_view_module_version": "1.0.0",
            "_view_name": "OutputView",
            "layout": "IPY_MODEL_be8a363a8b734d60811f9fc2e858b7c0",
            "msg_id": "",
            "outputs": [
              {
                "output_type": "display_data",
                "data": {
                  "text/plain": "<Figure size 432x288 with 1 Axes>",
                  "image/png": "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\n"
                },
                "metadata": {
                  "needs_background": "light"
                }
              }
            ]
          }
        },
        "664fc97ee5d346d69f90505969ab7434": {
          "model_module": "@jupyter-widgets/base",
          "model_name": "LayoutModel",
          "model_module_version": "1.2.0",
          "state": {
            "_model_module": "@jupyter-widgets/base",
            "_model_module_version": "1.2.0",
            "_model_name": "LayoutModel",
            "_view_count": null,
            "_view_module": "@jupyter-widgets/base",
            "_view_module_version": "1.2.0",
            "_view_name": "LayoutView",
            "align_content": null,
            "align_items": null,
            "align_self": null,
            "border": null,
            "bottom": null,
            "display": null,
            "flex": null,
            "flex_flow": null,
            "grid_area": null,
            "grid_auto_columns": null,
            "grid_auto_flow": null,
            "grid_auto_rows": null,
            "grid_column": null,
            "grid_gap": null,
            "grid_row": null,
            "grid_template_areas": null,
            "grid_template_columns": null,
            "grid_template_rows": null,
            "height": null,
            "justify_content": null,
            "justify_items": null,
            "left": null,
            "margin": null,
            "max_height": null,
            "max_width": null,
            "min_height": null,
            "min_width": null,
            "object_fit": null,
            "object_position": null,
            "order": null,
            "overflow": null,
            "overflow_x": null,
            "overflow_y": null,
            "padding": null,
            "right": null,
            "top": null,
            "visibility": null,
            "width": null
          }
        },
        "1432f92a7b054ad0806705fc9c478b70": {
          "model_module": "@jupyter-widgets/base",
          "model_name": "LayoutModel",
          "model_module_version": "1.2.0",
          "state": {
            "_model_module": "@jupyter-widgets/base",
            "_model_module_version": "1.2.0",
            "_model_name": "LayoutModel",
            "_view_count": null,
            "_view_module": "@jupyter-widgets/base",
            "_view_module_version": "1.2.0",
            "_view_name": "LayoutView",
            "align_content": null,
            "align_items": null,
            "align_self": null,
            "border": "1px solid black",
            "bottom": null,
            "display": null,
            "flex": null,
            "flex_flow": null,
            "grid_area": null,
            "grid_auto_columns": null,
            "grid_auto_flow": null,
            "grid_auto_rows": null,
            "grid_column": null,
            "grid_gap": null,
            "grid_row": null,
            "grid_template_areas": null,
            "grid_template_columns": null,
            "grid_template_rows": null,
            "height": null,
            "justify_content": null,
            "justify_items": null,
            "left": null,
            "margin": null,
            "max_height": null,
            "max_width": null,
            "min_height": null,
            "min_width": null,
            "object_fit": null,
            "object_position": null,
            "order": null,
            "overflow": null,
            "overflow_x": null,
            "overflow_y": null,
            "padding": null,
            "right": null,
            "top": null,
            "visibility": null,
            "width": null
          }
        },
        "4f483d48e75b42619664bb43a01874c3": {
          "model_module": "@jupyter-widgets/base",
          "model_name": "LayoutModel",
          "model_module_version": "1.2.0",
          "state": {
            "_model_module": "@jupyter-widgets/base",
            "_model_module_version": "1.2.0",
            "_model_name": "LayoutModel",
            "_view_count": null,
            "_view_module": "@jupyter-widgets/base",
            "_view_module_version": "1.2.0",
            "_view_name": "LayoutView",
            "align_content": null,
            "align_items": null,
            "align_self": null,
            "border": "1px solid black",
            "bottom": null,
            "display": null,
            "flex": null,
            "flex_flow": null,
            "grid_area": null,
            "grid_auto_columns": null,
            "grid_auto_flow": null,
            "grid_auto_rows": null,
            "grid_column": null,
            "grid_gap": null,
            "grid_row": null,
            "grid_template_areas": null,
            "grid_template_columns": null,
            "grid_template_rows": null,
            "height": null,
            "justify_content": null,
            "justify_items": null,
            "left": null,
            "margin": null,
            "max_height": null,
            "max_width": null,
            "min_height": null,
            "min_width": null,
            "object_fit": null,
            "object_position": null,
            "order": null,
            "overflow": null,
            "overflow_x": null,
            "overflow_y": null,
            "padding": null,
            "right": null,
            "top": null,
            "visibility": null,
            "width": null
          }
        },
        "be8a363a8b734d60811f9fc2e858b7c0": {
          "model_module": "@jupyter-widgets/base",
          "model_name": "LayoutModel",
          "model_module_version": "1.2.0",
          "state": {
            "_model_module": "@jupyter-widgets/base",
            "_model_module_version": "1.2.0",
            "_model_name": "LayoutModel",
            "_view_count": null,
            "_view_module": "@jupyter-widgets/base",
            "_view_module_version": "1.2.0",
            "_view_name": "LayoutView",
            "align_content": null,
            "align_items": null,
            "align_self": null,
            "border": "1px solid black",
            "bottom": null,
            "display": null,
            "flex": null,
            "flex_flow": null,
            "grid_area": null,
            "grid_auto_columns": null,
            "grid_auto_flow": null,
            "grid_auto_rows": null,
            "grid_column": null,
            "grid_gap": null,
            "grid_row": null,
            "grid_template_areas": null,
            "grid_template_columns": null,
            "grid_template_rows": null,
            "height": null,
            "justify_content": null,
            "justify_items": null,
            "left": null,
            "margin": null,
            "max_height": null,
            "max_width": null,
            "min_height": null,
            "min_width": null,
            "object_fit": null,
            "object_position": null,
            "order": null,
            "overflow": null,
            "overflow_x": null,
            "overflow_y": null,
            "padding": null,
            "right": null,
            "top": null,
            "visibility": null,
            "width": null
          }
        },
        "9aa21296467f4d71a019d472c8be65f3": {
          "model_module": "@jupyter-widgets/controls",
          "model_name": "HBoxModel",
          "model_module_version": "1.5.0",
          "state": {
            "_dom_classes": [],
            "_model_module": "@jupyter-widgets/controls",
            "_model_module_version": "1.5.0",
            "_model_name": "HBoxModel",
            "_view_count": null,
            "_view_module": "@jupyter-widgets/controls",
            "_view_module_version": "1.5.0",
            "_view_name": "HBoxView",
            "box_style": "",
            "children": [
              "IPY_MODEL_359c46bce2f342e9a7d4039d27086c66",
              "IPY_MODEL_019cb24c14c14d938b564621128bd5bf"
            ],
            "layout": "IPY_MODEL_c2e25b7906c64ca789650f877d61e4bb"
          }
        },
        "359c46bce2f342e9a7d4039d27086c66": {
          "model_module": "@jupyter-widgets/controls",
          "model_name": "VBoxModel",
          "model_module_version": "1.5.0",
          "state": {
            "_dom_classes": [],
            "_model_module": "@jupyter-widgets/controls",
            "_model_module_version": "1.5.0",
            "_model_name": "VBoxModel",
            "_view_count": null,
            "_view_module": "@jupyter-widgets/controls",
            "_view_module_version": "1.5.0",
            "_view_name": "VBoxView",
            "box_style": "",
            "children": [
              "IPY_MODEL_252473a4490545ba9143956f4e08fa82"
            ],
            "layout": "IPY_MODEL_3f4bdc8e286e4489ba8a685f9e341ff6"
          }
        },
        "019cb24c14c14d938b564621128bd5bf": {
          "model_module": "@jupyter-widgets/output",
          "model_name": "OutputModel",
          "model_module_version": "1.0.0",
          "state": {
            "_dom_classes": [],
            "_model_module": "@jupyter-widgets/output",
            "_model_module_version": "1.0.0",
            "_model_name": "OutputModel",
            "_view_count": null,
            "_view_module": "@jupyter-widgets/output",
            "_view_module_version": "1.0.0",
            "_view_name": "OutputView",
            "layout": "IPY_MODEL_fc183917b228464cbf1004279ce6ec0b",
            "msg_id": "",
            "outputs": [
              {
                "output_type": "display_data",
                "data": {
                  "text/plain": "<Figure size 432x288 with 1 Axes>",
                  "image/png": "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\n"
                },
                "metadata": {
                  "needs_background": "light"
                }
              }
            ]
          }
        },
        "c2e25b7906c64ca789650f877d61e4bb": {
          "model_module": "@jupyter-widgets/base",
          "model_name": "LayoutModel",
          "model_module_version": "1.2.0",
          "state": {
            "_model_module": "@jupyter-widgets/base",
            "_model_module_version": "1.2.0",
            "_model_name": "LayoutModel",
            "_view_count": null,
            "_view_module": "@jupyter-widgets/base",
            "_view_module_version": "1.2.0",
            "_view_name": "LayoutView",
            "align_content": null,
            "align_items": null,
            "align_self": null,
            "border": null,
            "bottom": null,
            "display": null,
            "flex": null,
            "flex_flow": null,
            "grid_area": null,
            "grid_auto_columns": null,
            "grid_auto_flow": null,
            "grid_auto_rows": null,
            "grid_column": null,
            "grid_gap": null,
            "grid_row": null,
            "grid_template_areas": null,
            "grid_template_columns": null,
            "grid_template_rows": null,
            "height": null,
            "justify_content": null,
            "justify_items": null,
            "left": null,
            "margin": null,
            "max_height": null,
            "max_width": null,
            "min_height": null,
            "min_width": null,
            "object_fit": null,
            "object_position": null,
            "order": null,
            "overflow": null,
            "overflow_x": null,
            "overflow_y": null,
            "padding": null,
            "right": null,
            "top": null,
            "visibility": null,
            "width": null
          }
        },
        "252473a4490545ba9143956f4e08fa82": {
          "model_module": "@jupyter-widgets/controls",
          "model_name": "FloatSliderModel",
          "model_module_version": "1.5.0",
          "state": {
            "_dom_classes": [],
            "_model_module": "@jupyter-widgets/controls",
            "_model_module_version": "1.5.0",
            "_model_name": "FloatSliderModel",
            "_view_count": null,
            "_view_module": "@jupyter-widgets/controls",
            "_view_module_version": "1.5.0",
            "_view_name": "FloatSliderView",
            "continuous_update": true,
            "description": "Input",
            "description_tooltip": null,
            "disabled": false,
            "layout": "IPY_MODEL_eafed5edca754b95b0a426c089bb6cb9",
            "max": 1,
            "min": -1,
            "orientation": "horizontal",
            "readout": true,
            "readout_format": ".2f",
            "step": 0.1,
            "style": "IPY_MODEL_e323aaa2bf7944c68a71a9051ae7dde0",
            "value": -0.3
          }
        },
        "3f4bdc8e286e4489ba8a685f9e341ff6": {
          "model_module": "@jupyter-widgets/base",
          "model_name": "LayoutModel",
          "model_module_version": "1.2.0",
          "state": {
            "_model_module": "@jupyter-widgets/base",
            "_model_module_version": "1.2.0",
            "_model_name": "LayoutModel",
            "_view_count": null,
            "_view_module": "@jupyter-widgets/base",
            "_view_module_version": "1.2.0",
            "_view_name": "LayoutView",
            "align_content": null,
            "align_items": null,
            "align_self": null,
            "border": null,
            "bottom": null,
            "display": null,
            "flex": null,
            "flex_flow": null,
            "grid_area": null,
            "grid_auto_columns": null,
            "grid_auto_flow": null,
            "grid_auto_rows": null,
            "grid_column": null,
            "grid_gap": null,
            "grid_row": null,
            "grid_template_areas": null,
            "grid_template_columns": null,
            "grid_template_rows": null,
            "height": null,
            "justify_content": null,
            "justify_items": null,
            "left": null,
            "margin": null,
            "max_height": null,
            "max_width": null,
            "min_height": null,
            "min_width": null,
            "object_fit": null,
            "object_position": null,
            "order": null,
            "overflow": null,
            "overflow_x": null,
            "overflow_y": null,
            "padding": null,
            "right": null,
            "top": null,
            "visibility": null,
            "width": null
          }
        },
        "eafed5edca754b95b0a426c089bb6cb9": {
          "model_module": "@jupyter-widgets/base",
          "model_name": "LayoutModel",
          "model_module_version": "1.2.0",
          "state": {
            "_model_module": "@jupyter-widgets/base",
            "_model_module_version": "1.2.0",
            "_model_name": "LayoutModel",
            "_view_count": null,
            "_view_module": "@jupyter-widgets/base",
            "_view_module_version": "1.2.0",
            "_view_name": "LayoutView",
            "align_content": null,
            "align_items": null,
            "align_self": null,
            "border": null,
            "bottom": null,
            "display": null,
            "flex": null,
            "flex_flow": null,
            "grid_area": null,
            "grid_auto_columns": null,
            "grid_auto_flow": null,
            "grid_auto_rows": null,
            "grid_column": null,
            "grid_gap": null,
            "grid_row": null,
            "grid_template_areas": null,
            "grid_template_columns": null,
            "grid_template_rows": null,
            "height": null,
            "justify_content": null,
            "justify_items": null,
            "left": null,
            "margin": null,
            "max_height": null,
            "max_width": null,
            "min_height": null,
            "min_width": null,
            "object_fit": null,
            "object_position": null,
            "order": null,
            "overflow": null,
            "overflow_x": null,
            "overflow_y": null,
            "padding": null,
            "right": null,
            "top": null,
            "visibility": null,
            "width": null
          }
        },
        "e323aaa2bf7944c68a71a9051ae7dde0": {
          "model_module": "@jupyter-widgets/controls",
          "model_name": "SliderStyleModel",
          "model_module_version": "1.5.0",
          "state": {
            "_model_module": "@jupyter-widgets/controls",
            "_model_module_version": "1.5.0",
            "_model_name": "SliderStyleModel",
            "_view_count": null,
            "_view_module": "@jupyter-widgets/base",
            "_view_module_version": "1.2.0",
            "_view_name": "StyleView",
            "description_width": "",
            "handle_color": null
          }
        },
        "fc183917b228464cbf1004279ce6ec0b": {
          "model_module": "@jupyter-widgets/base",
          "model_name": "LayoutModel",
          "model_module_version": "1.2.0",
          "state": {
            "_model_module": "@jupyter-widgets/base",
            "_model_module_version": "1.2.0",
            "_model_name": "LayoutModel",
            "_view_count": null,
            "_view_module": "@jupyter-widgets/base",
            "_view_module_version": "1.2.0",
            "_view_name": "LayoutView",
            "align_content": null,
            "align_items": null,
            "align_self": null,
            "border": null,
            "bottom": null,
            "display": null,
            "flex": null,
            "flex_flow": null,
            "grid_area": null,
            "grid_auto_columns": null,
            "grid_auto_flow": null,
            "grid_auto_rows": null,
            "grid_column": null,
            "grid_gap": null,
            "grid_row": null,
            "grid_template_areas": null,
            "grid_template_columns": null,
            "grid_template_rows": null,
            "height": null,
            "justify_content": null,
            "justify_items": null,
            "left": null,
            "margin": null,
            "max_height": null,
            "max_width": null,
            "min_height": null,
            "min_width": null,
            "object_fit": null,
            "object_position": null,
            "order": null,
            "overflow": null,
            "overflow_x": null,
            "overflow_y": null,
            "padding": null,
            "right": null,
            "top": null,
            "visibility": null,
            "width": null
          }
        },
        "61e6dbf5f05f493a9d4da9022542bb3c": {
          "model_module": "@jupyter-widgets/controls",
          "model_name": "HBoxModel",
          "model_module_version": "1.5.0",
          "state": {
            "_dom_classes": [],
            "_model_module": "@jupyter-widgets/controls",
            "_model_module_version": "1.5.0",
            "_model_name": "HBoxModel",
            "_view_count": null,
            "_view_module": "@jupyter-widgets/controls",
            "_view_module_version": "1.5.0",
            "_view_name": "HBoxView",
            "box_style": "",
            "children": [
              "IPY_MODEL_1021555767ea4008ac04287ab0ecef74",
              "IPY_MODEL_6314d5095cb9489bb762e64bbbc52aae",
              "IPY_MODEL_cd02f59a1ebd496abda521907797a4dd"
            ],
            "layout": "IPY_MODEL_94cac29720e842d3bb66e1863667111f"
          }
        },
        "1021555767ea4008ac04287ab0ecef74": {
          "model_module": "@jupyter-widgets/output",
          "model_name": "OutputModel",
          "model_module_version": "1.0.0",
          "state": {
            "_dom_classes": [],
            "_model_module": "@jupyter-widgets/output",
            "_model_module_version": "1.0.0",
            "_model_name": "OutputModel",
            "_view_count": null,
            "_view_module": "@jupyter-widgets/output",
            "_view_module_version": "1.0.0",
            "_view_name": "OutputView",
            "layout": "IPY_MODEL_26ecc680b2c44ed6891c006c5dd554c6",
            "msg_id": "",
            "outputs": [
              {
                "output_type": "display_data",
                "data": {
                  "text/plain": "<IPython.core.display.HTML object>",
                  "text/html": "<video width=\"360\" height=\"288\" controls autoplay loop>\n  <source type=\"video/mp4\" src=\"data:video/mp4;base64,AAAAHGZ0eXBNNFYgAAACAGlzb21pc28yYXZjMQAAAAhmcmVlAACwH21kYXQAAAKuBgX//6rcRem9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\n\">\n  Your browser does not support the video tag.\n</video>"
                },
                "metadata": {}
              }
            ]
          }
        },
        "6314d5095cb9489bb762e64bbbc52aae": {
          "model_module": "@jupyter-widgets/output",
          "model_name": "OutputModel",
          "model_module_version": "1.0.0",
          "state": {
            "_dom_classes": [],
            "_model_module": "@jupyter-widgets/output",
            "_model_module_version": "1.0.0",
            "_model_name": "OutputModel",
            "_view_count": null,
            "_view_module": "@jupyter-widgets/output",
            "_view_module_version": "1.0.0",
            "_view_name": "OutputView",
            "layout": "IPY_MODEL_21ca0b2e93644704a7789ab588254d9c",
            "msg_id": "",
            "outputs": [
              {
                "output_type": "display_data",
                "data": {
                  "text/plain": "<Figure size 432x288 with 1 Axes>",
                  "image/png": "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\n"
                },
                "metadata": {
                  "needs_background": "light"
                }
              }
            ]
          }
        },
        "cd02f59a1ebd496abda521907797a4dd": {
          "model_module": "@jupyter-widgets/output",
          "model_name": "OutputModel",
          "model_module_version": "1.0.0",
          "state": {
            "_dom_classes": [],
            "_model_module": "@jupyter-widgets/output",
            "_model_module_version": "1.0.0",
            "_model_name": "OutputModel",
            "_view_count": null,
            "_view_module": "@jupyter-widgets/output",
            "_view_module_version": "1.0.0",
            "_view_name": "OutputView",
            "layout": "IPY_MODEL_b248efe6254447449e1e26d0086143e0",
            "msg_id": "",
            "outputs": [
              {
                "output_type": "display_data",
                "data": {
                  "text/plain": "<Figure size 432x288 with 1 Axes>",
                  "image/png": "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\n"
                },
                "metadata": {
                  "needs_background": "light"
                }
              }
            ]
          }
        },
        "94cac29720e842d3bb66e1863667111f": {
          "model_module": "@jupyter-widgets/base",
          "model_name": "LayoutModel",
          "model_module_version": "1.2.0",
          "state": {
            "_model_module": "@jupyter-widgets/base",
            "_model_module_version": "1.2.0",
            "_model_name": "LayoutModel",
            "_view_count": null,
            "_view_module": "@jupyter-widgets/base",
            "_view_module_version": "1.2.0",
            "_view_name": "LayoutView",
            "align_content": null,
            "align_items": null,
            "align_self": null,
            "border": null,
            "bottom": null,
            "display": null,
            "flex": null,
            "flex_flow": null,
            "grid_area": null,
            "grid_auto_columns": null,
            "grid_auto_flow": null,
            "grid_auto_rows": null,
            "grid_column": null,
            "grid_gap": null,
            "grid_row": null,
            "grid_template_areas": null,
            "grid_template_columns": null,
            "grid_template_rows": null,
            "height": null,
            "justify_content": null,
            "justify_items": null,
            "left": null,
            "margin": null,
            "max_height": null,
            "max_width": null,
            "min_height": null,
            "min_width": null,
            "object_fit": null,
            "object_position": null,
            "order": null,
            "overflow": null,
            "overflow_x": null,
            "overflow_y": null,
            "padding": null,
            "right": null,
            "top": null,
            "visibility": null,
            "width": null
          }
        },
        "26ecc680b2c44ed6891c006c5dd554c6": {
          "model_module": "@jupyter-widgets/base",
          "model_name": "LayoutModel",
          "model_module_version": "1.2.0",
          "state": {
            "_model_module": "@jupyter-widgets/base",
            "_model_module_version": "1.2.0",
            "_model_name": "LayoutModel",
            "_view_count": null,
            "_view_module": "@jupyter-widgets/base",
            "_view_module_version": "1.2.0",
            "_view_name": "LayoutView",
            "align_content": null,
            "align_items": null,
            "align_self": null,
            "border": "1px solid black",
            "bottom": null,
            "display": null,
            "flex": null,
            "flex_flow": null,
            "grid_area": null,
            "grid_auto_columns": null,
            "grid_auto_flow": null,
            "grid_auto_rows": null,
            "grid_column": null,
            "grid_gap": null,
            "grid_row": null,
            "grid_template_areas": null,
            "grid_template_columns": null,
            "grid_template_rows": null,
            "height": null,
            "justify_content": null,
            "justify_items": null,
            "left": null,
            "margin": null,
            "max_height": null,
            "max_width": null,
            "min_height": null,
            "min_width": null,
            "object_fit": null,
            "object_position": null,
            "order": null,
            "overflow": null,
            "overflow_x": null,
            "overflow_y": null,
            "padding": null,
            "right": null,
            "top": null,
            "visibility": null,
            "width": null
          }
        },
        "21ca0b2e93644704a7789ab588254d9c": {
          "model_module": "@jupyter-widgets/base",
          "model_name": "LayoutModel",
          "model_module_version": "1.2.0",
          "state": {
            "_model_module": "@jupyter-widgets/base",
            "_model_module_version": "1.2.0",
            "_model_name": "LayoutModel",
            "_view_count": null,
            "_view_module": "@jupyter-widgets/base",
            "_view_module_version": "1.2.0",
            "_view_name": "LayoutView",
            "align_content": null,
            "align_items": null,
            "align_self": null,
            "border": "1px solid black",
            "bottom": null,
            "display": null,
            "flex": null,
            "flex_flow": null,
            "grid_area": null,
            "grid_auto_columns": null,
            "grid_auto_flow": null,
            "grid_auto_rows": null,
            "grid_column": null,
            "grid_gap": null,
            "grid_row": null,
            "grid_template_areas": null,
            "grid_template_columns": null,
            "grid_template_rows": null,
            "height": null,
            "justify_content": null,
            "justify_items": null,
            "left": null,
            "margin": null,
            "max_height": null,
            "max_width": null,
            "min_height": null,
            "min_width": null,
            "object_fit": null,
            "object_position": null,
            "order": null,
            "overflow": null,
            "overflow_x": null,
            "overflow_y": null,
            "padding": null,
            "right": null,
            "top": null,
            "visibility": null,
            "width": null
          }
        },
        "b248efe6254447449e1e26d0086143e0": {
          "model_module": "@jupyter-widgets/base",
          "model_name": "LayoutModel",
          "model_module_version": "1.2.0",
          "state": {
            "_model_module": "@jupyter-widgets/base",
            "_model_module_version": "1.2.0",
            "_model_name": "LayoutModel",
            "_view_count": null,
            "_view_module": "@jupyter-widgets/base",
            "_view_module_version": "1.2.0",
            "_view_name": "LayoutView",
            "align_content": null,
            "align_items": null,
            "align_self": null,
            "border": "1px solid black",
            "bottom": null,
            "display": null,
            "flex": null,
            "flex_flow": null,
            "grid_area": null,
            "grid_auto_columns": null,
            "grid_auto_flow": null,
            "grid_auto_rows": null,
            "grid_column": null,
            "grid_gap": null,
            "grid_row": null,
            "grid_template_areas": null,
            "grid_template_columns": null,
            "grid_template_rows": null,
            "height": null,
            "justify_content": null,
            "justify_items": null,
            "left": null,
            "margin": null,
            "max_height": null,
            "max_width": null,
            "min_height": null,
            "min_width": null,
            "object_fit": null,
            "object_position": null,
            "order": null,
            "overflow": null,
            "overflow_x": null,
            "overflow_y": null,
            "padding": null,
            "right": null,
            "top": null,
            "visibility": null,
            "width": null
          }
        },
        "4cd0e063782c420694d9f618f5e5d46b": {
          "model_module": "@jupyter-widgets/controls",
          "model_name": "HBoxModel",
          "model_module_version": "1.5.0",
          "state": {
            "_dom_classes": [],
            "_model_module": "@jupyter-widgets/controls",
            "_model_module_version": "1.5.0",
            "_model_name": "HBoxModel",
            "_view_count": null,
            "_view_module": "@jupyter-widgets/controls",
            "_view_module_version": "1.5.0",
            "_view_name": "HBoxView",
            "box_style": "",
            "children": [
              "IPY_MODEL_736f5ffc068f4683a1144688999dda6a",
              "IPY_MODEL_60c6f2b0c45c415cb38342525b1ed9a0"
            ],
            "layout": "IPY_MODEL_3a382d529ad6471f9d2d7d486b7364a8"
          }
        },
        "736f5ffc068f4683a1144688999dda6a": {
          "model_module": "@jupyter-widgets/controls",
          "model_name": "VBoxModel",
          "model_module_version": "1.5.0",
          "state": {
            "_dom_classes": [],
            "_model_module": "@jupyter-widgets/controls",
            "_model_module_version": "1.5.0",
            "_model_name": "VBoxModel",
            "_view_count": null,
            "_view_module": "@jupyter-widgets/controls",
            "_view_module_version": "1.5.0",
            "_view_name": "VBoxView",
            "box_style": "",
            "children": [
              "IPY_MODEL_27b040149b2e4736a962f978ba041286"
            ],
            "layout": "IPY_MODEL_6a82b6dfabf1459895ff1d3952885f6b"
          }
        },
        "60c6f2b0c45c415cb38342525b1ed9a0": {
          "model_module": "@jupyter-widgets/output",
          "model_name": "OutputModel",
          "model_module_version": "1.0.0",
          "state": {
            "_dom_classes": [],
            "_model_module": "@jupyter-widgets/output",
            "_model_module_version": "1.0.0",
            "_model_name": "OutputModel",
            "_view_count": null,
            "_view_module": "@jupyter-widgets/output",
            "_view_module_version": "1.0.0",
            "_view_name": "OutputView",
            "layout": "IPY_MODEL_070a864a2e134762961b18cc363e5842",
            "msg_id": "",
            "outputs": [
              {
                "output_type": "display_data",
                "data": {
                  "text/plain": "<Figure size 432x288 with 1 Axes>",
                  "image/png": "iVBORw0KGgoAAAANSUhEUgAAAZAAAAEGCAYAAABLgMOSAAAABHNCSVQICAgIfAhkiAAAAAlwSFlzAAALEgAACxIB0t1+/AAAADh0RVh0U29mdHdhcmUAbWF0cGxvdGxpYiB2ZXJzaW9uMy4yLjIsIGh0dHA6Ly9tYXRwbG90bGliLm9yZy+WH4yJAAAXTUlEQVR4nO3df/BddX3n8eerYHAdQQN8G9OEGJRYC92dtH4F7VTLkiCxY/myXRSk1dBFU9u63R23ljjsqsU6A2NbOzvjtmYRDeAPFEeJQsuEKNZFQb5oDISKiaglECAG/LF1QaPv/eOe6OWb+/3m5iT33uSb52PmzD3ncz7nnvf3zPebVz7n3HtOqgpJkvbVL4y6AEnSockAkSS1YoBIkloxQCRJrRggkqRWjhx1AcN0/PHH1+LFi0ddhiQdUu68887vVNXY1PbDKkAWL17M5OTkqMuQpENKkm/3avcUliSpFQNEktSKASJJasUAkSS1YoBIkloZaYAkWZHk3iRbk6zusf6lSb6cZFeSc6esW5lkSzOtHF7VkiQYYYAkOQJ4D/By4GTg1UlOntLtX4ALgQ9N2fZY4G3AacCpwNuSzB10zZKknxvlCORUYGtV3VdVPwI+Akx0d6iqb1XVJuCnU7Y9C1hfVY9W1WPAemDFoAr9i09t5i8+tXlQby9Jh6RRfpFwAXB/1/I2OiOKttsu6NUxySpgFcCiRYv2vUrgnge/32o7SZrNZv1F9KpaU1XjVTU+NrbHN/ElSS2NMkAeAE7oWl7YtA16W0nSATDKALkDWJLkxCRzgPOBdX1uexPwsiRzm4vnL2vaJElDMrIAqapdwBvp/MP/z8BHq2pzkkuTnA2Q5IVJtgGvBN6bZHOz7aPAO+iE0B3ApU2bJGlIRno33qq6EbhxSttbu+bvoHN6qte2VwJXDrRASdK0Zv1FdEnSYBggkqRWDBBJUisGiCSpFQNEktSKASJJasUAkSS1YoBIkloxQCRJrRggkqRWDBBJUisGiCSpFQNEktSKASJJasUAkSS1YoBIkloZaYAkWZHk3iRbk6zusf6oJNc2629PsrhpX5zk/yXZ2Ex/P+zaJelwN7InEiY5AngPcCawDbgjybqquqer20XAY1V1UpLzgcuB85p136iqpUMtWpL0M6McgZwKbK2q+6rqR8BHgIkpfSaAtc38dcCyJBlijZKkaYwyQBYA93ctb2vaevapql3A94DjmnUnJvlKks8lecl0O0myKslkkskdO3YcuOol6TB3qF5E3w4sqqpfA94EfCjJMb06VtWaqhqvqvGxsbGhFilJs9koA+QB4ISu5YVNW88+SY4EngHsrKonqmonQFXdCXwDeN7AK5Yk/cwoA+QOYEmSE5PMAc4H1k3psw5Y2cyfC3ymqirJWHMRniTPAZYA9w2pbkkSI/wUVlXtSvJG4CbgCODKqtqc5FJgsqrWAe8Drk6yFXiUTsgAvBS4NMmPgZ8Cb6iqR4f/U0jS4WtkAQJQVTcCN05pe2vX/OPAK3ts93Hg4wMvUJI0rUP1IrokacQMEElSKwaIJKkVA0SS1IoBIklqxQCRJLVigEiSWjFAJEmtGCCSpFYMEElSKwaIJKkVA0SS1IoBIklqxQCRJLVigEiSWjFAJEmtjDRAkqxIcm+SrUlW91h/VJJrm/W3J1ncte4tTfu9Sc4aZt2SpBEGSPNM8/cALwdOBl6d5OQp3S4CHquqk4B3A5c3255M5/G2pwArgP+1+xnpkqThGOUI5FRga1XdV1U/Aj4CTEzpMwGsbeavA5YlSdP+kap6oqq+CWxt3k+SNCSjDJAFwP1dy9uatp59qmoX8D3guD63BSDJqiSTSSZ37NhxgEqXJM36i+hVtaaqxqtqfGxsbNTlSNKsMcoAeQA4oWt5YdPWs0+SI4FnADv73FaSNECjDJA7gCVJTkwyh85F8XVT+qwDVjbz5wKfqapq2s9vPqV1IrAE+NKQ6pYkAUeOasdVtSvJG4GbgCOAK6tqc5JLgcmqWge8D7g6yVbgUTohQ9Pvo8A9wC7gT6rqJyP5QSTpMDWyAAGoqhuBG6e0vbVr/nHgldNs+07gnQMtUJI0rVl/EV2SNBgGiCSpFQNEktSKASJJasUAkSS1YoBIkloxQCRJrRggkqRWDBBJUisGiCSpFQNEktSKASJJasUAkSS1YoBIkloxQCRJrYwkQJIcm2R9ki3N69xp+q1s+mxJsrKr/ZYk9ybZ2Ey/OLzqJUkwuhHIamBDVS0BNjTLT5LkWOBtwGnAqcDbpgTN71XV0mZ6ZBhFS5J+blQBMgGsbebXAuf06HMWsL6qHq2qx4D1wIoh1SdJ2otRBci8qtrezD8EzOvRZwFwf9fytqZtt/c3p6/+R5JMt6Mkq5JMJpncsWPHfhcuSeoY2DPRk9wMPKvHqku6F6qqktQ+vv3vVdUDSY4GPg68BriqV8eqWgOsARgfH9/X/UiSpjGwAKmq5dOtS/JwkvlVtT3JfKDXNYwHgNO7lhcCtzTv/UDz+oMkH6JzjaRngEiSBmNUp7DWAbs/VbUSuL5Hn5uAlyWZ21w8fxlwU5IjkxwPkOQpwCuAu4dQsySpy6gC5DLgzCRbgOXNMknGk1wBUFWPAu8A7mimS5u2o+gEySZgI52Ryv8e/o8gSYe3gZ3CmklV7QSW9WifBF7XtXwlcOWUPv8KvGDQNUqSZuY30SVJrRggkqRWDBBJUisGiCSpFQNEktSKASJJasUAkSS1YoBIkloxQCRJrfQVIEn+Sz9tkqTDR78jkJU92i48gHVIkg4xM94LK8mrgQuAE5Os61p1NPDoIAuTJB3c9nYzxS8A24Hjgb/uav8BsGlQRUmSDn4zBkhVfRv4NvDi4ZQjSTpU9HU79yQ/AHY/DnYO8BTgX6vqmEEVJkk6uPUVIFV19O75JAEmgBcNqihJ0sFvn78HUh2fBM5qu9MkxyZZn2RL8zp3mn7/mOS7ST49pf3EJLcn2Zrk2iRz2tYiSWqn3++B/G7XdG6Sy4DH92O/q4ENVbUE2NAs9/Iu4DU92i8H3l1VJwGPARftRy2SpBb6HYH8Ttd0Fp1PYU3sx34ngLXN/FrgnF6dqmpDs6+faU6hnQFct7ftJUmD0+81kD84wPudV1Xbm/mHgHn7sO1xwHeralezvA1YMF3nJKuAVQCLFi1qUaokqZd+T2E9J8mnkuxI8kiS65M8Zy/b3Jzk7h7Tk0YuVVX8/BNeB1xVramq8aoaHxsbG9RuJOmw09cIBPgQ8B7gPzTL5wMfBk6bboOqWj7duiQPJ5lfVduTzAce6bMOgJ3AM5Mc2YxCFgIP7MP2kqQDoN9rIE+rqquralczXQM8dT/2u46f319rJXB9vxs2I5bPAue22V6SdGD0GyD/kGR1ksVJnp3kz4Ebm4/jHttiv5cBZybZAixvlkkynuSK3Z2SfB74GLAsybYkuz86fDHwpiRb6VwTeV+LGiRJ+6HfU1ival7/cEr7+XSuX8x4PWSqqtoJLOvRPgm8rmv5JdNsfx9w6r7sU5J0YPX7KawTB12IJOnQ0u8IhCS/ASzu3qaqrhpATZKkQ0C/N1O8GngusBH4SdNcgAEiSYepfkcg48DJzSegJEnq+1NYdwPPGmQhkqRDS78jkOOBe5J8CXhid2NVnT2QqiRJB71+A+TtgyxCknTo6fdjvJ8bdCGSpEPLjAEy5VG2T1pF564iPtJWkg5TMwZI96NsJUnqts+PtJUkCQwQSVJLBogkqRUDRJLUigEiSWrFAJEktTKSAGmeZLg+yZbmde40/f4xyXeTfHpK+weSfDPJxmZaOpzKJUm7jWoEshrYUFVLgA3Nci/vAl4zzbo3V9XSZto4iCIlSdMbVYBMAGub+bXAOb06VdUG4AfDKkqS1L9RBci8qtrezD8EzGvxHu9MsinJu5McNV2nJKuSTCaZ3LFjR6tiJUl7GliAJLk5yd09ponufs1Dqvb1QVVvAZ4PvBA4Frh4uo5VtaaqxqtqfGxsbF9/DEnSNPp+Jvq+qqrl061L8nCS+VW1Pcl84JF9fO/do5cnkrwf+LP9KFWS1MKoTmGtA1Y28yuB6/dl4yZ0SBI610/uPqDVSZL2alQBchlwZpItwPJmmSTjSa7Y3SnJ54GPAcuSbEtyVrPqg0nuAu6i87TEvxxq9ZKkwZ3CmklV7QSW9WifBF7XtfySabY/Y3DVSZL64TfRJUmtGCCSpFYMEElSKwaIJKkVA0SS1IoBIklqxQCRJLVigEiSWjFAJEmtGCCSpFYMEElSKwaIJKkVA0SS1IoBIklqxQCRJLUykgBJcmyS9Um2NK9ze/RZmuSLSTYn2ZTkvK51Jya5PcnWJNcmmTPcn0CSNKoRyGpgQ1UtATY0y1P9EHhtVZ0CrAD+Nskzm3WXA++uqpOAx4CLhlCzJKnLSJ5ICEwApzfza4FbgIu7O1TV17vmH0zyCDCW5HvAGcAFXdu/Hfi7QRZ8z/bvc957vzjIXUg/M7F0ARectmjUZUgzGlWAzKuq7c38Q8C8mTonORWYA3wDOA74blXtalZvAxbMsO0qYBXAokXt/iAnlk779tIBd8/27wMYIDroDSxAktwMPKvHqku6F6qqktQM7zMfuBpYWVU/TbJPdVTVGmANwPj4+LT7mckFpy3yj1lD40hXh4qBBUhVLZ9uXZKHk8yvqu1NQDwyTb9jgBuAS6rqtqZ5J/DMJEc2o5CFwAMHuHxJ0l6M6iL6OmBlM78SuH5qh+aTVZ8Arqqq63a3V1UBnwXOnWl7SdJgjSpALgPOTLIFWN4sk2Q8yRVNn1cBLwUuTLKxmZY26y4G3pRkK51rIu8bbvmSpJFcRK+qncCyHu2TwOua+WuAa6bZ/j7g1EHWKEmamd9ElyS1YoBIkloxQCRJrRggkqRWDBBJUisGiCSpFQNEktSKASJJasUAkSS1YoBIkloxQCRJrRggkqRWDBBJUisGiCSpFQNEktSKASJJamUkAZLk2CTrk2xpXuf26LM0yReTbE6yKcl5Xes+kOSbPZ5UKEkaklGNQFYDG6pqCbChWZ7qh8Brq+oUYAXwt0me2bX+zVW1tJk2Dr5kSVK3UQXIBLC2mV8LnDO1Q1V9vaq2NPMPAo8AY0OrUJI0o1EFyLyq2t7MPwTMm6lzklOBOcA3uprf2ZzaeneSo2bYdlWSySSTO3bs2O/CJUkdAwuQJDcnubvHNNHdr6oKqBneZz5wNfAHVfXTpvktwPOBFwLHAhdPt31Vramq8aoaHxtzACNJB8qRg3rjqlo+3bokDyeZX1Xbm4B4ZJp+xwA3AJdU1W1d77179PJEkvcDf3YAS5ck9WFUp7DWASub+ZXA9VM7JJkDfAK4qqqum7JufvMaOtdP7h5otZKkPYwqQC4DzkyyBVjeLJNkPMkVTZ9XAS8FLuzxcd0PJrkLuAs4HvjL4ZYvSRrYKayZVNVOYFmP9kngdc38NcA102x/xkALlCTtld9ElyS1YoBIkloxQCRJrRggkqRWDBBJUisGiCSpFQNEktSKASJJasUAkSS1YoBIkloxQCRJrRggkqRWDBBJUisGiCSpFQNEktSKASJJamVkAZLk2CTrk2xpXuf26PPsJF9unka4Ockbuta9IMldSbYm+Z/N420lSUMyyhHIamBDVS0BNjTLU20HXlxVS4HTgNVJfqlZ93fA64ElzbRi8CVLknYbySNtGxPA6c38WuAW4OLuDlX1o67Fo2gCL8l84Jiquq1Zvgo4B/iHgVYsDck927/Pee/94qjL0Cxx8i8dw9t+55QD/r6jDJB5VbW9mX8ImNerU5ITgBuAk4A3V9WDScaBbV3dtgELptl+FbAKYNGiRQeodGlwJpb2/FWWDjoDDZAkNwPP6rHqku6Fqqok1es9qup+4N81p64+meS6famhqtYAawDGx8d77kM6mFxw2iIuOM3/7OjgN9AAqarl061L8nCS+VW1vTkl9che3uvBJHcDLwFuBRZ2rV4IPHAgapYk9WeUF9HXASub+ZXA9VM7JFmY5N8083OB3wTubU59fT/Ji5pPX7221/aSpMEZZYBcBpyZZAuwvFkmyXiSK5o+vwLcnuSrwOeAv6qqu5p1fwxcAWwFvoEX0CVpqFJ1+FwWGB8fr8nJyVGXIUmHlCR3VtX41Ha/iS5JasUAkSS1YoBIkloxQCRJrRxWF9GT7AC+3XLz44HvHMByZgOPyZ48JnvymOzpUDsmz66qsamNh1WA7I8kk70+hXA485jsyWOyJ4/JnmbLMfEUliSpFQNEktSKAdK/NaMu4CDkMdmTx2RPHpM9zYpj4jUQSVIrjkAkSa0YIJKkVgyQKZKsSHJvkq1J9nhOe5KjklzbrL89yeLhVzlcfRyTNyW5J8mmJBuSPHsUdQ7T3o5JV7//mKSap2jOav0ckySvan5XNif50LBrHLY+/nYWJflskq80fz+/PYo6W6sqp2YCjqBza/jnAHOArwInT+nzx8DfN/PnA9eOuu6D4Jj8e+BpzfwfeUx+1u9o4J+A24DxUdc96mMCLAG+Asxtln9x1HUfBMdkDfBHzfzJwLdGXfe+TI5AnuxUYGtV3VdVPwI+AkxM6TMBrG3mrwOWNQ+1mq32ekyq6rNV9cNm8Tae/LTI2aif3xOAdwCXA48Ps7gR6eeYvB54T1U9BlBVMz6FdBbo55gUcEwz/wzgwSHWt98MkCdbANzftbytaevZp6p2Ad8DjhtKdaPRzzHpdhGz/+Feez0mSX4dOKGqbhhmYSPUz+/J84DnJbk1yW1JVgytutHo55i8Hfj9JNuAG4H/PJzSDoyBPhNdh5ckvw+MA7816lpGKckvAH8DXDjiUg42R9I5jXU6nVHqPyX5t1X13ZFWNVqvBj5QVX+d5MXA1Ul+tap+OurC+uEI5MkeAE7oWl7YtPXsk+RIOsPOnUOpbjT6OSYkWQ5cApxdVU8MqbZR2dsxORr4VeCWJN8CXgSsm+UX0vv5PdkGrKuqH1fVN4Gv0wmU2aqfY3IR8FGAqvoi8FQ6N1o8JBggT3YHsCTJiUnm0LlIvm5Kn3XAymb+XOAz1VwBm6X2ekyS/BrwXjrhMdvPa8NejklVfa+qjq+qxVW1mM51obOrajY/T7mfv51P0hl9kOR4Oqe07htmkUPWzzH5F2AZQJJfoRMgO4Za5X4wQLo01zTeCNwE/DPw0aranOTSJGc33d4HHJdkK/AmYNqPcM4GfR6TdwFPBz6WZGOSqX8ks0qfx+Sw0ucxuQnYmeQe4LPAm6tq1o7e+zwm/w14fZKvAh8GLjyU/kPqrUwkSa04ApEktWKASJJaMUAkSa0YIJKkVgwQSVIrBojUUpJLmrvKbmo+vnzakPd/epJPD3OfUjdvZSK10Nx24hXAr1fVE80X4+aMuCxpqByBSO3MB76z+7YtVfWdqnowyQuSfC7JnUluSjIfIMlJSW5O8tUkX07y3HS8K8ndSe5Kcl7T9/QktyS5LsnXknxw9x2fm+dLfC3Jl4Hf3V1Mkt9qRkEbm2dLHD38Q6LDjV8klFpI8nTg/wBPA24GrgW+AHwOmKiqHU0gnFVV/ynJ7cBlVfWJJE+l85+3lwNvAFbQuf/RHcBpwC8D1wOn0Lm9963Am4FJYAtwBrC12efTquoVST7VvP+tTW2PN9+ElgbGEYjUQlX9X+AFwCo69y66FvhDOjdRXJ9kI/DfgYXNaGBBVX2i2fbx5vkpvwl8uKp+UlUP0wmfFza7+FJVbWvuyroRWAw8H/hmVW1pbndxTVdJtwJ/k+RPgWcaHhoGr4FILVXVT4Bb6Nx19y7gT4DNVfXi7n4tTyd139H4J+zlb7WqLktyA/DbwK1Jzqqqr7XYr9Q3RyBSC0l+OUn3rciX0rlh3lhzgZ0kT0lySlX9ANiW5Jym/agkTwM+D5yX5IgkY8BLgS/NsNuvAYuTPLdZfnVXPc+tqruq6nI6p8Kef4B+VGlaBojUztOBtUnuSbKJzvOs30rnFv+XN3dX3Qj8RtP/NcCfNn2/ADwL+ASwic6zsj8D/HlVPTTdDqvqcTqnzG5oLqJ33zr/vzYX4zcBP2b2PxVSBwEvokuSWnEEIklqxQCRJLVigEiSWjFAJEmtGCCSpFYMEElSKwaIJKmV/w8zsSCYDGQT2QAAAABJRU5ErkJggg==\n"
                },
                "metadata": {
                  "needs_background": "light"
                }
              }
            ]
          }
        },
        "3a382d529ad6471f9d2d7d486b7364a8": {
          "model_module": "@jupyter-widgets/base",
          "model_name": "LayoutModel",
          "model_module_version": "1.2.0",
          "state": {
            "_model_module": "@jupyter-widgets/base",
            "_model_module_version": "1.2.0",
            "_model_name": "LayoutModel",
            "_view_count": null,
            "_view_module": "@jupyter-widgets/base",
            "_view_module_version": "1.2.0",
            "_view_name": "LayoutView",
            "align_content": null,
            "align_items": null,
            "align_self": null,
            "border": null,
            "bottom": null,
            "display": null,
            "flex": null,
            "flex_flow": null,
            "grid_area": null,
            "grid_auto_columns": null,
            "grid_auto_flow": null,
            "grid_auto_rows": null,
            "grid_column": null,
            "grid_gap": null,
            "grid_row": null,
            "grid_template_areas": null,
            "grid_template_columns": null,
            "grid_template_rows": null,
            "height": null,
            "justify_content": null,
            "justify_items": null,
            "left": null,
            "margin": null,
            "max_height": null,
            "max_width": null,
            "min_height": null,
            "min_width": null,
            "object_fit": null,
            "object_position": null,
            "order": null,
            "overflow": null,
            "overflow_x": null,
            "overflow_y": null,
            "padding": null,
            "right": null,
            "top": null,
            "visibility": null,
            "width": null
          }
        },
        "27b040149b2e4736a962f978ba041286": {
          "model_module": "@jupyter-widgets/controls",
          "model_name": "FloatSliderModel",
          "model_module_version": "1.5.0",
          "state": {
            "_dom_classes": [],
            "_model_module": "@jupyter-widgets/controls",
            "_model_module_version": "1.5.0",
            "_model_name": "FloatSliderModel",
            "_view_count": null,
            "_view_module": "@jupyter-widgets/controls",
            "_view_module_version": "1.5.0",
            "_view_name": "FloatSliderView",
            "continuous_update": true,
            "description": "Input",
            "description_tooltip": null,
            "disabled": false,
            "layout": "IPY_MODEL_df662a6170b4479e9c15fe8a9a7ffd16",
            "max": 1,
            "min": -1,
            "orientation": "horizontal",
            "readout": true,
            "readout_format": ".2f",
            "step": 0.1,
            "style": "IPY_MODEL_edea2c604386457c87a85152965f3234",
            "value": -0.3
          }
        },
        "6a82b6dfabf1459895ff1d3952885f6b": {
          "model_module": "@jupyter-widgets/base",
          "model_name": "LayoutModel",
          "model_module_version": "1.2.0",
          "state": {
            "_model_module": "@jupyter-widgets/base",
            "_model_module_version": "1.2.0",
            "_model_name": "LayoutModel",
            "_view_count": null,
            "_view_module": "@jupyter-widgets/base",
            "_view_module_version": "1.2.0",
            "_view_name": "LayoutView",
            "align_content": null,
            "align_items": null,
            "align_self": null,
            "border": null,
            "bottom": null,
            "display": null,
            "flex": null,
            "flex_flow": null,
            "grid_area": null,
            "grid_auto_columns": null,
            "grid_auto_flow": null,
            "grid_auto_rows": null,
            "grid_column": null,
            "grid_gap": null,
            "grid_row": null,
            "grid_template_areas": null,
            "grid_template_columns": null,
            "grid_template_rows": null,
            "height": null,
            "justify_content": null,
            "justify_items": null,
            "left": null,
            "margin": null,
            "max_height": null,
            "max_width": null,
            "min_height": null,
            "min_width": null,
            "object_fit": null,
            "object_position": null,
            "order": null,
            "overflow": null,
            "overflow_x": null,
            "overflow_y": null,
            "padding": null,
            "right": null,
            "top": null,
            "visibility": null,
            "width": null
          }
        },
        "df662a6170b4479e9c15fe8a9a7ffd16": {
          "model_module": "@jupyter-widgets/base",
          "model_name": "LayoutModel",
          "model_module_version": "1.2.0",
          "state": {
            "_model_module": "@jupyter-widgets/base",
            "_model_module_version": "1.2.0",
            "_model_name": "LayoutModel",
            "_view_count": null,
            "_view_module": "@jupyter-widgets/base",
            "_view_module_version": "1.2.0",
            "_view_name": "LayoutView",
            "align_content": null,
            "align_items": null,
            "align_self": null,
            "border": null,
            "bottom": null,
            "display": null,
            "flex": null,
            "flex_flow": null,
            "grid_area": null,
            "grid_auto_columns": null,
            "grid_auto_flow": null,
            "grid_auto_rows": null,
            "grid_column": null,
            "grid_gap": null,
            "grid_row": null,
            "grid_template_areas": null,
            "grid_template_columns": null,
            "grid_template_rows": null,
            "height": null,
            "justify_content": null,
            "justify_items": null,
            "left": null,
            "margin": null,
            "max_height": null,
            "max_width": null,
            "min_height": null,
            "min_width": null,
            "object_fit": null,
            "object_position": null,
            "order": null,
            "overflow": null,
            "overflow_x": null,
            "overflow_y": null,
            "padding": null,
            "right": null,
            "top": null,
            "visibility": null,
            "width": null
          }
        },
        "edea2c604386457c87a85152965f3234": {
          "model_module": "@jupyter-widgets/controls",
          "model_name": "SliderStyleModel",
          "model_module_version": "1.5.0",
          "state": {
            "_model_module": "@jupyter-widgets/controls",
            "_model_module_version": "1.5.0",
            "_model_name": "SliderStyleModel",
            "_view_count": null,
            "_view_module": "@jupyter-widgets/base",
            "_view_module_version": "1.2.0",
            "_view_name": "StyleView",
            "description_width": "",
            "handle_color": null
          }
        },
        "070a864a2e134762961b18cc363e5842": {
          "model_module": "@jupyter-widgets/base",
          "model_name": "LayoutModel",
          "model_module_version": "1.2.0",
          "state": {
            "_model_module": "@jupyter-widgets/base",
            "_model_module_version": "1.2.0",
            "_model_name": "LayoutModel",
            "_view_count": null,
            "_view_module": "@jupyter-widgets/base",
            "_view_module_version": "1.2.0",
            "_view_name": "LayoutView",
            "align_content": null,
            "align_items": null,
            "align_self": null,
            "border": null,
            "bottom": null,
            "display": null,
            "flex": null,
            "flex_flow": null,
            "grid_area": null,
            "grid_auto_columns": null,
            "grid_auto_flow": null,
            "grid_auto_rows": null,
            "grid_column": null,
            "grid_gap": null,
            "grid_row": null,
            "grid_template_areas": null,
            "grid_template_columns": null,
            "grid_template_rows": null,
            "height": null,
            "justify_content": null,
            "justify_items": null,
            "left": null,
            "margin": null,
            "max_height": null,
            "max_width": null,
            "min_height": null,
            "min_width": null,
            "object_fit": null,
            "object_position": null,
            "order": null,
            "overflow": null,
            "overflow_x": null,
            "overflow_y": null,
            "padding": null,
            "right": null,
            "top": null,
            "visibility": null,
            "width": null
          }
        },
        "0ff7fc8195b84fe9bf1246ae59d74bef": {
          "model_module": "@jupyter-widgets/controls",
          "model_name": "HBoxModel",
          "model_module_version": "1.5.0",
          "state": {
            "_dom_classes": [],
            "_model_module": "@jupyter-widgets/controls",
            "_model_module_version": "1.5.0",
            "_model_name": "HBoxModel",
            "_view_count": null,
            "_view_module": "@jupyter-widgets/controls",
            "_view_module_version": "1.5.0",
            "_view_name": "HBoxView",
            "box_style": "",
            "children": [
              "IPY_MODEL_66951950d2e14ab095313991c574bddb",
              "IPY_MODEL_7047c974dffb42ceb8a29072a071b4d8",
              "IPY_MODEL_b69eb9f43dab48e98aa567938c73cb95"
            ],
            "layout": "IPY_MODEL_51815370b6204e5d983ba9a4df26dd9f"
          }
        },
        "66951950d2e14ab095313991c574bddb": {
          "model_module": "@jupyter-widgets/output",
          "model_name": "OutputModel",
          "model_module_version": "1.0.0",
          "state": {
            "_dom_classes": [],
            "_model_module": "@jupyter-widgets/output",
            "_model_module_version": "1.0.0",
            "_model_name": "OutputModel",
            "_view_count": null,
            "_view_module": "@jupyter-widgets/output",
            "_view_module_version": "1.0.0",
            "_view_name": "OutputView",
            "layout": "IPY_MODEL_fc60e42676af4895b63a93a6d699b816",
            "msg_id": "",
            "outputs": [
              {
                "output_type": "display_data",
                "data": {
                  "text/plain": "<IPython.core.display.HTML object>",
                  "text/html": "<video width=\"360\" height=\"288\" controls autoplay loop>\n  <source type=\"video/mp4\" src=\"data:video/mp4;base64,AAAAHGZ0eXBNNFYgAAACAGlzb21pc28yYXZjMQAAAAhmcmVlAAC3oW1kYXQAAAKuBgX//6rcRem9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\nAC1pbHN0AAAAJal0b28AAAAdZGF0YQAAAAEAAAAATGF2ZjU3LjgzLjEwMA==\n\">\n  Your browser does not support the video tag.\n</video>"
                },
                "metadata": {}
              }
            ]
          }
        },
        "7047c974dffb42ceb8a29072a071b4d8": {
          "model_module": "@jupyter-widgets/output",
          "model_name": "OutputModel",
          "model_module_version": "1.0.0",
          "state": {
            "_dom_classes": [],
            "_model_module": "@jupyter-widgets/output",
            "_model_module_version": "1.0.0",
            "_model_name": "OutputModel",
            "_view_count": null,
            "_view_module": "@jupyter-widgets/output",
            "_view_module_version": "1.0.0",
            "_view_name": "OutputView",
            "layout": "IPY_MODEL_b302828623074a44a385ac9167abff0f",
            "msg_id": "",
            "outputs": [
              {
                "output_type": "display_data",
                "data": {
                  "text/plain": "<Figure size 432x288 with 1 Axes>",
                  "image/png": "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\n"
                },
                "metadata": {
                  "needs_background": "light"
                }
              }
            ]
          }
        },
        "b69eb9f43dab48e98aa567938c73cb95": {
          "model_module": "@jupyter-widgets/output",
          "model_name": "OutputModel",
          "model_module_version": "1.0.0",
          "state": {
            "_dom_classes": [],
            "_model_module": "@jupyter-widgets/output",
            "_model_module_version": "1.0.0",
            "_model_name": "OutputModel",
            "_view_count": null,
            "_view_module": "@jupyter-widgets/output",
            "_view_module_version": "1.0.0",
            "_view_name": "OutputView",
            "layout": "IPY_MODEL_a057d48edba0422cb142e58a053b93ac",
            "msg_id": "",
            "outputs": [
              {
                "output_type": "display_data",
                "data": {
                  "text/plain": "<Figure size 432x288 with 1 Axes>",
                  "image/png": "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\n"
                },
                "metadata": {
                  "needs_background": "light"
                }
              }
            ]
          }
        },
        "51815370b6204e5d983ba9a4df26dd9f": {
          "model_module": "@jupyter-widgets/base",
          "model_name": "LayoutModel",
          "model_module_version": "1.2.0",
          "state": {
            "_model_module": "@jupyter-widgets/base",
            "_model_module_version": "1.2.0",
            "_model_name": "LayoutModel",
            "_view_count": null,
            "_view_module": "@jupyter-widgets/base",
            "_view_module_version": "1.2.0",
            "_view_name": "LayoutView",
            "align_content": null,
            "align_items": null,
            "align_self": null,
            "border": null,
            "bottom": null,
            "display": null,
            "flex": null,
            "flex_flow": null,
            "grid_area": null,
            "grid_auto_columns": null,
            "grid_auto_flow": null,
            "grid_auto_rows": null,
            "grid_column": null,
            "grid_gap": null,
            "grid_row": null,
            "grid_template_areas": null,
            "grid_template_columns": null,
            "grid_template_rows": null,
            "height": null,
            "justify_content": null,
            "justify_items": null,
            "left": null,
            "margin": null,
            "max_height": null,
            "max_width": null,
            "min_height": null,
            "min_width": null,
            "object_fit": null,
            "object_position": null,
            "order": null,
            "overflow": null,
            "overflow_x": null,
            "overflow_y": null,
            "padding": null,
            "right": null,
            "top": null,
            "visibility": null,
            "width": null
          }
        },
        "fc60e42676af4895b63a93a6d699b816": {
          "model_module": "@jupyter-widgets/base",
          "model_name": "LayoutModel",
          "model_module_version": "1.2.0",
          "state": {
            "_model_module": "@jupyter-widgets/base",
            "_model_module_version": "1.2.0",
            "_model_name": "LayoutModel",
            "_view_count": null,
            "_view_module": "@jupyter-widgets/base",
            "_view_module_version": "1.2.0",
            "_view_name": "LayoutView",
            "align_content": null,
            "align_items": null,
            "align_self": null,
            "border": "1px solid black",
            "bottom": null,
            "display": null,
            "flex": null,
            "flex_flow": null,
            "grid_area": null,
            "grid_auto_columns": null,
            "grid_auto_flow": null,
            "grid_auto_rows": null,
            "grid_column": null,
            "grid_gap": null,
            "grid_row": null,
            "grid_template_areas": null,
            "grid_template_columns": null,
            "grid_template_rows": null,
            "height": null,
            "justify_content": null,
            "justify_items": null,
            "left": null,
            "margin": null,
            "max_height": null,
            "max_width": null,
            "min_height": null,
            "min_width": null,
            "object_fit": null,
            "object_position": null,
            "order": null,
            "overflow": null,
            "overflow_x": null,
            "overflow_y": null,
            "padding": null,
            "right": null,
            "top": null,
            "visibility": null,
            "width": null
          }
        },
        "b302828623074a44a385ac9167abff0f": {
          "model_module": "@jupyter-widgets/base",
          "model_name": "LayoutModel",
          "model_module_version": "1.2.0",
          "state": {
            "_model_module": "@jupyter-widgets/base",
            "_model_module_version": "1.2.0",
            "_model_name": "LayoutModel",
            "_view_count": null,
            "_view_module": "@jupyter-widgets/base",
            "_view_module_version": "1.2.0",
            "_view_name": "LayoutView",
            "align_content": null,
            "align_items": null,
            "align_self": null,
            "border": "1px solid black",
            "bottom": null,
            "display": null,
            "flex": null,
            "flex_flow": null,
            "grid_area": null,
            "grid_auto_columns": null,
            "grid_auto_flow": null,
            "grid_auto_rows": null,
            "grid_column": null,
            "grid_gap": null,
            "grid_row": null,
            "grid_template_areas": null,
            "grid_template_columns": null,
            "grid_template_rows": null,
            "height": null,
            "justify_content": null,
            "justify_items": null,
            "left": null,
            "margin": null,
            "max_height": null,
            "max_width": null,
            "min_height": null,
            "min_width": null,
            "object_fit": null,
            "object_position": null,
            "order": null,
            "overflow": null,
            "overflow_x": null,
            "overflow_y": null,
            "padding": null,
            "right": null,
            "top": null,
            "visibility": null,
            "width": null
          }
        },
        "a057d48edba0422cb142e58a053b93ac": {
          "model_module": "@jupyter-widgets/base",
          "model_name": "LayoutModel",
          "model_module_version": "1.2.0",
          "state": {
            "_model_module": "@jupyter-widgets/base",
            "_model_module_version": "1.2.0",
            "_model_name": "LayoutModel",
            "_view_count": null,
            "_view_module": "@jupyter-widgets/base",
            "_view_module_version": "1.2.0",
            "_view_name": "LayoutView",
            "align_content": null,
            "align_items": null,
            "align_self": null,
            "border": "1px solid black",
            "bottom": null,
            "display": null,
            "flex": null,
            "flex_flow": null,
            "grid_area": null,
            "grid_auto_columns": null,
            "grid_auto_flow": null,
            "grid_auto_rows": null,
            "grid_column": null,
            "grid_gap": null,
            "grid_row": null,
            "grid_template_areas": null,
            "grid_template_columns": null,
            "grid_template_rows": null,
            "height": null,
            "justify_content": null,
            "justify_items": null,
            "left": null,
            "margin": null,
            "max_height": null,
            "max_width": null,
            "min_height": null,
            "min_width": null,
            "object_fit": null,
            "object_position": null,
            "order": null,
            "overflow": null,
            "overflow_x": null,
            "overflow_y": null,
            "padding": null,
            "right": null,
            "top": null,
            "visibility": null,
            "width": null
          }
        },
        "63b7b8963443427fbbc955a83a3f5abb": {
          "model_module": "@jupyter-widgets/controls",
          "model_name": "HBoxModel",
          "model_module_version": "1.5.0",
          "state": {
            "_dom_classes": [],
            "_model_module": "@jupyter-widgets/controls",
            "_model_module_version": "1.5.0",
            "_model_name": "HBoxModel",
            "_view_count": null,
            "_view_module": "@jupyter-widgets/controls",
            "_view_module_version": "1.5.0",
            "_view_name": "HBoxView",
            "box_style": "",
            "children": [
              "IPY_MODEL_ccc7f146e90944c29a900a5cb6bc8d9d",
              "IPY_MODEL_6a8a6761893641a0903f8de50c3c4522",
              "IPY_MODEL_fdae6d0046b94374b53492b9dcf06f09"
            ],
            "layout": "IPY_MODEL_ed3494a5a50f4f39931d3a47110e59c7"
          }
        },
        "ccc7f146e90944c29a900a5cb6bc8d9d": {
          "model_module": "@jupyter-widgets/output",
          "model_name": "OutputModel",
          "model_module_version": "1.0.0",
          "state": {
            "_dom_classes": [],
            "_model_module": "@jupyter-widgets/output",
            "_model_module_version": "1.0.0",
            "_model_name": "OutputModel",
            "_view_count": null,
            "_view_module": "@jupyter-widgets/output",
            "_view_module_version": "1.0.0",
            "_view_name": "OutputView",
            "layout": "IPY_MODEL_abf2b8a0b5e54f41bb6856b3703bda7f",
            "msg_id": "",
            "outputs": []
          }
        },
        "6a8a6761893641a0903f8de50c3c4522": {
          "model_module": "@jupyter-widgets/output",
          "model_name": "OutputModel",
          "model_module_version": "1.0.0",
          "state": {
            "_dom_classes": [],
            "_model_module": "@jupyter-widgets/output",
            "_model_module_version": "1.0.0",
            "_model_name": "OutputModel",
            "_view_count": null,
            "_view_module": "@jupyter-widgets/output",
            "_view_module_version": "1.0.0",
            "_view_name": "OutputView",
            "layout": "IPY_MODEL_aed4f9b19152469d95bf8675a0a0f50f",
            "msg_id": "",
            "outputs": [
              {
                "output_type": "display_data",
                "data": {
                  "text/plain": "<Figure size 432x288 with 1 Axes>",
                  "image/png": "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\n"
                },
                "metadata": {
                  "needs_background": "light"
                }
              }
            ]
          }
        },
        "fdae6d0046b94374b53492b9dcf06f09": {
          "model_module": "@jupyter-widgets/output",
          "model_name": "OutputModel",
          "model_module_version": "1.0.0",
          "state": {
            "_dom_classes": [],
            "_model_module": "@jupyter-widgets/output",
            "_model_module_version": "1.0.0",
            "_model_name": "OutputModel",
            "_view_count": null,
            "_view_module": "@jupyter-widgets/output",
            "_view_module_version": "1.0.0",
            "_view_name": "OutputView",
            "layout": "IPY_MODEL_b76475cc3fd94233b45395f9cc8ce628",
            "msg_id": "",
            "outputs": [
              {
                "output_type": "display_data",
                "data": {
                  "text/plain": "<Figure size 432x288 with 1 Axes>",
                  "image/png": "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\n"
                },
                "metadata": {
                  "needs_background": "light"
                }
              }
            ]
          }
        },
        "ed3494a5a50f4f39931d3a47110e59c7": {
          "model_module": "@jupyter-widgets/base",
          "model_name": "LayoutModel",
          "model_module_version": "1.2.0",
          "state": {
            "_model_module": "@jupyter-widgets/base",
            "_model_module_version": "1.2.0",
            "_model_name": "LayoutModel",
            "_view_count": null,
            "_view_module": "@jupyter-widgets/base",
            "_view_module_version": "1.2.0",
            "_view_name": "LayoutView",
            "align_content": null,
            "align_items": null,
            "align_self": null,
            "border": null,
            "bottom": null,
            "display": null,
            "flex": null,
            "flex_flow": null,
            "grid_area": null,
            "grid_auto_columns": null,
            "grid_auto_flow": null,
            "grid_auto_rows": null,
            "grid_column": null,
            "grid_gap": null,
            "grid_row": null,
            "grid_template_areas": null,
            "grid_template_columns": null,
            "grid_template_rows": null,
            "height": null,
            "justify_content": null,
            "justify_items": null,
            "left": null,
            "margin": null,
            "max_height": null,
            "max_width": null,
            "min_height": null,
            "min_width": null,
            "object_fit": null,
            "object_position": null,
            "order": null,
            "overflow": null,
            "overflow_x": null,
            "overflow_y": null,
            "padding": null,
            "right": null,
            "top": null,
            "visibility": null,
            "width": null
          }
        },
        "abf2b8a0b5e54f41bb6856b3703bda7f": {
          "model_module": "@jupyter-widgets/base",
          "model_name": "LayoutModel",
          "model_module_version": "1.2.0",
          "state": {
            "_model_module": "@jupyter-widgets/base",
            "_model_module_version": "1.2.0",
            "_model_name": "LayoutModel",
            "_view_count": null,
            "_view_module": "@jupyter-widgets/base",
            "_view_module_version": "1.2.0",
            "_view_name": "LayoutView",
            "align_content": null,
            "align_items": null,
            "align_self": null,
            "border": "1px solid black",
            "bottom": null,
            "display": null,
            "flex": null,
            "flex_flow": null,
            "grid_area": null,
            "grid_auto_columns": null,
            "grid_auto_flow": null,
            "grid_auto_rows": null,
            "grid_column": null,
            "grid_gap": null,
            "grid_row": null,
            "grid_template_areas": null,
            "grid_template_columns": null,
            "grid_template_rows": null,
            "height": null,
            "justify_content": null,
            "justify_items": null,
            "left": null,
            "margin": null,
            "max_height": null,
            "max_width": null,
            "min_height": null,
            "min_width": null,
            "object_fit": null,
            "object_position": null,
            "order": null,
            "overflow": null,
            "overflow_x": null,
            "overflow_y": null,
            "padding": null,
            "right": null,
            "top": null,
            "visibility": null,
            "width": null
          }
        },
        "aed4f9b19152469d95bf8675a0a0f50f": {
          "model_module": "@jupyter-widgets/base",
          "model_name": "LayoutModel",
          "model_module_version": "1.2.0",
          "state": {
            "_model_module": "@jupyter-widgets/base",
            "_model_module_version": "1.2.0",
            "_model_name": "LayoutModel",
            "_view_count": null,
            "_view_module": "@jupyter-widgets/base",
            "_view_module_version": "1.2.0",
            "_view_name": "LayoutView",
            "align_content": null,
            "align_items": null,
            "align_self": null,
            "border": "1px solid black",
            "bottom": null,
            "display": null,
            "flex": null,
            "flex_flow": null,
            "grid_area": null,
            "grid_auto_columns": null,
            "grid_auto_flow": null,
            "grid_auto_rows": null,
            "grid_column": null,
            "grid_gap": null,
            "grid_row": null,
            "grid_template_areas": null,
            "grid_template_columns": null,
            "grid_template_rows": null,
            "height": null,
            "justify_content": null,
            "justify_items": null,
            "left": null,
            "margin": null,
            "max_height": null,
            "max_width": null,
            "min_height": null,
            "min_width": null,
            "object_fit": null,
            "object_position": null,
            "order": null,
            "overflow": null,
            "overflow_x": null,
            "overflow_y": null,
            "padding": null,
            "right": null,
            "top": null,
            "visibility": null,
            "width": null
          }
        },
        "b76475cc3fd94233b45395f9cc8ce628": {
          "model_module": "@jupyter-widgets/base",
          "model_name": "LayoutModel",
          "model_module_version": "1.2.0",
          "state": {
            "_model_module": "@jupyter-widgets/base",
            "_model_module_version": "1.2.0",
            "_model_name": "LayoutModel",
            "_view_count": null,
            "_view_module": "@jupyter-widgets/base",
            "_view_module_version": "1.2.0",
            "_view_name": "LayoutView",
            "align_content": null,
            "align_items": null,
            "align_self": null,
            "border": "1px solid black",
            "bottom": null,
            "display": null,
            "flex": null,
            "flex_flow": null,
            "grid_area": null,
            "grid_auto_columns": null,
            "grid_auto_flow": null,
            "grid_auto_rows": null,
            "grid_column": null,
            "grid_gap": null,
            "grid_row": null,
            "grid_template_areas": null,
            "grid_template_columns": null,
            "grid_template_rows": null,
            "height": null,
            "justify_content": null,
            "justify_items": null,
            "left": null,
            "margin": null,
            "max_height": null,
            "max_width": null,
            "min_height": null,
            "min_width": null,
            "object_fit": null,
            "object_position": null,
            "order": null,
            "overflow": null,
            "overflow_x": null,
            "overflow_y": null,
            "padding": null,
            "right": null,
            "top": null,
            "visibility": null,
            "width": null
          }
        },
        "8c750d25efe242d0978c6546623cc20c": {
          "model_module": "@jupyter-widgets/controls",
          "model_name": "HBoxModel",
          "model_module_version": "1.5.0",
          "state": {
            "_dom_classes": [],
            "_model_module": "@jupyter-widgets/controls",
            "_model_module_version": "1.5.0",
            "_model_name": "HBoxModel",
            "_view_count": null,
            "_view_module": "@jupyter-widgets/controls",
            "_view_module_version": "1.5.0",
            "_view_name": "HBoxView",
            "box_style": "",
            "children": [
              "IPY_MODEL_13bb93b988fe4a55838c623f6aa69087",
              "IPY_MODEL_4de050abcc704dacabd13a94cacc7963",
              "IPY_MODEL_bfc1c607b57e4893a3c304009b4c14d6"
            ],
            "layout": "IPY_MODEL_ce72f024de1348c99a10671e2c910f9f"
          }
        },
        "13bb93b988fe4a55838c623f6aa69087": {
          "model_module": "@jupyter-widgets/output",
          "model_name": "OutputModel",
          "model_module_version": "1.0.0",
          "state": {
            "_dom_classes": [],
            "_model_module": "@jupyter-widgets/output",
            "_model_module_version": "1.0.0",
            "_model_name": "OutputModel",
            "_view_count": null,
            "_view_module": "@jupyter-widgets/output",
            "_view_module_version": "1.0.0",
            "_view_name": "OutputView",
            "layout": "IPY_MODEL_1704ef2363d448889e224e3ae0323ef3",
            "msg_id": "",
            "outputs": []
          }
        },
        "4de050abcc704dacabd13a94cacc7963": {
          "model_module": "@jupyter-widgets/output",
          "model_name": "OutputModel",
          "model_module_version": "1.0.0",
          "state": {
            "_dom_classes": [],
            "_model_module": "@jupyter-widgets/output",
            "_model_module_version": "1.0.0",
            "_model_name": "OutputModel",
            "_view_count": null,
            "_view_module": "@jupyter-widgets/output",
            "_view_module_version": "1.0.0",
            "_view_name": "OutputView",
            "layout": "IPY_MODEL_1635471ccc3348d8a2cd6e6c49dc02e1",
            "msg_id": "",
            "outputs": [
              {
                "output_type": "display_data",
                "data": {
                  "text/plain": "<Figure size 432x288 with 1 Axes>",
                  "image/png": "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\n"
                },
                "metadata": {
                  "needs_background": "light"
                }
              }
            ]
          }
        },
        "bfc1c607b57e4893a3c304009b4c14d6": {
          "model_module": "@jupyter-widgets/output",
          "model_name": "OutputModel",
          "model_module_version": "1.0.0",
          "state": {
            "_dom_classes": [],
            "_model_module": "@jupyter-widgets/output",
            "_model_module_version": "1.0.0",
            "_model_name": "OutputModel",
            "_view_count": null,
            "_view_module": "@jupyter-widgets/output",
            "_view_module_version": "1.0.0",
            "_view_name": "OutputView",
            "layout": "IPY_MODEL_e504ae85618a4dc295fde8452ef44572",
            "msg_id": "",
            "outputs": [
              {
                "output_type": "display_data",
                "data": {
                  "text/plain": "<Figure size 432x288 with 1 Axes>",
                  "image/png": "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\n"
                },
                "metadata": {
                  "needs_background": "light"
                }
              }
            ]
          }
        },
        "ce72f024de1348c99a10671e2c910f9f": {
          "model_module": "@jupyter-widgets/base",
          "model_name": "LayoutModel",
          "model_module_version": "1.2.0",
          "state": {
            "_model_module": "@jupyter-widgets/base",
            "_model_module_version": "1.2.0",
            "_model_name": "LayoutModel",
            "_view_count": null,
            "_view_module": "@jupyter-widgets/base",
            "_view_module_version": "1.2.0",
            "_view_name": "LayoutView",
            "align_content": null,
            "align_items": null,
            "align_self": null,
            "border": null,
            "bottom": null,
            "display": null,
            "flex": null,
            "flex_flow": null,
            "grid_area": null,
            "grid_auto_columns": null,
            "grid_auto_flow": null,
            "grid_auto_rows": null,
            "grid_column": null,
            "grid_gap": null,
            "grid_row": null,
            "grid_template_areas": null,
            "grid_template_columns": null,
            "grid_template_rows": null,
            "height": null,
            "justify_content": null,
            "justify_items": null,
            "left": null,
            "margin": null,
            "max_height": null,
            "max_width": null,
            "min_height": null,
            "min_width": null,
            "object_fit": null,
            "object_position": null,
            "order": null,
            "overflow": null,
            "overflow_x": null,
            "overflow_y": null,
            "padding": null,
            "right": null,
            "top": null,
            "visibility": null,
            "width": null
          }
        },
        "1704ef2363d448889e224e3ae0323ef3": {
          "model_module": "@jupyter-widgets/base",
          "model_name": "LayoutModel",
          "model_module_version": "1.2.0",
          "state": {
            "_model_module": "@jupyter-widgets/base",
            "_model_module_version": "1.2.0",
            "_model_name": "LayoutModel",
            "_view_count": null,
            "_view_module": "@jupyter-widgets/base",
            "_view_module_version": "1.2.0",
            "_view_name": "LayoutView",
            "align_content": null,
            "align_items": null,
            "align_self": null,
            "border": "1px solid black",
            "bottom": null,
            "display": null,
            "flex": null,
            "flex_flow": null,
            "grid_area": null,
            "grid_auto_columns": null,
            "grid_auto_flow": null,
            "grid_auto_rows": null,
            "grid_column": null,
            "grid_gap": null,
            "grid_row": null,
            "grid_template_areas": null,
            "grid_template_columns": null,
            "grid_template_rows": null,
            "height": null,
            "justify_content": null,
            "justify_items": null,
            "left": null,
            "margin": null,
            "max_height": null,
            "max_width": null,
            "min_height": null,
            "min_width": null,
            "object_fit": null,
            "object_position": null,
            "order": null,
            "overflow": null,
            "overflow_x": null,
            "overflow_y": null,
            "padding": null,
            "right": null,
            "top": null,
            "visibility": null,
            "width": null
          }
        },
        "1635471ccc3348d8a2cd6e6c49dc02e1": {
          "model_module": "@jupyter-widgets/base",
          "model_name": "LayoutModel",
          "model_module_version": "1.2.0",
          "state": {
            "_model_module": "@jupyter-widgets/base",
            "_model_module_version": "1.2.0",
            "_model_name": "LayoutModel",
            "_view_count": null,
            "_view_module": "@jupyter-widgets/base",
            "_view_module_version": "1.2.0",
            "_view_name": "LayoutView",
            "align_content": null,
            "align_items": null,
            "align_self": null,
            "border": "1px solid black",
            "bottom": null,
            "display": null,
            "flex": null,
            "flex_flow": null,
            "grid_area": null,
            "grid_auto_columns": null,
            "grid_auto_flow": null,
            "grid_auto_rows": null,
            "grid_column": null,
            "grid_gap": null,
            "grid_row": null,
            "grid_template_areas": null,
            "grid_template_columns": null,
            "grid_template_rows": null,
            "height": null,
            "justify_content": null,
            "justify_items": null,
            "left": null,
            "margin": null,
            "max_height": null,
            "max_width": null,
            "min_height": null,
            "min_width": null,
            "object_fit": null,
            "object_position": null,
            "order": null,
            "overflow": null,
            "overflow_x": null,
            "overflow_y": null,
            "padding": null,
            "right": null,
            "top": null,
            "visibility": null,
            "width": null
          }
        },
        "e504ae85618a4dc295fde8452ef44572": {
          "model_module": "@jupyter-widgets/base",
          "model_name": "LayoutModel",
          "model_module_version": "1.2.0",
          "state": {
            "_model_module": "@jupyter-widgets/base",
            "_model_module_version": "1.2.0",
            "_model_name": "LayoutModel",
            "_view_count": null,
            "_view_module": "@jupyter-widgets/base",
            "_view_module_version": "1.2.0",
            "_view_name": "LayoutView",
            "align_content": null,
            "align_items": null,
            "align_self": null,
            "border": "1px solid black",
            "bottom": null,
            "display": null,
            "flex": null,
            "flex_flow": null,
            "grid_area": null,
            "grid_auto_columns": null,
            "grid_auto_flow": null,
            "grid_auto_rows": null,
            "grid_column": null,
            "grid_gap": null,
            "grid_row": null,
            "grid_template_areas": null,
            "grid_template_columns": null,
            "grid_template_rows": null,
            "height": null,
            "justify_content": null,
            "justify_items": null,
            "left": null,
            "margin": null,
            "max_height": null,
            "max_width": null,
            "min_height": null,
            "min_width": null,
            "object_fit": null,
            "object_position": null,
            "order": null,
            "overflow": null,
            "overflow_x": null,
            "overflow_y": null,
            "padding": null,
            "right": null,
            "top": null,
            "visibility": null,
            "width": null
          }
        }
      }
    }
  },
  "cells": [
    {
      "cell_type": "markdown",
      "metadata": {
        "id": "view-in-github",
        "colab_type": "text"
      },
      "source": [
        "<a href=\"https://colab.research.google.com/github/bradygm/PID-controller-simulator/blob/main/PID_controller_explorer.ipynb\" target=\"_parent\"><img src=\"https://colab.research.google.com/assets/colab-badge.svg\" alt=\"Open In Colab\"/></a>"
      ]
    },
    {
      "cell_type": "markdown",
      "source": [
        "# RoboLaunch Workshop Series: **Intro to PID Control**\n",
        "\n",
        "In this notebook you will\n",
        "\n",
        "If you didn't see the presentation linked to this Colab, you can watch it here: [**How to Control a Robot: Intuition for Feedback Control and PID**]() "
      ],
      "metadata": {
        "id": "UDZS1MekRVAt"
      }
    },
    {
      "cell_type": "markdown",
      "source": [
        "### Quick Google Colab Intro\n",
        "\n",
        "A notebook is a list of cells. Cells contain either explanatory text or executable code and its output. Click a cell to select it.\n",
        "\n",
        "Below is a **code cell** that prints \"Hello World!\". Click in the cell to select it and execute the contents in one of the following ways:\n",
        "\n",
        "* Click the **Play icon** in the left gutter of the cell;\n",
        "* Type **Cmd/Ctrl+Enter** to run the cell in place;\n",
        "* Type **Shift+Enter** to run the cell and move focus to the next cell (adding one if none exists); "
      ],
      "metadata": {
        "id": "QFl6FISBehnF"
      }
    },
    {
      "cell_type": "code",
      "source": [
        "# This is a comment\n",
        "print('Hello World!')"
      ],
      "metadata": {
        "id": "THIEZraYXlv7",
        "colab": {
          "base_uri": "https://localhost:8080/"
        },
        "outputId": "9fe63b8b-c47e-410f-acaf-1e08cb6838ee"
      },
      "execution_count": null,
      "outputs": [
        {
          "output_type": "stream",
          "name": "stdout",
          "text": [
            "Hello World!\n"
          ]
        }
      ]
    },
    {
      "cell_type": "markdown",
      "source": [
        "Did you see the code cell print \"Hello World!\"? Great!"
      ],
      "metadata": {
        "id": "8qyUq9qWMaGU"
      }
    },
    {
      "cell_type": "markdown",
      "source": [
        "# Example 1: Single link robot arm\n",
        "\n",
        "Our first example is going to be a single link robot arm. This is essentially a rod with one pivot at the end. At the pivot point there is a motor we can control in order to get the arm to rotate in either direction. This rotational force is called **torque**.\n",
        "\n",
        "The angle of the arm is defined as in the image below:\n",
        "\n",
        "<img src=\"https://raw.githubusercontent.com/bradygm/PID-controller-simulator/fc1fc67be86c934b0a07869eaddb00a79ff07488/media/armAngle.png\" alt=\"drawing\" width=\"200\"/>\n",
        "\n",
        "\n",
        "\n",
        "\n"
      ],
      "metadata": {
        "id": "_vn6vrSAh4YU"
      }
    },
    {
      "cell_type": "markdown",
      "source": [
        "## Imports, helper functions, and classes\n",
        "\n",
        "We will start by running some code that will set everything up for us. You can run all of these cells by just clicking on the **Play icon** below next to the text that reads \"*7 cells hidden*\". You can also feel free to open the cells later to look through the code and modify. You can collapse the celss again by clicking on the arrow next to the title of this text box. "
      ],
      "metadata": {
        "id": "1DDlkp5X8qeW"
      }
    },
    {
      "cell_type": "markdown",
      "source": [
        "##### Imports"
      ],
      "metadata": {
        "id": "Woh5Jc7QA5iE"
      }
    },
    {
      "cell_type": "code",
      "source": [
        "import numpy as np\n",
        "import matplotlib.pyplot as plt\n",
        "from matplotlib.animation import FuncAnimation\n",
        "import matplotlib.animation as animation\n",
        "import math\n",
        "from IPython.display import HTML, Javascript\n",
        "from scipy import interpolate\n",
        "from ipywidgets import interact, interactive, fixed, interact_manual, Video\n",
        "import ipywidgets as widgets\n",
        "import time\n",
        "from scipy import signal\n",
        "import urllib.request\n",
        "import requests, warnings"
      ],
      "metadata": {
        "id": "3SI5I_eO8U25"
      },
      "execution_count": 65,
      "outputs": []
    },
    {
      "cell_type": "markdown",
      "source": [
        "##### CustomInput Class, interpolation function, and display function"
      ],
      "metadata": {
        "id": "9HJDEOTMA8Au"
      }
    },
    {
      "cell_type": "code",
      "source": [
        "class CustomInput:\n",
        "\n",
        "    def __init__(self, min_val, max_val):\n",
        "        self.a = widgets.FloatSlider(description='Input',min=min_val, max=max_val)\n",
        "        self.values = np.array([[]])\n",
        "\n",
        "        self.start_time = -1.0\n",
        "        self.first_time = True\n",
        "\n",
        "    def f(self, a):\n",
        "        if self.first_time:\n",
        "            self.first_time = False\n",
        "            plt.plot(self.values[:,0], self.values[:,1])\n",
        "            plt.xlabel(\"Seconds\")\n",
        "            plt.ylabel(\"Input\")\n",
        "            return\n",
        "\n",
        "        if self.start_time == -1.0:\n",
        "            self.start_time = time.time()\n",
        "\n",
        "        self.values = np.append(self.values, [[time.time()-self.start_time, a]], axis=0)\n",
        "        plt.plot(self.values[:,0], self.values[:,1], drawstyle=\"steps-pre\")\n",
        "        plt.xlabel(\"Seconds\")\n",
        "        plt.ylabel(\"Input\")\n",
        "\n",
        "    def record(self):\n",
        "        self.values = np.empty((0,2), float)\n",
        "        self.start_time = -1.0\n",
        "        self.first_time = True\n",
        "\n",
        "        out = widgets.interactive_output(self.f, {'a': self.a})\n",
        "\n",
        "        # vid_out = widgets.Output(layout={'border': '1px solid black'})\n",
        "        # with vid_out:\n",
        "        #     display(Video.from_file(\"animation.mp4\", play=True))\n",
        "        # widgets.HBox([widgets.VBox([a]), out, vid_out])\n",
        "        return widgets.HBox([widgets.VBox([self.a]), out])"
      ],
      "metadata": {
        "id": "BW69LUUuV8iC"
      },
      "execution_count": 66,
      "outputs": []
    },
    {
      "cell_type": "code",
      "source": [
        "def interp_values(values, end_time, dt):\n",
        "    # values_t = np.array(values)\n",
        "    f = interpolate.interp1d(values[:,0], values[:,1], kind='previous', fill_value=\"extrapolate\")\n",
        "    time_list = np.arange(0, end_time, dt)\n",
        "    return f(time_list)"
      ],
      "metadata": {
        "id": "knNhM0ESfZUK"
      },
      "execution_count": 67,
      "outputs": []
    },
    {
      "cell_type": "code",
      "source": [
        "# def submit_response(Name=\"AnonUser\", Error=99999999, P=0, D=0, verbose=False):\n",
        "def submit_response(Name=\"AnonUser\", verbose=False):\n",
        "    end_time = 10 \n",
        "    period = 10 \n",
        "    start_angle = 0.0 \n",
        "    dt = 0.05 \n",
        "    time_list = np.arange(0, end_time, dt)\n",
        "    list_len = len(time_list)\n",
        "    total_error = 0\n",
        "\n",
        "    # Initialize the RobotArm and save as my_robot_arm\n",
        "    my_robot_arm = RobotArm(start_angle, dt)\n",
        "\n",
        "    goal_ang_interp = signal.square(2 * np.pi * time_list/period)\n",
        "\n",
        "    for i in range(list_len):\n",
        "        total_error += abs(goal_ang_interp[i]-my_robot_arm.get_ang_position())*dt\n",
        "        torque = pd_controller(P, D, \n",
        "                            goal_ang_interp[i], \n",
        "                            my_robot_arm.get_ang_position(),\n",
        "                            my_robot_arm.get_ang_velocity())\n",
        "        my_robot_arm.step_forward(torque)\n",
        "\n",
        "\n",
        "    url = 'https://docs.google.com/forms/d/e/1FAIpQLSdRzW6JKXLfBW9q4KQCL6ijfs_NoAvpuXqCU-ik0H5XROilNA/viewform'\n",
        "    submit_url = url.replace('/viewform', '/formResponse')\n",
        "    form_data = {'draftResponse':[],\n",
        "                'pageHistory':0}\n",
        "    form_data['entry.1119491454'] = total_error\n",
        "    form_data['entry.1429935538'] = Name\n",
        "    form_data['entry.1469728088'] = P\n",
        "    form_data['entry.1372586630'] = D\n",
        "    print(\"Total Error: \" + str(total_error))\n",
        "    if verbose:\n",
        "        print(form_data)\n",
        "    user_agent = {'Referer':url,\n",
        "                  'User-Agent': \"Mozilla/5.0 (X11; Linux i686) AppleWebKit/537.36 (KHTML, like Gecko) Chrome/28.0.1500.52 Safari/537.36\"}\n",
        "    return requests.post(submit_url, data=form_data, headers=user_agent)"
      ],
      "metadata": {
        "id": "bF1qsT4mNzn8"
      },
      "execution_count": 68,
      "outputs": []
    },
    {
      "cell_type": "code",
      "source": [
        "#############################################\n",
        "# Display the results\n",
        "def display_results(goal_ang_interp):\n",
        "    start = time.time()\n",
        "    # arm sim\n",
        "    fig = plt.figure(figsize=(5, 4))\n",
        "    ax = fig.add_subplot(autoscale_on=False, xlim=(-my_robot_arm.length*1.2, my_robot_arm.length*1.2), ylim=(-my_robot_arm.length*1.2, my_robot_arm.length*1.2))\n",
        "    ax.set_aspect('equal')\n",
        "\n",
        "    line, = ax.plot([], [], 'o-', lw=6)\n",
        "    time_template = 'time = %.1fs'\n",
        "    time_text = ax.text(0.05, 0.9, '', transform=ax.transAxes)\n",
        "\n",
        "\n",
        "    def animate_arm(i):\n",
        "        thisx = [0, my_robot_arm.length*np.sin(ang_hist[i])]\n",
        "        thisy = [0, my_robot_arm.length*np.cos(ang_hist[i])]\n",
        "\n",
        "        line.set_data(thisx, thisy)\n",
        "        time_text.set_text(time_template % (i*my_robot_arm.timestep))\n",
        "        return line, time_text\n",
        "\n",
        "    ani_arm_vid = animation.FuncAnimation(\n",
        "        fig, animate_arm, len(ang_hist), interval=my_robot_arm.timestep*1000, blit=True)\n",
        "    # gitwriter = animation.ImageMagickWriter()\n",
        "    # writergif = animation.PillowWriter(fps=50) \n",
        "    # ani_arm_vid.save('animation3.gif', writer=writergif)\n",
        "    plt.close()\n",
        "\n",
        "    # arm postion vs goal position\n",
        "    fig = plt.figure(figsize=(6, 4))\n",
        "    ax = fig.add_subplot(autoscale_on=False, xlim=(0, end_time), ylim=(-np.pi, np.pi))\n",
        "    plt.title(\"Arm Angle and Goal Angle\")\n",
        "    plt.xlabel(\"Seconds\")\n",
        "    plt.ylabel(\"Angle (Radians)\")\n",
        "    ax.grid()\n",
        "\n",
        "    goal_list_size = len(goal_ang_interp)\n",
        "\n",
        "    line2, = ax.plot([], [], '--', lw=2)\n",
        "    line2.set_label('Arm Angle')\n",
        "    line3, = ax.plot(time_list[0], ang_hist[0], 'o', lw=2)\n",
        "    if goal_list_size != 0:\n",
        "        line4, = ax.plot(time_list[0:goal_list_size-1], goal_ang_interp[0:goal_list_size-1], '--', lw=2)\n",
        "        line4.set_label('Arm Goal Angle')\n",
        "    time_template2 = 'time = %.1fs'\n",
        "    time_text2 = ax.text(0.05, 0.9, '', transform=ax.transAxes)\n",
        "    # ax.legend()\n",
        "\n",
        "\n",
        "    def animate_arm2(i):\n",
        "        line2.set_data(time_list[0:i], ang_hist[0:i])\n",
        "        line3.set_data(time_list[i], ang_hist[i])\n",
        "        time_text2.set_text(time_template2 % (i*my_robot_arm.timestep))\n",
        "\n",
        "        return line2, time_text2\n",
        "\n",
        "    ani_arm_vid2 = animation.FuncAnimation(\n",
        "        fig, animate_arm2, len(ang_hist), interval=my_robot_arm.timestep*1000, blit=True)\n",
        "    plt.close()\n",
        "\n",
        "    #################################\n",
        "    # display each animation next to each other\n",
        "    window1 = widgets.Output(layout={'border': '1px solid black'})\n",
        "    window2 = widgets.Output(layout={'border': '1px solid black'})\n",
        "    window3 = widgets.Output(layout={'border': '1px solid black'})\n",
        "    \n",
        "    # display arm sim\n",
        "    with window1:\n",
        "        if animate_sim:\n",
        "            display(HTML(ani_arm_vid.to_html5_video()))\n",
        "    # display angle info\n",
        "    with window2:\n",
        "        if animate_plots:\n",
        "            display(HTML(ani_arm_vid2.to_html5_video()))\n",
        "        else:\n",
        "            fig = plt.figure(figsize=(6, 4))\n",
        "            ax = fig.add_subplot(autoscale_on=False, xlim=(0, end_time), ylim=(-np.pi, np.pi))\n",
        "            ax.grid()\n",
        "            plt.title(\"Arm Angle and Goal Angle\")\n",
        "            plt.xlabel(\"Seconds\")\n",
        "            plt.ylabel(\"Angle (Radians)\")\n",
        "            if goal_list_size != 0:\n",
        "                line2, = ax.plot(time_list[0:list_len-1], goal_ang_interp[0:list_len-1], '--', lw=2)\n",
        "                line2.set_label('Arm Goal Angle')\n",
        "            line3, = ax.plot(time_list[0:list_len-1], ang_hist[0:list_len-1], '--', lw=2)\n",
        "            line3.set_label('Arm Angle')\n",
        "            ax.legend()\n",
        "            plt.show()\n",
        "    # display input torque info\n",
        "    with window3:\n",
        "            fig = plt.figure(figsize=(6, 4))\n",
        "            ax = fig.add_subplot(autoscale_on=False, xlim=(0, end_time), ylim=(np.min(torques_interp)*1.2, np.max(torques_interp)*1.2))\n",
        "            ax.grid()\n",
        "            plt.title(\"Torque\")\n",
        "            plt.xlabel(\"Seconds\")\n",
        "            plt.ylabel(\"Input\")\n",
        "            # if goal_list_size != 0:\n",
        "            #     line4, = ax.plot(time_list[0:list_len-1], goal_ang_interp[0:list_len-1], '--', lw=2)\n",
        "            line5, = ax.plot(time_list[0:list_len-1], torques_interp[0:list_len-1], 'g-', lw=2)\n",
        "            line5.set_label('Torque')\n",
        "            ax.legend()\n",
        "            plt.show()\n",
        "\n",
        "        \n",
        "    print(str(time.time()-start) + \" sec\")\n",
        "\n",
        "    # FFwriter = animation.FFMpegWriter()\n",
        "    # ani_arm_vid.save('animation.mp4', writer = FFwriter)\n",
        "    # gitwriter = animation.ImageMagickWriter()\n",
        "    # ani_arm_vid.save('animation.gif', writer=gitwriter)\n",
        "    # ani_arm_vid2.save('animation2.mp4', writer = FFwriter)\n",
        "    # widgets.HBox([widgets.VBox([a]), out, vid_out])\n",
        "    return widgets.HBox([window1, window2, window3])\n",
        "    \n",
        "    "
      ],
      "metadata": {
        "id": "jMJtWA2e7jBN"
      },
      "execution_count": 69,
      "outputs": []
    },
    {
      "cell_type": "markdown",
      "source": [
        "## Define the Robot Arm\n",
        "\n",
        "Run the cell below to create your robot arm. You can adjust the parameters of the arm with the toggles on the right, but probably just leave them as they are at first.\n",
        "<!--\n",
        "Any cell you see with these adjustable parameters can show or hide its associated code. You can show the code by clicking \"Show code\" at the bottom of the cell or just by double clicking on the cell itself. In order to hide the code, just double click on parameter box or right click on the cell and select **Form → Show/hide code**.\n",
        "--> "
      ],
      "metadata": {
        "id": "p0SACRUnqyol"
      }
    },
    {
      "cell_type": "code",
      "source": [
        "# @markdown # Robot Arm Parameters { display-mode: \"form\" }\n",
        "# @markdown You can adjust parameters using the sliders and form below.\n",
        "# @markdown Remember you need to **rerun this\n",
        "# @markdown cell after you pick new parameters**.\n",
        "\n",
        "# @markdown ---\n",
        "class RobotArm:\n",
        "\n",
        "    def __init__(self, start_angle, timestep):\n",
        "        # @markdown Mass of the robot arm:\n",
        "        self.mass = 1 #@param{type:\"slider\", min:0.1, max:10, step:0.1}\n",
        "        # @markdown Length of the robot arm:\n",
        "        self.length =  1#@param{type:\"slider\", min:0.1, max:10, step:0.1}\n",
        "        # @markdown Damping from friction\n",
        "        self.damping = 0.1 #@param\n",
        "        # @markdown Toggle gravity on or off\n",
        "        self.gravity_on = False #@param{type:\"boolean\"}\n",
        "        \n",
        "        self.state = np.array([start_angle, 0.0])\n",
        "        self.gravity = 9.8\n",
        "        self.timestep = timestep\n",
        "\n",
        "    def state_derivative(self, state, torque):\n",
        "        ang_position = state[0]\n",
        "        ang_velocity = state[1]\n",
        "        if self.gravity_on:\n",
        "            accelaration = (3/self.mass/self.length**2)*(torque - self.damping*ang_velocity + self.mass*self.gravity*self.length/2*np.sin(ang_position))\n",
        "        else:\n",
        "            accelaration = 3*(torque-ang_velocity*self.damping)/(self.mass*self.length**2)\n",
        "\n",
        "        return np.array([ang_velocity, accelaration])\n",
        "        \n",
        "    def step_forward(self, torque): \n",
        "        # Using Runge-Kutta algorithm\n",
        "        k1 = self.state_derivative(self.state, torque)\n",
        "        k2 = self.state_derivative(self.state + self.timestep/2*k1, torque)\n",
        "        k3 = self.state_derivative(self.state + self.timestep/2*k2, torque)\n",
        "        k4 = self.state_derivative(self.state + self.timestep*k3, torque)\n",
        "        self.state = self.state + self.timestep/6 * (k1 + 2*k2 + 2*k3 + k4)\n",
        "\n",
        "    def angle_wrap(self, ang):\n",
        "        return (ang + np.pi) % (2 * np.pi) - np.pi\n",
        "\n",
        "    def get_ang_position(self):\n",
        "        return self.state[0]\n",
        "    \n",
        "    def get_ang_velocity(self):\n",
        "        return self.state[1]"
      ],
      "metadata": {
        "id": "MRqZwSiC4fmP"
      },
      "execution_count": 39,
      "outputs": []
    },
    {
      "cell_type": "markdown",
      "source": [
        "## Let's move the arm around!\n",
        "\n",
        "Now you get to move the arm! You will do this by varying the torque at the pivot of the arm, just like as if there was a motor there. \n",
        "\n",
        "\n",
        "First we will create a sequence of torques. Run the cell below and you should see a slider. Drag the slider around and it will save your input in realtime and display it to the graph on the right. Positive torque will add force in the clockwise direction and negative torque in the counter-clockwise direction.\n",
        "\n",
        "We will be using the **first 10 seconds** of input in the following steps. \n"
      ],
      "metadata": {
        "id": "_595CnaIV9hv"
      }
    },
    {
      "cell_type": "code",
      "source": [
        "# Creates the CustomInput object for our input torque sequence\n",
        "custom_torques = CustomInput(-1,1)\n",
        "# Starts recording a new torque sequence\n",
        "custom_torques.record()"
      ],
      "metadata": {
        "colab": {
          "base_uri": "https://localhost:8080/",
          "height": 279,
          "referenced_widgets": [
            "9aa21296467f4d71a019d472c8be65f3",
            "359c46bce2f342e9a7d4039d27086c66",
            "019cb24c14c14d938b564621128bd5bf",
            "c2e25b7906c64ca789650f877d61e4bb",
            "252473a4490545ba9143956f4e08fa82",
            "3f4bdc8e286e4489ba8a685f9e341ff6",
            "eafed5edca754b95b0a426c089bb6cb9",
            "e323aaa2bf7944c68a71a9051ae7dde0",
            "fc183917b228464cbf1004279ce6ec0b"
          ]
        },
        "id": "uqxBxRgk9E3R",
        "outputId": "352ce0b0-7a4e-43ee-becf-e10fba9861ca"
      },
      "execution_count": 40,
      "outputs": [
        {
          "output_type": "display_data",
          "data": {
            "text/plain": [
              "HBox(children=(VBox(children=(FloatSlider(value=0.0, description='Input', max=1.0, min=-1.0),)), Output()))"
            ],
            "application/vnd.jupyter.widget-view+json": {
              "version_major": 2,
              "version_minor": 0,
              "model_id": "9aa21296467f4d71a019d472c8be65f3"
            }
          },
          "metadata": {}
        }
      ]
    },
    {
      "cell_type": "markdown",
      "source": [
        "### Simulate the result\n",
        "\n",
        "Now we will simulate the effects of the input you recorded.\n",
        "\n",
        "Keep the default parameters for now, but feel free to modify later. "
      ],
      "metadata": {
        "id": "TvVb2-xovZ2U"
      }
    },
    {
      "cell_type": "code",
      "source": [
        "#@markdown How long you want the simulation to run for\n",
        "end_time = 10.0 #@param{type:\"slider\", min:5.0, max:30, step:1} \n",
        "# The starting angle of the arm\n",
        "start_angle = 0.0 \n",
        "dt = 0.05 # the length of the time step\n",
        "#@markdown Toggle animation of figures on or off. Turning all off will result in quick results.\n",
        "animate_plots = False #@param {type:\"boolean\"}\n",
        "animate_sim = True #@param{type:\"boolean\"}\n",
        "time_list = np.arange(0, end_time, dt)\n",
        "list_len = len(time_list)\n",
        "ang_hist = []\n",
        "goal_ang_interp = []\n",
        "\n",
        "# Initialize the RobotArm and save as my_robot_arm\n",
        "my_robot_arm = RobotArm(start_angle, dt)\n",
        "\n",
        "# Takes our custom torque input and interpolates it for all time steps\n",
        "torques_interp = interp_values(custom_torques.values, end_time, dt)\n",
        "\n",
        "# Loop over the time steps\n",
        "for i in range(list_len):\n",
        "    my_robot_arm.step_forward(torques_interp[i])\n",
        "    ang_hist.append(my_robot_arm.get_ang_position())\n",
        "\n",
        "display_results(goal_ang_interp)"
      ],
      "metadata": {
        "id": "-eKhPEgCXMXg",
        "colab": {
          "base_uri": "https://localhost:8080/",
          "height": 328,
          "referenced_widgets": [
            "61e6dbf5f05f493a9d4da9022542bb3c",
            "1021555767ea4008ac04287ab0ecef74",
            "6314d5095cb9489bb762e64bbbc52aae",
            "cd02f59a1ebd496abda521907797a4dd",
            "94cac29720e842d3bb66e1863667111f",
            "26ecc680b2c44ed6891c006c5dd554c6",
            "21ca0b2e93644704a7789ab588254d9c",
            "b248efe6254447449e1e26d0086143e0"
          ]
        },
        "outputId": "f2ac1139-f2fe-42b5-aa64-6ed3e2ccc728"
      },
      "execution_count": 41,
      "outputs": [
        {
          "output_type": "stream",
          "name": "stdout",
          "text": [
            "10.30936074256897 sec\n"
          ]
        },
        {
          "output_type": "display_data",
          "data": {
            "text/plain": [
              "HBox(children=(Output(layout=Layout(border='1px solid black')), Output(layout=Layout(border='1px solid black')…"
            ],
            "application/vnd.jupyter.widget-view+json": {
              "version_major": 2,
              "version_minor": 0,
              "model_id": "61e6dbf5f05f493a9d4da9022542bb3c"
            }
          },
          "metadata": {}
        }
      ]
    },
    {
      "cell_type": "markdown",
      "source": [
        "You can go back and try different torque sequences. Run the torque input cell again to put in new sequence and then run the simulate again to see the results. \n",
        "\n",
        "### Follow a goal path\n",
        "\n",
        "Now we will see if we can get the arm to do something a bit challenging. See if you can get the arm to follow as closely as follows in the example below:\n",
        "\n",
        "<img src=\"https://raw.githubusercontent.com/bradygm/PID-controller-simulator/main/media/animation.gif\" alt=\"drawing\" width=\"300\"/>\n",
        "<img src=\"https://raw.githubusercontent.com/bradygm/PID-controller-simulator/main/media/squareWave2.png\" alt=\"drawing\" width=\"360\"/>\n",
        "\n",
        "Obviously the arm can't teleport from one side to the other, but do your best to get your arm to the goal positions as quickly as possible. Go to the right, then stop the arm. Go to the left, and stop the arm. \n",
        "\n",
        "This is pretty tricky, but give it a couple attempts.\n",
        "\n",
        "In order to more quickly see your results from the simulation, you can choose to **temporarily turn off the animations**. You can always turn it back on whenever to see your final results. Or leave it on all the time if you have great patience 😉."
      ],
      "metadata": {
        "id": "Vb0BdNRrvOM8"
      }
    },
    {
      "cell_type": "code",
      "source": [
        "# Creates the CustomInput object for our input torque sequence\n",
        "custom_torques_square = CustomInput(-1,1)\n",
        "# Starts recording a new torque sequence\n",
        "custom_torques_square.record()"
      ],
      "metadata": {
        "colab": {
          "base_uri": "https://localhost:8080/",
          "height": 279,
          "referenced_widgets": [
            "4cd0e063782c420694d9f618f5e5d46b",
            "736f5ffc068f4683a1144688999dda6a",
            "60c6f2b0c45c415cb38342525b1ed9a0",
            "3a382d529ad6471f9d2d7d486b7364a8",
            "27b040149b2e4736a962f978ba041286",
            "6a82b6dfabf1459895ff1d3952885f6b",
            "df662a6170b4479e9c15fe8a9a7ffd16",
            "edea2c604386457c87a85152965f3234",
            "070a864a2e134762961b18cc363e5842"
          ]
        },
        "id": "otV2XkDq1mY7",
        "outputId": "3beb27c4-5d6b-4b03-f18c-6b20bddbe37f"
      },
      "execution_count": 42,
      "outputs": [
        {
          "output_type": "display_data",
          "data": {
            "text/plain": [
              "HBox(children=(VBox(children=(FloatSlider(value=0.0, description='Input', max=1.0, min=-1.0),)), Output()))"
            ],
            "application/vnd.jupyter.widget-view+json": {
              "version_major": 2,
              "version_minor": 0,
              "model_id": "4cd0e063782c420694d9f618f5e5d46b"
            }
          },
          "metadata": {}
        }
      ]
    },
    {
      "cell_type": "code",
      "source": [
        "#@markdown How long you want the simulation to run for\n",
        "end_time = 10.0 #@param{type:\"slider\", min:5.0, max:30, step:1} \n",
        "period = 10.0\n",
        "# The starting angle of the arm\n",
        "start_angle = 0.0 \n",
        "#@markdown Toggle animation of figures on or off. Turning all off will result in quick results.\n",
        "animate_plots = False #@param {type:\"boolean\"}\n",
        "animate_sim = True #@param{type:\"boolean\"}\n",
        "\n",
        "dt = 0.05 # the length of the time step\n",
        "time_list = np.arange(0, end_time, dt)\n",
        "list_len = len(time_list)\n",
        "\n",
        "# Initialize the RobotArm and save as my_robot_arm\n",
        "my_robot_arm = RobotArm(start_angle, dt)\n",
        "\n",
        "# Takes our custom torque input and interpolates it for all time steps\n",
        "torques_interp = interp_values(custom_torques_square.values, end_time, dt)\n",
        "ang_hist = []\n",
        "goal_ang_interp = signal.square(2 * np.pi * time_list/period)\n",
        "\n",
        "# Loop over the time steps\n",
        "for i in range(list_len):\n",
        "    my_robot_arm.step_forward(torques_interp[i])\n",
        "    ang_hist.append(my_robot_arm.get_ang_position())\n",
        "\n",
        "display_results(goal_ang_interp)"
      ],
      "metadata": {
        "colab": {
          "base_uri": "https://localhost:8080/",
          "height": 328,
          "referenced_widgets": [
            "0ff7fc8195b84fe9bf1246ae59d74bef",
            "66951950d2e14ab095313991c574bddb",
            "7047c974dffb42ceb8a29072a071b4d8",
            "b69eb9f43dab48e98aa567938c73cb95",
            "51815370b6204e5d983ba9a4df26dd9f",
            "fc60e42676af4895b63a93a6d699b816",
            "b302828623074a44a385ac9167abff0f",
            "a057d48edba0422cb142e58a053b93ac"
          ]
        },
        "id": "t0n7oqP21n_y",
        "outputId": "636eef23-78b0-4924-c28f-2a53b3e80451"
      },
      "execution_count": 43,
      "outputs": [
        {
          "output_type": "stream",
          "name": "stdout",
          "text": [
            "10.219490051269531 sec\n"
          ]
        },
        {
          "output_type": "display_data",
          "data": {
            "text/plain": [
              "HBox(children=(Output(layout=Layout(border='1px solid black')), Output(layout=Layout(border='1px solid black')…"
            ],
            "application/vnd.jupyter.widget-view+json": {
              "version_major": 2,
              "version_minor": 0,
              "model_id": "0ff7fc8195b84fe9bf1246ae59d74bef"
            }
          },
          "metadata": {}
        }
      ]
    },
    {
      "cell_type": "markdown",
      "source": [
        "## PID Controller Magic\n",
        "\n",
        "That was hard, right? Now that we have tried a couple times to get the arm to follow the goal path, we are now going to write a controller to have it do the hard work for us!\n",
        "\n"
      ],
      "metadata": {
        "id": "y3Mtz5YvvukU"
      }
    },
    {
      "cell_type": "markdown",
      "source": [
        "### P Controller\n",
        "\n",
        "First, let's start with creating a proportional controller (The \"P\" part of PID). We will create a function called `p_controller` that takes in variables `P`, `goal_position`, and `current_position`. What we want to do is determine what the control input should be using those three variables. The first step is to find the difference between where we want the arm to be, the goal position, and where it is now, the current position. This is called the error. \n",
        "\n",
        "Using the error, we then can calculate what our torque `u` should be. We do this by multiplying the error by the value `P` to determine how strongly the arm should react to a given error. \n",
        "\n",
        "**Fill in the rest of the equation** where you see `u=` where it sets the value of the `u` to whatever you put on the right side of the equation. This `u` is what the torque will be and it is returned as the output of this function. "
      ],
      "metadata": {
        "id": "Es-NBCIA5v54"
      }
    },
    {
      "cell_type": "code",
      "source": [
        "def p_controller(P, goal_position, current_position):\n",
        "    # We first calculate the error\n",
        "    error = goal_position-current_position\n",
        "    # ADD YOUR CODE HERE\n",
        "    u = error*P \n",
        "    return u"
      ],
      "metadata": {
        "id": "oW1KUBeC6ia3"
      },
      "execution_count": 44,
      "outputs": []
    },
    {
      "cell_type": "markdown",
      "source": [
        "Let's test out your equation on the sim! If you need help or want to double check your answer, double click on this cell to see an example solution.\n",
        "\n",
        "<!-- \n",
        "\n",
        "u = P*error\n",
        "\n",
        "-->"
      ],
      "metadata": {
        "id": "TIOPFhQA9BOq"
      }
    },
    {
      "cell_type": "markdown",
      "source": [
        "The code block below is very similar to the one before but it now has two additional parameters. It has the `P` variable which we pass into our new function `p_controller`. Give it a try with the default values first to see the results. Note that we have turned off the animations by default for quicker results. "
      ],
      "metadata": {
        "id": "RdCGYhHk-wcp"
      }
    },
    {
      "cell_type": "code",
      "source": [
        "#@markdown How long you want the simulation to run for\n",
        "end_time = 30 #@param{type:\"slider\", min:5.0, max:30, step:1}\n",
        "#@markdown The length of each cycle of our square wave goal position\n",
        "period = 60 #@param{type:\"slider\", min:1, max: 60.0, step:1}\n",
        "# The starting angle of the arm\n",
        "start_angle = 0.0 \n",
        "#@markdown Toggle animation of figures on or off. Turning all off will result in quick results.\n",
        "animate_plots = False #@param{type:\"boolean\"}\n",
        "animate_sim = False #@param{type:\"boolean\"}\n",
        "\n",
        "dt = 0.05 # the length of the time step\n",
        "time_list = np.arange(0, end_time, dt)\n",
        "list_len = len(time_list)\n",
        "\n",
        "#@markdown Proportional Gain\n",
        "P = 0.38 #@param{type:\"slider\", min:0.01, max:5.0, step:0.01}\n",
        "\n",
        "# Initialize the RobotArm and save as my_robot_arm\n",
        "my_robot_arm = RobotArm(start_angle, dt)\n",
        "\n",
        "torques_interp = []\n",
        "ang_hist = []\n",
        "goal_ang_interp = signal.square(2 * np.pi * time_list/period)\n",
        "\n",
        "for i in range(list_len):\n",
        "    torque = p_controller(P, goal_ang_interp[i], my_robot_arm.get_ang_position())\n",
        "    torques_interp.append(torque) # save torque so we can draw it\n",
        "    my_robot_arm.step_forward(torque)\n",
        "    ang_hist.append(my_robot_arm.get_ang_position()) # save angle so we can draw it\n",
        "\n",
        "display_results(goal_ang_interp)"
      ],
      "metadata": {
        "colab": {
          "base_uri": "https://localhost:8080/",
          "height": 314,
          "referenced_widgets": [
            "63b7b8963443427fbbc955a83a3f5abb",
            "ccc7f146e90944c29a900a5cb6bc8d9d",
            "6a8a6761893641a0903f8de50c3c4522",
            "fdae6d0046b94374b53492b9dcf06f09",
            "ed3494a5a50f4f39931d3a47110e59c7",
            "abf2b8a0b5e54f41bb6856b3703bda7f",
            "aed4f9b19152469d95bf8675a0a0f50f",
            "b76475cc3fd94233b45395f9cc8ce628"
          ]
        },
        "id": "kLPxmjKW9sEr",
        "outputId": "5117abfd-d27b-478e-d4f2-22cbd4430578"
      },
      "execution_count": 45,
      "outputs": [
        {
          "output_type": "stream",
          "name": "stdout",
          "text": [
            "0.40658092498779297 sec\n"
          ]
        },
        {
          "output_type": "display_data",
          "data": {
            "text/plain": [
              "HBox(children=(Output(layout=Layout(border='1px solid black')), Output(layout=Layout(border='1px solid black')…"
            ],
            "application/vnd.jupyter.widget-view+json": {
              "version_major": 2,
              "version_minor": 0,
              "model_id": "63b7b8963443427fbbc955a83a3f5abb"
            }
          },
          "metadata": {}
        }
      ]
    },
    {
      "cell_type": "markdown",
      "source": [
        "How did it do? Try a couple different values for P so see how close you can get the arm to follow the goal. \n",
        "\n",
        "The other parameter we added to the code block above is called `period` which allows you to adjust the length of each cycle of the square wave which we use as the goal angle of the arm. Try increasing the end time and the period length in order to see longer time behaviors of the system.\n",
        "\n",
        "One thing you can try is maxing out the end time, period, and the P value. What happens? You may see that the oscillations actually start to get bigger and bigger as time goes on. This is an **unstable** system. \n",
        "\n",
        "Now try with a lower `P` value, something like 0.05. You will see that there are less oscillations, but it gets to the goal angle much too slow, especially to follow the original square wave with a period of 10. \n",
        "\n",
        "\n",
        "**Should I include the images, or let them try? Let them, but at some point would be nice to just show so they don't get bored of trying each time? Test. Late add in images and say should look like below**"
      ],
      "metadata": {
        "id": "rH6tesoJBo3x"
      }
    },
    {
      "cell_type": "markdown",
      "source": [
        "### PD Controller\n",
        "\n",
        "How can we improve upon the proportional controller? We want to find the balance of moving quickly to the goal angle, but not move to quickly which leads to overshooting. \n",
        "\n",
        "PD controller to the rescue!\n",
        "\n",
        "We can add in another part to our controller the keeps our arm from moving to quickly, or having too large of a velocity. We do this by multiplying our velocity by a scaling value `D` and subtracting it from our control input `u`.\n",
        "\n",
        "We are now ready to create our new function 25332543 also have current celocity and D"
      ],
      "metadata": {
        "id": "XquJcyiIJyki"
      }
    },
    {
      "cell_type": "code",
      "source": [
        "def pd_controller(P, D, goal_position, current_position, current_velocity):\n",
        "    # We first calculate the error\n",
        "    error = goal_position-current_position\n",
        "    # ADD YOUR CODE HERE\n",
        "    u = error*P - current_velocity*D\n",
        "    return u"
      ],
      "metadata": {
        "id": "wd0_7uK2BoiS"
      },
      "execution_count": 46,
      "outputs": []
    },
    {
      "cell_type": "markdown",
      "source": [
        "Again, if you need help or want to double check your answer, double click on this cell to see an example solution.\n",
        "\n",
        "<!-- \n",
        "\n",
        "u = P*error - D*current_velocity\n",
        "\n",
        "-->"
      ],
      "metadata": {
        "id": "6pFvwoltLjYf"
      }
    },
    {
      "cell_type": "markdown",
      "source": [
        "We've now added the new variable `D` which is passed into our function `pd_controller`. Give it a try with the default values first to see the results. "
      ],
      "metadata": {
        "id": "ueYzklPQOtZ5"
      }
    },
    {
      "cell_type": "code",
      "source": [
        "#@markdown How long you want the simulation to run for\n",
        "end_time = 10 #@param{type:\"slider\", min:5.0, max:30, step:1}\n",
        "#@markdown The length of each cycle of our square wave goal position\n",
        "period = 10 #@param{type:\"slider\", min:1, max: 60.0, step:1}\n",
        "# The starting angle of the arm\n",
        "start_angle = 0.0 \n",
        "#@markdown Toggle animation of figures on or off. Turning all off will result in quick results.\n",
        "animate_plots = False #@param{type:\"boolean\"}\n",
        "animate_sim = False #@param{type:\"boolean\"}\n",
        "\n",
        "dt = 0.05 # the length of the time step\n",
        "time_list = np.arange(0, end_time, dt)\n",
        "list_len = len(time_list)\n",
        "\n",
        "#@markdown Proportional Gain\n",
        "P = 0.19 #@param{type:\"slider\", min:0.01, max:5.0, step:0.01}\n",
        "D = 0 #@param{type:\"slider\", min:0.0, max:5.0, step:0.01}\n",
        "\n",
        "# Initialize the RobotArm and save as my_robot_arm\n",
        "my_robot_arm = RobotArm(start_angle, dt)\n",
        "\n",
        "torques_interp = []\n",
        "ang_hist = []\n",
        "goal_ang_interp = signal.square(2 * np.pi * time_list/period)\n",
        "\n",
        "for i in range(list_len):\n",
        "    torque = pd_controller(P, D, \n",
        "                           goal_ang_interp[i], \n",
        "                           my_robot_arm.get_ang_position(),\n",
        "                           my_robot_arm.get_ang_velocity())\n",
        "    torques_interp.append(torque) # save torque so we can draw it\n",
        "    my_robot_arm.step_forward(torque)\n",
        "    ang_hist.append(my_robot_arm.get_ang_position()) # save angle so we can draw it\n",
        "\n",
        "submit_response(Name=\"AnonUser\")\n",
        "display_results(goal_ang_interp)\n"
      ],
      "metadata": {
        "colab": {
          "base_uri": "https://localhost:8080/",
          "height": 331,
          "referenced_widgets": [
            "8c750d25efe242d0978c6546623cc20c",
            "13bb93b988fe4a55838c623f6aa69087",
            "4de050abcc704dacabd13a94cacc7963",
            "bfc1c607b57e4893a3c304009b4c14d6",
            "ce72f024de1348c99a10671e2c910f9f",
            "1704ef2363d448889e224e3ae0323ef3",
            "1635471ccc3348d8a2cd6e6c49dc02e1",
            "e504ae85618a4dc295fde8452ef44572"
          ]
        },
        "id": "0fOYUkQELGcI",
        "outputId": "d28c5f43-95f9-47e5-b3f8-e53c6590684c"
      },
      "execution_count": 75,
      "outputs": [
        {
          "output_type": "stream",
          "name": "stdout",
          "text": [
            "Total Error: 8.578432259142595\n",
            "0.7112979888916016 sec\n"
          ]
        },
        {
          "output_type": "display_data",
          "data": {
            "text/plain": [
              "HBox(children=(Output(layout=Layout(border='1px solid black')), Output(layout=Layout(border='1px solid black')…"
            ],
            "application/vnd.jupyter.widget-view+json": {
              "version_major": 2,
              "version_minor": 0,
              "model_id": "8c750d25efe242d0978c6546623cc20c"
            }
          },
          "metadata": {}
        }
      ]
    },
    {
      "cell_type": "markdown",
      "source": [
        "You will find that you can start cranking up `P` if you also use a high value of `D` to offset it. \n",
        "\n",
        "What happens if you crank `D` all the way up? If it is too high, it ca. \n",
        "\n",
        "Leaderboard: https://docs.google.com/spreadsheets/d/1pbKPOv4ZjdaPNsYJWK1wwlBWOSiPoD-gEATfgp6heQs/edit?usp=sharing Edit name. Turn off by default?\n",
        "\n",
        "You should be able to get something that get to the line pretty quickly in under ffj seconds. And could look like this?"
      ],
      "metadata": {
        "id": "wzHWtWpiLLcq"
      }
    },
    {
      "cell_type": "markdown",
      "source": [
        "### Test your final controller\n",
        "\n",
        "Custom goal angle sequence. Now rather than moving the slider to input the torque, we are creating a sequence for the goal angle of the arm that your controller will try to follow. \n",
        "\n"
      ],
      "metadata": {
        "id": "4wrJKudiP11I"
      }
    },
    {
      "cell_type": "code",
      "source": [
        "# Creates the CustomInput object for our input goal angle sequence\n",
        "custom_goal_angle = CustomInput(-3.14,3.14)\n",
        "# Starts recording a new goal angle sequence\n",
        "custom_goal_angle.record()"
      ],
      "metadata": {
        "colab": {
          "base_uri": "https://localhost:8080/",
          "height": 279,
          "referenced_widgets": [
            "2c7e875234f94d3badcb11e0f82a03c3",
            "8d6622c4332a45a2a76ded6beb1d4b07",
            "e416588d91c4480f99dfdaa6d3cc4c08",
            "995ffd0addaf4a6a8ba83d3729b04a35",
            "80ffde7f938e42a1a3051126f8f161e7",
            "3d15d7bd3fe44e1ab3fa5baaf283da09",
            "04e469de613d4babb6cf90c04faed1bc",
            "853c7933c6024e56939fe00da38ed48d",
            "3e04750a6da24ac1a74a4ea435466ec3"
          ]
        },
        "id": "qkCnKaY0B9SQ",
        "outputId": "eb470369-55c6-424e-9f9f-b99fcf9b8ce8"
      },
      "execution_count": null,
      "outputs": [
        {
          "output_type": "display_data",
          "data": {
            "text/plain": [
              "HBox(children=(VBox(children=(FloatSlider(value=0.0, description='Input', max=3.14, min=-3.14),)), Output()))"
            ],
            "application/vnd.jupyter.widget-view+json": {
              "version_major": 2,
              "version_minor": 0,
              "model_id": "2c7e875234f94d3badcb11e0f82a03c3"
            }
          },
          "metadata": {}
        }
      ]
    },
    {
      "cell_type": "markdown",
      "source": [
        "Now let's see how it does!\n",
        "\n",
        "Copy over your `P` and `D` values you found that worked best in .f .f .d"
      ],
      "metadata": {
        "id": "5dG1voSPQM8W"
      }
    },
    {
      "cell_type": "code",
      "source": [
        "#@markdown How long you want the simulation to run for\n",
        "end_time = 10 #@param{type:\"slider\", min:5.0, max:30, step:1}\n",
        "#@markdown The length of each cycle of our square wave goal position\n",
        "period = 10 #@param{type:\"slider\", min:1, max: 60.0, step:1}\n",
        "# The starting angle of the arm\n",
        "start_angle = 0.0 \n",
        "#@markdown Toggle animation of figures on or off. Turning all off will result in quick results.\n",
        "animate_plots = True #@param{type:\"boolean\"}\n",
        "animate_sim = True #@param{type:\"boolean\"}\n",
        "\n",
        "dt = 0.05 # the length of the time step\n",
        "time_list = np.arange(0, end_time, dt)\n",
        "list_len = len(time_list)\n",
        "\n",
        "#@markdown Proportional Gain\n",
        "P = 5 #@param{type:\"slider\", min:0.01, max:5.0, step:0.01}\n",
        "D = 2.11 #@param{type:\"slider\", min:0.0, max:5.0, step:0.01}\n",
        "\n",
        "# Initialize the RobotArm and save as my_robot_arm\n",
        "my_robot_arm = RobotArm(start_angle, dt)\n",
        "\n",
        "torques_interp = []\n",
        "ang_hist = []\n",
        "goal_ang_interp = interp_values(custom_goal_angle.values, end_time, dt)\n",
        "\n",
        "for i in range(list_len):\n",
        "    torque = pd_controller(P, D, \n",
        "                           goal_ang_interp[i], \n",
        "                           my_robot_arm.get_ang_position(),\n",
        "                           my_robot_arm.get_ang_velocity())\n",
        "    torques_interp.append(torque) # save torque so we can draw it\n",
        "    my_robot_arm.step_forward(torque)\n",
        "    ang_hist.append(my_robot_arm.get_ang_position()) # save angle so we can draw it\n",
        "\n",
        "display_results(goal_ang_interp)"
      ],
      "metadata": {
        "colab": {
          "base_uri": "https://localhost:8080/",
          "height": 328,
          "referenced_widgets": [
            "9ce5381d6b91494ab3d0a006bfaacf5e",
            "1d351701e1344abb8046451e9254033c",
            "e2736d4bdbf94edf8ff9a84704ac8324",
            "889c11c42cc94d998cb2d2cc345b7337",
            "664fc97ee5d346d69f90505969ab7434",
            "1432f92a7b054ad0806705fc9c478b70",
            "4f483d48e75b42619664bb43a01874c3",
            "be8a363a8b734d60811f9fc2e858b7c0"
          ]
        },
        "id": "0i3OOja0Pg3R",
        "outputId": "a9024136-3fc9-4652-a179-4451677f96ea"
      },
      "execution_count": null,
      "outputs": [
        {
          "output_type": "stream",
          "name": "stdout",
          "text": [
            "20.418351650238037 sec\n"
          ]
        },
        {
          "output_type": "display_data",
          "data": {
            "text/plain": [
              "HBox(children=(Output(layout=Layout(border='1px solid black')), Output(layout=Layout(border='1px solid black')…"
            ],
            "application/vnd.jupyter.widget-view+json": {
              "version_major": 2,
              "version_minor": 0,
              "model_id": "9ce5381d6b91494ab3d0a006bfaacf5e"
            }
          },
          "metadata": {}
        }
      ]
    },
    {
      "cell_type": "markdown",
      "source": [
        ""
      ],
      "metadata": {
        "id": "6N6oLhlRRSVh"
      }
    },
    {
      "cell_type": "markdown",
      "source": [
        "## Final sim thing to mess around and try things\n",
        "\n"
      ],
      "metadata": {
        "id": "bcb6qR6UQaOR"
      }
    },
    {
      "cell_type": "markdown",
      "source": [
        "#### Controller\n"
      ],
      "metadata": {
        "id": "AkJOel0h_S0H"
      }
    },
    {
      "cell_type": "markdown",
      "source": [
        "Probably split up the controller into different ones. Start with p, then pd. Then we do pid? Or later. Maybe..."
      ],
      "metadata": {
        "id": "3EXbxhyyZOnC"
      }
    },
    {
      "cell_type": "code",
      "source": [
        "class PID_Controller:\n",
        "\n",
        "    def __init__(self, k_p=1, k_i=0, k_d=0):\n",
        "        self.control_limit = 0 #not currently used\n",
        "        self.error_sum = 0\n",
        "\n",
        "        self.k_p = k_p\n",
        "        self.k_i = k_i\n",
        "        self.k_d = k_d\n",
        "\n",
        "    def p_control(self, desired_position, current_position):\n",
        "        error = desired_position-current_position\n",
        "        return self.k_p*error\n",
        "\n",
        "    def pd_control(self, desired_position, current_position, current_velocity):\n",
        "        error = desired_position-current_position\n",
        "        return self.k_p*error - self.k_d*current_velocity\n",
        "\n",
        "    def pid_control(self, desired_position, current_position, current_velocity):\n",
        "        error = desired_position-current_position\n",
        "        self.error_sum += error\n",
        "        return self.k_p*error + self.k_i*self.error_sum - self.k_d*current_velocity"
      ],
      "metadata": {
        "id": "rtCcEklj5McZ"
      },
      "execution_count": null,
      "outputs": []
    },
    {
      "cell_type": "code",
      "source": [
        "end_time = 10.0 #@param{type:\"slider\", min:5.0, max:30, step:1}\n",
        "start_angle = 0.1 #@param{type:\"slider\", min:-3.14, max:3.14, step:0.1}\n",
        "k_p = 6.71 #@param{type:\"slider\", min:0.0, max:20.0, step:0.01}\n",
        "k_i = 0.0 #@param{type:\"slider\", min:0.0, max:5.0, step:0.01}\n",
        "k_d = 3.34 #@param{type:\"slider\", min:0.0, max:5.0, step:0.01}\n",
        "dt = 0.05 #@param\n",
        "animate_plots = False #@param{type:\"boolean\"}\n",
        "animate_sim = False #@param{type:\"boolean\"}\n",
        "time_list = np.arange(0, end_time, dt)\n",
        "list_len = len(time_list)\n",
        "\n",
        "# Initialize the RobotArm and save as my_robot_arm\n",
        "my_robot_arm = RobotArm(start_angle, dt)\n",
        "# Initialize our controller\n",
        "controller = PID_Controller(k_p, k_i, k_d)\n",
        "\n",
        "# torques_interp = interp_values(custom_torques.values, end_time, dt)\n",
        "torques_interp = []\n",
        "goal_ang_interp = signal.square(.1*2 * np.pi * time_list)\n",
        "# goal_ang_interp = interp_values(custom_goal_angle.values, end_time, dt)\n",
        "\n",
        "\n",
        "ang_hist = []\n",
        "\n",
        "for i in range(list_len):\n",
        "    # my_robot_arm.step_forward(torques_interp[i])\n",
        "    # my_robot_arm.step_forward(my_robot_arm.p_control(.5))\n",
        "    torque = controller.pd_control(goal_ang_interp[i], my_robot_arm.get_ang_position(), my_robot_arm.get_ang_velocity())\n",
        "    torques_interp.append(torque)\n",
        "    my_robot_arm.step_forward(torque)\n",
        "    # cur_torque = controller.pid_control(0, my_robot_arm.get_ang_position(), my_robot_arm.get_ang_velocity())\n",
        "    # my_robot_arm.step_forward(cur_torque)\n",
        "    # my_robot_arm.step_forward(0)\n",
        "    ang_hist.append(my_robot_arm.get_ang_position())\n",
        "\n",
        "display_results(goal_ang_interp)"
      ],
      "metadata": {
        "colab": {
          "base_uri": "https://localhost:8080/",
          "height": 314,
          "referenced_widgets": [
            "7f5cc3779d3d474fa9abb9ada3ed0293",
            "e96130b79dbe45b988323aafe52f94f3",
            "a36e85d2e28e42f69ad826d06af2aeda",
            "6e10b0904bc84415b87e0d08c367ce0f",
            "fb067e2a9ef1487689d530c986b48d28",
            "e265a71d4899454598a4c27def31a747",
            "62f11b16e568413286a25e6d5bd59af0",
            "271d3eca340d493b8e888bce0ce504cc"
          ]
        },
        "id": "TG4jCy2XtsnM",
        "outputId": "631f94b3-02b9-4288-a2a0-c9cbf54a61a1"
      },
      "execution_count": null,
      "outputs": [
        {
          "output_type": "stream",
          "name": "stdout",
          "text": [
            "0.4173905849456787 sec\n"
          ]
        },
        {
          "output_type": "display_data",
          "data": {
            "text/plain": [
              "HBox(children=(Output(layout=Layout(border='1px solid black')), Output(layout=Layout(border='1px solid black')…"
            ],
            "application/vnd.jupyter.widget-view+json": {
              "version_major": 2,
              "version_minor": 0,
              "model_id": "7f5cc3779d3d474fa9abb9ada3ed0293"
            }
          },
          "metadata": {}
        }
      ]
    },
    {
      "cell_type": "markdown",
      "source": [
        "Try turning gravity on or off. Start at angle and see what it does. "
      ],
      "metadata": {
        "id": "eTHC0zGJts4C"
      }
    },
    {
      "cell_type": "markdown",
      "source": [
        "Remember can turn off animation for quicker. Reminder. \n",
        "\n",
        "Calculate error. Can sum to give them a metric. But also put a limit? Make sure ti would lead to something interesting. "
      ],
      "metadata": {
        "id": "X3hQekMjts7s"
      }
    },
    {
      "cell_type": "markdown",
      "source": [
        "Look at the graph of troque. Would have been hard for us to come up with, right? Math is great. "
      ],
      "metadata": {
        "id": "Zr3CnXtMttBG"
      }
    },
    {
      "cell_type": "markdown",
      "source": [
        "Double click on this cell to view a working answer if you can't get it to work.\n",
        "\n",
        "<!-- \n",
        "\n",
        "Write your comments here \n",
        "\n",
        "-->"
      ],
      "metadata": {
        "id": "XqebfM_ZttEA"
      }
    },
    {
      "cell_type": "markdown",
      "source": [
        "<hr>"
      ],
      "metadata": {
        "id": "UOP70tR5ttMw"
      }
    },
    {
      "cell_type": "markdown",
      "source": [
        "Then they mess around with the slider being the torque. We can then say how rather than a slider with us puting in the torque, we use a PID controller.\n",
        "\n",
        "Allow for changing the trajectory. Also a slider? How easily change? Swap out or comment out lines?"
      ],
      "metadata": {
        "id": "q3lor2EFFHYR"
      }
    },
    {
      "cell_type": "markdown",
      "source": [
        "Now at the end of example 1 things you could try. \n",
        "* Change arm parameters and see how it does with the pid parameters you chose. How does it change?\n",
        "* Change the start config.\n",
        "* Add gravity. to image veritical Gravity things to think about and try. Why didn't work? Link to info on how to modify if want. \n",
        "* add limit (or have in line follower)\n",
        "* amplitude of wave"
      ],
      "metadata": {
        "id": "eV4_a41qW-bw"
      }
    },
    {
      "cell_type": "markdown",
      "source": [
        "# Example 2: Line following robot\n",
        "\n",
        "Could start with or maybe only have a simple straight line. Car going from left to right. They modify the starting position laterally (starting crosstrack error). Maybe move onto a more interesting track or we have a set of tracks. Would be really cool if they could draw their own paths. \n",
        "\n",
        "Ideas\n",
        "* Could have live plot showing cross track error (can be used for explaining the D or I of PID but also just fun to see)\n",
        "* Have a benchmark set for them to get a score and maybe have leaderboard optional\n",
        "* Fun parameters we could expose with sliders or text entry or could just be clearly marked in the code\n",
        "  * Vehicle speed\n",
        "  * Max turn rate/angle\n",
        "  * Look ahead distance when calculating cross track error?"
      ],
      "metadata": {
        "id": "oftknzd5jSTS"
      }
    },
    {
      "cell_type": "markdown",
      "source": [
        "# Notes and thoughts\n",
        "\n",
        "* How make the quality of our presentation really good? \n",
        "  * Zoom clear background thing?\n",
        "  * OBS?\n",
        "  * Look at other examples?\n",
        "* Test on people\n",
        "    * Test on people without any instruction to test the written instructions. \n",
        "    * Test with me teaching to test pace and length\n",
        "\n",
        "# Before final save\n",
        "* Open table of contents\n",
        "* hide beginning cells\n",
        "* clear outputs"
      ],
      "metadata": {
        "id": "RZah9QTl6TB0"
      }
    },
    {
      "cell_type": "markdown",
      "source": [
        "# Indu\n",
        "\n",
        "3rd Graph: Control input torques_interp - done\n",
        "\n",
        "On animated plot: Add goal trajectory ghosted\n",
        "\n",
        "Feel free to clean display_results()\n",
        "\n",
        "Any speed ups? But probably okay. \n"
      ],
      "metadata": {
        "id": "UnQ5JJP8uyd1"
      }
    },
    {
      "cell_type": "code",
      "source": [
        "\n",
        "\n",
        "\n",
        "submit_response(Name=\"AnonUser\", Error=999999999999) \n",
        "\n"
      ],
      "metadata": {
        "colab": {
          "base_uri": "https://localhost:8080/"
        },
        "id": "Wbi-rVx3AOjy",
        "outputId": "d43049d7-e08f-46e3-96d1-c6df9074d013"
      },
      "execution_count": 32,
      "outputs": [
        {
          "output_type": "execute_result",
          "data": {
            "text/plain": [
              "<Response [200]>"
            ]
          },
          "metadata": {},
          "execution_count": 32
        }
      ]
    },
    {
      "cell_type": "code",
      "source": [
        ""
      ],
      "metadata": {
        "id": "i-37fv20CAPp"
      },
      "execution_count": null,
      "outputs": []
    }
  ]
}