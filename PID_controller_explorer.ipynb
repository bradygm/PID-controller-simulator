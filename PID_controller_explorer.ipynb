{
  "nbformat": 4,
  "nbformat_minor": 0,
  "metadata": {
    "colab": {
      "name": "PID-controller-explorer.ipynb",
      "provenance": [],
      "collapsed_sections": [
        "1DDlkp5X8qeW",
        "Woh5Jc7QA5iE",
        "9HJDEOTMA8Au"
      ],
      "toc_visible": true,
      "include_colab_link": true
    },
    "kernelspec": {
      "name": "python3",
      "display_name": "Python 3"
    },
    "language_info": {
      "name": "python"
    },
    "widgets": {
      "application/vnd.jupyter.widget-state+json": {
        "ed880192902a461cbf79602ddb6504f4": {
          "model_module": "@jupyter-widgets/controls",
          "model_name": "HBoxModel",
          "model_module_version": "1.5.0",
          "state": {
            "_dom_classes": [],
            "_model_module": "@jupyter-widgets/controls",
            "_model_module_version": "1.5.0",
            "_model_name": "HBoxModel",
            "_view_count": null,
            "_view_module": "@jupyter-widgets/controls",
            "_view_module_version": "1.5.0",
            "_view_name": "HBoxView",
            "box_style": "",
            "children": [
              "IPY_MODEL_3817834f1363445bbce880ad18990625",
              "IPY_MODEL_63074b2cd80846b8b419981c408c0ef8"
            ],
            "layout": "IPY_MODEL_0c12f4e7d80f4686a456969a18aaab10"
          }
        },
        "3817834f1363445bbce880ad18990625": {
          "model_module": "@jupyter-widgets/controls",
          "model_name": "VBoxModel",
          "model_module_version": "1.5.0",
          "state": {
            "_dom_classes": [],
            "_model_module": "@jupyter-widgets/controls",
            "_model_module_version": "1.5.0",
            "_model_name": "VBoxModel",
            "_view_count": null,
            "_view_module": "@jupyter-widgets/controls",
            "_view_module_version": "1.5.0",
            "_view_name": "VBoxView",
            "box_style": "",
            "children": [
              "IPY_MODEL_5cbcf3cf6fa54fc68dbcda62be79d678"
            ],
            "layout": "IPY_MODEL_a2119ff27d8b4531bc4bfa60c9faf2e8"
          }
        },
        "63074b2cd80846b8b419981c408c0ef8": {
          "model_module": "@jupyter-widgets/output",
          "model_name": "OutputModel",
          "model_module_version": "1.0.0",
          "state": {
            "_dom_classes": [],
            "_model_module": "@jupyter-widgets/output",
            "_model_module_version": "1.0.0",
            "_model_name": "OutputModel",
            "_view_count": null,
            "_view_module": "@jupyter-widgets/output",
            "_view_module_version": "1.0.0",
            "_view_name": "OutputView",
            "layout": "IPY_MODEL_0e3d6621134d47cab4de9e2929fd4f81",
            "msg_id": "",
            "outputs": [
              {
                "output_type": "display_data",
                "data": {
                  "text/plain": "<Figure size 432x288 with 1 Axes>",
                  "image/png": "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\n"
                },
                "metadata": {
                  "needs_background": "light"
                }
              }
            ]
          }
        },
        "0c12f4e7d80f4686a456969a18aaab10": {
          "model_module": "@jupyter-widgets/base",
          "model_name": "LayoutModel",
          "model_module_version": "1.2.0",
          "state": {
            "_model_module": "@jupyter-widgets/base",
            "_model_module_version": "1.2.0",
            "_model_name": "LayoutModel",
            "_view_count": null,
            "_view_module": "@jupyter-widgets/base",
            "_view_module_version": "1.2.0",
            "_view_name": "LayoutView",
            "align_content": null,
            "align_items": null,
            "align_self": null,
            "border": null,
            "bottom": null,
            "display": null,
            "flex": null,
            "flex_flow": null,
            "grid_area": null,
            "grid_auto_columns": null,
            "grid_auto_flow": null,
            "grid_auto_rows": null,
            "grid_column": null,
            "grid_gap": null,
            "grid_row": null,
            "grid_template_areas": null,
            "grid_template_columns": null,
            "grid_template_rows": null,
            "height": null,
            "justify_content": null,
            "justify_items": null,
            "left": null,
            "margin": null,
            "max_height": null,
            "max_width": null,
            "min_height": null,
            "min_width": null,
            "object_fit": null,
            "object_position": null,
            "order": null,
            "overflow": null,
            "overflow_x": null,
            "overflow_y": null,
            "padding": null,
            "right": null,
            "top": null,
            "visibility": null,
            "width": null
          }
        },
        "5cbcf3cf6fa54fc68dbcda62be79d678": {
          "model_module": "@jupyter-widgets/controls",
          "model_name": "FloatSliderModel",
          "model_module_version": "1.5.0",
          "state": {
            "_dom_classes": [],
            "_model_module": "@jupyter-widgets/controls",
            "_model_module_version": "1.5.0",
            "_model_name": "FloatSliderModel",
            "_view_count": null,
            "_view_module": "@jupyter-widgets/controls",
            "_view_module_version": "1.5.0",
            "_view_name": "FloatSliderView",
            "continuous_update": true,
            "description": "Input",
            "description_tooltip": null,
            "disabled": false,
            "layout": "IPY_MODEL_2c080994dd5947ce92c92d1b15e3a636",
            "max": 1,
            "min": -1,
            "orientation": "horizontal",
            "readout": true,
            "readout_format": ".2f",
            "step": 0.1,
            "style": "IPY_MODEL_f851686da5ff413ca339f66da6a460cf",
            "value": 0
          }
        },
        "a2119ff27d8b4531bc4bfa60c9faf2e8": {
          "model_module": "@jupyter-widgets/base",
          "model_name": "LayoutModel",
          "model_module_version": "1.2.0",
          "state": {
            "_model_module": "@jupyter-widgets/base",
            "_model_module_version": "1.2.0",
            "_model_name": "LayoutModel",
            "_view_count": null,
            "_view_module": "@jupyter-widgets/base",
            "_view_module_version": "1.2.0",
            "_view_name": "LayoutView",
            "align_content": null,
            "align_items": null,
            "align_self": null,
            "border": null,
            "bottom": null,
            "display": null,
            "flex": null,
            "flex_flow": null,
            "grid_area": null,
            "grid_auto_columns": null,
            "grid_auto_flow": null,
            "grid_auto_rows": null,
            "grid_column": null,
            "grid_gap": null,
            "grid_row": null,
            "grid_template_areas": null,
            "grid_template_columns": null,
            "grid_template_rows": null,
            "height": null,
            "justify_content": null,
            "justify_items": null,
            "left": null,
            "margin": null,
            "max_height": null,
            "max_width": null,
            "min_height": null,
            "min_width": null,
            "object_fit": null,
            "object_position": null,
            "order": null,
            "overflow": null,
            "overflow_x": null,
            "overflow_y": null,
            "padding": null,
            "right": null,
            "top": null,
            "visibility": null,
            "width": null
          }
        },
        "2c080994dd5947ce92c92d1b15e3a636": {
          "model_module": "@jupyter-widgets/base",
          "model_name": "LayoutModel",
          "model_module_version": "1.2.0",
          "state": {
            "_model_module": "@jupyter-widgets/base",
            "_model_module_version": "1.2.0",
            "_model_name": "LayoutModel",
            "_view_count": null,
            "_view_module": "@jupyter-widgets/base",
            "_view_module_version": "1.2.0",
            "_view_name": "LayoutView",
            "align_content": null,
            "align_items": null,
            "align_self": null,
            "border": null,
            "bottom": null,
            "display": null,
            "flex": null,
            "flex_flow": null,
            "grid_area": null,
            "grid_auto_columns": null,
            "grid_auto_flow": null,
            "grid_auto_rows": null,
            "grid_column": null,
            "grid_gap": null,
            "grid_row": null,
            "grid_template_areas": null,
            "grid_template_columns": null,
            "grid_template_rows": null,
            "height": null,
            "justify_content": null,
            "justify_items": null,
            "left": null,
            "margin": null,
            "max_height": null,
            "max_width": null,
            "min_height": null,
            "min_width": null,
            "object_fit": null,
            "object_position": null,
            "order": null,
            "overflow": null,
            "overflow_x": null,
            "overflow_y": null,
            "padding": null,
            "right": null,
            "top": null,
            "visibility": null,
            "width": null
          }
        },
        "f851686da5ff413ca339f66da6a460cf": {
          "model_module": "@jupyter-widgets/controls",
          "model_name": "SliderStyleModel",
          "model_module_version": "1.5.0",
          "state": {
            "_model_module": "@jupyter-widgets/controls",
            "_model_module_version": "1.5.0",
            "_model_name": "SliderStyleModel",
            "_view_count": null,
            "_view_module": "@jupyter-widgets/base",
            "_view_module_version": "1.2.0",
            "_view_name": "StyleView",
            "description_width": "",
            "handle_color": null
          }
        },
        "0e3d6621134d47cab4de9e2929fd4f81": {
          "model_module": "@jupyter-widgets/base",
          "model_name": "LayoutModel",
          "model_module_version": "1.2.0",
          "state": {
            "_model_module": "@jupyter-widgets/base",
            "_model_module_version": "1.2.0",
            "_model_name": "LayoutModel",
            "_view_count": null,
            "_view_module": "@jupyter-widgets/base",
            "_view_module_version": "1.2.0",
            "_view_name": "LayoutView",
            "align_content": null,
            "align_items": null,
            "align_self": null,
            "border": null,
            "bottom": null,
            "display": null,
            "flex": null,
            "flex_flow": null,
            "grid_area": null,
            "grid_auto_columns": null,
            "grid_auto_flow": null,
            "grid_auto_rows": null,
            "grid_column": null,
            "grid_gap": null,
            "grid_row": null,
            "grid_template_areas": null,
            "grid_template_columns": null,
            "grid_template_rows": null,
            "height": null,
            "justify_content": null,
            "justify_items": null,
            "left": null,
            "margin": null,
            "max_height": null,
            "max_width": null,
            "min_height": null,
            "min_width": null,
            "object_fit": null,
            "object_position": null,
            "order": null,
            "overflow": null,
            "overflow_x": null,
            "overflow_y": null,
            "padding": null,
            "right": null,
            "top": null,
            "visibility": null,
            "width": null
          }
        },
        "6d4e757a27b34bd7be40a63232f40045": {
          "model_module": "@jupyter-widgets/controls",
          "model_name": "HBoxModel",
          "model_module_version": "1.5.0",
          "state": {
            "_dom_classes": [],
            "_model_module": "@jupyter-widgets/controls",
            "_model_module_version": "1.5.0",
            "_model_name": "HBoxModel",
            "_view_count": null,
            "_view_module": "@jupyter-widgets/controls",
            "_view_module_version": "1.5.0",
            "_view_name": "HBoxView",
            "box_style": "",
            "children": [
              "IPY_MODEL_3a7f618d19cf4646bcb003fff9135dae",
              "IPY_MODEL_bae8ef48e71245ae8e638b27a14fd0e6"
            ],
            "layout": "IPY_MODEL_6c89ca9b37c64c62b9dfb039fb960079"
          }
        },
        "3a7f618d19cf4646bcb003fff9135dae": {
          "model_module": "@jupyter-widgets/controls",
          "model_name": "VBoxModel",
          "model_module_version": "1.5.0",
          "state": {
            "_dom_classes": [],
            "_model_module": "@jupyter-widgets/controls",
            "_model_module_version": "1.5.0",
            "_model_name": "VBoxModel",
            "_view_count": null,
            "_view_module": "@jupyter-widgets/controls",
            "_view_module_version": "1.5.0",
            "_view_name": "VBoxView",
            "box_style": "",
            "children": [
              "IPY_MODEL_be01c251931e41379ab9f3f8b3dd1dcc"
            ],
            "layout": "IPY_MODEL_9c30f94681274efe9a3999ff3f80dff3"
          }
        },
        "bae8ef48e71245ae8e638b27a14fd0e6": {
          "model_module": "@jupyter-widgets/output",
          "model_name": "OutputModel",
          "model_module_version": "1.0.0",
          "state": {
            "_dom_classes": [],
            "_model_module": "@jupyter-widgets/output",
            "_model_module_version": "1.0.0",
            "_model_name": "OutputModel",
            "_view_count": null,
            "_view_module": "@jupyter-widgets/output",
            "_view_module_version": "1.0.0",
            "_view_name": "OutputView",
            "layout": "IPY_MODEL_7c2ef2b4bf89422da6ffa938aa913aa0",
            "msg_id": "",
            "outputs": [
              {
                "output_type": "display_data",
                "data": {
                  "text/plain": "<Figure size 432x288 with 1 Axes>",
                  "image/png": "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\n"
                },
                "metadata": {
                  "needs_background": "light"
                }
              }
            ]
          }
        },
        "6c89ca9b37c64c62b9dfb039fb960079": {
          "model_module": "@jupyter-widgets/base",
          "model_name": "LayoutModel",
          "model_module_version": "1.2.0",
          "state": {
            "_model_module": "@jupyter-widgets/base",
            "_model_module_version": "1.2.0",
            "_model_name": "LayoutModel",
            "_view_count": null,
            "_view_module": "@jupyter-widgets/base",
            "_view_module_version": "1.2.0",
            "_view_name": "LayoutView",
            "align_content": null,
            "align_items": null,
            "align_self": null,
            "border": null,
            "bottom": null,
            "display": null,
            "flex": null,
            "flex_flow": null,
            "grid_area": null,
            "grid_auto_columns": null,
            "grid_auto_flow": null,
            "grid_auto_rows": null,
            "grid_column": null,
            "grid_gap": null,
            "grid_row": null,
            "grid_template_areas": null,
            "grid_template_columns": null,
            "grid_template_rows": null,
            "height": null,
            "justify_content": null,
            "justify_items": null,
            "left": null,
            "margin": null,
            "max_height": null,
            "max_width": null,
            "min_height": null,
            "min_width": null,
            "object_fit": null,
            "object_position": null,
            "order": null,
            "overflow": null,
            "overflow_x": null,
            "overflow_y": null,
            "padding": null,
            "right": null,
            "top": null,
            "visibility": null,
            "width": null
          }
        },
        "be01c251931e41379ab9f3f8b3dd1dcc": {
          "model_module": "@jupyter-widgets/controls",
          "model_name": "FloatSliderModel",
          "model_module_version": "1.5.0",
          "state": {
            "_dom_classes": [],
            "_model_module": "@jupyter-widgets/controls",
            "_model_module_version": "1.5.0",
            "_model_name": "FloatSliderModel",
            "_view_count": null,
            "_view_module": "@jupyter-widgets/controls",
            "_view_module_version": "1.5.0",
            "_view_name": "FloatSliderView",
            "continuous_update": true,
            "description": "Input",
            "description_tooltip": null,
            "disabled": false,
            "layout": "IPY_MODEL_c77302a7ae354f7ea05531e605348692",
            "max": 3.14,
            "min": -3.14,
            "orientation": "horizontal",
            "readout": true,
            "readout_format": ".2f",
            "step": 0.1,
            "style": "IPY_MODEL_625ee13fc08c4fadb57afd92d54f2467",
            "value": 1.06
          }
        },
        "9c30f94681274efe9a3999ff3f80dff3": {
          "model_module": "@jupyter-widgets/base",
          "model_name": "LayoutModel",
          "model_module_version": "1.2.0",
          "state": {
            "_model_module": "@jupyter-widgets/base",
            "_model_module_version": "1.2.0",
            "_model_name": "LayoutModel",
            "_view_count": null,
            "_view_module": "@jupyter-widgets/base",
            "_view_module_version": "1.2.0",
            "_view_name": "LayoutView",
            "align_content": null,
            "align_items": null,
            "align_self": null,
            "border": null,
            "bottom": null,
            "display": null,
            "flex": null,
            "flex_flow": null,
            "grid_area": null,
            "grid_auto_columns": null,
            "grid_auto_flow": null,
            "grid_auto_rows": null,
            "grid_column": null,
            "grid_gap": null,
            "grid_row": null,
            "grid_template_areas": null,
            "grid_template_columns": null,
            "grid_template_rows": null,
            "height": null,
            "justify_content": null,
            "justify_items": null,
            "left": null,
            "margin": null,
            "max_height": null,
            "max_width": null,
            "min_height": null,
            "min_width": null,
            "object_fit": null,
            "object_position": null,
            "order": null,
            "overflow": null,
            "overflow_x": null,
            "overflow_y": null,
            "padding": null,
            "right": null,
            "top": null,
            "visibility": null,
            "width": null
          }
        },
        "c77302a7ae354f7ea05531e605348692": {
          "model_module": "@jupyter-widgets/base",
          "model_name": "LayoutModel",
          "model_module_version": "1.2.0",
          "state": {
            "_model_module": "@jupyter-widgets/base",
            "_model_module_version": "1.2.0",
            "_model_name": "LayoutModel",
            "_view_count": null,
            "_view_module": "@jupyter-widgets/base",
            "_view_module_version": "1.2.0",
            "_view_name": "LayoutView",
            "align_content": null,
            "align_items": null,
            "align_self": null,
            "border": null,
            "bottom": null,
            "display": null,
            "flex": null,
            "flex_flow": null,
            "grid_area": null,
            "grid_auto_columns": null,
            "grid_auto_flow": null,
            "grid_auto_rows": null,
            "grid_column": null,
            "grid_gap": null,
            "grid_row": null,
            "grid_template_areas": null,
            "grid_template_columns": null,
            "grid_template_rows": null,
            "height": null,
            "justify_content": null,
            "justify_items": null,
            "left": null,
            "margin": null,
            "max_height": null,
            "max_width": null,
            "min_height": null,
            "min_width": null,
            "object_fit": null,
            "object_position": null,
            "order": null,
            "overflow": null,
            "overflow_x": null,
            "overflow_y": null,
            "padding": null,
            "right": null,
            "top": null,
            "visibility": null,
            "width": null
          }
        },
        "625ee13fc08c4fadb57afd92d54f2467": {
          "model_module": "@jupyter-widgets/controls",
          "model_name": "SliderStyleModel",
          "model_module_version": "1.5.0",
          "state": {
            "_model_module": "@jupyter-widgets/controls",
            "_model_module_version": "1.5.0",
            "_model_name": "SliderStyleModel",
            "_view_count": null,
            "_view_module": "@jupyter-widgets/base",
            "_view_module_version": "1.2.0",
            "_view_name": "StyleView",
            "description_width": "",
            "handle_color": null
          }
        },
        "7c2ef2b4bf89422da6ffa938aa913aa0": {
          "model_module": "@jupyter-widgets/base",
          "model_name": "LayoutModel",
          "model_module_version": "1.2.0",
          "state": {
            "_model_module": "@jupyter-widgets/base",
            "_model_module_version": "1.2.0",
            "_model_name": "LayoutModel",
            "_view_count": null,
            "_view_module": "@jupyter-widgets/base",
            "_view_module_version": "1.2.0",
            "_view_name": "LayoutView",
            "align_content": null,
            "align_items": null,
            "align_self": null,
            "border": null,
            "bottom": null,
            "display": null,
            "flex": null,
            "flex_flow": null,
            "grid_area": null,
            "grid_auto_columns": null,
            "grid_auto_flow": null,
            "grid_auto_rows": null,
            "grid_column": null,
            "grid_gap": null,
            "grid_row": null,
            "grid_template_areas": null,
            "grid_template_columns": null,
            "grid_template_rows": null,
            "height": null,
            "justify_content": null,
            "justify_items": null,
            "left": null,
            "margin": null,
            "max_height": null,
            "max_width": null,
            "min_height": null,
            "min_width": null,
            "object_fit": null,
            "object_position": null,
            "order": null,
            "overflow": null,
            "overflow_x": null,
            "overflow_y": null,
            "padding": null,
            "right": null,
            "top": null,
            "visibility": null,
            "width": null
          }
        },
        "8b75b2fe92ac448eb2bc13598cfa2baa": {
          "model_module": "@jupyter-widgets/controls",
          "model_name": "HBoxModel",
          "model_module_version": "1.5.0",
          "state": {
            "_dom_classes": [],
            "_model_module": "@jupyter-widgets/controls",
            "_model_module_version": "1.5.0",
            "_model_name": "HBoxModel",
            "_view_count": null,
            "_view_module": "@jupyter-widgets/controls",
            "_view_module_version": "1.5.0",
            "_view_name": "HBoxView",
            "box_style": "",
            "children": [
              "IPY_MODEL_35108034cf74467fb7c54c8bca8eb948",
              "IPY_MODEL_6ddfbe1c75794931b5e20dabde9c5a77"
            ],
            "layout": "IPY_MODEL_a98c61ed5a274d0186cdf8754bc8a9cc"
          }
        },
        "35108034cf74467fb7c54c8bca8eb948": {
          "model_module": "@jupyter-widgets/output",
          "model_name": "OutputModel",
          "model_module_version": "1.0.0",
          "state": {
            "_dom_classes": [],
            "_model_module": "@jupyter-widgets/output",
            "_model_module_version": "1.0.0",
            "_model_name": "OutputModel",
            "_view_count": null,
            "_view_module": "@jupyter-widgets/output",
            "_view_module_version": "1.0.0",
            "_view_name": "OutputView",
            "layout": "IPY_MODEL_b9ba5815e7874f82a583ed9b99eb8260",
            "msg_id": "",
            "outputs": []
          }
        },
        "6ddfbe1c75794931b5e20dabde9c5a77": {
          "model_module": "@jupyter-widgets/output",
          "model_name": "OutputModel",
          "model_module_version": "1.0.0",
          "state": {
            "_dom_classes": [],
            "_model_module": "@jupyter-widgets/output",
            "_model_module_version": "1.0.0",
            "_model_name": "OutputModel",
            "_view_count": null,
            "_view_module": "@jupyter-widgets/output",
            "_view_module_version": "1.0.0",
            "_view_name": "OutputView",
            "layout": "IPY_MODEL_896c32551efe4523965428373b039f5a",
            "msg_id": "",
            "outputs": [
              {
                "output_type": "display_data",
                "data": {
                  "text/plain": "<Figure size 432x288 with 1 Axes>",
                  "image/png": "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\n"
                },
                "metadata": {
                  "needs_background": "light"
                }
              }
            ]
          }
        },
        "a98c61ed5a274d0186cdf8754bc8a9cc": {
          "model_module": "@jupyter-widgets/base",
          "model_name": "LayoutModel",
          "model_module_version": "1.2.0",
          "state": {
            "_model_module": "@jupyter-widgets/base",
            "_model_module_version": "1.2.0",
            "_model_name": "LayoutModel",
            "_view_count": null,
            "_view_module": "@jupyter-widgets/base",
            "_view_module_version": "1.2.0",
            "_view_name": "LayoutView",
            "align_content": null,
            "align_items": null,
            "align_self": null,
            "border": null,
            "bottom": null,
            "display": null,
            "flex": null,
            "flex_flow": null,
            "grid_area": null,
            "grid_auto_columns": null,
            "grid_auto_flow": null,
            "grid_auto_rows": null,
            "grid_column": null,
            "grid_gap": null,
            "grid_row": null,
            "grid_template_areas": null,
            "grid_template_columns": null,
            "grid_template_rows": null,
            "height": null,
            "justify_content": null,
            "justify_items": null,
            "left": null,
            "margin": null,
            "max_height": null,
            "max_width": null,
            "min_height": null,
            "min_width": null,
            "object_fit": null,
            "object_position": null,
            "order": null,
            "overflow": null,
            "overflow_x": null,
            "overflow_y": null,
            "padding": null,
            "right": null,
            "top": null,
            "visibility": null,
            "width": null
          }
        },
        "b9ba5815e7874f82a583ed9b99eb8260": {
          "model_module": "@jupyter-widgets/base",
          "model_name": "LayoutModel",
          "model_module_version": "1.2.0",
          "state": {
            "_model_module": "@jupyter-widgets/base",
            "_model_module_version": "1.2.0",
            "_model_name": "LayoutModel",
            "_view_count": null,
            "_view_module": "@jupyter-widgets/base",
            "_view_module_version": "1.2.0",
            "_view_name": "LayoutView",
            "align_content": null,
            "align_items": null,
            "align_self": null,
            "border": "1px solid black",
            "bottom": null,
            "display": null,
            "flex": null,
            "flex_flow": null,
            "grid_area": null,
            "grid_auto_columns": null,
            "grid_auto_flow": null,
            "grid_auto_rows": null,
            "grid_column": null,
            "grid_gap": null,
            "grid_row": null,
            "grid_template_areas": null,
            "grid_template_columns": null,
            "grid_template_rows": null,
            "height": null,
            "justify_content": null,
            "justify_items": null,
            "left": null,
            "margin": null,
            "max_height": null,
            "max_width": null,
            "min_height": null,
            "min_width": null,
            "object_fit": null,
            "object_position": null,
            "order": null,
            "overflow": null,
            "overflow_x": null,
            "overflow_y": null,
            "padding": null,
            "right": null,
            "top": null,
            "visibility": null,
            "width": null
          }
        },
        "896c32551efe4523965428373b039f5a": {
          "model_module": "@jupyter-widgets/base",
          "model_name": "LayoutModel",
          "model_module_version": "1.2.0",
          "state": {
            "_model_module": "@jupyter-widgets/base",
            "_model_module_version": "1.2.0",
            "_model_name": "LayoutModel",
            "_view_count": null,
            "_view_module": "@jupyter-widgets/base",
            "_view_module_version": "1.2.0",
            "_view_name": "LayoutView",
            "align_content": null,
            "align_items": null,
            "align_self": null,
            "border": "1px solid black",
            "bottom": null,
            "display": null,
            "flex": null,
            "flex_flow": null,
            "grid_area": null,
            "grid_auto_columns": null,
            "grid_auto_flow": null,
            "grid_auto_rows": null,
            "grid_column": null,
            "grid_gap": null,
            "grid_row": null,
            "grid_template_areas": null,
            "grid_template_columns": null,
            "grid_template_rows": null,
            "height": null,
            "justify_content": null,
            "justify_items": null,
            "left": null,
            "margin": null,
            "max_height": null,
            "max_width": null,
            "min_height": null,
            "min_width": null,
            "object_fit": null,
            "object_position": null,
            "order": null,
            "overflow": null,
            "overflow_x": null,
            "overflow_y": null,
            "padding": null,
            "right": null,
            "top": null,
            "visibility": null,
            "width": null
          }
        }
      }
    }
  },
  "cells": [
    {
      "cell_type": "markdown",
      "metadata": {
        "id": "view-in-github",
        "colab_type": "text"
      },
      "source": [
        "<a href=\"https://colab.research.google.com/github/bradygm/PID-controller-simulator/blob/main/PID_controller_explorer.ipynb\" target=\"_parent\"><img src=\"https://colab.research.google.com/assets/colab-badge.svg\" alt=\"Open In Colab\"/></a>"
      ]
    },
    {
      "cell_type": "markdown",
      "source": [
        "# RoboLaunch Workshop Series: Intuitive PID Control\n",
        "\n",
        "Link to recording: will be updated after live workshop session \n",
        "<!-- ![](https://drive.google.com/uc?export=view&id=1jj4E63su7JoKRsCWAJ73ZGNPCLApBT6a) -->"
      ],
      "metadata": {
        "id": "UDZS1MekRVAt"
      }
    },
    {
      "cell_type": "markdown",
      "source": [
        "### Quick Google Colab Intro\n",
        "\n",
        "A notebook is a list of cells. Cells contain either explanatory text or executable code and its output. Click a cell to select it.\n",
        "\n",
        "Below is a **code cell** that prints \"Hello World!\". Click in the cell to select it and execute the contents in one of the following ways:\n",
        "\n",
        "* Click the **Play icon** in the left gutter of the cell;\n",
        "* Type **Cmd/Ctrl+Enter** to run the cell in place;\n",
        "* Type **Shift+Enter** to run the cell and move focus to the next cell (adding one if none exists); "
      ],
      "metadata": {
        "id": "QFl6FISBehnF"
      }
    },
    {
      "cell_type": "code",
      "source": [
        "# This is a comment\n",
        "print('Hello World!')"
      ],
      "metadata": {
        "id": "THIEZraYXlv7",
        "colab": {
          "base_uri": "https://localhost:8080/"
        },
        "outputId": "c4ade275-46f1-4e1f-9d68-96ff21d87d25"
      },
      "execution_count": null,
      "outputs": [
        {
          "output_type": "stream",
          "name": "stdout",
          "text": [
            "Hello World!\n"
          ]
        }
      ]
    },
    {
      "cell_type": "markdown",
      "source": [
        "Did you see the code cell print \"Hello World!\"? Great!"
      ],
      "metadata": {
        "id": "8qyUq9qWMaGU"
      }
    },
    {
      "cell_type": "markdown",
      "source": [
        "# Example 1: Single link robot arm\n",
        "\n",
        "Just a stick with one actuated joint. They could have a slider that affects the commanded joint angle and then they see how the robot arm rotates to that angle. \n",
        "\n",
        "Physics would be very simple, as we could ignore gravity if arm is in x,y plane. They could even modify the mass of the arm to see how it affects the controller, but might be beyond the scope of this workshop. But we could have a section at the end that gives people ideas of things they could do if they want to explore it more and try other things. \n",
        "\n",
        "We could also hide away some of the code maybe, or maybe even remove classes?\n"
      ],
      "metadata": {
        "id": "_vn6vrSAh4YU"
      }
    },
    {
      "cell_type": "markdown",
      "source": [
        "#### Import and helpers statements (explain)"
      ],
      "metadata": {
        "id": "1DDlkp5X8qeW"
      }
    },
    {
      "cell_type": "markdown",
      "source": [
        "##### Imports"
      ],
      "metadata": {
        "id": "Woh5Jc7QA5iE"
      }
    },
    {
      "cell_type": "code",
      "source": [
        "import numpy as np\n",
        "import matplotlib.pyplot as plt\n",
        "from matplotlib.animation import FuncAnimation\n",
        "import matplotlib.animation as animation\n",
        "import math\n",
        "from IPython.display import HTML, Javascript\n",
        "from scipy import interpolate\n",
        "from ipywidgets import interact, interactive, fixed, interact_manual, Video\n",
        "import ipywidgets as widgets\n",
        "import time"
      ],
      "metadata": {
        "id": "3SI5I_eO8U25"
      },
      "execution_count": 3,
      "outputs": []
    },
    {
      "cell_type": "markdown",
      "source": [
        "##### CustomInput Class"
      ],
      "metadata": {
        "id": "9HJDEOTMA8Au"
      }
    },
    {
      "cell_type": "code",
      "source": [
        "class CustomInput:\n",
        "\n",
        "    def __init__(self, min_val, max_val):\n",
        "        self.a = widgets.FloatSlider(description='Input',min=min_val, max=max_val)\n",
        "        self.values = np.array([[]])\n",
        "\n",
        "        self.start_time = -1.0\n",
        "        self.first_time = True\n",
        "\n",
        "    def f(self, a):\n",
        "        if self.first_time:\n",
        "            self.first_time = False\n",
        "            plt.plot(self.values[:,0], self.values[:,1])\n",
        "            plt.xlabel(\"Seconds\")\n",
        "            plt.ylabel(\"Input\")\n",
        "            return\n",
        "\n",
        "        if self.start_time == -1.0:\n",
        "            self.start_time = time.time()\n",
        "\n",
        "        self.values = np.append(self.values, [[time.time()-self.start_time, a]], axis=0)\n",
        "        plt.plot(self.values[:,0], self.values[:,1], drawstyle=\"steps-pre\")\n",
        "        plt.xlabel(\"Seconds\")\n",
        "        plt.ylabel(\"Input\")\n",
        "\n",
        "    def record(self):\n",
        "        self.values = np.empty((0,2), float)\n",
        "        self.start_time = -1.0\n",
        "        self.first_time = True\n",
        "\n",
        "        out = widgets.interactive_output(self.f, {'a': self.a})\n",
        "\n",
        "        # vid_out = widgets.Output(layout={'border': '1px solid black'})\n",
        "        # with vid_out:\n",
        "        #     display(Video.from_file(\"animation.mp4\", play=True))\n",
        "        # widgets.HBox([widgets.VBox([a]), out, vid_out])\n",
        "        return widgets.HBox([widgets.VBox([self.a]), out])"
      ],
      "metadata": {
        "id": "BW69LUUuV8iC"
      },
      "execution_count": 104,
      "outputs": []
    },
    {
      "cell_type": "code",
      "source": [
        "#############################################\n",
        "# Display the results\n",
        "def display_results():\n",
        "    fig = plt.figure(figsize=(5, 4))\n",
        "    ax = fig.add_subplot(autoscale_on=False, xlim=(-1.2, 1.2), ylim=(-1.2, 1.2))\n",
        "    ax.set_aspect('equal')\n",
        "\n",
        "    line, = ax.plot([], [], 'o-', lw=6)\n",
        "    time_template = 'time = %.1fs'\n",
        "    time_text = ax.text(0.05, 0.9, '', transform=ax.transAxes)\n",
        "\n",
        "\n",
        "    def animate_arm(i):\n",
        "        thisx = [0, np.sin(ang_hist[i])]\n",
        "        thisy = [0, np.cos(ang_hist[i])]\n",
        "\n",
        "        line.set_data(thisx, thisy)\n",
        "        time_text.set_text(time_template % (i*myRobotArm.timestep))\n",
        "        return line, time_text\n",
        "\n",
        "    ani_arm_vid = animation.FuncAnimation(\n",
        "        fig, animate_arm, len(ang_hist), interval=myRobotArm.timestep*1000, blit=True)\n",
        "    plt.close()\n",
        "\n",
        "\n",
        "    fig = plt.figure(figsize=(6, 4))\n",
        "    ax = fig.add_subplot(autoscale_on=False, xlim=(0, end_time), ylim=(-np.pi, np.pi))\n",
        "    plt.title(\"Arm Angle and Goal Angle\")\n",
        "    plt.xlabel(\"Seconds\")\n",
        "    plt.ylabel(\"Angle (Radians)\")\n",
        "    ax.grid()\n",
        "\n",
        "    line2, = ax.plot([], [], '--', lw=2)\n",
        "    line2.set_label('Arm Angle')\n",
        "    line3, = ax.plot(time_list[0], ang_hist[0], 'o', lw=2)\n",
        "    line4, = ax.plot(time_list[0:list_len-1], goal_ang_interp[0:list_len-1], '--', lw=2)\n",
        "    line4.set_label('Arm Goal Angle')\n",
        "    time_template2 = 'time = %.1fs'\n",
        "    time_text2 = ax.text(0.05, 0.9, '', transform=ax.transAxes)\n",
        "    # ax.legend()\n",
        "\n",
        "\n",
        "    def animate_arm2(i):\n",
        "        line2.set_data(time_list[0:i], ang_hist[0:i])\n",
        "        line3.set_data(time_list[i], ang_hist[i])\n",
        "        time_text2.set_text(time_template2 % (i*myRobotArm.timestep))\n",
        "\n",
        "        return line2, time_text2\n",
        "\n",
        "    ani_arm_vid2 = animation.FuncAnimation(\n",
        "        fig, animate_arm2, len(ang_hist), interval=myRobotArm.timestep*1000, blit=True)\n",
        "    plt.close()\n",
        "\n",
        "    #################################\n",
        "    # display each animation next to each other\n",
        "    window1 = widgets.Output(layout={'border': '1px solid black'})\n",
        "    window2 = widgets.Output(layout={'border': '1px solid black'})\n",
        "    start = time.time()\n",
        "    with window1:\n",
        "        if animate_sim:\n",
        "            display(HTML(ani_arm_vid.to_html5_video()))\n",
        "    with window2:\n",
        "        if animate_plots:\n",
        "            display(HTML(ani_arm_vid2.to_html5_video()))\n",
        "        else:\n",
        "            fig = plt.figure(figsize=(6, 4))\n",
        "            ax = fig.add_subplot(autoscale_on=False, xlim=(0, end_time), ylim=(-np.pi, np.pi))\n",
        "            ax.grid()\n",
        "            plt.title(\"Arm Angle and Goal Angle\")\n",
        "            plt.xlabel(\"Seconds\")\n",
        "            plt.ylabel(\"Angle (Radians)\")\n",
        "            line2, = ax.plot(time_list[0:list_len-1], goal_ang_interp[0:list_len-1], '--', lw=2)\n",
        "            line2.set_label('Arm Goal Angle')\n",
        "            line3, = ax.plot(time_list[0:list_len-1], ang_hist[0:list_len-1], '--', lw=2)\n",
        "            line3.set_label('Arm Angle')\n",
        "            ax.legend()\n",
        "            plt.show()\n",
        "        \n",
        "    print(time.time()-start)\n",
        "\n",
        "\n",
        "\n",
        "    # widgets.HBox([widgets.VBox([a]), out, vid_out])\n",
        "    return widgets.HBox([window1, window2])\n",
        "    # FFwriter = animation.FFMpegWriter()\n",
        "    # ani.save('animation.mp4', writer = FFwriter)\n",
        "\n",
        "def interp_values(values, end_time, dt):\n",
        "    # values_t = np.array(values)\n",
        "    f = interpolate.interp1d(values[:,0], values[:,1], kind='previous', fill_value=\"extrapolate\")\n",
        "    time_list = np.arange(0, end_time, dt)\n",
        "    return f(time_list)"
      ],
      "metadata": {
        "id": "jMJtWA2e7jBN"
      },
      "execution_count": 105,
      "outputs": []
    },
    {
      "cell_type": "markdown",
      "source": [
        "#### Create your own input for the arm"
      ],
      "metadata": {
        "id": "_595CnaIV9hv"
      }
    },
    {
      "cell_type": "code",
      "source": [
        "custom_torques = CustomInput(-1,1)\n",
        "custom_torques.record()"
      ],
      "metadata": {
        "colab": {
          "base_uri": "https://localhost:8080/",
          "height": 279,
          "referenced_widgets": [
            "ed880192902a461cbf79602ddb6504f4",
            "3817834f1363445bbce880ad18990625",
            "63074b2cd80846b8b419981c408c0ef8",
            "0c12f4e7d80f4686a456969a18aaab10",
            "5cbcf3cf6fa54fc68dbcda62be79d678",
            "a2119ff27d8b4531bc4bfa60c9faf2e8",
            "2c080994dd5947ce92c92d1b15e3a636",
            "f851686da5ff413ca339f66da6a460cf",
            "0e3d6621134d47cab4de9e2929fd4f81"
          ]
        },
        "id": "uqxBxRgk9E3R",
        "outputId": "842097a0-d8c7-46c0-c7ee-563e12da96b5"
      },
      "execution_count": 106,
      "outputs": [
        {
          "output_type": "display_data",
          "data": {
            "text/plain": [
              "HBox(children=(VBox(children=(FloatSlider(value=0.0, description='Input', max=1.0, min=-1.0),)), Output()))"
            ],
            "application/vnd.jupyter.widget-view+json": {
              "version_major": 2,
              "version_minor": 0,
              "model_id": "ed880192902a461cbf79602ddb6504f4"
            }
          },
          "metadata": {}
        }
      ]
    },
    {
      "cell_type": "code",
      "source": [
        "custom_goal_angle = CustomInput(-3.14,3.14)\n",
        "custom_goal_angle.record()"
      ],
      "metadata": {
        "colab": {
          "base_uri": "https://localhost:8080/",
          "height": 279,
          "referenced_widgets": [
            "6d4e757a27b34bd7be40a63232f40045",
            "3a7f618d19cf4646bcb003fff9135dae",
            "bae8ef48e71245ae8e638b27a14fd0e6",
            "6c89ca9b37c64c62b9dfb039fb960079",
            "be01c251931e41379ab9f3f8b3dd1dcc",
            "9c30f94681274efe9a3999ff3f80dff3",
            "c77302a7ae354f7ea05531e605348692",
            "625ee13fc08c4fadb57afd92d54f2467",
            "7c2ef2b4bf89422da6ffa938aa913aa0"
          ]
        },
        "id": "qkCnKaY0B9SQ",
        "outputId": "825f6ea6-0cf5-4a48-b7c2-7deb788402f1"
      },
      "execution_count": 107,
      "outputs": [
        {
          "output_type": "display_data",
          "data": {
            "text/plain": [
              "HBox(children=(VBox(children=(FloatSlider(value=0.0, description='Input', max=3.14, min=-3.14),)), Output()))"
            ],
            "application/vnd.jupyter.widget-view+json": {
              "version_major": 2,
              "version_minor": 0,
              "model_id": "6d4e757a27b34bd7be40a63232f40045"
            }
          },
          "metadata": {}
        }
      ]
    },
    {
      "cell_type": "markdown",
      "source": [
        "#### Controller\n"
      ],
      "metadata": {
        "id": "AkJOel0h_S0H"
      }
    },
    {
      "cell_type": "code",
      "source": [
        "class PID_Controller:\n",
        "\n",
        "    def __init__(self, k_p=1, k_i=0, k_d=0):\n",
        "        self.control_limit = 0 #not currently used\n",
        "        self.error_sum = 0\n",
        "\n",
        "        self.k_p = k_p\n",
        "        self.k_i = k_i\n",
        "        self.k_d = k_d\n",
        "\n",
        "    def p_control(self, desired_position, current_position):\n",
        "        error = desired_position-current_position\n",
        "        return self.k_p*error\n",
        "\n",
        "    def pd_control(self, desired_position, current_position, current_velocity):\n",
        "        error = desired_position-current_position\n",
        "        return self.k_p*error - self.k_d*current_velocity\n",
        "\n",
        "    def pid_control(self, desired_position, current_position, current_velocity):\n",
        "        error = desired_position-current_position\n",
        "        self.error_sum += error\n",
        "        return self.k_p*error + self.k_i*self.error_sum - self.k_d*current_velocity"
      ],
      "metadata": {
        "id": "rtCcEklj5McZ"
      },
      "execution_count": 108,
      "outputs": []
    },
    {
      "cell_type": "code",
      "source": [
        "# @markdown # Robot Arm Parameters { display-mode: \"form\" }\n",
        "# @markdown You can adjust parameters using the slides and form below.\n",
        "# @markdown This is pretty fun to interact with. Remember to run this \n",
        "# @markdown cell after you pick new parameters.\n",
        "\n",
        "# @markdown ---\n",
        "# @markdown ### Physical Parameters:\n",
        "\n",
        "import numpy as np\n",
        "\n",
        "class RobotArm:\n",
        "\n",
        "    def __init__(self, start_angle, timestep):\n",
        "        self.mass = 1.1 #@param{type:\"slider\", min:0.1, max:3, step:0.1}\n",
        "        self.length = 1 #@param\n",
        "        \n",
        "        self.state = np.array([start_angle, 0.0])\n",
        "        # self.ang_position = start_angle\n",
        "        # self.ang_velocity = 0\n",
        "\n",
        "        self.damping = 0.1 #@param\n",
        "        self.gravity_on = False #@param{type:\"boolean\"}\n",
        "        self.gravity = 9.8\n",
        "\n",
        "        # @markdown ---\n",
        "        # @markdown ### Simulation Parameters:\n",
        "        self.timestep = timestep\n",
        "\n",
        "    def state_derivative(self, state, torque):\n",
        "        ang_position = state[0]\n",
        "        ang_velocity = state[1]\n",
        "        if self.gravity_on:\n",
        "            accelaration = (3/self.mass/self.length**2)*(torque - self.damping*ang_velocity + self.mass*self.gravity*self.length/2*np.sin(ang_position))\n",
        "        else:\n",
        "            accelaration = 3*(torque-ang_velocity*self.damping)/(self.mass*self.length**2)\n",
        "\n",
        "        return np.array([ang_velocity, accelaration])\n",
        "        \n",
        "        \n",
        "    def step_forward(self, torque): \n",
        "        # Using Runge-Kutta algorithm\n",
        "        k1 = self.state_derivative(self.state, torque)\n",
        "        k2 = self.state_derivative(self.state + self.timestep/2*k1, torque)\n",
        "        k3 = self.state_derivative(self.state + self.timestep/2*k2, torque)\n",
        "        k4 = self.state_derivative(self.state + self.timestep*k3, torque)\n",
        "        self.state = self.state + self.timestep/6 * (k1 + 2*k2 + 2*k3 + k4)\n",
        "\n",
        "        # Euler method not stable\n",
        "        # self.ang_position = self.ang_position + self.timestep*self.ang_velocity\n",
        "        # self.ang_velocity = self.ang_velocity + self.timestep*accelaration\n",
        "\n",
        "    def angle_wrap(self, ang):\n",
        "        return (ang + np.pi) % (2 * np.pi) - np.pi\n",
        "\n",
        "    def get_ang_position(self):\n",
        "        return self.state[0]\n",
        "    \n",
        "    def get_ang_velocity(self):\n",
        "        return self.state[1]\n",
        "\n",
        "    \n"
      ],
      "metadata": {
        "id": "MRqZwSiC4fmP",
        "cellView": "form"
      },
      "execution_count": 109,
      "outputs": []
    },
    {
      "cell_type": "code",
      "source": [
        "\n",
        "\n",
        "\n",
        "end_time = 10.0 #@param{type:\"slider\", min:5.0, max:30, step:1}\n",
        "start_angle = 0.1 #@param{type:\"slider\", min:-3.14, max:3.14, step:0.1}\n",
        "k_p = 6.71 #@param{type:\"slider\", min:0.0, max:20.0, step:0.01}\n",
        "k_i = 0.0 #@param{type:\"slider\", min:0.0, max:5.0, step:0.01}\n",
        "k_d = 1.94 #@param{type:\"slider\", min:0.0, max:5.0, step:0.01}\n",
        "dt = 0.05 #@param\n",
        "animate_plots = False #@param{type:\"boolean\"}\n",
        "animate_sim = False #@param{type:\"boolean\"}\n",
        "\n",
        "\n",
        "myRobotArm = RobotArm(start_angle, dt)\n",
        "controller = PID_Controller(k_p, k_i, k_d)\n",
        "\n",
        "# time_list = np.arange(0, end_time, dt)\n",
        "# list_len = len(time_list)\n",
        "torques_interp = interp_values(custom_torques.values, end_time, dt)\n",
        "\n",
        "goal_ang_interp = interp_values(custom_goal_angle.values, end_time, dt)\n",
        "\n",
        "\n",
        "ang_hist = []\n",
        "\n",
        "for i in range(len(torques_interp)):\n",
        "    # myRobotArm.step_forward(torques_interp[i])\n",
        "    # myRobotArm.step_forward(myRobotArm.p_control(.5))\n",
        "    myRobotArm.step_forward(controller.pd_control(goal_ang_interp[i], myRobotArm.get_ang_position(), myRobotArm.get_ang_velocity()))\n",
        "    # cur_torque = controller.pid_control(0, myRobotArm.get_ang_position(), myRobotArm.get_ang_velocity())\n",
        "    # myRobotArm.step_forward(cur_torque)\n",
        "    # myRobotArm.step_forward(0)\n",
        "    ang_hist.append(myRobotArm.get_ang_position())\n",
        "\n",
        "display_results()"
      ],
      "metadata": {
        "colab": {
          "base_uri": "https://localhost:8080/",
          "height": 314,
          "referenced_widgets": [
            "8b75b2fe92ac448eb2bc13598cfa2baa",
            "35108034cf74467fb7c54c8bca8eb948",
            "6ddfbe1c75794931b5e20dabde9c5a77",
            "a98c61ed5a274d0186cdf8754bc8a9cc",
            "b9ba5815e7874f82a583ed9b99eb8260",
            "896c32551efe4523965428373b039f5a"
          ]
        },
        "id": "TG4jCy2XtsnM",
        "outputId": "c889ac33-e0ff-4fc9-9213-a61c024627d2"
      },
      "execution_count": 110,
      "outputs": [
        {
          "output_type": "stream",
          "name": "stdout",
          "text": [
            "0.18502497673034668\n"
          ]
        },
        {
          "output_type": "display_data",
          "data": {
            "text/plain": [
              "HBox(children=(Output(layout=Layout(border='1px solid black')), Output(layout=Layout(border='1px solid black')…"
            ],
            "application/vnd.jupyter.widget-view+json": {
              "version_major": 2,
              "version_minor": 0,
              "model_id": "8b75b2fe92ac448eb2bc13598cfa2baa"
            }
          },
          "metadata": {}
        }
      ]
    },
    {
      "cell_type": "markdown",
      "source": [
        "Try turning gravity on or off. Start at angle and see what it does. "
      ],
      "metadata": {
        "id": "eTHC0zGJts4C"
      }
    },
    {
      "cell_type": "markdown",
      "source": [
        ""
      ],
      "metadata": {
        "id": "X3hQekMjts7s"
      }
    },
    {
      "cell_type": "markdown",
      "source": [
        ""
      ],
      "metadata": {
        "id": "Zr3CnXtMttBG"
      }
    },
    {
      "cell_type": "markdown",
      "source": [
        ""
      ],
      "metadata": {
        "id": "XqebfM_ZttEA"
      }
    },
    {
      "cell_type": "markdown",
      "source": [
        "<hr>"
      ],
      "metadata": {
        "id": "UOP70tR5ttMw"
      }
    },
    {
      "cell_type": "markdown",
      "source": [
        "Then they mess around with the slider being the torque. We can then say how rather than a slider with us puting in the torque, we use a PID controller.\n",
        "\n",
        "Allow for changing the trajectory. Also a slider? How easily change? Swap out or comment out lines?"
      ],
      "metadata": {
        "id": "q3lor2EFFHYR"
      }
    },
    {
      "cell_type": "markdown",
      "source": [
        ""
      ],
      "metadata": {
        "id": "eV4_a41qW-bw"
      }
    },
    {
      "cell_type": "markdown",
      "source": [
        "# Example 2: Line following robot\n",
        "\n",
        "Could start with or maybe only have a simple straight line. Car going from left to right. They modify the starting position laterally (starting crosstrack error). Maybe move onto a more interesting track or we have a set of tracks. Would be really cool if they could draw their own paths. \n",
        "\n",
        "Ideas\n",
        "* Could have live plot showing cross track error (can be used for explaining the D or I of PID but also just fun to see)\n",
        "* Have a benchmark set for them to get a score and maybe have leaderboard optional\n",
        "* Fun parameters we could expose with sliders or text entry or could just be clearly marked in the code\n",
        "  * Vehicle speed\n",
        "  * Max turn rate/angle\n",
        "  * Look ahead distance when calculating cross track error?"
      ],
      "metadata": {
        "id": "oftknzd5jSTS"
      }
    },
    {
      "cell_type": "markdown",
      "source": [
        "# Example 3? \n",
        "Probably two is fine, and maybe even just stick to one. But having the very simple arm example in the beginning might be really nice."
      ],
      "metadata": {
        "id": "Y0ZNRs-Yj5ZO"
      }
    },
    {
      "cell_type": "markdown",
      "source": [
        "# Notes and thoughts\n",
        "\n",
        "* How allow people new to coding to even participate?\n",
        "  * Option to reveal the answers or get them somehow and copy and paste\n",
        "* Make clear what prerequisits are needed\n",
        "  * Internet Browser\n",
        "* Could have a quick intro video they watch before the workshop that gives them an overview of google colab or other background info. They then come prepared. Could have a simple notebook they go through\n",
        "* How make the quality of our presentation really good? \n",
        "  * Zoom clear background thing?\n",
        "  * OBS?\n",
        "  * Look at other examples?\n",
        "* How are we going to run the interactive portion, especially with things being hybrid?\n",
        "  * Will it be open or do they sort of follow along?\n",
        "  * How check in?\n",
        "  * Open and then run through together at end?\n",
        "  * Breakout rooms?\n",
        "    * How would that work with the recorded video?"
      ],
      "metadata": {
        "id": "RZah9QTl6TB0"
      }
    }
  ]
}