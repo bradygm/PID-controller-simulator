{
  "nbformat": 4,
  "nbformat_minor": 0,
  "metadata": {
    "colab": {
      "name": "PID-controller-explorer.ipynb",
      "provenance": [],
      "collapsed_sections": [
        "1DDlkp5X8qeW",
        "Woh5Jc7QA5iE",
        "9HJDEOTMA8Au",
        "AkJOel0h_S0H"
      ],
      "toc_visible": true,
      "include_colab_link": true
    },
    "kernelspec": {
      "name": "python3",
      "display_name": "Python 3"
    },
    "language_info": {
      "name": "python"
    }
  },
  "cells": [
    {
      "cell_type": "markdown",
      "metadata": {
        "id": "view-in-github",
        "colab_type": "text"
      },
      "source": [
        "<a href=\"https://colab.research.google.com/github/bradygm/PID-controller-simulator/blob/main/PID_controller_explorer.ipynb\" target=\"_parent\"><img src=\"https://colab.research.google.com/assets/colab-badge.svg\" alt=\"Open In Colab\"/></a>"
      ]
    },
    {
      "cell_type": "markdown",
      "source": [
        "# RoboLaunch Workshop Series: **Intro to PID Control**\n",
        "\n",
        "If you didn't see the accompanying presentation with this Colab, you can watch it here: [**How to Control a Robot: Intuition for Feedback Control and PID**](https://youtu.be/dR0nTvZqabQ) \n",
        "\n",
        "In this notebook you will explore the challenges of controlling a simple robot arm. You will write your own functions in Python that will move the arm with *finesse*, **precision**, and ***speed*** beyond your own abilities. We will walk you through the steps up coding and tuning your controller, as well as leave open questions for you to explore in an open-ended simulation. "
      ],
      "metadata": {
        "id": "UDZS1MekRVAt"
      }
    },
    {
      "cell_type": "markdown",
      "source": [
        "### First, a Quick Google Colab Intro\n",
        "\n",
        "A notebook is a list of cells. Cells contain either explanatory text or executable code and its output. Click a cell to select it.\n",
        "\n",
        "Below is a **code cell** that prints \"Hello World!\". Click in the cell to select it and execute the contents in one of the following ways:\n",
        "\n",
        "* Click the **Play icon** in the left gutter of the cell;\n",
        "* Type **Cmd/Ctrl+Enter** to run the cell in place;\n",
        "* Type **Shift+Enter** to run the cell and move focus to the next cell (adding one if none exists); "
      ],
      "metadata": {
        "id": "QFl6FISBehnF"
      }
    },
    {
      "cell_type": "code",
      "source": [
        "# This is a comment\n",
        "print('Hello World!')"
      ],
      "metadata": {
        "id": "THIEZraYXlv7"
      },
      "execution_count": null,
      "outputs": []
    },
    {
      "cell_type": "markdown",
      "source": [
        "Did you see the code cell print \"Hello World!\"? Great!"
      ],
      "metadata": {
        "id": "8qyUq9qWMaGU"
      }
    },
    {
      "cell_type": "markdown",
      "source": [
        "# Single Link Robot Arm\n",
        "\n",
        "For our example system, we will use a single link robot arm. This is essentially a rod with one pivot at the end. At the pivot point there is a motor we can control in order to get the arm to rotate in either direction. This rotational force is called **torque**.\n",
        "\n",
        "The angle of the arm is defined as in the image below:\n",
        "\n",
        "<img src=\"https://raw.githubusercontent.com/bradygm/PID-controller-simulator/fc1fc67be86c934b0a07869eaddb00a79ff07488/media/armAngle.png\" alt=\"drawing\" width=\"200\"/>\n",
        "\n",
        "\n",
        "\n",
        "\n"
      ],
      "metadata": {
        "id": "_vn6vrSAh4YU"
      }
    },
    {
      "cell_type": "markdown",
      "source": [
        "## Imports, helper functions, and classes\n",
        "\n",
        "We will start by running some code that will set a lot of things up for us. You can run all of these cells by just clicking on the **Play icon** below next to the text that reads \"*7 cells hidden*\". You won't see any outputs from running these cells. You can also feel free to open the cells later to look through the code and modify. You can collapse the cells again by clicking on the arrow next to the title of this text box. "
      ],
      "metadata": {
        "id": "1DDlkp5X8qeW"
      }
    },
    {
      "cell_type": "markdown",
      "source": [
        "##### Imports"
      ],
      "metadata": {
        "id": "Woh5Jc7QA5iE"
      }
    },
    {
      "cell_type": "code",
      "source": [
        "import numpy as np\n",
        "import matplotlib.pyplot as plt\n",
        "from matplotlib.animation import FuncAnimation\n",
        "import matplotlib.animation as animation\n",
        "import math\n",
        "from IPython.display import HTML, Javascript\n",
        "from scipy import interpolate\n",
        "from ipywidgets import interact, interactive, fixed, interact_manual, Video\n",
        "import ipywidgets as widgets\n",
        "import time\n",
        "from scipy import signal\n",
        "import urllib.request\n",
        "import requests, warnings\n",
        "from random import randrange"
      ],
      "metadata": {
        "id": "3SI5I_eO8U25"
      },
      "execution_count": 10,
      "outputs": []
    },
    {
      "cell_type": "markdown",
      "source": [
        "##### CustomInput Class, interpolation function, and display function"
      ],
      "metadata": {
        "id": "9HJDEOTMA8Au"
      }
    },
    {
      "cell_type": "code",
      "source": [
        "class CustomInput:\n",
        "\n",
        "    def __init__(self, min_val, max_val):\n",
        "        self.a = widgets.FloatSlider(description='Input',min=min_val, max=max_val)\n",
        "        self.values = np.array([[]])\n",
        "\n",
        "        self.start_time = -1.0\n",
        "        self.first_time = True\n",
        "\n",
        "    def f(self, a):\n",
        "        if self.first_time:\n",
        "            self.first_time = False\n",
        "            plt.plot(self.values[:,0], self.values[:,1])\n",
        "            plt.xlabel(\"Seconds\")\n",
        "            plt.ylabel(\"Input\")\n",
        "            return\n",
        "\n",
        "        if self.start_time == -1.0:\n",
        "            self.start_time = time.time()\n",
        "\n",
        "        self.values = np.append(self.values, [[time.time()-self.start_time, a]], axis=0)\n",
        "        plt.plot(self.values[:,0], self.values[:,1], drawstyle=\"steps-pre\")\n",
        "        plt.xlabel(\"Seconds\")\n",
        "        plt.ylabel(\"Input\")\n",
        "\n",
        "    def record(self):\n",
        "        self.values = np.empty((0,2), float)\n",
        "        self.start_time = -1.0\n",
        "        self.first_time = True\n",
        "\n",
        "        out = widgets.interactive_output(self.f, {'a': self.a})\n",
        "\n",
        "        # vid_out = widgets.Output(layout={'border': '1px solid black'})\n",
        "        # with vid_out:\n",
        "        #     display(Video.from_file(\"animation.mp4\", play=True))\n",
        "        # widgets.HBox([widgets.VBox([a]), out, vid_out])\n",
        "        return widgets.HBox([widgets.VBox([self.a]), out])"
      ],
      "metadata": {
        "id": "BW69LUUuV8iC"
      },
      "execution_count": 11,
      "outputs": []
    },
    {
      "cell_type": "code",
      "source": [
        "def interp_values(values, end_time, dt):\n",
        "    # values_t = np.array(values)\n",
        "    f = interpolate.interp1d(values[:,0], values[:,1], kind='previous', fill_value=\"extrapolate\")\n",
        "    time_list = np.arange(0, end_time, dt)\n",
        "    return f(time_list)"
      ],
      "metadata": {
        "id": "knNhM0ESfZUK"
      },
      "execution_count": 12,
      "outputs": []
    },
    {
      "cell_type": "code",
      "source": [
        "# def submit_response(Name=\"AnonUser\", Error=99999999, P=0, D=0, verbose=False):\n",
        "rand_id = randrange(9999)\n",
        "\n",
        "def submit_response(Name=\"AnonymousUser\", verbose=False):\n",
        "    if Name==\"AnonymousUser\":\n",
        "        Name += str(rand_id)\n",
        "    end_time = 10 \n",
        "    period = 10 \n",
        "    start_angle = 0.0 \n",
        "    dt = 0.05 \n",
        "    time_list = np.arange(0, end_time, dt)\n",
        "    list_len = len(time_list)\n",
        "    total_error = 0\n",
        "\n",
        "    # Initialize the RobotArm and save as my_robot_arm\n",
        "    my_robot_arm = RobotArm(start_angle, dt)\n",
        "\n",
        "    goal_ang_interp = signal.square(2 * np.pi * time_list/period)\n",
        "\n",
        "    for i in range(list_len):\n",
        "        total_error += abs(goal_ang_interp[i]-my_robot_arm.get_ang_position())*dt\n",
        "        torque = pd_controller(P, D, \n",
        "                            goal_ang_interp[i], \n",
        "                            my_robot_arm.get_ang_position(),\n",
        "                            my_robot_arm.get_ang_velocity())\n",
        "        my_robot_arm.step_forward(torque)\n",
        "\n",
        "\n",
        "    url = 'https://docs.google.com/forms/d/e/1FAIpQLSdRzW6JKXLfBW9q4KQCL6ijfs_NoAvpuXqCU-ik0H5XROilNA/viewform'\n",
        "    submit_url = url.replace('/viewform', '/formResponse')\n",
        "    form_data = {'draftResponse':[],\n",
        "                'pageHistory':0}\n",
        "    form_data['entry.1119491454'] = total_error\n",
        "    form_data['entry.1429935538'] = Name\n",
        "    form_data['entry.1469728088'] = P\n",
        "    form_data['entry.1372586630'] = D\n",
        "    print(\"User \" + Name + \" total error: \" + str(total_error))\n",
        "    if verbose:\n",
        "        print(form_data)\n",
        "    user_agent = {'Referer':url,\n",
        "                  'User-Agent': \"Mozilla/5.0 (X11; Linux i686) AppleWebKit/537.36 (KHTML, like Gecko) Chrome/28.0.1500.52 Safari/537.36\"}\n",
        "    return requests.post(submit_url, data=form_data, headers=user_agent)"
      ],
      "metadata": {
        "id": "bF1qsT4mNzn8"
      },
      "execution_count": 15,
      "outputs": []
    },
    {
      "cell_type": "code",
      "source": [
        "#############################################\n",
        "# Display the results\n",
        "def display_results(goal_ang_interp):\n",
        "    start = time.time()\n",
        "    goal_list_size = len(goal_ang_interp)\n",
        "    # arm sim\n",
        "    fig = plt.figure(figsize=(5, 4))\n",
        "    ax = fig.add_subplot(autoscale_on=False, xlim=(-my_robot_arm.length*1.2, my_robot_arm.length*1.2), ylim=(-my_robot_arm.length*1.2, my_robot_arm.length*1.2))\n",
        "    ax.set_aspect('equal')\n",
        "\n",
        "    \n",
        "    if goal_list_size != 0:\n",
        "        line7, = ax.plot([], [], 'o-', lw=6, color='C1', alpha=.2)\n",
        "    line, = ax.plot([], [], 'o-', color='C0', lw=6)\n",
        "    time_template = 'time = %.1fs'\n",
        "    time_text = ax.text(0.05, 0.9, '', transform=ax.transAxes)\n",
        "\n",
        "\n",
        "    def animate_arm(i):\n",
        "        if goal_list_size != 0:\n",
        "            thisx = [0, my_robot_arm.length*np.sin(goal_ang_interp[i])]\n",
        "            thisy = [0, my_robot_arm.length*np.cos(goal_ang_interp[i])]\n",
        "            line7.set_data(thisx, thisy)\n",
        "        thisx = [0, my_robot_arm.length*np.sin(ang_hist[i])]\n",
        "        thisy = [0, my_robot_arm.length*np.cos(ang_hist[i])]\n",
        "        line.set_data(thisx, thisy)\n",
        "        time_text.set_text(time_template % (i*my_robot_arm.timestep))\n",
        "        return line, time_text\n",
        "\n",
        "    ani_arm_vid = animation.FuncAnimation(\n",
        "        fig, animate_arm, len(ang_hist), interval=my_robot_arm.timestep*1000, blit=True)\n",
        "    # gitwriter = animation.ImageMagickWriter()\n",
        "    # writergif = animation.PillowWriter(fps=50) \n",
        "    # ani_arm_vid.save('animation3.gif', writer=writergif)\n",
        "    plt.close()\n",
        "\n",
        "    # arm postion vs goal position\n",
        "    fig = plt.figure(figsize=(6, 4))\n",
        "    ax = fig.add_subplot(autoscale_on=False, xlim=(0, end_time), ylim=(-np.pi, np.pi))\n",
        "    plt.title(\"Arm Angle and Goal Angle\")\n",
        "    plt.xlabel(\"Seconds\")\n",
        "    plt.ylabel(\"Angle (Radians)\")\n",
        "    ax.grid()\n",
        "\n",
        "    line2, = ax.plot([], [], '--', lw=2, color='C0')\n",
        "    line2.set_label('Arm Angle')\n",
        "    line3, = ax.plot(time_list[0], ang_hist[0], 'o', lw=2)\n",
        "    if goal_list_size != 0:\n",
        "        line4, = ax.plot(time_list[0:goal_list_size-1], goal_ang_interp[0:goal_list_size-1], '--', lw=2, color='C1')\n",
        "        line4.set_label('Arm Goal Angle')\n",
        "    time_template2 = 'time = %.1fs'\n",
        "    time_text2 = ax.text(0.05, 0.9, '', transform=ax.transAxes)\n",
        "    # ax.legend()\n",
        "\n",
        "\n",
        "    def animate_arm2(i):\n",
        "        line2.set_data(time_list[0:i], ang_hist[0:i])\n",
        "        line3.set_data(time_list[i], ang_hist[i])\n",
        "        time_text2.set_text(time_template2 % (i*my_robot_arm.timestep))\n",
        "\n",
        "        return line2, time_text2\n",
        "\n",
        "    ani_arm_vid2 = animation.FuncAnimation(\n",
        "        fig, animate_arm2, len(ang_hist), interval=my_robot_arm.timestep*1000, blit=True)\n",
        "    plt.close()\n",
        "\n",
        "    #################################\n",
        "    # display each animation next to each other\n",
        "    window1 = widgets.Output(layout={'border': '1px solid black'})\n",
        "    window2 = widgets.Output(layout={'border': '1px solid black'})\n",
        "    window3 = widgets.Output(layout={'border': '1px solid black'})\n",
        "    \n",
        "    # display arm sim\n",
        "    with window1:\n",
        "        if animate_sim:\n",
        "            display(HTML(ani_arm_vid.to_html5_video()))\n",
        "    # display angle info\n",
        "    with window2:\n",
        "        if animate_plots:\n",
        "            display(HTML(ani_arm_vid2.to_html5_video()))\n",
        "        else:\n",
        "            fig = plt.figure(figsize=(6, 4))\n",
        "            ax = fig.add_subplot(autoscale_on=False, xlim=(0, end_time), ylim=(-np.pi, np.pi))\n",
        "            ax.grid()\n",
        "            plt.title(\"Arm Angle and Goal Angle\")\n",
        "            plt.xlabel(\"Seconds\")\n",
        "            plt.ylabel(\"Angle (Radians)\")\n",
        "            if goal_list_size != 0:\n",
        "                line2, = ax.plot(time_list[0:list_len-1], goal_ang_interp[0:list_len-1], '--', lw=2, color='C1')\n",
        "                line2.set_label('Arm Goal Angle')\n",
        "            line3, = ax.plot(time_list[0:list_len-1], ang_hist[0:list_len-1], '--', lw=2, color='C0')\n",
        "            line3.set_label('Arm Angle')\n",
        "            ax.legend()\n",
        "            plt.show()\n",
        "    # display input torque info\n",
        "    with window3:\n",
        "            fig = plt.figure(figsize=(6, 4))\n",
        "            ymin_torque = np.min(torques_interp)\n",
        "            ymax_torque = np.max(torques_interp)\n",
        "            min_sign = np.sign(np.min(torques_interp))\n",
        "            max_sign = np.sign(np.max(torques_interp))\n",
        "            if min_sign == max_sign:\n",
        "                if min_sign == -1:\n",
        "                    ymin_torque *= 1.2\n",
        "                    ymax_torque *= 0.8\n",
        "                elif min_sign == 1:\n",
        "                    ymin_torque *= 0.8\n",
        "                    ymax_torque *= 1.2\n",
        "                elif min_sign == 0:\n",
        "                    ymin_torque *= 1.2\n",
        "                    ymax_torque *= 1.2\n",
        "            else:\n",
        "                ymin_torque *= 1.2\n",
        "                ymax_torque *= 1.2\n",
        "            # ax = fig.add_subplot(autoscale_on=False, xlim=(0, end_time), ylim=(np.min(torques_interp)*1.2, \n",
        "            #                                                                    np.max(torques_interp)*1.2))\n",
        "            ax = fig.add_subplot(autoscale_on=False, xlim=(0, end_time), ylim=(ymin_torque, \n",
        "                                                                               ymax_torque))\n",
        "            ax.grid()\n",
        "            plt.title(\"Torque\")\n",
        "            plt.xlabel(\"Seconds\")\n",
        "            plt.ylabel(\"Input\")\n",
        "            # if goal_list_size != 0:\n",
        "            #     line4, = ax.plot(time_list[0:list_len-1], goal_ang_interp[0:list_len-1], '--', lw=2)\n",
        "            line5, = ax.plot(time_list[0:list_len-1], torques_interp[0:list_len-1], 'g-', lw=2)\n",
        "            line5.set_label('Torque')\n",
        "            ax.legend()\n",
        "            plt.show()\n",
        "\n",
        "        \n",
        "    print(str(time.time()-start) + \" sec\")\n",
        "\n",
        "    # FFwriter = animation.FFMpegWriter()\n",
        "    # ani_arm_vid.save('animation.mp4', writer = FFwriter)\n",
        "    # gitwriter = animation.ImageMagickWriter()\n",
        "    # ani_arm_vid.save('animation.gif', writer=gitwriter)\n",
        "    # ani_arm_vid2.save('animation2.mp4', writer = FFwriter)\n",
        "    # widgets.HBox([widgets.VBox([a]), out, vid_out])\n",
        "    return widgets.HBox([window1, window2, window3])"
      ],
      "metadata": {
        "id": "jMJtWA2e7jBN"
      },
      "execution_count": 48,
      "outputs": []
    },
    {
      "cell_type": "markdown",
      "source": [
        "## Define the Robot Arm\n",
        "\n",
        "Run the cell below to create your robot arm. You can adjust the parameters of the arm with the toggles on the right, but probably just leave them as they are at first.\n",
        "<!--\n",
        "Any cell you see with these adjustable parameters can show or hide its associated code. You can show the code by clicking \"Show code\" at the bottom of the cell or just by double clicking on the cell itself. In order to hide the code, just double click on parameter box or right click on the cell and select **Form → Show/hide code**.\n",
        "--> "
      ],
      "metadata": {
        "id": "p0SACRUnqyol"
      }
    },
    {
      "cell_type": "code",
      "source": [
        "# @markdown # Robot Arm Parameters { display-mode: \"form\" }\n",
        "# @markdown You can adjust parameters using the sliders and form below.\n",
        "# @markdown Remember you need to **rerun this\n",
        "# @markdown cell after you pick new parameters**.\n",
        "\n",
        "# @markdown ---\n",
        "class RobotArm:\n",
        "\n",
        "    def __init__(self, start_angle, timestep):\n",
        "        # @markdown Mass of the robot arm:\n",
        "        self.mass = 1 #@param{type:\"slider\", min:0.1, max:10, step:0.1}\n",
        "        # @markdown Length of the robot arm:\n",
        "        self.length =  1#@param{type:\"slider\", min:0.1, max:10, step:0.1}\n",
        "        # @markdown Damping from friction\n",
        "        self.damping = 0.1 #@param\n",
        "        # @markdown Toggle gravity on or off\n",
        "        self.gravity_on = False #@param{type:\"boolean\"}\n",
        "        \n",
        "        self.state = np.array([start_angle, 0.0])\n",
        "        self.gravity = 9.8\n",
        "        self.timestep = timestep\n",
        "\n",
        "    def state_derivative(self, state, torque):\n",
        "        ang_position = state[0]\n",
        "        ang_velocity = state[1]\n",
        "        if self.gravity_on:\n",
        "            accelaration = (3/self.mass/self.length**2)*(torque - self.damping*ang_velocity + self.mass*self.gravity*self.length/2*np.sin(ang_position))\n",
        "        else:\n",
        "            accelaration = 3*(torque-ang_velocity*self.damping)/(self.mass*self.length**2)\n",
        "\n",
        "        return np.array([ang_velocity, accelaration])\n",
        "        \n",
        "    def step_forward(self, torque): \n",
        "        # Using Runge-Kutta algorithm\n",
        "        k1 = self.state_derivative(self.state, torque)\n",
        "        k2 = self.state_derivative(self.state + self.timestep/2*k1, torque)\n",
        "        k3 = self.state_derivative(self.state + self.timestep/2*k2, torque)\n",
        "        k4 = self.state_derivative(self.state + self.timestep*k3, torque)\n",
        "        self.state = self.state + self.timestep/6 * (k1 + 2*k2 + 2*k3 + k4)\n",
        "\n",
        "    def angle_wrap(self, ang):\n",
        "        return (ang + np.pi) % (2 * np.pi) - np.pi\n",
        "\n",
        "    def get_ang_position(self):\n",
        "        return self.state[0]\n",
        "    \n",
        "    def get_ang_velocity(self):\n",
        "        return self.state[1]"
      ],
      "metadata": {
        "id": "MRqZwSiC4fmP"
      },
      "execution_count": 33,
      "outputs": []
    },
    {
      "cell_type": "markdown",
      "source": [
        "## Let's move the arm around!\n",
        "\n",
        "Now you get to move the arm! You will do this by varying the torque at the pivot of the arm, just like as if there was a motor there. \n",
        "\n",
        "\n",
        "First we will create a sequence of torques. Run the cell below and you should see a slider. Drag the slider around and it will save your input in realtime and display it to the graph on the right. Positive torque will add force in the clockwise direction and negative torque in the counter-clockwise direction.\n",
        "\n",
        "We will be using the **first 10 seconds** of input in the following steps. \n"
      ],
      "metadata": {
        "id": "_595CnaIV9hv"
      }
    },
    {
      "cell_type": "code",
      "source": [
        "# Creates the CustomInput object for our input torque sequence\n",
        "custom_torques = CustomInput(-1,1)\n",
        "# Starts recording a new torque sequence\n",
        "custom_torques.record()"
      ],
      "metadata": {
        "id": "uqxBxRgk9E3R"
      },
      "execution_count": null,
      "outputs": []
    },
    {
      "cell_type": "markdown",
      "source": [
        "### Simulate the result\n",
        "\n",
        "Now we will simulate the effects of the input you recorded.\n",
        "\n",
        "Keep the default parameters for now, but feel free to modify later. "
      ],
      "metadata": {
        "id": "TvVb2-xovZ2U"
      }
    },
    {
      "cell_type": "code",
      "source": [
        "#@markdown How long you want the simulation to run for\n",
        "end_time = 10.0 #@param{type:\"slider\", min:5.0, max:30, step:1} \n",
        "# The starting angle of the arm\n",
        "start_angle = 0.0 \n",
        "dt = 0.05 # the length of the time step\n",
        "#@markdown Toggle animation of figures on or off. Turning all off will result in quick results.\n",
        "animate_plots = False #@param {type:\"boolean\"}\n",
        "animate_sim = False #@param{type:\"boolean\"}\n",
        "time_list = np.arange(0, end_time, dt)\n",
        "list_len = len(time_list)\n",
        "ang_hist = []\n",
        "goal_ang_interp = []\n",
        "\n",
        "# Initialize the RobotArm and save as my_robot_arm\n",
        "my_robot_arm = RobotArm(start_angle, dt)\n",
        "\n",
        "# Takes our custom torque input and interpolates it for all time steps\n",
        "torques_interp = interp_values(custom_torques.values, end_time, dt)\n",
        "\n",
        "# Loop over the time steps\n",
        "for i in range(list_len):\n",
        "    my_robot_arm.step_forward(torques_interp[i])\n",
        "    ang_hist.append(my_robot_arm.get_ang_position())\n",
        "\n",
        "display_results(goal_ang_interp)"
      ],
      "metadata": {
        "id": "-eKhPEgCXMXg"
      },
      "execution_count": null,
      "outputs": []
    },
    {
      "cell_type": "markdown",
      "source": [
        "You can go back and try different torque sequences. Run the torque input cell again to put in new sequence and then run the simulate again to see the results. \n",
        "\n",
        "### Follow a goal path\n",
        "\n",
        "Now we will see if we can get the arm to do something a bit challenging. See if you can get the arm to follow as closely as follows in the example below:\n",
        "\n",
        "<img src=\"https://raw.githubusercontent.com/bradygm/PID-controller-simulator/main/media/animation.gif\" alt=\"drawing\" width=\"300\"/>\n",
        "<img src=\"https://raw.githubusercontent.com/bradygm/PID-controller-simulator/main/media/squareWave2.png\" alt=\"drawing\" width=\"360\"/>\n",
        "\n",
        "Obviously the arm can't teleport from one side to the other, but do your best to get your arm to the goal positions as quickly as possible. Go to the right, then stop the arm. Go to the left, and stop the arm. \n",
        "\n",
        "This is pretty tricky, but give it a couple attempts with the code cells below.\n",
        "\n",
        "In order to more quickly see your results from the simulation, you can choose to **temporarily turn off the animations**. You can always turn it back on whenever to see your final results. Or leave it on all the time if you have great patience 😉."
      ],
      "metadata": {
        "id": "Vb0BdNRrvOM8"
      }
    },
    {
      "cell_type": "code",
      "source": [
        "# Creates the CustomInput object for our input torque sequence\n",
        "custom_torques_square = CustomInput(-1,1)\n",
        "# Starts recording a new torque sequence\n",
        "custom_torques_square.record()"
      ],
      "metadata": {
        "id": "otV2XkDq1mY7"
      },
      "execution_count": null,
      "outputs": []
    },
    {
      "cell_type": "code",
      "source": [
        "#@markdown How long you want the simulation to run for\n",
        "end_time = 10.0 #@param{type:\"slider\", min:5.0, max:30, step:1} \n",
        "period = 10.0\n",
        "# The starting angle of the arm\n",
        "start_angle = 0.0 \n",
        "#@markdown Toggle animation of figures on or off. Turning all off will result in quick results.\n",
        "animate_plots = False #@param {type:\"boolean\"}\n",
        "animate_sim = True #@param{type:\"boolean\"}\n",
        "\n",
        "dt = 0.05 # the length of the time step\n",
        "time_list = np.arange(0, end_time, dt)\n",
        "list_len = len(time_list)\n",
        "\n",
        "# Initialize the RobotArm and save as my_robot_arm\n",
        "my_robot_arm = RobotArm(start_angle, dt)\n",
        "\n",
        "# Takes our custom torque input and interpolates it for all time steps\n",
        "torques_interp = interp_values(custom_torques_square.values, end_time, dt)\n",
        "ang_hist = []\n",
        "goal_ang_interp = signal.square(2 * np.pi * time_list/period)\n",
        "\n",
        "# Loop over the time steps\n",
        "for i in range(list_len):\n",
        "    my_robot_arm.step_forward(torques_interp[i])\n",
        "    ang_hist.append(my_robot_arm.get_ang_position())\n",
        "\n",
        "display_results(goal_ang_interp)"
      ],
      "metadata": {
        "id": "t0n7oqP21n_y"
      },
      "execution_count": null,
      "outputs": []
    },
    {
      "cell_type": "markdown",
      "source": [
        "## PID Controller Magic\n",
        "\n",
        "That was hard, right? Now that we have tried a couple times to get the arm to follow the goal path, we are now going to write a controller to have it do the hard work for us!\n",
        "\n"
      ],
      "metadata": {
        "id": "y3Mtz5YvvukU"
      }
    },
    {
      "cell_type": "markdown",
      "source": [
        "### P Controller\n",
        "\n",
        "First, let's start with creating a proportional controller (the \"P\" part of PID). We will create a function called `p_controller` that takes in the variables `P`, `goal_position`, and `current_position`. What we want to do use those three variablesis to determine what the control input (torque) should be. \n",
        "\n",
        "The first step is to find the difference between where we want the arm to be, the goal position, and where it is now, the current position. This is called the error and we calculate it in function for you as `error = goal_position-current_position`. \n",
        "\n",
        "Using the error, we can then calculate what our torque `u` should be. We do this by multiplying the error by the value `P` to determine how strongly the arm should react to a given error. We will be playing around with the value of `P` to create the arm movement we are looking for.\n",
        "\n",
        "**Fill in the rest of the equation** of `u=` where it will set the value of the `u` to whatever you put on the right side of the equation. This `u` is what the torque will be and it is returned as the output of this function. If you're new to coding, you use the \"*\" symbol for multiplying numbers. "
      ],
      "metadata": {
        "id": "Es-NBCIA5v54"
      }
    },
    {
      "cell_type": "code",
      "source": [
        "def p_controller(P, goal_position, current_position):\n",
        "    # We first calculate the error\n",
        "    error = goal_position-current_position\n",
        "    # ADD YOUR CODE HERE\n",
        "    u = \n",
        "    return u"
      ],
      "metadata": {
        "id": "oW1KUBeC6ia3"
      },
      "execution_count": 25,
      "outputs": []
    },
    {
      "cell_type": "markdown",
      "source": [
        "Run the code block with your new `p_controller` function, and then let's test it out on the simulation!"
      ],
      "metadata": {
        "id": "aDmKFu88Uc8I"
      }
    },
    {
      "cell_type": "markdown",
      "source": [
        "\n",
        "\n",
        "If you need help or want to double check your answer, double click on this cell to see an example solution.\n",
        "\n",
        "<!-- \n",
        "\n",
        "u = P*error\n",
        "\n",
        "-->"
      ],
      "metadata": {
        "id": "TIOPFhQA9BOq"
      }
    },
    {
      "cell_type": "markdown",
      "source": [
        "The code block below is very similar to the one before, but it now has two additional parameters. It has the `P` variable which we pass into our new function `p_controller` when calculating the torque here `torque = p_controller(P, goal_ang_interp[i], my_robot_arm.get_ang_position())` at every time step. \n",
        "\n",
        "Give it a try with the default values first to see the results. Note that we have turned off the animations by default for quicker results. "
      ],
      "metadata": {
        "id": "RdCGYhHk-wcp"
      }
    },
    {
      "cell_type": "code",
      "source": [
        "#@markdown How long you want the simulation to run for\n",
        "end_time = 10 #@param{type:\"slider\", min:5.0, max:30, step:1}\n",
        "#@markdown The length of each cycle of our square wave goal position\n",
        "period = 10 #@param{type:\"slider\", min:1, max: 60.0, step:1}\n",
        "# The starting angle of the arm\n",
        "start_angle = 0.0 \n",
        "#@markdown Toggle animation of figures on or off. Turning all off will result in quick results.\n",
        "animate_plots = False #@param{type:\"boolean\"}\n",
        "animate_sim = False #@param{type:\"boolean\"}\n",
        "\n",
        "dt = 0.05 # the length of the time step\n",
        "time_list = np.arange(0, end_time, dt)\n",
        "list_len = len(time_list)\n",
        "\n",
        "#@markdown Proportional Gain\n",
        "P = 0.05 #@param{type:\"slider\", min:0.01, max:5.0, step:0.01}\n",
        "\n",
        "# Initialize the RobotArm and save as my_robot_arm\n",
        "my_robot_arm = RobotArm(start_angle, dt)\n",
        "\n",
        "torques_interp = []\n",
        "ang_hist = []\n",
        "goal_ang_interp = signal.square(2 * np.pi * time_list/period)\n",
        "\n",
        "for i in range(list_len):\n",
        "    torque = p_controller(P, goal_ang_interp[i], my_robot_arm.get_ang_position())\n",
        "    torques_interp.append(torque) # save torque so we can draw it\n",
        "    my_robot_arm.step_forward(torque)\n",
        "    ang_hist.append(my_robot_arm.get_ang_position()) # save angle so we can draw it\n",
        "\n",
        "display_results(goal_ang_interp)"
      ],
      "metadata": {
        "id": "kLPxmjKW9sEr"
      },
      "execution_count": null,
      "outputs": []
    },
    {
      "cell_type": "markdown",
      "source": [
        "How did it do? Try a couple different values for P by moving the slider in the code block above and running the cell again to see how close you can get the arm to follow the goal. \n",
        "\n",
        "The other parameter we added to the code block above is called `period` which allows you to adjust the length of each cycle of the square wave which we use as the goal angle of the arm. Go ahead and max out the end time and the period length in order to see longer time behaviors of the system.\n",
        "\n",
        "One thing you can try is maxing out the end time, period, and the P value. What happens? You may see that the oscillations actually start to get bigger and bigger as time goes on. This is an **unstable** system. \n",
        "\n",
        "Now try with a lower `P` value, something like 0.05. You will see that there are less oscillations, but it gets to the goal angle much too slow, especially to follow the original square wave with a period of 10. "
      ],
      "metadata": {
        "id": "rH6tesoJBo3x"
      }
    },
    {
      "cell_type": "markdown",
      "source": [
        "### PD Controller\n",
        "\n",
        "How can we improve upon the proportional controller? We want to find the balance of moving quickly to the goal angle, but not move too quickly which leads to overshooting. \n",
        "\n",
        "**PD controller to the rescue!**\n",
        "\n",
        "We can add in another part to our controller the keeps our arm from moving too quickly, or having too large of a velocity. We do this by multiplying our velocity by a scaling value `D` and subtracting it from our control input `u`.\n",
        "\n",
        "We are now ready to create our new function `pd_controller` which is similar to `p_controller` which we created before. We've added two new inputs to the function: `D` and `current_velocity`. We again have the equation `u=` where we will again have our error multiplied by `P`. But we will also subtract `D` multiplied by `current_velocity`. After writing in what we need for the function, run the cell so we can use it in our simulation. "
      ],
      "metadata": {
        "id": "XquJcyiIJyki"
      }
    },
    {
      "cell_type": "code",
      "source": [
        "def pd_controller(P, D, goal_position, current_position, current_velocity):\n",
        "    # We first calculate the error\n",
        "    error = goal_position-current_position\n",
        "    # ADD YOUR CODE HERE\n",
        "    u = \n",
        "    return u"
      ],
      "metadata": {
        "id": "wd0_7uK2BoiS"
      },
      "execution_count": 39,
      "outputs": []
    },
    {
      "cell_type": "markdown",
      "source": [
        "Again, if you need help or want to double check your answer, double click on this cell to see an **example solution**.\n",
        "\n",
        "<!-- \n",
        "\n",
        "u = P*error - D*current_velocity\n",
        "\n",
        "-->"
      ],
      "metadata": {
        "id": "6pFvwoltLjYf"
      }
    },
    {
      "cell_type": "markdown",
      "source": [
        "The code block below will again look similar as to before but with a new parameter `D` that we can adjust and is passed into our function `pd_controller`. Give it a try with adjusting the `P` and `D` values and running the code block to see the results.  "
      ],
      "metadata": {
        "id": "ueYzklPQOtZ5"
      }
    },
    {
      "cell_type": "code",
      "source": [
        "#@markdown Name for submitted results\n",
        "username = \"AnonymousUser\" #@param {type:\"string\"}\n",
        "#@markdown How long you want the simulation to run for\n",
        "end_time = 10 #@param{type:\"slider\", min:5.0, max:30, step:1}\n",
        "#@markdown The length of each cycle of our square wave goal position\n",
        "period = 10 #@param{type:\"slider\", min:1, max: 60.0, step:1}\n",
        "# The starting angle of the arm\n",
        "start_angle = 0.0 \n",
        "#@markdown Toggle animation of figures on or off. Turning all off will result in quick results.\n",
        "animate_plots = False #@param{type:\"boolean\"}\n",
        "animate_sim = False #@param{type:\"boolean\"}\n",
        "\n",
        "\n",
        "dt = 0.05 # the length of the time step\n",
        "time_list = np.arange(0, end_time, dt)\n",
        "list_len = len(time_list)\n",
        "\n",
        "#@markdown PD Parameters\n",
        "P = 0.05 #@param{type:\"slider\", min:0.01, max:5.0, step:0.01}\n",
        "D = 0 #@param{type:\"slider\", min:0.0, max:5.0, step:0.01}\n",
        "\n",
        "# Initialize the RobotArm and save as my_robot_arm\n",
        "my_robot_arm = RobotArm(start_angle, dt)\n",
        "\n",
        "torques_interp = []\n",
        "ang_hist = []\n",
        "goal_ang_interp = signal.square(2 * np.pi * time_list/period)\n",
        "\n",
        "for i in range(list_len):\n",
        "    torque = pd_controller(P, D, \n",
        "                           goal_ang_interp[i], \n",
        "                           my_robot_arm.get_ang_position(),\n",
        "                           my_robot_arm.get_ang_velocity())\n",
        "    torques_interp.append(torque) # save torque so we can draw it\n",
        "    my_robot_arm.step_forward(torque)\n",
        "    ang_hist.append(my_robot_arm.get_ang_position()) # save angle so we can draw it\n",
        "\n",
        "submit_response(Name=username)\n",
        "display_results(goal_ang_interp)\n"
      ],
      "metadata": {
        "id": "0fOYUkQELGcI"
      },
      "execution_count": null,
      "outputs": []
    },
    {
      "cell_type": "markdown",
      "source": [
        "You will probably find that you can now crank up `P` really high if you also use `D` to offset it. \n",
        "\n",
        "What happens if you crank `D` all the way up? If it is too high, you can see how the arm takes forever to get to the goal. \n",
        "\n",
        "Now try adjusting the `P` and `D` values to get the best results as you can. You may have noticed that on top of the graphs of your results you will see an output saying something like \"User .... Total Error ...\". This is summing up the error over the ten second period and submitting your results so you can see how it compares against others. How low can the error get? Is the smallest error actually what we want? Remember that you can turn back on the animation to see how your results look.\n",
        "\n",
        "You can view submitted results [here](https://docs.google.com/spreadsheets/d/1pbKPOv4ZjdaPNsYJWK1wwlBWOSiPoD-gEATfgp6heQs/edit?usp=sharing). *If you want to edit your name for the submission, you can modify the username in the parameters of the code block above*. \n",
        "\n",
        "You should be able to get results with a total error less than 1.4 and smoothly gets to the goal angle in around one second. "
      ],
      "metadata": {
        "id": "wzHWtWpiLLcq"
      }
    },
    {
      "cell_type": "markdown",
      "source": [
        "### Test your final controller\n",
        "\n",
        "So far we've been using our controller for a simple square wave for the goal angle sequence. But now that we have a controller that can move the arm to any angle we specify, we can input our own custom sequence for it to follow. Run the code block below and you will see a slider just like when we input a torque sequence in the beginning. Now rather than moving the slider to input the torque, we are selecting the goal angle of the arm that your controller will try to follow. \n",
        "\n",
        "Run the block and move the slider around for **10 seconds** or so to give our arm a good challenge. \n",
        "\n"
      ],
      "metadata": {
        "id": "4wrJKudiP11I"
      }
    },
    {
      "cell_type": "code",
      "source": [
        "# Creates the CustomInput object for our input goal angle sequence\n",
        "custom_goal_angle = CustomInput(-3.14,3.14)\n",
        "# Starts recording a new goal angle sequence\n",
        "custom_goal_angle.record()"
      ],
      "metadata": {
        "id": "qkCnKaY0B9SQ"
      },
      "execution_count": null,
      "outputs": []
    },
    {
      "cell_type": "markdown",
      "source": [
        "Now let's see how your controller does!\n",
        "\n",
        "Copy over your `P` and `D` values that gave you the best, smooth results and run the code block to see how it performs on your custom goal sequence."
      ],
      "metadata": {
        "id": "5dG1voSPQM8W"
      }
    },
    {
      "cell_type": "code",
      "source": [
        "#@markdown How long you want the simulation to run for\n",
        "end_time = 10 #@param{type:\"slider\", min:5.0, max:30, step:1}\n",
        "# The starting angle of the arm\n",
        "start_angle = 0.0 \n",
        "#@markdown Toggle animation of figures on or off. Turning all off will result in quick results.\n",
        "animate_plots = False #@param{type:\"boolean\"}\n",
        "animate_sim = False #@param{type:\"boolean\"}\n",
        "\n",
        "dt = 0.05 # the length of the time step\n",
        "time_list = np.arange(0, end_time, dt)\n",
        "list_len = len(time_list)\n",
        "\n",
        "#@markdown PD Parameters\n",
        "P = 0.04 #@param{type:\"slider\", min:0.01, max:5.0, step:0.01}\n",
        "D = 0 #@param{type:\"slider\", min:0.0, max:5.0, step:0.01}\n",
        "\n",
        "# Initialize the RobotArm and save as my_robot_arm\n",
        "my_robot_arm = RobotArm(start_angle, dt)\n",
        "\n",
        "torques_interp = []\n",
        "ang_hist = []\n",
        "goal_ang_interp = interp_values(custom_goal_angle.values, end_time, dt)\n",
        "\n",
        "for i in range(list_len):\n",
        "    torque = pd_controller(P, D, \n",
        "                           goal_ang_interp[i], \n",
        "                           my_robot_arm.get_ang_position(),\n",
        "                           my_robot_arm.get_ang_velocity())\n",
        "    torques_interp.append(torque) # save torque so we can draw it\n",
        "    my_robot_arm.step_forward(torque)\n",
        "    ang_hist.append(my_robot_arm.get_ang_position()) # save angle so we can draw it\n",
        "\n",
        "display_results(goal_ang_interp)"
      ],
      "metadata": {
        "id": "0i3OOja0Pg3R"
      },
      "execution_count": null,
      "outputs": []
    },
    {
      "cell_type": "markdown",
      "source": [
        "How'd you do?! Feel free to go back and try different custom goal sequences to really test the limits of your controller.\n",
        "\n",
        "One interesting thing to look at is the graph of torque on the right of the results. Do you think you could have come up with that by inputing the torque yourself? That is the magic of math and good controllers. A controller can accomplish even better results than a human, and the best part is it does it all on it's own! Even when we aren't watching! \n",
        "\n",
        "Controllers enable many amazing systems that are all around us and are essential to the exciting new tech in the future.  "
      ],
      "metadata": {
        "id": "6N6oLhlRRSVh"
      }
    },
    {
      "cell_type": "markdown",
      "source": [
        "# Take-home questions and exploration\n",
        "\n",
        "We have also included some code blocks below that allow you to mess around with more parameters for the goals, simulation, and controller. \n",
        "\n",
        "Here are some things you can try and questions you can explore:\n",
        "* Change the RobotArm parameters at the very beginning of this notebook like adjusting mass or length. How does it change the results with your controller?\n",
        "* We've also added the integrator to finish off the \"I\" of PID. When would the integrator be needed? \n",
        "* Try turning on gravity in the RobotArm and getting the arm to balance from different starting angles and mimicking the results from the presentation. \n",
        "* Did you notice how the torque from our controller can sometimes peak to extremely high values? What if our motor can't output that large of a torque? In the real world, motors have limits. You can turn on torque limits and play around with how much to limit your torque. \n",
        "* You can modify the amplitude of the square wave\n",
        "\n",
        "\n",
        "\n",
        "\n",
        "\n",
        "\n",
        "\n"
      ],
      "metadata": {
        "id": "iiUx1AaVj66K"
      }
    },
    {
      "cell_type": "markdown",
      "source": [
        "### Controller\n"
      ],
      "metadata": {
        "id": "AkJOel0h_S0H"
      }
    },
    {
      "cell_type": "code",
      "source": [
        "class PID_Controller:\n",
        "\n",
        "    def __init__(self, k_p=1, k_i=0, k_d=0, limit_on=False, limit=0):\n",
        "        self.limit_on = limit_on\n",
        "        self.control_limit = limit\n",
        "        self.error_sum = 0\n",
        "\n",
        "        self.k_p = k_p\n",
        "        self.k_i = k_i\n",
        "        self.k_d = k_d\n",
        "\n",
        "    def p_control(self, desired_position, current_position):\n",
        "        error = desired_position-current_position\n",
        "        u = self.k_p*error\n",
        "        return self.limit_u(u)\n",
        "\n",
        "    def pd_control(self, desired_position, current_position, current_velocity):\n",
        "        error = desired_position-current_position\n",
        "        u = self.k_p*error - self.k_d*current_velocity\n",
        "        return self.limit_u(u)\n",
        "\n",
        "    def pid_control(self, desired_position, current_position, current_velocity):\n",
        "        error = desired_position-current_position\n",
        "        self.error_sum += error\n",
        "        u = self.k_p*error + self.k_i*self.error_sum - self.k_d*current_velocity\n",
        "        return self.limit_u(u)\n",
        "\n",
        "    def limit_u(self, u):\n",
        "        if self.limit_on:\n",
        "            return np.clip(u, -self.control_limit, self.control_limit)\n",
        "        else:\n",
        "            return u"
      ],
      "metadata": {
        "id": "rtCcEklj5McZ"
      },
      "execution_count": null,
      "outputs": []
    },
    {
      "cell_type": "markdown",
      "source": [
        "### Sim Loop"
      ],
      "metadata": {
        "id": "b8l1VdxskmNJ"
      }
    },
    {
      "cell_type": "code",
      "source": [
        "#@markdown How long you want the simulation to run for\n",
        "end_time = 10.0 #@param{type:\"slider\", min:5.0, max:30, step:1}\n",
        "#@markdown Goal trajectory type\n",
        "goal_traj_type = 'Square Wave' #@param [\"Square Wave\", \"Custom\"]\n",
        "#@markdown The length and height of each cycle of our square wave goal position\n",
        "period = 10 #@param{type:\"slider\", min:1, max: 60.0, step:1}\n",
        "amplitude = 1  #@param{type:\"slider\", min:0.0, max: 3.14, step:0.01}\n",
        "#@markdown The starting angle of the arm\n",
        "start_angle = 0.1 #@param{type:\"slider\", min:-3.14, max:3.14, step:0.1}\n",
        "#@markdown Toggle animation of figures on or off. Turning all off will result in quick results.\n",
        "animate_plots = False #@param{type:\"boolean\"}\n",
        "animate_sim = False #@param{type:\"boolean\"}\n",
        "\n",
        "dt = 0.05 \n",
        "time_list = np.arange(0, end_time, dt)\n",
        "list_len = len(time_list)\n",
        "\n",
        "#@markdown PID Parameters\n",
        "P = 0.01 #@param{type:\"slider\", min:0.01, max:20.0, step:0.01}\n",
        "I = 0.0 #@param{type:\"slider\", min:0.0, max:5.0, step:0.01}\n",
        "D = 0 #@param{type:\"slider\", min:0.0, max:20.0, step:0.01}\n",
        "\n",
        "#@markdown Torque limits\n",
        "turn_on_torque_limits = False #@param{type:\"boolean\"}\n",
        "torque_limit = 1 #@param{type:\"slider\", min:0.01, max:20.0, step:0.01}\n",
        "\n",
        "# Initialize the RobotArm and save as my_robot_arm\n",
        "my_robot_arm = RobotArm(start_angle, dt)\n",
        "# Initialize our controller\n",
        "controller = PID_Controller(P, I, D, turn_on_torque_limits, torque_limit)\n",
        "\n",
        "torques_interp = []\n",
        "ang_hist = []\n",
        "if goal_traj_type=='Square Wave':\n",
        "    goal_ang_interp = amplitude*signal.square(2 * np.pi * time_list/period)\n",
        "else:\n",
        "    goal_ang_interp = interp_values(custom_goal_angle.values, end_time, dt)\n",
        "\n",
        "for i in range(list_len):\n",
        "    torque = controller.pid_control(goal_ang_interp[i], \n",
        "                                    my_robot_arm.get_ang_position(), \n",
        "                                    my_robot_arm.get_ang_velocity())\n",
        "    torques_interp.append(torque) # save torque so we can draw it\n",
        "    my_robot_arm.step_forward(torque)\n",
        "    ang_hist.append(my_robot_arm.get_ang_position()) # save angle so we can draw it\n",
        "\n",
        "display_results(goal_ang_interp)"
      ],
      "metadata": {
        "id": "TG4jCy2XtsnM"
      },
      "execution_count": null,
      "outputs": []
    }
  ]
}