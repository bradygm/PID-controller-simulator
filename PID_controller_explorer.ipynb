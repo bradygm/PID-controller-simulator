{
  "nbformat": 4,
  "nbformat_minor": 0,
  "metadata": {
    "colab": {
      "name": "PID-controller-explorer.ipynb",
      "provenance": [],
      "collapsed_sections": [
        "Woh5Jc7QA5iE"
      ],
      "include_colab_link": true
    },
    "kernelspec": {
      "name": "python3",
      "display_name": "Python 3"
    },
    "language_info": {
      "name": "python"
    },
    "widgets": {
      "application/vnd.jupyter.widget-state+json": {
        "3253b5ff661e4ab7a937685ff14d5512": {
          "model_module": "@jupyter-widgets/controls",
          "model_name": "HBoxModel",
          "model_module_version": "1.5.0",
          "state": {
            "_dom_classes": [],
            "_model_module": "@jupyter-widgets/controls",
            "_model_module_version": "1.5.0",
            "_model_name": "HBoxModel",
            "_view_count": null,
            "_view_module": "@jupyter-widgets/controls",
            "_view_module_version": "1.5.0",
            "_view_name": "HBoxView",
            "box_style": "",
            "children": [
              "IPY_MODEL_1fa813407cf04cd5b12df7736470e5a6",
              "IPY_MODEL_4ac2bf7dcbd24bcd835048f0636d8139"
            ],
            "layout": "IPY_MODEL_4136194eed794c08a57ae40857ccf3c1"
          }
        },
        "1fa813407cf04cd5b12df7736470e5a6": {
          "model_module": "@jupyter-widgets/controls",
          "model_name": "VBoxModel",
          "model_module_version": "1.5.0",
          "state": {
            "_dom_classes": [],
            "_model_module": "@jupyter-widgets/controls",
            "_model_module_version": "1.5.0",
            "_model_name": "VBoxModel",
            "_view_count": null,
            "_view_module": "@jupyter-widgets/controls",
            "_view_module_version": "1.5.0",
            "_view_name": "VBoxView",
            "box_style": "",
            "children": [
              "IPY_MODEL_3494c9906df14dbaaabd058802e96553"
            ],
            "layout": "IPY_MODEL_c9527baf2baa4535a35831663897a88e"
          }
        },
        "4ac2bf7dcbd24bcd835048f0636d8139": {
          "model_module": "@jupyter-widgets/output",
          "model_name": "OutputModel",
          "model_module_version": "1.0.0",
          "state": {
            "_dom_classes": [],
            "_model_module": "@jupyter-widgets/output",
            "_model_module_version": "1.0.0",
            "_model_name": "OutputModel",
            "_view_count": null,
            "_view_module": "@jupyter-widgets/output",
            "_view_module_version": "1.0.0",
            "_view_name": "OutputView",
            "layout": "IPY_MODEL_9c8e8b52519d461cb96d83a09b7072c6",
            "msg_id": "",
            "outputs": [
              {
                "output_type": "display_data",
                "data": {
                  "text/plain": "<Figure size 432x288 with 1 Axes>",
                  "image/png": "iVBORw0KGgoAAAANSUhEUgAAAYoAAAEGCAYAAAB7DNKzAAAABHNCSVQICAgIfAhkiAAAAAlwSFlzAAALEgAACxIB0t1+/AAAADh0RVh0U29mdHdhcmUAbWF0cGxvdGxpYiB2ZXJzaW9uMy4yLjIsIGh0dHA6Ly9tYXRwbG90bGliLm9yZy+WH4yJAAAToElEQVR4nO3df5Bdd3nf8ffHNgo1WHGoXCNkK3KIQkZmMga2VhxS8AQ7yC1YmTTFP0pi0rRyJ3EDwwyJU3dMS/4xzYSmM/FkrAIdfhkbnDpSiogLBpPE2MZrIwxeY6w4gCUEkoFEkIwhhqd/3CPnetn9aiXdu+fu7vs1s7Pnx3fPfXZndz/3fM+950lVIUnSfE7ouwBJ0mQzKCRJTQaFJKnJoJAkNRkUkqSmk/ouYNTWrFlTGzZs6LsMSVpS7rvvvser6rS59i27oNiwYQPT09N9lyFJS0qSL823z6knSVKTQSFJajIoJElNBoUkqcmgkCQ1GRSSpCaDQpLUtOzeR6H+3XjPl9mxe99Ij7n1nHVcvnn9SI8paWE8o9DI7di9j5n9h0Z2vJn9h0YePJIWzjMKjcWmtau5+crzRnKsS264ayTHkXRsPKOQJDUZFJKkJoNCktRkUEiSmgwKSVKTQSFJajIoJElNBoUkqcmgkCQ1GRSSpCaDQpLUZFBIkpoMCklSU69BkWRLkoeT7Ely9TxjXpNkJsmDSW5c7BolaaXr7TbjSU4ErgcuBPYC9ybZWVUzQ2M2Ar8DvLSqvpnkn/VTrSStXH2eUZwL7KmqR6vqu8BNwNZZY/4DcH1VfROgqg4sco2StOL1GRTrgMeG1vd224b9BPATSe5McneSLXMdKMm2JNNJpg8ePDimciVpZZr0i9knARuB84HLgP+V5NTZg6pqe1VNVdXUaaedtsglStLy1mdQ7APOHFo/o9s2bC+ws6r+oar+GvgCg+CQJC2SPoPiXmBjkrOSrAIuBXbOGvMnDM4mSLKGwVTUo4tZpCStdL0FRVU9CVwF3AY8BHygqh5M8pYkF3fDbgO+nmQG+Djwpqr6ej8VS9LK1NvLYwGqahewa9a2a4eWC3hj9yFJ6sGkX8yWJPXMoJAkNRkUkqQmg0KS1GRQSJKaDApJUpNBIUlqMigkSU0GhSSpyaCQJDUZFJKkJoNCktRkUEiSmgwKSVKTQSFJajIoJElNBoUkqcmgkCQ1GRSSpCaDQpLUZFBIkpoMCklSk0EhSWoyKCRJTQaFJKnJoJAkNRkUkqSmXoMiyZYkDyfZk+Tqxrh/naSSTC1mfZKkHoMiyYnA9cBFwCbgsiSb5hh3CvB64J7FrVCSBHBSj499LrCnqh4FSHITsBWYmTXud4G3Am8ad0E33vNlduzeN9Jjbj1nHZdvXj/SY0rSYupz6mkd8NjQ+t5u21OSvBg4s6o+1DpQkm1JppNMHzx48JgL2rF7HzP7Dx3z1882s//QyINHkhZbn2cUTUlOAN4GvO5IY6tqO7AdYGpqqo7ncTetXc3NV553PId4yiU33DWS40hSn/o8o9gHnDm0fka37bBTgBcCdyT5IvDTwE4vaEvS4uozKO4FNiY5K8kq4FJg5+GdVfW3VbWmqjZU1QbgbuDiqprup1xJWpl6C4qqehK4CrgNeAj4QFU9mOQtSS7uqy5J0tP1eo2iqnYBu2Ztu3aesecvRk2SpKfzndmSpCaDQpLUZFBIkpoMCklSk0EhSWoyKCRJTQaFJKnJoJAkNRkUkqQmg0KS1GRQSJKaJrYfxXIxs//QyPtS2DVPRzKObo2wNH73xvW9H7YUfgaj5hnFGG09Zx2b1q4e6THtmqeFGHW3Rlg6v3vj+N4PWyo/g1HzjGKMLt+8fuTPPOyap4UaZbdGWFq/e6P+3g9bSj+DUfKMQpLUZFBIkpoMCklSk0EhSWoyKCRJTQaFJKnJoJAkNRkUkqQmg0KS1GRQSJKaDApJUpNBIUlqMigkSU29BkWSLUkeTrInydVz7H9jkpkkDyS5PcmP9lGnJK1kvQVFkhOB64GLgE3AZUk2zRr2aWCqqn4KuAX474tbpSRpQf0okry+qv7nkbYdpXOBPVX1aHe8m4CtwMzhAVX18aHxdwOvPY7HWzZG2TVvJXbr0mQZdUe6mf2HRt4wbKVb6BnFFXNse91xPvY64LGh9b3dtvn8GvDhuXYk2ZZkOsn0wYMHj7OsyTbKrnkrtVuXJsuoO9JtWruaree0/pXoaDXPKJJcBlwOnJVk59CuU4BvjLOwWXW8FpgCXj7X/qraDmwHmJqaqsWqqw+j7Jq3Urt1afKMqyOdRuNIU0+fBPYDa4DfH9r+LeCB43zsfcCZQ+tndNueJskFwDXAy6vqO8f5mJKko9QMiqr6EvAlYBxRfy+wMclZDALiUgZnL09J8iLgBmBLVR0YQw2SpCNY6MXsbwGHp3RWAc8A/q6qjnmyvKqeTHIVcBtwIvDOqnowyVuA6araCfwe8Gzgg0kAvlxVFx/rY0qSjt6CgqKqTjm8nMF/7K3ATx/vg1fVLmDXrG3XDi1fcLyPIUk6Pkf9Pooa+BPglWOoR5I0YRY69fSLQ6snMHgF0hNjqUiSNFEWFBTAq4eWnwS+yGD6SZK0zC30GsWvjrsQSdJkWtA1iiQ/luRPkxxMciDJjiQ/Nu7iJEn9W+jF7BuBDwBrgecBHwTeP66iJEmTY6FBcXJVvaeqnuw+3gs8c5yFSZImw0IvZn+46xdxE4M33l0C7EryHICqWrT7PkmSFtdCg+I13ecrZ22/lEFweL1Ckpaphb7q6axxFyJJmkwLPaMgyc8AG4a/pqrePYaaJEkTZKHvzH4P8HxgN/C9bnMBBoUkHYNRd/YD2PS81bz51WeP9Jiw8DOKKWBTVS3rpkCStFgOd/ZbCm1bFxoUnwOey6CJkSRpBJZKZ7+FBsUaYCbJp4CnuszZG0KSlr+FBsV/HWcRkqTJtdCXx35i3IVIkiZTMyhmtUB92i4GPYwm/yqMJOm4NINiuAWqJGllOupWqJKklcWgkCQ1GRSSpCaDQpLUZFBIkpoMCklSk0EhSWoyKCRJTb0GRZItSR5OsqfryT17/w8lubnbf0+SDYtfpSStbL0FRZITgeuBi4BNwGVJNs0a9mvAN6vqx4H/Abx1cauUJC24FeoYnAvsqapHAZLcBGwFZobGbOUf71x7C/CHSWIDpdGZ2X+IS264a+THXArNWKRjMaq/maX0d9JnUKwDHhta3wtsnm9MVT2Z5G+Bfwo8PjwoyTZgG8D69evHVe+ys/WcdWM57qa1q8d2bKlPo/y9Xkp/J30GxchU1XZgO8DU1JRnGwt0+eb1XL7ZYJUWaqX+zfR5MXsfcObQ+hndtjnHJDkJ+GHg64tSnSQJ6Dco7gU2JjkrySrgUmDnrDE7gSu65V8CPub1CUlaXL1NPXXXHK4CbgNOBN5ZVQ8meQswXVU7gXcA70myB/gGgzCRJC2iXq9RVNUuYNesbdcOLT8B/JvFrkuS9I98Z7YkqcmgkCQ1GRSSpCaDQpLUZFBIkpoMCklSk0EhSWoyKCRJTQaFJKnJoJAkNRkUkqSmZdGPQsvfODrxwaARzUrsLyAdDYNiyKbnLY22hCvNuLqAzew/BGBQSEdgUAx586vP7rsEzWFcXcXGcYYiLUdeo5AkNRkUkqQmg0KS1GRQSJKaDApJUpNBIUlqMigkSU0GhSSpyaCQJDUZFJKkJoNCktRkUEiSmgwKSVJTL0GR5DlJPpLkke7zj8wx5pwkdyV5MMkDSS7po1ZJWun6OqO4Gri9qjYCt3frs/098CtVdTawBfiDJKcuYo2SJPrrR7EVOL9bfhdwB/DbwwOq6gtDy19JcgA4DfibxSlRWhw33vNlduzeN9Jjzuw/xKa1NuLSaPR1RnF6Ve3vlr8KnN4anORcYBXwV/Ps35ZkOsn0wYMHR1upNGY7du97qtveqGxau3psnQG18oztjCLJR4HnzrHrmuGVqqok1TjOWuA9wBVV9f25xlTVdmA7wNTU1LzHkibVprWrufnK8/ouQ5rT2IKiqi6Yb1+SryVZW1X7uyA4MM+41cCHgGuq6u4xlSpJauhr6mkncEW3fAWwY/aAJKuAW4F3V9Uti1ibJGlIX0FxHXBhkkeAC7p1kkwleXs35jXAy4DXJdndfZzTT7mStHL18qqnqvo68Io5tk8D/75bfi/w3kUuTZI0i+/MliQ1GRSSpCaDQpLUZFBIkpoMCklSk0EhSWoyKCRJTQaFJKnJoJAkNRkUkqQmg0KS1NRXhztJS9DM/kNccsNdIz+m3fgmm0EhaUHG1THPbnyTz6CQtCCXb17P5ZvX912GeuA1CklSk0EhSWoyKCRJTQaFJKnJoJAkNRkUkqQmg0KS1GRQSJKaDApJUpNBIUlqMigkSU0GhSSpyaCQJDX1EhRJnpPkI0ke6T7/SGPs6iR7k/zhYtYoSRro64ziauD2qtoI3N6tz+d3gT9flKokST+gr34UW4Hzu+V3AXcAvz17UJKXAKcDfwZMLVJtWkHG0bHtWGqww5smWV9BcXpV7e+Wv8ogDJ4myQnA7wOvBS5oHSzJNmAbwPr1NlbRwkxKVzU7vGnSjS0oknwUeO4cu64ZXqmqSlJzjPt1YFdV7U3SfKyq2g5sB5iamprrWNIPsGObtDBjC4qqmvcsIMnXkqytqv1J1gIH5hh2HvAvkvw68GxgVZJvV1XreoYkacT6mnraCVwBXNd93jF7QFX928PLSV4HTBkSkrT4+nrV03XAhUkeYXD94TqAJFNJ3t5TTZKkOaRqeU3pT01N1fT0dN9lSNKSkuS+qprz1aW+M1uS1GRQSJKaDApJUpNBIUlqWnYXs5McBL50HIdYAzw+onLGzVrHZynVa63js5TqPd5af7SqTptrx7ILiuOVZHq+K/+TxlrHZynVa63js5TqHWetTj1JkpoMCklSk0Hxg7b3XcBRsNbxWUr1Wuv4LKV6x1ar1ygkSU2eUUiSmgwKSVKTQdFJsiXJw0n2JJno25kneWeSA0k+13ctR5LkzCQfTzKT5MEkr++7pvkkeWaSTyX5TFfrf+u7piNJcmKSTyf5v33XciRJvpjks0l2J5noO3cmOTXJLUk+n+ShJOf1XdN8kryg+5ke/jiU5A0jfQyvUQz+2IAvABcCe4F7gcuqaqbXwuaR5GXAt4F3V9UL+66npWtMtbaq7k9yCnAf8AuT+LPNoJXis6rq20meAfwl8Pqqurvn0uaV5I0M+smvrqpX9V1PS5IvMugrM/FvYEvyLuAvqurtSVYBJ1fV3/Rd15F0/8v2AZur6njeePw0nlEMnAvsqapHq+q7wE3A1p5rmldV/Tnwjb7rWIiq2l9V93fL3wIeAiayQXQNfLtbfUb3MbHPpJKcAfwrwB4uI5Tkh4GXAe8AqKrvLoWQ6LwC+KtRhgQYFIetAx4bWt/LhP4zW8qSbABeBNzTbyXz66ZydjNoz/uRqprYWoE/AH4L+H7fhSxQAf8vyX1JtvVdTMNZwEHgf3fTem9P8qy+i1qgS4H3j/qgBoUWRZJnA38MvKGqDvVdz3yq6ntVdQ5wBnBukomc2kvyKuBAVd3Xdy1H4Wer6sXARcBvdFOok+gk4MXAH1XVi4C/Ayb6uiVAN0V2MfDBUR/boBjYB5w5tH5Gt00j0M33/zHwvqr6P33XsxDdVMPHgS191zKPlwIXd/P+NwE/l+S9/ZbUVlX7us8HgFsZTPlOor3A3qGzyVsYBMekuwi4v6q+NuoDGxQD9wIbk5zVpfKlwM6ea1oWugvE7wAeqqq39V1PS5LTkpzaLf8TBi9u+Hy/Vc2tqn6nqs6oqg0Mfl8/VlWv7bmseSV5VvdiBrppnJ8HJvJVe1X1VeCxJC/oNr0CmLgXX8zhMsYw7QSDU6wVr6qeTHIVcBtwIvDOqnqw57LmleT9wPnAmiR7gTdX1Tv6rWpeLwV+GfhsN/cP8J+ralePNc1nLfCu7pUjJwAfqKqJf9npEnE6cOvgeQMnATdW1Z/1W1LTfwLe1z1xfBT41Z7raerC90LgyrEc35fHSpJanHqSJDUZFJKkJoNCktRkUEiSmgwKSVKTQSEdQZJrurvJPtDdnXPzIj/++Uvh7rBavnwfhdTQ3V76VcCLq+o7SdYAq3ouS1pUnlFIbWuBx6vqOwBV9XhVfSXJS5J8orvB3W3d7dRJ8uNJPtr1tLg/yfMz8HtJPtf1Y7ikG3t+kjuG+h68r3sn++H+KJ9Pcj/wi4eLSfLyob4Dnz78bmdpnHzDndTQ3czwL4GTgY8CNwOfBD4BbK2qg90//ldW1b9Lcg9wXVXdmuSZDJ6MXQT8Rwb3jVrD4JYxm4EXADuAs4GvAHcCbwKmgUeAnwP2dI95clW9Ksmfdse/s6vtiap6cjF+Flq5PKOQGrr+FC8BtjG49fTNDG6T8ELgI91tSf4LcEb37H5dVd3afe0TVfX3wM8C7+/uTPs1BiHzz7uH+FRV7a2q7wO7gQ3ATwJ/XVWP1OCZ3PDN/u4E3pbkN4FTDQktBq9RSEdQVd8D7gDuSPJZ4DeAB6vqae0xj3Ea6DtDy9/jCH+TVXVdkg8B/xK4M8krq2oib1yo5cMzCqmh60e8cWjTOQy69J12uI9ykmckObvr4Lc3yS90238oycnAXwCXdE2RTmPQPe1TjYf9PLAhyfO79cuG6nl+VX22qt7KYArrJ0f0rUrzMiiktmczuKPsTJIHgE3AtcAvAW9N8hkGU0Y/043/ZeA3u7GfBJ7LoPfCA8BngI8Bv9XdynpOVfUEg6muD3UXsw8M7X5Dd1H8AeAfgA+P7luV5ubFbElSk2cUkqQmg0KS1GRQSJKaDApJUpNBIUlqMigkSU0GhSSp6f8Di9GCRkwYU/oAAAAASUVORK5CYII=\n"
                },
                "metadata": {
                  "needs_background": "light"
                }
              }
            ]
          }
        },
        "4136194eed794c08a57ae40857ccf3c1": {
          "model_module": "@jupyter-widgets/base",
          "model_name": "LayoutModel",
          "model_module_version": "1.2.0",
          "state": {
            "_model_module": "@jupyter-widgets/base",
            "_model_module_version": "1.2.0",
            "_model_name": "LayoutModel",
            "_view_count": null,
            "_view_module": "@jupyter-widgets/base",
            "_view_module_version": "1.2.0",
            "_view_name": "LayoutView",
            "align_content": null,
            "align_items": null,
            "align_self": null,
            "border": null,
            "bottom": null,
            "display": null,
            "flex": null,
            "flex_flow": null,
            "grid_area": null,
            "grid_auto_columns": null,
            "grid_auto_flow": null,
            "grid_auto_rows": null,
            "grid_column": null,
            "grid_gap": null,
            "grid_row": null,
            "grid_template_areas": null,
            "grid_template_columns": null,
            "grid_template_rows": null,
            "height": null,
            "justify_content": null,
            "justify_items": null,
            "left": null,
            "margin": null,
            "max_height": null,
            "max_width": null,
            "min_height": null,
            "min_width": null,
            "object_fit": null,
            "object_position": null,
            "order": null,
            "overflow": null,
            "overflow_x": null,
            "overflow_y": null,
            "padding": null,
            "right": null,
            "top": null,
            "visibility": null,
            "width": null
          }
        },
        "3494c9906df14dbaaabd058802e96553": {
          "model_module": "@jupyter-widgets/controls",
          "model_name": "FloatSliderModel",
          "model_module_version": "1.5.0",
          "state": {
            "_dom_classes": [],
            "_model_module": "@jupyter-widgets/controls",
            "_model_module_version": "1.5.0",
            "_model_name": "FloatSliderModel",
            "_view_count": null,
            "_view_module": "@jupyter-widgets/controls",
            "_view_module_version": "1.5.0",
            "_view_name": "FloatSliderView",
            "continuous_update": true,
            "description": "Input",
            "description_tooltip": null,
            "disabled": false,
            "layout": "IPY_MODEL_bf9d241a570a402a85499f250739d09c",
            "max": 1,
            "min": -1,
            "orientation": "horizontal",
            "readout": true,
            "readout_format": ".2f",
            "step": 0.1,
            "style": "IPY_MODEL_57e470e901e54600b1039db2c07c2b32",
            "value": 0.1
          }
        },
        "c9527baf2baa4535a35831663897a88e": {
          "model_module": "@jupyter-widgets/base",
          "model_name": "LayoutModel",
          "model_module_version": "1.2.0",
          "state": {
            "_model_module": "@jupyter-widgets/base",
            "_model_module_version": "1.2.0",
            "_model_name": "LayoutModel",
            "_view_count": null,
            "_view_module": "@jupyter-widgets/base",
            "_view_module_version": "1.2.0",
            "_view_name": "LayoutView",
            "align_content": null,
            "align_items": null,
            "align_self": null,
            "border": null,
            "bottom": null,
            "display": null,
            "flex": null,
            "flex_flow": null,
            "grid_area": null,
            "grid_auto_columns": null,
            "grid_auto_flow": null,
            "grid_auto_rows": null,
            "grid_column": null,
            "grid_gap": null,
            "grid_row": null,
            "grid_template_areas": null,
            "grid_template_columns": null,
            "grid_template_rows": null,
            "height": null,
            "justify_content": null,
            "justify_items": null,
            "left": null,
            "margin": null,
            "max_height": null,
            "max_width": null,
            "min_height": null,
            "min_width": null,
            "object_fit": null,
            "object_position": null,
            "order": null,
            "overflow": null,
            "overflow_x": null,
            "overflow_y": null,
            "padding": null,
            "right": null,
            "top": null,
            "visibility": null,
            "width": null
          }
        },
        "bf9d241a570a402a85499f250739d09c": {
          "model_module": "@jupyter-widgets/base",
          "model_name": "LayoutModel",
          "model_module_version": "1.2.0",
          "state": {
            "_model_module": "@jupyter-widgets/base",
            "_model_module_version": "1.2.0",
            "_model_name": "LayoutModel",
            "_view_count": null,
            "_view_module": "@jupyter-widgets/base",
            "_view_module_version": "1.2.0",
            "_view_name": "LayoutView",
            "align_content": null,
            "align_items": null,
            "align_self": null,
            "border": null,
            "bottom": null,
            "display": null,
            "flex": null,
            "flex_flow": null,
            "grid_area": null,
            "grid_auto_columns": null,
            "grid_auto_flow": null,
            "grid_auto_rows": null,
            "grid_column": null,
            "grid_gap": null,
            "grid_row": null,
            "grid_template_areas": null,
            "grid_template_columns": null,
            "grid_template_rows": null,
            "height": null,
            "justify_content": null,
            "justify_items": null,
            "left": null,
            "margin": null,
            "max_height": null,
            "max_width": null,
            "min_height": null,
            "min_width": null,
            "object_fit": null,
            "object_position": null,
            "order": null,
            "overflow": null,
            "overflow_x": null,
            "overflow_y": null,
            "padding": null,
            "right": null,
            "top": null,
            "visibility": null,
            "width": null
          }
        },
        "57e470e901e54600b1039db2c07c2b32": {
          "model_module": "@jupyter-widgets/controls",
          "model_name": "SliderStyleModel",
          "model_module_version": "1.5.0",
          "state": {
            "_model_module": "@jupyter-widgets/controls",
            "_model_module_version": "1.5.0",
            "_model_name": "SliderStyleModel",
            "_view_count": null,
            "_view_module": "@jupyter-widgets/base",
            "_view_module_version": "1.2.0",
            "_view_name": "StyleView",
            "description_width": "",
            "handle_color": null
          }
        },
        "9c8e8b52519d461cb96d83a09b7072c6": {
          "model_module": "@jupyter-widgets/base",
          "model_name": "LayoutModel",
          "model_module_version": "1.2.0",
          "state": {
            "_model_module": "@jupyter-widgets/base",
            "_model_module_version": "1.2.0",
            "_model_name": "LayoutModel",
            "_view_count": null,
            "_view_module": "@jupyter-widgets/base",
            "_view_module_version": "1.2.0",
            "_view_name": "LayoutView",
            "align_content": null,
            "align_items": null,
            "align_self": null,
            "border": null,
            "bottom": null,
            "display": null,
            "flex": null,
            "flex_flow": null,
            "grid_area": null,
            "grid_auto_columns": null,
            "grid_auto_flow": null,
            "grid_auto_rows": null,
            "grid_column": null,
            "grid_gap": null,
            "grid_row": null,
            "grid_template_areas": null,
            "grid_template_columns": null,
            "grid_template_rows": null,
            "height": null,
            "justify_content": null,
            "justify_items": null,
            "left": null,
            "margin": null,
            "max_height": null,
            "max_width": null,
            "min_height": null,
            "min_width": null,
            "object_fit": null,
            "object_position": null,
            "order": null,
            "overflow": null,
            "overflow_x": null,
            "overflow_y": null,
            "padding": null,
            "right": null,
            "top": null,
            "visibility": null,
            "width": null
          }
        },
        "78ab14fdf7854f92953155227b3f5fd2": {
          "model_module": "@jupyter-widgets/controls",
          "model_name": "HBoxModel",
          "model_module_version": "1.5.0",
          "state": {
            "_dom_classes": [],
            "_model_module": "@jupyter-widgets/controls",
            "_model_module_version": "1.5.0",
            "_model_name": "HBoxModel",
            "_view_count": null,
            "_view_module": "@jupyter-widgets/controls",
            "_view_module_version": "1.5.0",
            "_view_name": "HBoxView",
            "box_style": "",
            "children": [
              "IPY_MODEL_c33ad30dd91347fcb032828895fd5572",
              "IPY_MODEL_ea1e16cdc76b4b6a9fca3560e931914f"
            ],
            "layout": "IPY_MODEL_38a962dfee0540ca9a64be2460973c4c"
          }
        },
        "c33ad30dd91347fcb032828895fd5572": {
          "model_module": "@jupyter-widgets/output",
          "model_name": "OutputModel",
          "model_module_version": "1.0.0",
          "state": {
            "_dom_classes": [],
            "_model_module": "@jupyter-widgets/output",
            "_model_module_version": "1.0.0",
            "_model_name": "OutputModel",
            "_view_count": null,
            "_view_module": "@jupyter-widgets/output",
            "_view_module_version": "1.0.0",
            "_view_name": "OutputView",
            "layout": "IPY_MODEL_b1727c8997024c78be3c5b9c38219441",
            "msg_id": "",
            "outputs": [
              {
                "output_type": "display_data",
                "data": {
                  "text/plain": "<IPython.core.display.HTML object>",
                  "text/html": "<video width=\"360\" height=\"288\" controls autoplay loop>\n  <source type=\"video/mp4\" src=\"data:video/mp4;base64,AAAAHGZ0eXBNNFYgAAACAGlzb21pc28yYXZjMQAAAAhmcmVlAACCjm1kYXQAAAKuBgX//6rcRem9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\nACWpdG9vAAAAHWRhdGEAAAABAAAAAExhdmY1Ny44My4xMDA=\n\">\n  Your browser does not support the video tag.\n</video>"
                },
                "metadata": {}
              }
            ]
          }
        },
        "ea1e16cdc76b4b6a9fca3560e931914f": {
          "model_module": "@jupyter-widgets/output",
          "model_name": "OutputModel",
          "model_module_version": "1.0.0",
          "state": {
            "_dom_classes": [],
            "_model_module": "@jupyter-widgets/output",
            "_model_module_version": "1.0.0",
            "_model_name": "OutputModel",
            "_view_count": null,
            "_view_module": "@jupyter-widgets/output",
            "_view_module_version": "1.0.0",
            "_view_name": "OutputView",
            "layout": "IPY_MODEL_458599d96e3544c68b98fa752cf220dd",
            "msg_id": "",
            "outputs": [
              {
                "output_type": "display_data",
                "data": {
                  "text/plain": "<Figure size 432x288 with 1 Axes>",
                  "image/png": "iVBORw0KGgoAAAANSUhEUgAAAYcAAAEWCAYAAACNJFuYAAAABHNCSVQICAgIfAhkiAAAAAlwSFlzAAALEgAACxIB0t1+/AAAADh0RVh0U29mdHdhcmUAbWF0cGxvdGxpYiB2ZXJzaW9uMy4yLjIsIGh0dHA6Ly9tYXRwbG90bGliLm9yZy+WH4yJAAAgAElEQVR4nO3deXxU9b3/8dcnCwQSCFtYBBQEDKKCLKIsXoNLa63iSqvWrerleq1Fe/3V2tpab3vbq9cuetXaulW92liuS61Lq0WdKvSKGkRAIIIYZJF9DRAgyef3x5yQwGSZwEzOJPN+Ph7zyJw5Z8755AuZ95zvOed7zN0RERGpKyPsAkREJPUoHEREJIbCQUREYigcREQkhsJBRERiKBxERCSGwkHaNDOLmNm16VyHmd1hZk+FtO2UaH9pPoWD1Cv4o95sZu1baHsDzazazB5sie2lGjMbYmbPmNl6M9tmZkvM7D4z69dC20/r9pdYCgeJYWYDgJMBByY3sWxmgjZ7BbAZ+HpLBVKqMLPBwGxgNTDS3TsDE4BPgYktVEbatr/UT+Eg9bkCeBd4HLiy7gwze9zMHjSzV81sBzDJzMrM7LtmNs/MdpjZo2bWy8z+YmbbzWyGmXVtaGNmZsE2fwjsBc45YL6b2XXBt+ktZvZA8B7MLNPMfmlmG8zsMzO7IVg+q4FtXW1mi4K9otfM7IhG6vpfM1tjZlvN7G0zO+aAdnjAzF4JfsfZZjaozvwzzGxx8N77AWtoO8AdwCx3/zd3Xwng7uvc/R53f6bOOv/ZzJaa2SYz+7OZHVZn3r1mtiLY6ygxs5Mb2d6Bv2dKtr+EzN310GO/B7AUuB4YTfTDoledeY8DW4l+s80AcoAyomHSC+gLrAPmACOD+W8CP25keycDu4GuwH3ASwfMd+BloAtwOLAeODOYdx2wEOgXvH9GsHxWMD8CXBs8Pzf43Y4Gsoh+GP6jkbquBjoB7YF7gLkHtMNGYGywrqeBZ4J5PYDtwEVANvAdoLKmjnq2swa4qol/k1OBDcCooJ77gLfrzL8M6B7UcnOwzpxg3h3AU62t/fUI9xF6AXqk1oNoN8ZeoEcwvRj4Tp35jwNPHvCeMuAbdaafAx6sM/1t4E+NbPORmvnAuGD7PevMd2BinenpwK3B8zeBf6kz7/RGPpz+AlxTZ9kMYCdwRBzt0iVYb36ddnikzvyzgMXB8yuAd+vMM2BlI+FQWfNhG0zfAGwByoGHg9ceBf6rzjJ5QTsNaGCdm4ERwfOmwiHl21+Pln+oW0kOdCXwurtvCKb/wAFdS8CKet63ts7zXfVM59W3MTPrAEwh+s0bd/8/4HPg0gMWXVPn+c466zvsgHrqq63GEcC9QdfIFmAT0Q/uvvXUlWlmd5rZp2a2jWgAQnSvoFk1efSTsLG6NgJ96ix/v7t3Ibq3kl1nncvrLFMevK9vUO//C7prtga/W/4BtdYrVdtfwqdwkH2CD4qvAacEfe1riHaJjDCzEXUWTeRQvucDnYHf1NlmX2IDqSFfEO3SqNG/kWVXEP2W26XOo4O7/6OeZS8l2g1yOtEP2gHB640dO6hb0746gv75xup6A7igiXWuJvrhWrPOXKLdSKuC4wu3EP236xoEy9Y4a03V9peQKRykrvOAKmAYcHzwOBp4h2hXSTJcCTwGHFdnmxOIBtJxcbx/OnCjmfU1sy7A9xpZ9rfA92sOLJtZvplNaWDZTkT74TcCHYGfx/PLBF4BjjGzC4IDs9OA3o0sfwdwspn9ysxq9gR6EG37GsXAN83s+OBsop8Ds929LKi1kuixgCwzu53oB348UrX9JWQKB6nrSuD37v65u6+peQD3A99o6AyUgxV8EJ4G3FN3e+5eAvyV+L69Pgy8DswDPgReJfpBWXXggu7+AnAX8EzQVbQA+EoD632SaDfOKqIHXN+N9/cKuuSmAHcSDZchwKxGlv8EOJHoN/CPzGx7sPxq4EfBMjOC588R/bY+CLg4WMVrRNvrk6DmChrv3gFSvv0lZBbtDhVpG8zsK8Bv3V2nSIZA7d92aM9BWjUz62BmZ5lZVvBN+MfAC2HXlS7U/m2X9hykVTOzjsDfgaFEz4p6BbjR3beFWliaUPu3XQoHERGJoW4lERGJkdCzT5KtS5cuPnjw4LDLSAk7duwgNzc37DJSwqZt5Wzfa2yrqNz3Wn6HbHp1zqF9Vnp9/9H/i1pqi1olJSUb3L2gOe9pVeHQq1cvPvjgg7DLSAmRSISioqKwywjV3qpqbnl2Hi98uIpcoKBdJleNH8AV4wbQOz8n7PJCof8XtdQWtcxsedNL7S+0cDCzHOBtooOIZQHPuvuPw6pHWp/szAwyM4wsgyvGD+T6SYPokafRpkUSIcw9h93Aqe5ebmbZwEwz+4u7x32xkaSfTTv2sKF8N0f16gTAj84exom5G5ly1rCQKxNpW0LrkPWo8mAyO3jo1Clp0MLV25h8/0yuf3oOFXujF+Dmd8imoGN6HVcQaQmhnspq0buIlQCDgQfcPWZcFjObCkwFKCgoGD19+vSWLTJFlZeXk5dX70CnbdJ7ayp5ZP5u9lTBwPwMvjMqh87to+PKpVtbNKY1tIWZkZubS2Zmom4iWD93J7gnUdqoqqpix44dHPi5PmnSpBJ3H9OcdaXEdQ7BgF0vAN929wUNLVdYWOilpaUtV1gKS5eDbe7Of7+xlF/P+ASAC0b15efnH0dOdu0HS7q0RTxaQ1t89tlndOrUie7duyf1w3v79u106tQpaetPNe7Oxo0b2b59OwMHDtxvnpk1OxxSYn/c3bcAbwFnhl2LpA5352evLOLXMz4hw6LHF345ZcR+wSCtT0VFRdKDIR2ZGd27d6eioiIh6wstHMysINhjqLmPwBlE7zomAkDkk/U8MvMzsjON33xjFNdMHKgPlDZC/47Jkch2DfNspT7AE8Fxhwxguru/HGI9kmKKjipg2mlDOL5/PqcO7RV2OSJpJcyzlea5+0h3H+7ux7r7T8KqRVKHu1O+O3qls5nxb2ccpWCQhPvTn/6EmbF4cXI6K8477zxOOumkQ15PUVFRaBf+psQxB5Eav4l8yjn3zWTFpp1hlyJtWHFxMRMnTqS4uLje+ZWVlfW+Ho8tW7ZQUlLC1q1bWbZs2UGvJ2wKB0kZf3z/c+5+rZSyjTv4eLVGfJbkKC8vZ+bMmTz66KM888wz+16PRCKcfPLJTJ48mWHDhhGJRDjllFM499xzOfLII7n11lt5+umnGTt2LMcddxyffvppvet//vnnOeecc7j44ov3W/9VV13FtGnTGD9+PEceeSTPPvssANXV1Vx//fUMHTqUM844g7POOmvfvLpef/11xo0bx6hRo5gyZQrl5eUxyyRSqxpbSdquNxev5fvPzwfg3ycfw5nHNnbLZWlLBtz6SoPzfn7+cVx64uEA/GH25/zghfkNLlt251fj2t6LL77ImWeeyVFHHUX37t0pKSlh9OjRAMyZM4cFCxYwcOBAIpEIH330EYsWLaJbt24ceeSRXHvttbz33nvce++93Hfffdxzzz0x6y8uLub222+nV69eXHjhhfzgBz/YN++LL75g5syZLF68mMmTJ3PRRRfx/PPPU1ZWxsKFC1m3bh1HH300V1999X7r3LBhA//xH//BjBkzyM3N5a677uJXv/oVt99+e1y/88FQOEjoStds59t/+JBqhxsmDeaKcQPCLknasOLiYm688UYALr74YoqLi/eFw9ixY/e7RuCEE06gT58+AAwaNIgvfelLABx33HG89dZbMeteu3YtS5YsYeLEiZgZ2dnZLFiwgGOPPRaIHovIyMhg2LBhrF27FoCZM2cyZcoUMjIy6N27N5MmTYpZ77vvvsvChQuZMGECAHv27GHcuHGJapJ6KRwkVBvLd3PNE++zY08V54w4jJu/dFTYJUkLi/cb/6UnHr5vL+Jgbdq0iTfffJP58+djZlRVVWFm3H333QAxQ3y3b187kGNGRsa+6YyMjHqPS0yfPp3NmzfvC5ht27ZRXFzMz372s5j1NecCZHfnjDPOaPAYSTLomIOE6tX5X7By8y5G9Mvn7ouG6/x3Sapnn32Wyy+/nOXLl1NWVsaKFSsYOHAg77zzTkLWX1xczF//+lfKysooKyujpKRkv+MO9ZkwYQLPPfcc1dXVrF27lkgkErPMSSedxKxZs1i6dCkQvVfFJ598kpCaG6JwkFBdPm4Av5gygoeuGKMrnyXpiouLOf/88/d77cILL0zIN/KysjKWL1++3ymsAwcOJD8/n9mzZzf4vgsvvJB+/foxbNgwLrvsMkaNGkV+fv5+yxQUFPD4449zySWXMHz4cMaNG5e003BrpMTYSvHS2Eq1WsMYOo3ZU1lNuwTdpa21t0UitYa2WLRoEUcffXTSt9OaxlaqGTBx48aNjB07llmzZtG798GdlFFf+x7M2Eo65iAt7q3F6/j3lz7m4SvGMKRX6/jjFUmms88+my1btrBnzx5+9KMfHXQwJJLCQVrUik07ufGZD9lWUcnrC9cqHESg3uMMYdMxB2kxFXuruP7pOWyrqOT0o3vyr6cMCrskCUlr6s5uTRLZrgoHaTE/eXkh81dtpX+3DvxyyvFkZOjMpHSUk5PDxo0bFRAJVnM/h5ycnISsT91K0iKen7OSP8z+nHZZGTz4jdHkd8wOuyQJSb9+/Vi5ciXr169P6nYqKioS9kHZWuTk5NCvX7+ErEvhIEm3blsFt70QvcHfHeccw7F985t4h7Rl2dnZMXcqS4ZIJMLIkSOTvp22SuEgSdezcw7/ecFxfLB8E5eM7R92OSISB4WDtIjzRvblvJF9wy5DROKkA9KSNG8uXsuiLzT0tkhrpHCQpFixaSc3Fs/l3Ptn8cna7WGXIyLNpHCQhKuqdv5t+ly2766kqLCAIT3zwi5JRJpJ4SAJ92BkKe+XbaZnp/bceaFGWhVpjRQOklBzV2zhnhlLAPjl10bQLbddyBWJyMFQOEjC7NhdyU3PfEhltXPNxIGcPKQg7JJE5CApHCRhPlq5hXXbdzO0dye+++XCsMsRkUOg6xwkYcYP6sFrN/0Te6qqdeMekVZO4SAJ1b9bx7BLEJEEULeSHLJfvFbKU+8up7pao2yKtBWh7TmYWX/gSaAX4MBD7n5vWPXIwfmgbBMPRJaSYcZJR3ZjcE/dvEekLQizW6kSuNnd55hZJ6DEzP7m7gtDrEmaoWJvFbc8Ow93+NeiQQoGkTYktG4ld//C3ecEz7cDiwCNzNaK3DNjCcs27GBwzzy+fdrgsMsRkQSyVLgbk5kNAN4GjnX3bQfMmwpMBSgoKBg9ffr0Fq8vFZWXl5OXF96wFJ9treIn/1cBwA9PymFQl/DOTgq7LVKJ2qKW2qLWpEmTStx9THPeE3o4mFke8HfgZ+7+fGPLFhYWemlpacsUluIikQhFRUWhbLuyqprJ989i4RfbuHbiQH549rBQ6qgRZlukGrVFLbVFLTNrdjiEeraSmWUDzwFPNxUMkjo2lO/Bgb5dOnDzl3Sxm0hbFObZSgY8Cixy91+FVYc0X+/8HF66YQKrtuyiQztd7CbSFoW55zABuBw41czmBo+zQqxHmiErM4MjuueGXYaIJEloew7uPhPQWM6tyKylG3jm/RX86KtH07NzTtjliEgS6Qppicvuyip+9OICXvpoNc/NWRV2OSKSZAoHicvDby9j2fodDCrI5ZqJA8MuR0SSTOEgTVqxaSf3vbkUgJ+eeyztsvTfRqSt01+5NMrd+fGfP2Z3ZTXnHn8Y4wf3CLskEWkBCgdp1Gsfr+HNxevo1D6L2846OuxyRKSFKBykUZ+sLccMbjmzUGcoiaQR3exHGjXttCGcMawXR/XSiKsi6UThIE06uk/nsEsQkRambiWJUVlVzbeensNbpevCLkVEQqJwkBgPRj7llflfcNvz86nYWxV2OSISAoWD7Gf+yq3c+8YSAO6eMoKcbA2sJ5KOFA6yT8XeKr4zfS6V1c43Jwxggq5pEElbCgfZ566/LmbpunIG98zje2cODbscEQmRwkEAiJSu4/ezysjKMH79tePVnSSS5nQqqwCQ2z6Lgk7tuXLcERzXLz/sckQkZAoHAeCEAd34640n07Vju7BLEZEUoG6lNObuLFi1dd9097z2ZGTo/ksionBIa7+fVcbZ983kgbeWhl2KiKQYhUOaenHuKn76ykIA+nfrGHI1IpJqFA5pKFK6jpunf4Q73PqVoUwecVjYJYlIilE4pJmS5Zv516fmUFntTP2nI7nulEFhlyQiKUjhkEbmrtjCN3//Hrv2VjFldD++/xVd6CYi9dOprGmke247OrTLZMLgHvznBcdhpjOTRKR+Coc04O6YGf27deT56yfQq1N7sjK10ygiDdMnRBu2t6qa219csG+UVYC+XTooGESkSaHuOZjZY8DZwDp3PzbMWtqaLTv38K0/zGHW0o20y8rga2P6c1iXDmGXJSKtRJPhYGY9gQnAYcAuYAHwgbtXJ2D7jwP3A08mYF0SWLqunGufeJ+yjTvpkdeO310+RsEgIs3SYDiY2STgVqAb8CGwDsgBzgMGmdmzwC/dfdvBbtzd3zazAQf7fon1j6UbuO6pErZVVDKsT2cevnIMfRUMItJM5u71zzC7G7jP3T+vZ14W0e6gTHd/7pAKiIbDyw11K5nZVGAqQEFBwejp06cfyubajPLycvLy8vZ7bc7aSh6Yu5sqh1E9M/mX4e1pn9X2z0iqry3Sldqiltqi1qRJk0rcfUxz3tNgOLSUpsKhrsLCQi8tLU16Ta1BJBKhqKhov9fWba/g/Af+wVeH9+HWM4emzSB69bVFulJb1FJb1DKzZodDk6etmNmNZtbZoh41szlm9qWDL1MSqWJvFdXV0YDv2SmHV6edzA/OOjptgkFEkiOecxqvDo4rfAnoClwO3JnUqiQu67fv5usPvct/vVa7N5XfMTvEikSkrYgnHGq+gp4F/I+7f1zntUNiZsXA/wGFZrbSzK5JxHrTweryas57YBYfrdjCy/NWs3XX3rBLEpE2JJ7rHErM7HVgIPB9M+sEJOI0Vtz9kkSsJ93M+XwzP5u9ix174fj+XXj4ijHkd9Aeg4gkTjzhcA1wPLDM3XeaWXfgm8ktSxryVuk6rn9qDrv2wmlDe3L/paPo0C4z7LJEpI1pMhzcvdrM1gLDglNYJSRvLl7L1CdLqKx2JvbN4neXj9ZQGCKSFPFcIX0X8HVgIVAVvOzA20msS+oxol8XDu/WkTOO6cVJOWsUDCKSNPHsCZwHFLr77mQXI7HcHXfIyDC657XnxRsm0Cknm0hkbdiliUgbFs9Xz2WAjnaGoLKqmu89N4+fvLyQmosVO+Xon0JEki+ePYedwFwzewPYt/fg7tOSVpVQsbeKG/7wITMWrSUnO4Orxg9gQI/csMsSkTQRTzj8OXhIC9mycw/XPvEBHyzfTH6HbB676gQFg4i0qHjOVnqiJQqRqFVbdnHlY++xdF05ffJzePLqsQzp1SnsskQkzcRzttIQ4D+BYUSH7AbA3Y9MYl1paem67Xzjkdms3babwl6dePzqE+iTr+G2RaTlxdOt9Hvgx8CvgUlEL4DTOZRJUJCXQ36HbAZ0z+UhXfUsIiGKJxw6uPsbZmbuvhy4w8xKgNuTXFvacHfMjPyO2Tx17Yl0zskmJ1tXPYtIeOIJh91mlgEsMbMbgFWA7qCRANXVzj1vLGH1ll3cfdFwzIyenXKafqOISJLF0z10I9ARmAaMJjpk95XJLCod7NpTxbeLP+S/31jC83NWMn/V1rBLEhHZJ56zld4PnpajAfcSYu22Cv75yQ+Yt3Iree2zuO/SkQzv1yXsskRE9mkwHMzsHne/ycxeIjqW0n7cfXJSK2ujFqzayrVPfMCabRX079aBR688gaN0qqqIpJjG9hz+J/j5i5YoJB3MXraRKx57j92V1ZwwoCu/vWw03fPah12WiEiMBsPB3UuCn39vuXLatuH9unBkQR7H98/njsnH0D5LZySJSGpqrFtpPvV0J9Vw9+FJqaiNWb1lF/kdssltn0WHdpn873XjyGuv22KISGpr7FPq7ODnt4KfNd1Ml9FIaEitd5asZ1rxh0wY3IP7LhmJmSkYRKRVaKxbaTmAmZ3h7iPrzPqemc0Bbk12ca3VnspqfvF6KQ+9vQyAbRWVVOyt1u08RaTViOdrrJnZBHefFUyMR8NnNOjT9eVMK/6Qj1dvIzPDmHbqEG44dTCZGRZ2aSIicYsnHK4BHjOzfMCAzcDVSa2qlXp05mfc/dpiKvZW079bB+75+khGH9E17LJERJotnovgSoARQTjg7rqUtwErNu2kYm8154/sy0/OPUZ3bRORViuuo6Nm9lXgGCDHLNo94u4/SWJdrcLWXXtZsWknx/bNB+D/fbmQosICigp7hlyZiMihied+Dr8lOrbSJOAR4CLgvSTXldIqq6opfu9zfj1jCR2yM3nj5lPIyc4kr32WgkFE2oR49hzGu/twM5vn7v9uZr8E/pLswlJRZVU1f/5oNfe/tZRl63cAMHZgNzbv3KOb8ohImxJPOOwKfu40s8OAjUCfRGzczM4E7gUygUfc/c5ErDfRqqqd50pW8pvIUso27gTg8G4d+cFZQ/nyMb2p6WoTEWkr4gmHl82sC3A3MIfoBXCPHOqGzSwTeAA4A1gJvG9mf3b3hYe67kTLMHjonWWUbdzJgO4d+dakwZw3si/ZmTqjV0TapnjOVvpp8PQ5M3uZ6H2kKxOw7bHAUndfBmBmzwDnAg2Gw4rt1Uz6RYSc7ExysjPokJ1Jp5wsuuW2Z8qYfow6PHra6Iby3WzdtZfenXPIbcYVyTt2V/J+2SYipet5+5P1/OayUQzt3Rkz46bTh7C3qppzhh9GlkJBRNq4Rj85zawv0S6kee6+B8gHbgKuAg47xG33BVbUmV4JnFhPDVOBqQDteg/msw076l1Z191r2bYs+uv85bO9/LF0DwAdsqBre6NrjtE1J4PuOcb5Q9rte98fS/ewqryaVdur2Vix/6ggv//LbL4yMHo6as2t72a+s/QgftXEKy8vJxKJhF1GSlBb1FJb1FJbHJrGBt67CbgNWAq0N7PfAHcBTxK9I1yLcPeHgIcABg0p9L/dfAq79lZRsbeKXXuq2Vaxl4079lB0VAH9u3UEYHm7Mo7Y8Blrtlawq7KaXZXO6h0OVNO7cw73/nPRvvV/5+3X2byzCoDsTGNo786cclQBpxQWMLJ/l5TdS4hEIhQVFYVdRkpQW9RSW9RSWxyaxvYcpgKF7r7JzA4HPgEm1AzlnQCrgP51pvsFrzUoKwOOLGj69tVXjh/AleMH4O5s2bmXNdsqWLOtgrVbK2JGDLzlzKF07diOIb3yOKJbx5QNAxGRltRYOFS4+yYAd//czEoTGAwA7wNDzGwg0VC4GLg0gevHzOia246uue04uk/nepe5ZOzhidykiEib0Fg49DOz/64z3afutLtPO5QNu3ulmd0AvEb0VNbH3P3jQ1mniIgkRmPh8N0DphO51wCAu78KvJro9YqIyKFp7H4OT7RkISIikjoaPPpqZg+b2bENzMs1s6vN7BvJK01ERMLSWLfSA8DtZnYcsABYT/QCuCFAZ+Ax4OmkVygiIi2usW6lucDXzCwPGEP0YrhdwCJ3L22h+kREJATxDJ9RDkSSX4qIiKQKXfElIiIxFA4iIhIj7nAws47JLERERFJHk+FgZuPNbCGwOJgeEQzCJyIibVQ8ew6/Br5M9A5wuPtHwD8lsygREQlXXN1K7r7igJeqklCLiIikiHhuk7bCzMYDbmbZwI3AouSWJSIiYYpnz+E64FtE79y2Cjg+mBYRkTYqnovgNgAaQ0lEJI00dpvQ+yDmxmn7HOr9HEREJHU1tufwQYtVISIiKUX3cxARkRhNHnMws5eI7V7aSnTP4nfuXpGMwkREJDzxnK20DCgHHg4e24DtwFHBtIiItDHxXOcw3t1PqDP9kpm97+4nmNnHySpMRETCE8+eQ56ZHV4zETzPCyb3JKUqEREJVTx7DjcDM83sU8CAgcD1ZpYL6KC1iEgbFM9FcK+a2RBgaPBSaZ2D0PckrTIREQlNPHsOAKOBAcHyI8wMd38yaVWJiEio4jmV9X+AQcBcakdjdUDhICLSRsWz5zAGGObuDQ6lISIibUs8ZystAHoncqNmNsXMPjazajMbk8h1i4jIoYtnz6EHsNDM3gN217zo7pMPYbsLgAuA3x3COkREJEniCYc7Er1Rd18EYGaJXrWIiCRAPKey/r3utJlNBC4B/l7/OxLLzKYCUwEKCgqIRCItsdmUV15errYIqC1qqS1qqS0OTVynsprZSOBSYArwGfBcHO+ZQf3HKm5z9xfjLdDdHwIeAigsLPSioqJ439qmRSIR1BZRaotaaotaaotD09jNfo4iuodwCbAB+CNg7j4pnhW7++kJqVBERFpcY3sOi4F3gLPdfSmAmX2nRaoSEZFQNXYq6wXAF8BbZvawmZ1GdGylQ2Zm55vZSmAc8IqZvZaI9YqISGI0die4PwF/CgbYOxe4CehpZg8CL7j76we7UXd/AXjhYN8vIiLJ1eRFcO6+w93/4O7nAP2AD4HvJb0yEREJTTxXSO/j7pvd/SF3Py1ZBYmISPiaFQ4iIpIeFA4iIhJD4SAiIjEUDiIiEkPhICIiMRQOIiISQ+EgIiIxFA4iIhJD4SAiIjEUDiIiEkPhICIiMRQOIiISQ+EgIiIxFA4iIhJD4SAiIjEUDiIiEkPhICIiMRQOIiISQ+EgIiIxFA4iIhJD4SAiIjEUDiIiEkPhICIiMUIJBzO728wWm9k8M3vBzLqEUYeIiNQvrD2HvwHHuvtw4BPg+yHVISIi9QglHNz9dXevDCbfBfqFUYeIiNTP3D3cAsxeAv7o7k81MH8qMBWgoKBg9PTp01uyvJRVXl5OXl5e2GWkBLVFLbVFLbVFrUmTJpW4+5jmvCdp4WBmM4De9cy6zd1fDJa5DRgDXOBxFFJYWOilpaWJLbSVikQiFBUVhV1GSlBb1FJb1FJb1DKzZodDVrKKcffTG5tvZlcBZwOnxRMMIiLScpIWDql3hT4AAAdhSURBVI0xszOBW4BT3H1nGDWIiEjDwjpb6X6gE/A3M5trZr8NqQ4REalHKHsO7j44jO2KiEh8dIW0iIjEUDiIiEgMhYOIiMRQOIiISAyFg4iIxFA4iIhIDIWDiIjEUDiIiEgMhYOIiMRQOIiISAyFg4iIxFA4iIhIDIWDiIjEUDiIiEgMhYOIiMRQOIiISAyFg4iIxFA4iIhIDIWDiIjEUDiIiEgMhYOIiMRQOIiISAyFg4iIxFA4iIhIDIWDiIjEUDiIiEiMUMLBzH5qZvPMbK6ZvW5mh4VRh4iI1C+sPYe73X24ux8PvAzcHlIdIiJSj1DCwd231ZnMBTyMOkREpH7mHs7nspn9DLgC2ApMcvf1DSw3FZgKUFBQMHr69OktV2QKKy8vJy8vL+wyUoLaopbaopbaotakSZNK3H1Mc96TtHAwsxlA73pm3ebuL9ZZ7vtAjrv/uKl1FhYWemlpaQKrbL0ikQhFRUVhl5ES1Ba11Ba11Ba1zKzZ4ZCVrGLc/fQ4F30aeBVoMhxERKRlhHW20pA6k+cCi8OoQ0RE6pe0PYcm3GlmhUA1sBy4LqQ6RESkHqEdkD4YZrYd0EGHqB7AhrCLSBFqi1pqi1pqi1qF7t6pOW8Ia8/hYJU296BKW2VmH6gtotQWtdQWtdQWtczsg+a+R8NniIhIDIWDiIjEaG3h8FDYBaQQtUUttUUttUUttUWtZrdFqzogLSIiLaO17TmIiEgLUDiIiEiMVhEOZnammZWa2VIzuzXsesJiZv3N7C0zW2hmH5vZjWHXFDYzyzSzD83s5bBrCZOZdTGzZ81ssZktMrNxYdcUFjP7TvD3scDMis0sJ+yaWpKZPWZm68xsQZ3XupnZ38xsSfCza1PrSflwMLNM4AHgK8Aw4BIzGxZuVaGpBG5292HAScC30rgtatwILAq7iBRwL/BXdx8KjCBN28TM+gLTgDHufiyQCVwcblUt7nHgzANeuxV4w92HAG8E041K+XAAxgJL3X2Zu+8BniE6HlPacfcv3H1O8Hw70Q+AvuFWFR4z6wd8FXgk7FrCZGb5wD8BjwK4+x533xJuVaHKAjqYWRbQEVgdcj0tyt3fBjYd8PK5wBPB8yeA85paT2sIh77AijrTK0njD8QaZjYAGAnMDreSUN0D3EJ0jK50NhBYD/w+6GJ7xMxywy4qDO6+CvgF8DnwBbDV3V8Pt6qU0MvdvwierwF6NfWG1hAOcgAzywOeA2464K56acPMzgbWuXtJ2LWkgCxgFPCgu48EdhBHt0FbFPSln0s0MA8Dcs3ssnCrSi0evX6hyWsYWkM4rAL615nuF7yWlswsm2gwPO3uz4ddT4gmAJPNrIxoV+OpZvZUuCWFZiWw0t1r9iKfJRoW6eh04DN3X+/ue4HngfEh15QK1ppZH4Dg57qm3tAawuF9YIiZDTSzdkQPLv055JpCYWZGtF95kbv/Kux6wuTu33f3fu4+gOj/iTfdPS2/Ibr7GmBFMAw+wGnAwhBLCtPnwElm1jH4ezmNND04f4A/A1cGz68EXmxkWaAVjMrq7pVmdgPwGtEzDx5z949DLissE4DLgflmNjd47Qfu/mqINUlq+DbwdPAFahnwzZDrCYW7zzazZ4E5RM/u+5A0G0bDzIqBIqCHma0kepfNO4HpZnYN0XvofK3J9Wj4DBEROVBr6FYSEZEWpnAQEZEYCgcREYmhcBARkRgKBxERiaFwkLRlZrcFo3fOM7O5ZnZiC2+/KN1Hk5XUlfLXOYgkQzCk9dnAKHffbWY9gHYhlyWSMrTnIOmqD7DB3XcDuPsGd19tZqPN7O9mVmJmr9UZcmCwmc0ws4/MbI6ZDbKou4P7Bsw3s68HyxaZWaTO/RWeDq7Wrbk3yWIzmwNcUFOMmZ0S7L3MDQbP69TyTSJSSxfBSVoKBi+cSXRI5xnAH4F/AH8HznX39cGH/Zfd/Wozmw3c6e4vBDePySB6j5HriI6d34PoUC8nAoVEhyc4huhw0bOA7wIfAEuAU4GlwTY7uvvZZvZSsP5ZQW0V7l7ZEm0hUh/tOUhacvdyYDQwlehw138E/gU4FvhbMDzJD4F+wbf4vu7+QvDeCnffCUwEit29yt3XEg2WE4JNvOfuK929GpgLDACGEh0UbkkwMmbdgQJnAb8ys2lAFwWDhE3HHCRtuXsVEAEiZjYf+Bbwsbvvd4vNg+zi2V3neRVN/K25+51m9gpwFjDLzL7s7osPYrsiCaE9B0lLZlZoZkPqvHQ80dE7C2ruv2xm2WZ2THDXvZVmdl7wensz6wi8A3w9uI91AdG7sb3XyGYXAwPMbFAwfUmdega5+3x3v4to99TQBP2qIgdF4SDpKg94wswWmtk8ovcnvx24CLjLzD4i2h1Ucy+Ay4FpwbL/AHoDLwDzgI+AN4FbguGz6+XuFUS7sV4JDkjXHVP/puDA9jxgL/CXxP2qIs2nA9IiIhJDew4iIhJD4SAiIjEUDiIiEkPhICIiMRQOIiISQ+EgIiIxFA4iIhLj/wPVxayK7k6/UQAAAABJRU5ErkJggg==\n"
                },
                "metadata": {
                  "needs_background": "light"
                }
              }
            ]
          }
        },
        "38a962dfee0540ca9a64be2460973c4c": {
          "model_module": "@jupyter-widgets/base",
          "model_name": "LayoutModel",
          "model_module_version": "1.2.0",
          "state": {
            "_model_module": "@jupyter-widgets/base",
            "_model_module_version": "1.2.0",
            "_model_name": "LayoutModel",
            "_view_count": null,
            "_view_module": "@jupyter-widgets/base",
            "_view_module_version": "1.2.0",
            "_view_name": "LayoutView",
            "align_content": null,
            "align_items": null,
            "align_self": null,
            "border": null,
            "bottom": null,
            "display": null,
            "flex": null,
            "flex_flow": null,
            "grid_area": null,
            "grid_auto_columns": null,
            "grid_auto_flow": null,
            "grid_auto_rows": null,
            "grid_column": null,
            "grid_gap": null,
            "grid_row": null,
            "grid_template_areas": null,
            "grid_template_columns": null,
            "grid_template_rows": null,
            "height": null,
            "justify_content": null,
            "justify_items": null,
            "left": null,
            "margin": null,
            "max_height": null,
            "max_width": null,
            "min_height": null,
            "min_width": null,
            "object_fit": null,
            "object_position": null,
            "order": null,
            "overflow": null,
            "overflow_x": null,
            "overflow_y": null,
            "padding": null,
            "right": null,
            "top": null,
            "visibility": null,
            "width": null
          }
        },
        "b1727c8997024c78be3c5b9c38219441": {
          "model_module": "@jupyter-widgets/base",
          "model_name": "LayoutModel",
          "model_module_version": "1.2.0",
          "state": {
            "_model_module": "@jupyter-widgets/base",
            "_model_module_version": "1.2.0",
            "_model_name": "LayoutModel",
            "_view_count": null,
            "_view_module": "@jupyter-widgets/base",
            "_view_module_version": "1.2.0",
            "_view_name": "LayoutView",
            "align_content": null,
            "align_items": null,
            "align_self": null,
            "border": "1px solid black",
            "bottom": null,
            "display": null,
            "flex": null,
            "flex_flow": null,
            "grid_area": null,
            "grid_auto_columns": null,
            "grid_auto_flow": null,
            "grid_auto_rows": null,
            "grid_column": null,
            "grid_gap": null,
            "grid_row": null,
            "grid_template_areas": null,
            "grid_template_columns": null,
            "grid_template_rows": null,
            "height": null,
            "justify_content": null,
            "justify_items": null,
            "left": null,
            "margin": null,
            "max_height": null,
            "max_width": null,
            "min_height": null,
            "min_width": null,
            "object_fit": null,
            "object_position": null,
            "order": null,
            "overflow": null,
            "overflow_x": null,
            "overflow_y": null,
            "padding": null,
            "right": null,
            "top": null,
            "visibility": null,
            "width": null
          }
        },
        "458599d96e3544c68b98fa752cf220dd": {
          "model_module": "@jupyter-widgets/base",
          "model_name": "LayoutModel",
          "model_module_version": "1.2.0",
          "state": {
            "_model_module": "@jupyter-widgets/base",
            "_model_module_version": "1.2.0",
            "_model_name": "LayoutModel",
            "_view_count": null,
            "_view_module": "@jupyter-widgets/base",
            "_view_module_version": "1.2.0",
            "_view_name": "LayoutView",
            "align_content": null,
            "align_items": null,
            "align_self": null,
            "border": "1px solid black",
            "bottom": null,
            "display": null,
            "flex": null,
            "flex_flow": null,
            "grid_area": null,
            "grid_auto_columns": null,
            "grid_auto_flow": null,
            "grid_auto_rows": null,
            "grid_column": null,
            "grid_gap": null,
            "grid_row": null,
            "grid_template_areas": null,
            "grid_template_columns": null,
            "grid_template_rows": null,
            "height": null,
            "justify_content": null,
            "justify_items": null,
            "left": null,
            "margin": null,
            "max_height": null,
            "max_width": null,
            "min_height": null,
            "min_width": null,
            "object_fit": null,
            "object_position": null,
            "order": null,
            "overflow": null,
            "overflow_x": null,
            "overflow_y": null,
            "padding": null,
            "right": null,
            "top": null,
            "visibility": null,
            "width": null
          }
        },
        "8340d1b4fcb446dfb7d69b7b3eec8f72": {
          "model_module": "@jupyter-widgets/controls",
          "model_name": "HBoxModel",
          "model_module_version": "1.5.0",
          "state": {
            "_dom_classes": [],
            "_model_module": "@jupyter-widgets/controls",
            "_model_module_version": "1.5.0",
            "_model_name": "HBoxModel",
            "_view_count": null,
            "_view_module": "@jupyter-widgets/controls",
            "_view_module_version": "1.5.0",
            "_view_name": "HBoxView",
            "box_style": "",
            "children": [
              "IPY_MODEL_a6aee2e8bb5740f7be4605a1cae61627",
              "IPY_MODEL_567d246bab0e4ae4b0128c43759acc36"
            ],
            "layout": "IPY_MODEL_96dea0ab06d64512ad8388242a613763"
          }
        },
        "a6aee2e8bb5740f7be4605a1cae61627": {
          "model_module": "@jupyter-widgets/controls",
          "model_name": "VBoxModel",
          "model_module_version": "1.5.0",
          "state": {
            "_dom_classes": [],
            "_model_module": "@jupyter-widgets/controls",
            "_model_module_version": "1.5.0",
            "_model_name": "VBoxModel",
            "_view_count": null,
            "_view_module": "@jupyter-widgets/controls",
            "_view_module_version": "1.5.0",
            "_view_name": "VBoxView",
            "box_style": "",
            "children": [
              "IPY_MODEL_05afdfb328e34c17b61cdb0999eb8f41"
            ],
            "layout": "IPY_MODEL_4c98ce99e9494bd3a050a39889977232"
          }
        },
        "567d246bab0e4ae4b0128c43759acc36": {
          "model_module": "@jupyter-widgets/output",
          "model_name": "OutputModel",
          "model_module_version": "1.0.0",
          "state": {
            "_dom_classes": [],
            "_model_module": "@jupyter-widgets/output",
            "_model_module_version": "1.0.0",
            "_model_name": "OutputModel",
            "_view_count": null,
            "_view_module": "@jupyter-widgets/output",
            "_view_module_version": "1.0.0",
            "_view_name": "OutputView",
            "layout": "IPY_MODEL_448a53da52d348ec88548cc929ecb30a",
            "msg_id": "",
            "outputs": [
              {
                "output_type": "display_data",
                "data": {
                  "text/plain": "<Figure size 432x288 with 1 Axes>",
                  "image/png": "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\n"
                },
                "metadata": {
                  "needs_background": "light"
                }
              }
            ]
          }
        },
        "96dea0ab06d64512ad8388242a613763": {
          "model_module": "@jupyter-widgets/base",
          "model_name": "LayoutModel",
          "model_module_version": "1.2.0",
          "state": {
            "_model_module": "@jupyter-widgets/base",
            "_model_module_version": "1.2.0",
            "_model_name": "LayoutModel",
            "_view_count": null,
            "_view_module": "@jupyter-widgets/base",
            "_view_module_version": "1.2.0",
            "_view_name": "LayoutView",
            "align_content": null,
            "align_items": null,
            "align_self": null,
            "border": null,
            "bottom": null,
            "display": null,
            "flex": null,
            "flex_flow": null,
            "grid_area": null,
            "grid_auto_columns": null,
            "grid_auto_flow": null,
            "grid_auto_rows": null,
            "grid_column": null,
            "grid_gap": null,
            "grid_row": null,
            "grid_template_areas": null,
            "grid_template_columns": null,
            "grid_template_rows": null,
            "height": null,
            "justify_content": null,
            "justify_items": null,
            "left": null,
            "margin": null,
            "max_height": null,
            "max_width": null,
            "min_height": null,
            "min_width": null,
            "object_fit": null,
            "object_position": null,
            "order": null,
            "overflow": null,
            "overflow_x": null,
            "overflow_y": null,
            "padding": null,
            "right": null,
            "top": null,
            "visibility": null,
            "width": null
          }
        },
        "05afdfb328e34c17b61cdb0999eb8f41": {
          "model_module": "@jupyter-widgets/controls",
          "model_name": "FloatSliderModel",
          "model_module_version": "1.5.0",
          "state": {
            "_dom_classes": [],
            "_model_module": "@jupyter-widgets/controls",
            "_model_module_version": "1.5.0",
            "_model_name": "FloatSliderModel",
            "_view_count": null,
            "_view_module": "@jupyter-widgets/controls",
            "_view_module_version": "1.5.0",
            "_view_name": "FloatSliderView",
            "continuous_update": true,
            "description": "Input",
            "description_tooltip": null,
            "disabled": false,
            "layout": "IPY_MODEL_d6110b41fde3479485782eaa9acd2a8f",
            "max": 3.14,
            "min": -3.14,
            "orientation": "horizontal",
            "readout": true,
            "readout_format": ".2f",
            "step": 0.1,
            "style": "IPY_MODEL_97a953aca8d0406aabdc591873f5d65d",
            "value": -2.34
          }
        },
        "4c98ce99e9494bd3a050a39889977232": {
          "model_module": "@jupyter-widgets/base",
          "model_name": "LayoutModel",
          "model_module_version": "1.2.0",
          "state": {
            "_model_module": "@jupyter-widgets/base",
            "_model_module_version": "1.2.0",
            "_model_name": "LayoutModel",
            "_view_count": null,
            "_view_module": "@jupyter-widgets/base",
            "_view_module_version": "1.2.0",
            "_view_name": "LayoutView",
            "align_content": null,
            "align_items": null,
            "align_self": null,
            "border": null,
            "bottom": null,
            "display": null,
            "flex": null,
            "flex_flow": null,
            "grid_area": null,
            "grid_auto_columns": null,
            "grid_auto_flow": null,
            "grid_auto_rows": null,
            "grid_column": null,
            "grid_gap": null,
            "grid_row": null,
            "grid_template_areas": null,
            "grid_template_columns": null,
            "grid_template_rows": null,
            "height": null,
            "justify_content": null,
            "justify_items": null,
            "left": null,
            "margin": null,
            "max_height": null,
            "max_width": null,
            "min_height": null,
            "min_width": null,
            "object_fit": null,
            "object_position": null,
            "order": null,
            "overflow": null,
            "overflow_x": null,
            "overflow_y": null,
            "padding": null,
            "right": null,
            "top": null,
            "visibility": null,
            "width": null
          }
        },
        "d6110b41fde3479485782eaa9acd2a8f": {
          "model_module": "@jupyter-widgets/base",
          "model_name": "LayoutModel",
          "model_module_version": "1.2.0",
          "state": {
            "_model_module": "@jupyter-widgets/base",
            "_model_module_version": "1.2.0",
            "_model_name": "LayoutModel",
            "_view_count": null,
            "_view_module": "@jupyter-widgets/base",
            "_view_module_version": "1.2.0",
            "_view_name": "LayoutView",
            "align_content": null,
            "align_items": null,
            "align_self": null,
            "border": null,
            "bottom": null,
            "display": null,
            "flex": null,
            "flex_flow": null,
            "grid_area": null,
            "grid_auto_columns": null,
            "grid_auto_flow": null,
            "grid_auto_rows": null,
            "grid_column": null,
            "grid_gap": null,
            "grid_row": null,
            "grid_template_areas": null,
            "grid_template_columns": null,
            "grid_template_rows": null,
            "height": null,
            "justify_content": null,
            "justify_items": null,
            "left": null,
            "margin": null,
            "max_height": null,
            "max_width": null,
            "min_height": null,
            "min_width": null,
            "object_fit": null,
            "object_position": null,
            "order": null,
            "overflow": null,
            "overflow_x": null,
            "overflow_y": null,
            "padding": null,
            "right": null,
            "top": null,
            "visibility": null,
            "width": null
          }
        },
        "97a953aca8d0406aabdc591873f5d65d": {
          "model_module": "@jupyter-widgets/controls",
          "model_name": "SliderStyleModel",
          "model_module_version": "1.5.0",
          "state": {
            "_model_module": "@jupyter-widgets/controls",
            "_model_module_version": "1.5.0",
            "_model_name": "SliderStyleModel",
            "_view_count": null,
            "_view_module": "@jupyter-widgets/base",
            "_view_module_version": "1.2.0",
            "_view_name": "StyleView",
            "description_width": "",
            "handle_color": null
          }
        },
        "448a53da52d348ec88548cc929ecb30a": {
          "model_module": "@jupyter-widgets/base",
          "model_name": "LayoutModel",
          "model_module_version": "1.2.0",
          "state": {
            "_model_module": "@jupyter-widgets/base",
            "_model_module_version": "1.2.0",
            "_model_name": "LayoutModel",
            "_view_count": null,
            "_view_module": "@jupyter-widgets/base",
            "_view_module_version": "1.2.0",
            "_view_name": "LayoutView",
            "align_content": null,
            "align_items": null,
            "align_self": null,
            "border": null,
            "bottom": null,
            "display": null,
            "flex": null,
            "flex_flow": null,
            "grid_area": null,
            "grid_auto_columns": null,
            "grid_auto_flow": null,
            "grid_auto_rows": null,
            "grid_column": null,
            "grid_gap": null,
            "grid_row": null,
            "grid_template_areas": null,
            "grid_template_columns": null,
            "grid_template_rows": null,
            "height": null,
            "justify_content": null,
            "justify_items": null,
            "left": null,
            "margin": null,
            "max_height": null,
            "max_width": null,
            "min_height": null,
            "min_width": null,
            "object_fit": null,
            "object_position": null,
            "order": null,
            "overflow": null,
            "overflow_x": null,
            "overflow_y": null,
            "padding": null,
            "right": null,
            "top": null,
            "visibility": null,
            "width": null
          }
        },
        "d14a11cf8a1d4d8881ca6e6447ee4853": {
          "model_module": "@jupyter-widgets/controls",
          "model_name": "HBoxModel",
          "model_module_version": "1.5.0",
          "state": {
            "_dom_classes": [],
            "_model_module": "@jupyter-widgets/controls",
            "_model_module_version": "1.5.0",
            "_model_name": "HBoxModel",
            "_view_count": null,
            "_view_module": "@jupyter-widgets/controls",
            "_view_module_version": "1.5.0",
            "_view_name": "HBoxView",
            "box_style": "",
            "children": [
              "IPY_MODEL_16a8b6ef02c84c03ab6c941d7b97f7d7",
              "IPY_MODEL_eb7d80a6aae44f06b909046da6fac56a"
            ],
            "layout": "IPY_MODEL_12b473dac4864b6980fe0b3f62684169"
          }
        },
        "16a8b6ef02c84c03ab6c941d7b97f7d7": {
          "model_module": "@jupyter-widgets/output",
          "model_name": "OutputModel",
          "model_module_version": "1.0.0",
          "state": {
            "_dom_classes": [],
            "_model_module": "@jupyter-widgets/output",
            "_model_module_version": "1.0.0",
            "_model_name": "OutputModel",
            "_view_count": null,
            "_view_module": "@jupyter-widgets/output",
            "_view_module_version": "1.0.0",
            "_view_name": "OutputView",
            "layout": "IPY_MODEL_d0c38dbedf144ebdb04f2c7c096a93ac",
            "msg_id": "",
            "outputs": []
          }
        },
        "eb7d80a6aae44f06b909046da6fac56a": {
          "model_module": "@jupyter-widgets/output",
          "model_name": "OutputModel",
          "model_module_version": "1.0.0",
          "state": {
            "_dom_classes": [],
            "_model_module": "@jupyter-widgets/output",
            "_model_module_version": "1.0.0",
            "_model_name": "OutputModel",
            "_view_count": null,
            "_view_module": "@jupyter-widgets/output",
            "_view_module_version": "1.0.0",
            "_view_name": "OutputView",
            "layout": "IPY_MODEL_7bb3d244948743bdbb9b363829503ca0",
            "msg_id": "",
            "outputs": [
              {
                "output_type": "display_data",
                "data": {
                  "text/plain": "<Figure size 432x288 with 1 Axes>",
                  "image/png": "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\n"
                },
                "metadata": {
                  "needs_background": "light"
                }
              }
            ]
          }
        },
        "12b473dac4864b6980fe0b3f62684169": {
          "model_module": "@jupyter-widgets/base",
          "model_name": "LayoutModel",
          "model_module_version": "1.2.0",
          "state": {
            "_model_module": "@jupyter-widgets/base",
            "_model_module_version": "1.2.0",
            "_model_name": "LayoutModel",
            "_view_count": null,
            "_view_module": "@jupyter-widgets/base",
            "_view_module_version": "1.2.0",
            "_view_name": "LayoutView",
            "align_content": null,
            "align_items": null,
            "align_self": null,
            "border": null,
            "bottom": null,
            "display": null,
            "flex": null,
            "flex_flow": null,
            "grid_area": null,
            "grid_auto_columns": null,
            "grid_auto_flow": null,
            "grid_auto_rows": null,
            "grid_column": null,
            "grid_gap": null,
            "grid_row": null,
            "grid_template_areas": null,
            "grid_template_columns": null,
            "grid_template_rows": null,
            "height": null,
            "justify_content": null,
            "justify_items": null,
            "left": null,
            "margin": null,
            "max_height": null,
            "max_width": null,
            "min_height": null,
            "min_width": null,
            "object_fit": null,
            "object_position": null,
            "order": null,
            "overflow": null,
            "overflow_x": null,
            "overflow_y": null,
            "padding": null,
            "right": null,
            "top": null,
            "visibility": null,
            "width": null
          }
        },
        "d0c38dbedf144ebdb04f2c7c096a93ac": {
          "model_module": "@jupyter-widgets/base",
          "model_name": "LayoutModel",
          "model_module_version": "1.2.0",
          "state": {
            "_model_module": "@jupyter-widgets/base",
            "_model_module_version": "1.2.0",
            "_model_name": "LayoutModel",
            "_view_count": null,
            "_view_module": "@jupyter-widgets/base",
            "_view_module_version": "1.2.0",
            "_view_name": "LayoutView",
            "align_content": null,
            "align_items": null,
            "align_self": null,
            "border": "1px solid black",
            "bottom": null,
            "display": null,
            "flex": null,
            "flex_flow": null,
            "grid_area": null,
            "grid_auto_columns": null,
            "grid_auto_flow": null,
            "grid_auto_rows": null,
            "grid_column": null,
            "grid_gap": null,
            "grid_row": null,
            "grid_template_areas": null,
            "grid_template_columns": null,
            "grid_template_rows": null,
            "height": null,
            "justify_content": null,
            "justify_items": null,
            "left": null,
            "margin": null,
            "max_height": null,
            "max_width": null,
            "min_height": null,
            "min_width": null,
            "object_fit": null,
            "object_position": null,
            "order": null,
            "overflow": null,
            "overflow_x": null,
            "overflow_y": null,
            "padding": null,
            "right": null,
            "top": null,
            "visibility": null,
            "width": null
          }
        },
        "7bb3d244948743bdbb9b363829503ca0": {
          "model_module": "@jupyter-widgets/base",
          "model_name": "LayoutModel",
          "model_module_version": "1.2.0",
          "state": {
            "_model_module": "@jupyter-widgets/base",
            "_model_module_version": "1.2.0",
            "_model_name": "LayoutModel",
            "_view_count": null,
            "_view_module": "@jupyter-widgets/base",
            "_view_module_version": "1.2.0",
            "_view_name": "LayoutView",
            "align_content": null,
            "align_items": null,
            "align_self": null,
            "border": "1px solid black",
            "bottom": null,
            "display": null,
            "flex": null,
            "flex_flow": null,
            "grid_area": null,
            "grid_auto_columns": null,
            "grid_auto_flow": null,
            "grid_auto_rows": null,
            "grid_column": null,
            "grid_gap": null,
            "grid_row": null,
            "grid_template_areas": null,
            "grid_template_columns": null,
            "grid_template_rows": null,
            "height": null,
            "justify_content": null,
            "justify_items": null,
            "left": null,
            "margin": null,
            "max_height": null,
            "max_width": null,
            "min_height": null,
            "min_width": null,
            "object_fit": null,
            "object_position": null,
            "order": null,
            "overflow": null,
            "overflow_x": null,
            "overflow_y": null,
            "padding": null,
            "right": null,
            "top": null,
            "visibility": null,
            "width": null
          }
        },
        "c407a3440d9549c495c4febaae4a8d32": {
          "model_module": "@jupyter-widgets/controls",
          "model_name": "HBoxModel",
          "model_module_version": "1.5.0",
          "state": {
            "_dom_classes": [],
            "_model_module": "@jupyter-widgets/controls",
            "_model_module_version": "1.5.0",
            "_model_name": "HBoxModel",
            "_view_count": null,
            "_view_module": "@jupyter-widgets/controls",
            "_view_module_version": "1.5.0",
            "_view_name": "HBoxView",
            "box_style": "",
            "children": [
              "IPY_MODEL_ac07eb7223bd48df938ddb6be5194bc9",
              "IPY_MODEL_15e73a5561c0492283210b18d79077e7"
            ],
            "layout": "IPY_MODEL_143c64be390b4049aabb9a3de1ed0021"
          }
        },
        "ac07eb7223bd48df938ddb6be5194bc9": {
          "model_module": "@jupyter-widgets/output",
          "model_name": "OutputModel",
          "model_module_version": "1.0.0",
          "state": {
            "_dom_classes": [],
            "_model_module": "@jupyter-widgets/output",
            "_model_module_version": "1.0.0",
            "_model_name": "OutputModel",
            "_view_count": null,
            "_view_module": "@jupyter-widgets/output",
            "_view_module_version": "1.0.0",
            "_view_name": "OutputView",
            "layout": "IPY_MODEL_b5c73a5f4e7947aeb5de8dd7cf36e60d",
            "msg_id": "",
            "outputs": [
              {
                "output_type": "display_data",
                "data": {
                  "text/plain": "<IPython.core.display.HTML object>",
                  "text/html": "<video width=\"360\" height=\"288\" controls autoplay loop>\n  <source type=\"video/mp4\" src=\"data:video/mp4;base64,AAAAHGZ0eXBNNFYgAAACAGlzb21pc28yYXZjMQAAAAhmcmVlAABICW1kYXQAAAKuBgX//6rcRem9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\nYXRhAAAAAQAAAABMYXZmNTcuODMuMTAw\n\">\n  Your browser does not support the video tag.\n</video>"
                },
                "metadata": {}
              }
            ]
          }
        },
        "15e73a5561c0492283210b18d79077e7": {
          "model_module": "@jupyter-widgets/output",
          "model_name": "OutputModel",
          "model_module_version": "1.0.0",
          "state": {
            "_dom_classes": [],
            "_model_module": "@jupyter-widgets/output",
            "_model_module_version": "1.0.0",
            "_model_name": "OutputModel",
            "_view_count": null,
            "_view_module": "@jupyter-widgets/output",
            "_view_module_version": "1.0.0",
            "_view_name": "OutputView",
            "layout": "IPY_MODEL_422e23af965c48fd94cd07c5f9321bd4",
            "msg_id": "",
            "outputs": [
              {
                "output_type": "display_data",
                "data": {
                  "text/plain": "<Figure size 432x288 with 1 Axes>",
                  "image/png": "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\n"
                },
                "metadata": {
                  "needs_background": "light"
                }
              }
            ]
          }
        },
        "143c64be390b4049aabb9a3de1ed0021": {
          "model_module": "@jupyter-widgets/base",
          "model_name": "LayoutModel",
          "model_module_version": "1.2.0",
          "state": {
            "_model_module": "@jupyter-widgets/base",
            "_model_module_version": "1.2.0",
            "_model_name": "LayoutModel",
            "_view_count": null,
            "_view_module": "@jupyter-widgets/base",
            "_view_module_version": "1.2.0",
            "_view_name": "LayoutView",
            "align_content": null,
            "align_items": null,
            "align_self": null,
            "border": null,
            "bottom": null,
            "display": null,
            "flex": null,
            "flex_flow": null,
            "grid_area": null,
            "grid_auto_columns": null,
            "grid_auto_flow": null,
            "grid_auto_rows": null,
            "grid_column": null,
            "grid_gap": null,
            "grid_row": null,
            "grid_template_areas": null,
            "grid_template_columns": null,
            "grid_template_rows": null,
            "height": null,
            "justify_content": null,
            "justify_items": null,
            "left": null,
            "margin": null,
            "max_height": null,
            "max_width": null,
            "min_height": null,
            "min_width": null,
            "object_fit": null,
            "object_position": null,
            "order": null,
            "overflow": null,
            "overflow_x": null,
            "overflow_y": null,
            "padding": null,
            "right": null,
            "top": null,
            "visibility": null,
            "width": null
          }
        },
        "b5c73a5f4e7947aeb5de8dd7cf36e60d": {
          "model_module": "@jupyter-widgets/base",
          "model_name": "LayoutModel",
          "model_module_version": "1.2.0",
          "state": {
            "_model_module": "@jupyter-widgets/base",
            "_model_module_version": "1.2.0",
            "_model_name": "LayoutModel",
            "_view_count": null,
            "_view_module": "@jupyter-widgets/base",
            "_view_module_version": "1.2.0",
            "_view_name": "LayoutView",
            "align_content": null,
            "align_items": null,
            "align_self": null,
            "border": "1px solid black",
            "bottom": null,
            "display": null,
            "flex": null,
            "flex_flow": null,
            "grid_area": null,
            "grid_auto_columns": null,
            "grid_auto_flow": null,
            "grid_auto_rows": null,
            "grid_column": null,
            "grid_gap": null,
            "grid_row": null,
            "grid_template_areas": null,
            "grid_template_columns": null,
            "grid_template_rows": null,
            "height": null,
            "justify_content": null,
            "justify_items": null,
            "left": null,
            "margin": null,
            "max_height": null,
            "max_width": null,
            "min_height": null,
            "min_width": null,
            "object_fit": null,
            "object_position": null,
            "order": null,
            "overflow": null,
            "overflow_x": null,
            "overflow_y": null,
            "padding": null,
            "right": null,
            "top": null,
            "visibility": null,
            "width": null
          }
        },
        "422e23af965c48fd94cd07c5f9321bd4": {
          "model_module": "@jupyter-widgets/base",
          "model_name": "LayoutModel",
          "model_module_version": "1.2.0",
          "state": {
            "_model_module": "@jupyter-widgets/base",
            "_model_module_version": "1.2.0",
            "_model_name": "LayoutModel",
            "_view_count": null,
            "_view_module": "@jupyter-widgets/base",
            "_view_module_version": "1.2.0",
            "_view_name": "LayoutView",
            "align_content": null,
            "align_items": null,
            "align_self": null,
            "border": "1px solid black",
            "bottom": null,
            "display": null,
            "flex": null,
            "flex_flow": null,
            "grid_area": null,
            "grid_auto_columns": null,
            "grid_auto_flow": null,
            "grid_auto_rows": null,
            "grid_column": null,
            "grid_gap": null,
            "grid_row": null,
            "grid_template_areas": null,
            "grid_template_columns": null,
            "grid_template_rows": null,
            "height": null,
            "justify_content": null,
            "justify_items": null,
            "left": null,
            "margin": null,
            "max_height": null,
            "max_width": null,
            "min_height": null,
            "min_width": null,
            "object_fit": null,
            "object_position": null,
            "order": null,
            "overflow": null,
            "overflow_x": null,
            "overflow_y": null,
            "padding": null,
            "right": null,
            "top": null,
            "visibility": null,
            "width": null
          }
        }
      }
    }
  },
  "cells": [
    {
      "cell_type": "markdown",
      "metadata": {
        "id": "view-in-github",
        "colab_type": "text"
      },
      "source": [
        "<a href=\"https://colab.research.google.com/github/bradygm/PID-controller-simulator/blob/main/PID_controller_explorer.ipynb\" target=\"_parent\"><img src=\"https://colab.research.google.com/assets/colab-badge.svg\" alt=\"Open In Colab\"/></a>"
      ]
    },
    {
      "cell_type": "markdown",
      "source": [
        "# RoboLaunch Workshop Series: **Intro to PID Control**\n",
        "\n",
        "In this notebook you will\n",
        "\n",
        "If you didn't see the presentation linked to this Colab, you can watch it here: [**How to Control a Robot: Intuition for Feedback Control and PID**]() "
      ],
      "metadata": {
        "id": "UDZS1MekRVAt"
      }
    },
    {
      "cell_type": "markdown",
      "source": [
        "### Quick Google Colab Intro\n",
        "\n",
        "A notebook is a list of cells. Cells contain either explanatory text or executable code and its output. Click a cell to select it.\n",
        "\n",
        "Below is a **code cell** that prints \"Hello World!\". Click in the cell to select it and execute the contents in one of the following ways:\n",
        "\n",
        "* Click the **Play icon** in the left gutter of the cell;\n",
        "* Type **Cmd/Ctrl+Enter** to run the cell in place;\n",
        "* Type **Shift+Enter** to run the cell and move focus to the next cell (adding one if none exists); "
      ],
      "metadata": {
        "id": "QFl6FISBehnF"
      }
    },
    {
      "cell_type": "code",
      "source": [
        "# This is a comment\n",
        "print('Hello World!')"
      ],
      "metadata": {
        "id": "THIEZraYXlv7",
        "colab": {
          "base_uri": "https://localhost:8080/"
        },
        "outputId": "c4ade275-46f1-4e1f-9d68-96ff21d87d25"
      },
      "execution_count": null,
      "outputs": [
        {
          "output_type": "stream",
          "name": "stdout",
          "text": [
            "Hello World!\n"
          ]
        }
      ]
    },
    {
      "cell_type": "markdown",
      "source": [
        "Did you see the code cell print \"Hello World!\"? Great!"
      ],
      "metadata": {
        "id": "8qyUq9qWMaGU"
      }
    },
    {
      "cell_type": "markdown",
      "source": [
        "# Example 1: Single link robot arm\n",
        "\n",
        "Our first example is going to be a single link robot arm. This is essentially a rod with one pivot at the end. At the pivot point there is a motor we can control in order to get the arm to rotate in either direction. This rotational force is called **torque**.\n",
        "\n",
        "The angle of the arm is defined as in the image below:\n",
        "\n",
        "<img src=\"https://raw.githubusercontent.com/bradygm/PID-controller-simulator/fc1fc67be86c934b0a07869eaddb00a79ff07488/media/armAngle.png\" alt=\"drawing\" width=\"200\"/>\n",
        "\n",
        "\n",
        "\n",
        "\n"
      ],
      "metadata": {
        "id": "_vn6vrSAh4YU"
      }
    },
    {
      "cell_type": "markdown",
      "source": [
        "## Imports, helper functions, and classes\n",
        "\n",
        "We will start by running some code that will set everything up for us. You can run all of these cells by just clicking on the **Play icon** below next to the text that reads \"*6 cells hidden*\". You can also feel free to open the cells later to look through the code and modify. You can collapse the celss again by clicking on the arrow next to the title of this text box. "
      ],
      "metadata": {
        "id": "1DDlkp5X8qeW"
      }
    },
    {
      "cell_type": "markdown",
      "source": [
        "##### Imports"
      ],
      "metadata": {
        "id": "Woh5Jc7QA5iE"
      }
    },
    {
      "cell_type": "code",
      "source": [
        "import numpy as np\n",
        "import matplotlib.pyplot as plt\n",
        "from matplotlib.animation import FuncAnimation\n",
        "import matplotlib.animation as animation\n",
        "import math\n",
        "from IPython.display import HTML, Javascript\n",
        "from scipy import interpolate\n",
        "from ipywidgets import interact, interactive, fixed, interact_manual, Video\n",
        "import ipywidgets as widgets\n",
        "import time\n",
        "from scipy import signal"
      ],
      "metadata": {
        "id": "3SI5I_eO8U25"
      },
      "execution_count": 66,
      "outputs": []
    },
    {
      "cell_type": "markdown",
      "source": [
        "##### CustomInput Class, interpolation function, and display function"
      ],
      "metadata": {
        "id": "9HJDEOTMA8Au"
      }
    },
    {
      "cell_type": "code",
      "source": [
        "class CustomInput:\n",
        "\n",
        "    def __init__(self, min_val, max_val):\n",
        "        self.a = widgets.FloatSlider(description='Input',min=min_val, max=max_val)\n",
        "        self.values = np.array([[]])\n",
        "\n",
        "        self.start_time = -1.0\n",
        "        self.first_time = True\n",
        "\n",
        "    def f(self, a):\n",
        "        if self.first_time:\n",
        "            self.first_time = False\n",
        "            plt.plot(self.values[:,0], self.values[:,1])\n",
        "            plt.xlabel(\"Seconds\")\n",
        "            plt.ylabel(\"Input\")\n",
        "            return\n",
        "\n",
        "        if self.start_time == -1.0:\n",
        "            self.start_time = time.time()\n",
        "\n",
        "        self.values = np.append(self.values, [[time.time()-self.start_time, a]], axis=0)\n",
        "        plt.plot(self.values[:,0], self.values[:,1], drawstyle=\"steps-pre\")\n",
        "        plt.xlabel(\"Seconds\")\n",
        "        plt.ylabel(\"Input\")\n",
        "\n",
        "    def record(self):\n",
        "        self.values = np.empty((0,2), float)\n",
        "        self.start_time = -1.0\n",
        "        self.first_time = True\n",
        "\n",
        "        out = widgets.interactive_output(self.f, {'a': self.a})\n",
        "\n",
        "        # vid_out = widgets.Output(layout={'border': '1px solid black'})\n",
        "        # with vid_out:\n",
        "        #     display(Video.from_file(\"animation.mp4\", play=True))\n",
        "        # widgets.HBox([widgets.VBox([a]), out, vid_out])\n",
        "        return widgets.HBox([widgets.VBox([self.a]), out])"
      ],
      "metadata": {
        "id": "BW69LUUuV8iC"
      },
      "execution_count": 42,
      "outputs": []
    },
    {
      "cell_type": "code",
      "source": [
        "def interp_values(values, end_time, dt):\n",
        "    # values_t = np.array(values)\n",
        "    f = interpolate.interp1d(values[:,0], values[:,1], kind='previous', fill_value=\"extrapolate\")\n",
        "    time_list = np.arange(0, end_time, dt)\n",
        "    return f(time_list)"
      ],
      "metadata": {
        "id": "knNhM0ESfZUK"
      },
      "execution_count": 43,
      "outputs": []
    },
    {
      "cell_type": "code",
      "source": [
        "#############################################\n",
        "# Display the results\n",
        "def display_results(goal_ang_interp):\n",
        "    # arm sim\n",
        "    fig = plt.figure(figsize=(5, 4))\n",
        "    ax = fig.add_subplot(autoscale_on=False, xlim=(-my_robot_arm.length*1.2, my_robot_arm.length*1.2), ylim=(-my_robot_arm.length*1.2, my_robot_arm.length*1.2))\n",
        "    ax.set_aspect('equal')\n",
        "\n",
        "    line, = ax.plot([], [], 'o-', lw=6)\n",
        "    time_template = 'time = %.1fs'\n",
        "    time_text = ax.text(0.05, 0.9, '', transform=ax.transAxes)\n",
        "\n",
        "\n",
        "    def animate_arm(i):\n",
        "        thisx = [0, my_robot_arm.length*np.sin(ang_hist[i])]\n",
        "        thisy = [0, my_robot_arm.length*np.cos(ang_hist[i])]\n",
        "\n",
        "        line.set_data(thisx, thisy)\n",
        "        time_text.set_text(time_template % (i*my_robot_arm.timestep))\n",
        "        return line, time_text\n",
        "\n",
        "    ani_arm_vid = animation.FuncAnimation(\n",
        "        fig, animate_arm, len(ang_hist), interval=my_robot_arm.timestep*1000, blit=True)\n",
        "    # gitwriter = animation.ImageMagickWriter()\n",
        "    # writergif = animation.PillowWriter(fps=50) \n",
        "    # ani_arm_vid.save('animation3.gif', writer=writergif)\n",
        "    plt.close()\n",
        "\n",
        "    # arm postion vs goal position\n",
        "    fig = plt.figure(figsize=(6, 4))\n",
        "    ax = fig.add_subplot(autoscale_on=False, xlim=(0, end_time), ylim=(-np.pi, np.pi))\n",
        "    plt.title(\"Arm Angle and Goal Angle\")\n",
        "    plt.xlabel(\"Seconds\")\n",
        "    plt.ylabel(\"Angle (Radians)\")\n",
        "    ax.grid()\n",
        "\n",
        "    goal_list_size = len(goal_ang_interp)\n",
        "\n",
        "    line2, = ax.plot([], [], '--', lw=2)\n",
        "    line2.set_label('Arm Angle')\n",
        "    line3, = ax.plot(time_list[0], ang_hist[0], 'o', lw=2)\n",
        "    if goal_list_size != 0:\n",
        "        line4, = ax.plot(time_list[0:goal_list_size-1], goal_ang_interp[0:goal_list_size-1], '--', lw=2)\n",
        "        line4.set_label('Arm Goal Angle')\n",
        "    time_template2 = 'time = %.1fs'\n",
        "    time_text2 = ax.text(0.05, 0.9, '', transform=ax.transAxes)\n",
        "    # ax.legend()\n",
        "\n",
        "\n",
        "    def animate_arm2(i):\n",
        "        line2.set_data(time_list[0:i], ang_hist[0:i])\n",
        "        line3.set_data(time_list[i], ang_hist[i])\n",
        "        time_text2.set_text(time_template2 % (i*my_robot_arm.timestep))\n",
        "\n",
        "        return line2, time_text2\n",
        "\n",
        "    ani_arm_vid2 = animation.FuncAnimation(\n",
        "        fig, animate_arm2, len(ang_hist), interval=my_robot_arm.timestep*1000, blit=True)\n",
        "    plt.close()\n",
        "\n",
        "    #################################\n",
        "    # display each animation next to each other\n",
        "    window1 = widgets.Output(layout={'border': '1px solid black'})\n",
        "    window2 = widgets.Output(layout={'border': '1px solid black'})\n",
        "    start = time.time()\n",
        "    with window1:\n",
        "        if animate_sim:\n",
        "            display(HTML(ani_arm_vid.to_html5_video()))\n",
        "    with window2:\n",
        "        if animate_plots:\n",
        "            display(HTML(ani_arm_vid2.to_html5_video()))\n",
        "        else:\n",
        "            fig = plt.figure(figsize=(6, 4))\n",
        "            ax = fig.add_subplot(autoscale_on=False, xlim=(0, end_time), ylim=(-np.pi, np.pi))\n",
        "            ax.grid()\n",
        "            plt.title(\"Arm Angle and Goal Angle\")\n",
        "            plt.xlabel(\"Seconds\")\n",
        "            plt.ylabel(\"Angle (Radians)\")\n",
        "            if goal_list_size != 0:\n",
        "                line2, = ax.plot(time_list[0:list_len-1], goal_ang_interp[0:list_len-1], '--', lw=2)\n",
        "                line2.set_label('Arm Goal Angle')\n",
        "            line3, = ax.plot(time_list[0:list_len-1], ang_hist[0:list_len-1], '--', lw=2)\n",
        "            line3.set_label('Arm Angle')\n",
        "            ax.legend()\n",
        "            plt.show()\n",
        "        \n",
        "    print(str(time.time()-start) + \" sec\")\n",
        "\n",
        "    # FFwriter = animation.FFMpegWriter()\n",
        "    # ani_arm_vid.save('animation.mp4', writer = FFwriter)\n",
        "    # gitwriter = animation.ImageMagickWriter()\n",
        "    # ani_arm_vid.save('animation.gif', writer=gitwriter)\n",
        "    # ani_arm_vid2.save('animation2.mp4', writer = FFwriter)\n",
        "    # widgets.HBox([widgets.VBox([a]), out, vid_out])\n",
        "    return widgets.HBox([window1, window2])\n",
        "    \n",
        "    "
      ],
      "metadata": {
        "id": "jMJtWA2e7jBN"
      },
      "execution_count": 118,
      "outputs": []
    },
    {
      "cell_type": "markdown",
      "source": [
        "## Define the Robot Arm\n",
        "\n",
        "Run the cell below to create your robot arm. You can adjust the parameters of the arm with the toggles on the right, but probably just leave them as they are at first.\n",
        "<!--\n",
        "Any cell you see with these adjustable parameters can show or hide its associated code. You can show the code by clicking \"Show code\" at the bottom of the cell or just by double clicking on the cell itself. In order to hide the code, just double click on parameter box or right click on the cell and select **Form → Show/hide code**.\n",
        "--> "
      ],
      "metadata": {
        "id": "p0SACRUnqyol"
      }
    },
    {
      "cell_type": "code",
      "source": [
        "# @markdown # Robot Arm Parameters { display-mode: \"form\" }\n",
        "# @markdown You can adjust parameters using the sliders and form below.\n",
        "# @markdown Remember you need to **rerun this\n",
        "# @markdown cell after you pick new parameters**.\n",
        "\n",
        "# @markdown ---\n",
        "class RobotArm:\n",
        "\n",
        "    def __init__(self, start_angle, timestep):\n",
        "        # @markdown Mass of the robot arm:\n",
        "        self.mass = 1 #@param{type:\"slider\", min:0.1, max:10, step:0.1}\n",
        "        # @markdown Length of the robot arm:\n",
        "        self.length =  1#@param{type:\"slider\", min:0.1, max:10, step:0.1}\n",
        "        # @markdown Damping from friction\n",
        "        self.damping = 0.1 #@param\n",
        "        # @markdown Toggle gravity on or off\n",
        "        self.gravity_on = False #@param{type:\"boolean\"}\n",
        "        \n",
        "        self.state = np.array([start_angle, 0.0])\n",
        "        self.gravity = 9.8\n",
        "        self.timestep = timestep\n",
        "\n",
        "    def state_derivative(self, state, torque):\n",
        "        ang_position = state[0]\n",
        "        ang_velocity = state[1]\n",
        "        if self.gravity_on:\n",
        "            accelaration = (3/self.mass/self.length**2)*(torque - self.damping*ang_velocity + self.mass*self.gravity*self.length/2*np.sin(ang_position))\n",
        "        else:\n",
        "            accelaration = 3*(torque-ang_velocity*self.damping)/(self.mass*self.length**2)\n",
        "\n",
        "        return np.array([ang_velocity, accelaration])\n",
        "        \n",
        "    def step_forward(self, torque): \n",
        "        # Using Runge-Kutta algorithm\n",
        "        k1 = self.state_derivative(self.state, torque)\n",
        "        k2 = self.state_derivative(self.state + self.timestep/2*k1, torque)\n",
        "        k3 = self.state_derivative(self.state + self.timestep/2*k2, torque)\n",
        "        k4 = self.state_derivative(self.state + self.timestep*k3, torque)\n",
        "        self.state = self.state + self.timestep/6 * (k1 + 2*k2 + 2*k3 + k4)\n",
        "\n",
        "    def angle_wrap(self, ang):\n",
        "        return (ang + np.pi) % (2 * np.pi) - np.pi\n",
        "\n",
        "    def get_ang_position(self):\n",
        "        return self.state[0]\n",
        "    \n",
        "    def get_ang_velocity(self):\n",
        "        return self.state[1]"
      ],
      "metadata": {
        "id": "MRqZwSiC4fmP"
      },
      "execution_count": 45,
      "outputs": []
    },
    {
      "cell_type": "markdown",
      "source": [
        "## Let's move the arm around!\n",
        "\n",
        "Now you get to move the arm! You will do this by varying the torque at the pivot of the arm, just like as if there was a motor there. \n",
        "\n",
        "\n",
        "First we will create a sequence of torques. Run the cell below and you should see a slider. Drag the slider around and it will save your input in realtime and display it to the graph on the right. Positive torque will add force in the clockwise direction and negative torque in the counter-clockwise direction.\n",
        "\n",
        "We will be using the **first 10 seconds** of input in the following steps. \n"
      ],
      "metadata": {
        "id": "_595CnaIV9hv"
      }
    },
    {
      "cell_type": "code",
      "source": [
        "# Creates the CustomInput object for our input torque sequence\n",
        "custom_torques = CustomInput(-1,1)\n",
        "# Starts recording a new torque sequence\n",
        "custom_torques.record()"
      ],
      "metadata": {
        "colab": {
          "base_uri": "https://localhost:8080/",
          "height": 279,
          "referenced_widgets": [
            "3253b5ff661e4ab7a937685ff14d5512",
            "1fa813407cf04cd5b12df7736470e5a6",
            "4ac2bf7dcbd24bcd835048f0636d8139",
            "4136194eed794c08a57ae40857ccf3c1",
            "3494c9906df14dbaaabd058802e96553",
            "c9527baf2baa4535a35831663897a88e",
            "bf9d241a570a402a85499f250739d09c",
            "57e470e901e54600b1039db2c07c2b32",
            "9c8e8b52519d461cb96d83a09b7072c6"
          ]
        },
        "id": "uqxBxRgk9E3R",
        "outputId": "941abfe4-e20c-43d7-c3a8-1e72ba18438a"
      },
      "execution_count": 56,
      "outputs": [
        {
          "output_type": "display_data",
          "data": {
            "text/plain": [
              "HBox(children=(VBox(children=(FloatSlider(value=0.0, description='Input', max=1.0, min=-1.0),)), Output()))"
            ],
            "application/vnd.jupyter.widget-view+json": {
              "version_major": 2,
              "version_minor": 0,
              "model_id": "3253b5ff661e4ab7a937685ff14d5512"
            }
          },
          "metadata": {}
        }
      ]
    },
    {
      "cell_type": "markdown",
      "source": [
        "### Simulate the result\n",
        "\n",
        "Now we will simulate the effects of the input you recorded.\n",
        "\n",
        "Keep the default parameters for now, but feel free to modify later. "
      ],
      "metadata": {
        "id": "TvVb2-xovZ2U"
      }
    },
    {
      "cell_type": "code",
      "source": [
        "#@markdown How long you want the simulation to run for\n",
        "end_time = 10.0 #@param{type:\"slider\", min:5.0, max:30, step:1} \n",
        "#@markdown The starting angle of the arm\n",
        "start_angle = 0.0 #@param{type:\"slider\", min:-3.14, max:3.14, step:0.1}\n",
        "dt = 0.05 # the length of the time step\n",
        "#@markdown Toggle animation of figures on or off. Turning all off will result in quick results.\n",
        "animate_plots = False #@param {type:\"boolean\"}\n",
        "animate_sim = True #@param{type:\"boolean\"}\n",
        "time_list = np.arange(0, end_time, dt)\n",
        "list_len = len(time_list)\n",
        "ang_hist = []\n",
        "goal_ang_interp = []\n",
        "\n",
        "# Initialize the RobotArm and save as my_robot_arm\n",
        "my_robot_arm = RobotArm(start_angle, dt)\n",
        "\n",
        "# Takes our custom torque input and interpolates it for all time steps\n",
        "torques_interp = interp_values(custom_torques.values, end_time, dt)\n",
        "\n",
        "# Loop over the time steps\n",
        "for i in range(list_len):\n",
        "    my_robot_arm.step_forward(torques_interp[i])\n",
        "    ang_hist.append(my_robot_arm.get_ang_position())\n",
        "\n",
        "display_results(goal_ang_interp)"
      ],
      "metadata": {
        "colab": {
          "base_uri": "https://localhost:8080/",
          "height": 328,
          "referenced_widgets": [
            "78ab14fdf7854f92953155227b3f5fd2",
            "c33ad30dd91347fcb032828895fd5572",
            "ea1e16cdc76b4b6a9fca3560e931914f",
            "38a962dfee0540ca9a64be2460973c4c",
            "b1727c8997024c78be3c5b9c38219441",
            "458599d96e3544c68b98fa752cf220dd"
          ]
        },
        "id": "-eKhPEgCXMXg",
        "outputId": "53b4b02b-08dd-4713-ec2b-e6df083e1e1c"
      },
      "execution_count": 110,
      "outputs": [
        {
          "output_type": "stream",
          "name": "stdout",
          "text": [
            "9.883253812789917 sec\n"
          ]
        },
        {
          "output_type": "display_data",
          "data": {
            "text/plain": [
              "HBox(children=(Output(layout=Layout(border='1px solid black')), Output(layout=Layout(border='1px solid black')…"
            ],
            "application/vnd.jupyter.widget-view+json": {
              "version_major": 2,
              "version_minor": 0,
              "model_id": "78ab14fdf7854f92953155227b3f5fd2"
            }
          },
          "metadata": {}
        }
      ]
    },
    {
      "cell_type": "markdown",
      "source": [
        "You can go back and try different torque sequences. Run the torque input cell again to put in new sequence and then run the simulate again to see the results. \n",
        "\n",
        "### Follow a goal path\n",
        "\n",
        "Now we will see if we can get the arm to do something a bit challenging. See if you can get the arm to follow as closely as follows in the example below:\n",
        "\n",
        "<img src=\"https://raw.githubusercontent.com/bradygm/PID-controller-simulator/main/media/animation.gif\" alt=\"drawing\" width=\"200\"/>\n",
        "<img src=\"https://raw.githubusercontent.com/bradygm/PID-controller-simulator/main/media/squareWave2.png\" alt=\"drawing\" width=\"240\"/>\n",
        "\n",
        "Obviously the arm can't teleport from one side to the other, but do your best to get your arm to the goal positions as quickly as possible. Go to the right, then stop the arm. Go to the left, and stop the arm. \n",
        "\n",
        "This is pretty tricky, but give it a couple attempts.\n",
        "\n",
        "In order to more quickly see your results from the simulation, you can choose to **temporarily turn off the animations**. You can always turn it back on whenever to see your final results. Or leave it on all the time if you have great patience 😉."
      ],
      "metadata": {
        "id": "Vb0BdNRrvOM8"
      }
    },
    {
      "cell_type": "markdown",
      "source": [
        "### PID Controller Magic\n",
        "\n",
        "That was hard, right? Now that we have tried a couple times to get the arm to follow the goal path, we are now going to write a controller to have it do the hard work for us!"
      ],
      "metadata": {
        "id": "y3Mtz5YvvukU"
      }
    },
    {
      "cell_type": "code",
      "source": [
        "custom_goal_angle = CustomInput(-3.14,3.14)\n",
        "custom_goal_angle.record()"
      ],
      "metadata": {
        "colab": {
          "base_uri": "https://localhost:8080/",
          "height": 279,
          "referenced_widgets": [
            "8340d1b4fcb446dfb7d69b7b3eec8f72",
            "a6aee2e8bb5740f7be4605a1cae61627",
            "567d246bab0e4ae4b0128c43759acc36",
            "96dea0ab06d64512ad8388242a613763",
            "05afdfb328e34c17b61cdb0999eb8f41",
            "4c98ce99e9494bd3a050a39889977232",
            "d6110b41fde3479485782eaa9acd2a8f",
            "97a953aca8d0406aabdc591873f5d65d",
            "448a53da52d348ec88548cc929ecb30a"
          ]
        },
        "id": "qkCnKaY0B9SQ",
        "outputId": "a9afa945-cf3b-4fe6-d556-d9eb7613217a"
      },
      "execution_count": 30,
      "outputs": [
        {
          "output_type": "display_data",
          "data": {
            "text/plain": [
              "HBox(children=(VBox(children=(FloatSlider(value=0.0, description='Input', max=3.14, min=-3.14),)), Output()))"
            ],
            "application/vnd.jupyter.widget-view+json": {
              "version_major": 2,
              "version_minor": 0,
              "model_id": "8340d1b4fcb446dfb7d69b7b3eec8f72"
            }
          },
          "metadata": {}
        }
      ]
    },
    {
      "cell_type": "markdown",
      "source": [
        "#### Controller\n"
      ],
      "metadata": {
        "id": "AkJOel0h_S0H"
      }
    },
    {
      "cell_type": "markdown",
      "source": [
        "Probably split up the controller into different ones. Start with p, then pd. Then we do pid? Or later. Maybe..."
      ],
      "metadata": {
        "id": "3EXbxhyyZOnC"
      }
    },
    {
      "cell_type": "code",
      "source": [
        "class PID_Controller:\n",
        "\n",
        "    def __init__(self, k_p=1, k_i=0, k_d=0):\n",
        "        self.control_limit = 0 #not currently used\n",
        "        self.error_sum = 0\n",
        "\n",
        "        self.k_p = k_p\n",
        "        self.k_i = k_i\n",
        "        self.k_d = k_d\n",
        "\n",
        "    def p_control(self, desired_position, current_position):\n",
        "        error = desired_position-current_position\n",
        "        return self.k_p*error\n",
        "\n",
        "    def pd_control(self, desired_position, current_position, current_velocity):\n",
        "        error = desired_position-current_position\n",
        "        return self.k_p*error - self.k_d*current_velocity\n",
        "\n",
        "    def pid_control(self, desired_position, current_position, current_velocity):\n",
        "        error = desired_position-current_position\n",
        "        self.error_sum += error\n",
        "        return self.k_p*error + self.k_i*self.error_sum - self.k_d*current_velocity"
      ],
      "metadata": {
        "id": "rtCcEklj5McZ"
      },
      "execution_count": 29,
      "outputs": []
    },
    {
      "cell_type": "code",
      "source": [
        "end_time = 10.0 #@param{type:\"slider\", min:5.0, max:30, step:1}\n",
        "start_angle = 0.1 #@param{type:\"slider\", min:-3.14, max:3.14, step:0.1}\n",
        "k_p = 6.71 #@param{type:\"slider\", min:0.0, max:20.0, step:0.01}\n",
        "k_i = 0.0 #@param{type:\"slider\", min:0.0, max:5.0, step:0.01}\n",
        "k_d = 1.94 #@param{type:\"slider\", min:0.0, max:5.0, step:0.01}\n",
        "dt = 0.05 #@param\n",
        "animate_plots = False #@param{type:\"boolean\"}\n",
        "animate_sim = True #@param{type:\"boolean\"}\n",
        "time_list = np.arange(0, end_time, dt)\n",
        "list_len = len(time_list)\n",
        "\n",
        "# Initialize the RobotArm and save as my_robot_arm\n",
        "my_robot_arm = RobotArm(start_angle, dt)\n",
        "# Initialize our controller\n",
        "controller = PID_Controller(k_p, k_i, k_d)\n",
        "\n",
        "torques_interp = interp_values(custom_torques.values, end_time, dt)\n",
        "goal_ang_interp = interp_values(custom_goal_angle.values, end_time, dt)\n",
        "\n",
        "\n",
        "ang_hist = []\n",
        "\n",
        "for i in range(len(torques_interp)):\n",
        "    my_robot_arm.step_forward(torques_interp[i])\n",
        "    # my_robot_arm.step_forward(my_robot_arm.p_control(.5))\n",
        "    # my_robot_arm.step_forward(controller.pd_control(goal_ang_interp[i], my_robot_arm.get_ang_position(), my_robot_arm.get_ang_velocity()))\n",
        "    # cur_torque = controller.pid_control(0, my_robot_arm.get_ang_position(), my_robot_arm.get_ang_velocity())\n",
        "    # my_robot_arm.step_forward(cur_torque)\n",
        "    # my_robot_arm.step_forward(0)\n",
        "    ang_hist.append(my_robot_arm.get_ang_position())\n",
        "\n",
        "display_results(goal_ang_interp)"
      ],
      "metadata": {
        "colab": {
          "base_uri": "https://localhost:8080/",
          "height": 314,
          "referenced_widgets": [
            "d14a11cf8a1d4d8881ca6e6447ee4853",
            "16a8b6ef02c84c03ab6c941d7b97f7d7",
            "eb7d80a6aae44f06b909046da6fac56a",
            "12b473dac4864b6980fe0b3f62684169",
            "d0c38dbedf144ebdb04f2c7c096a93ac",
            "7bb3d244948743bdbb9b363829503ca0"
          ]
        },
        "id": "TG4jCy2XtsnM",
        "outputId": "b11468a5-e36d-44bc-831e-61fc2cb2d243"
      },
      "execution_count": 40,
      "outputs": [
        {
          "output_type": "stream",
          "name": "stdout",
          "text": [
            "0.21326613426208496 sec\n"
          ]
        },
        {
          "output_type": "display_data",
          "data": {
            "text/plain": [
              "HBox(children=(Output(layout=Layout(border='1px solid black')), Output(layout=Layout(border='1px solid black')…"
            ],
            "application/vnd.jupyter.widget-view+json": {
              "version_major": 2,
              "version_minor": 0,
              "model_id": "d14a11cf8a1d4d8881ca6e6447ee4853"
            }
          },
          "metadata": {}
        }
      ]
    },
    {
      "cell_type": "markdown",
      "source": [
        "Try turning gravity on or off. Start at angle and see what it does. "
      ],
      "metadata": {
        "id": "eTHC0zGJts4C"
      }
    },
    {
      "cell_type": "markdown",
      "source": [
        "Remember can turn off animation for quicker. Reminder. "
      ],
      "metadata": {
        "id": "X3hQekMjts7s"
      }
    },
    {
      "cell_type": "markdown",
      "source": [
        ""
      ],
      "metadata": {
        "id": "Zr3CnXtMttBG"
      }
    },
    {
      "cell_type": "markdown",
      "source": [
        "Double click on this cell to view a working answer if you can't get it to work.\n",
        "\n",
        "<!-- \n",
        "\n",
        "Write your comments here \n",
        "\n",
        "-->"
      ],
      "metadata": {
        "id": "XqebfM_ZttEA"
      }
    },
    {
      "cell_type": "markdown",
      "source": [
        "<hr>"
      ],
      "metadata": {
        "id": "UOP70tR5ttMw"
      }
    },
    {
      "cell_type": "markdown",
      "source": [
        "Then they mess around with the slider being the torque. We can then say how rather than a slider with us puting in the torque, we use a PID controller.\n",
        "\n",
        "Allow for changing the trajectory. Also a slider? How easily change? Swap out or comment out lines?"
      ],
      "metadata": {
        "id": "q3lor2EFFHYR"
      }
    },
    {
      "cell_type": "markdown",
      "source": [
        "Now at the end of example 1 things you could try. \n",
        "* Change arm parameters and see how it does with the pid parameters you chose. How does it change?\n",
        "* Change the start config.\n",
        "* Add gravity. Gravity things to think about and try. Why didn't work? Link to info on how to modify if want. \n",
        "* add limit"
      ],
      "metadata": {
        "id": "eV4_a41qW-bw"
      }
    },
    {
      "cell_type": "markdown",
      "source": [
        "# Example 2: Line following robot\n",
        "\n",
        "Could start with or maybe only have a simple straight line. Car going from left to right. They modify the starting position laterally (starting crosstrack error). Maybe move onto a more interesting track or we have a set of tracks. Would be really cool if they could draw their own paths. \n",
        "\n",
        "Ideas\n",
        "* Could have live plot showing cross track error (can be used for explaining the D or I of PID but also just fun to see)\n",
        "* Have a benchmark set for them to get a score and maybe have leaderboard optional\n",
        "* Fun parameters we could expose with sliders or text entry or could just be clearly marked in the code\n",
        "  * Vehicle speed\n",
        "  * Max turn rate/angle\n",
        "  * Look ahead distance when calculating cross track error?"
      ],
      "metadata": {
        "id": "oftknzd5jSTS"
      }
    },
    {
      "cell_type": "markdown",
      "source": [
        "# Notes and thoughts\n",
        "\n",
        "* How allow people new to coding to even participate?\n",
        "  * Option to reveal the answers or get them somehow and copy and paste\n",
        "* Make clear what prerequisits are needed\n",
        "  * Internet Browser\n",
        "* Could have a quick intro video they watch before the workshop that gives them an overview of google colab or other background info. They then come prepared. Could have a simple notebook they go through\n",
        "* How make the quality of our presentation really good? \n",
        "  * Zoom clear background thing?\n",
        "  * OBS?\n",
        "  * Look at other examples?\n",
        "* How are we going to run the interactive portion, especially with things being hybrid?\n",
        "  * Will it be open or do they sort of follow along?\n",
        "  * How check in?\n",
        "  * Open and then run through together at end?\n",
        "  * Breakout rooms?\n",
        "    * How would that work with the recorded video?"
      ],
      "metadata": {
        "id": "RZah9QTl6TB0"
      }
    },
    {
      "cell_type": "markdown",
      "source": [
        "# Indu\n",
        "\n",
        "3rd Graph: Control input torques_interp\n",
        "\n",
        "On animated plot: Add goal trajectory ghosted\n",
        "\n",
        "Feel free to clean display_results()\n",
        "\n",
        "Any speed ups? But probably okay. \n"
      ],
      "metadata": {
        "id": "UnQ5JJP8uyd1"
      }
    },
    {
      "cell_type": "code",
      "source": [
        "ang_hist = signal.square(.1*2 * np.pi * time_list)\n",
        "goal_ang_interp = []\n",
        "display_results(goal_ang_interp)"
      ],
      "metadata": {
        "colab": {
          "base_uri": "https://localhost:8080/",
          "height": 328,
          "referenced_widgets": [
            "c407a3440d9549c495c4febaae4a8d32",
            "ac07eb7223bd48df938ddb6be5194bc9",
            "15e73a5561c0492283210b18d79077e7",
            "143c64be390b4049aabb9a3de1ed0021",
            "b5c73a5f4e7947aeb5de8dd7cf36e60d",
            "422e23af965c48fd94cd07c5f9321bd4"
          ]
        },
        "id": "HRMtIs140nPX",
        "outputId": "c6576bb2-e485-4491-851f-59a4c805c5e0"
      },
      "execution_count": 117,
      "outputs": [
        {
          "output_type": "stream",
          "name": "stdout",
          "text": [
            "8.989454984664917 sec\n"
          ]
        },
        {
          "output_type": "display_data",
          "data": {
            "text/plain": [
              "HBox(children=(Output(layout=Layout(border='1px solid black')), Output(layout=Layout(border='1px solid black')…"
            ],
            "application/vnd.jupyter.widget-view+json": {
              "version_major": 2,
              "version_minor": 0,
              "model_id": "c407a3440d9549c495c4febaae4a8d32"
            }
          },
          "metadata": {}
        }
      ]
    },
    {
      "cell_type": "code",
      "source": [
        ""
      ],
      "metadata": {
        "id": "Pa8DsZEh5tIh"
      },
      "execution_count": null,
      "outputs": []
    }
  ]
}